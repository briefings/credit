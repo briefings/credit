{
  "nbformat": 4,
  "nbformat_minor": 0,
  "metadata": {
    "colab": {
      "name": "logistic.ipynb",
      "provenance": [],
      "collapsed_sections": []
    },
    "kernelspec": {
      "name": "python3",
      "display_name": "Python 3"
    },
    "language_info": {
      "name": "python"
    }
  },
  "cells": [
    {
      "cell_type": "markdown",
      "metadata": {
        "id": "0N4C2hHrsSfn"
      },
      "source": [
        "Bayesian Logistic Regression\n",
        "\n",
        "* https://docs.pymc.io/pymc-examples/examples/generalized_linear_models/GLM-logistic.html\n",
        "\n",
        "\n",
        "<br>"
      ]
    },
    {
      "cell_type": "markdown",
      "metadata": {
        "id": "MbwaZ2iDEg7T"
      },
      "source": [
        "## Preliminaries"
      ]
    },
    {
      "cell_type": "code",
      "metadata": {
        "id": "ahXoiVIJbyEA"
      },
      "source": [
        "%%bash\n",
        "\n",
        "rm -rf *.sh\n",
        "rm -rf trace.zip\n",
        "rm -rf warehouse"
      ],
      "execution_count": 1,
      "outputs": []
    },
    {
      "cell_type": "markdown",
      "metadata": {
        "id": "6VgMmWuTI5rZ"
      },
      "source": [
        "<br>\n",
        "<br>\n",
        "\n",
        "### Packages & Libraries"
      ]
    },
    {
      "cell_type": "markdown",
      "metadata": {
        "id": "SP7DionDTfMV"
      },
      "source": [
        "**Packages**"
      ]
    },
    {
      "cell_type": "code",
      "metadata": {
        "id": "IrEiqQ65i4HP"
      },
      "source": [
        "import subprocess"
      ],
      "execution_count": 2,
      "outputs": []
    },
    {
      "cell_type": "code",
      "metadata": {
        "id": "XVwENGGwi8pA"
      },
      "source": [
        "if 'google.colab' in str(get_ipython()):\n",
        "    subprocess.run('wget -q https://raw.githubusercontent.com/exhypotheses/risk/develop/scripts.sh', shell=True)\n",
        "    subprocess.run('chmod u+x scripts.sh', shell=True)\n",
        "    subprocess.run('./scripts.sh', shell=True)"
      ],
      "execution_count": 3,
      "outputs": []
    },
    {
      "cell_type": "markdown",
      "metadata": {
        "id": "V04o5dwaEVeU"
      },
      "source": [
        "<br>\n",
        "\n",
        "**Libraries**"
      ]
    },
    {
      "cell_type": "code",
      "metadata": {
        "id": "lvWNfNACETeQ"
      },
      "source": [
        "import logging\n",
        "import collections\n",
        "import os\n",
        "import zipfile\n",
        "import requests\n",
        "\n",
        "import numpy as np\n",
        "import pandas as pd\n",
        "import matplotlib.pyplot as plt\n",
        "\n",
        "import theano\n",
        "import pymc3\n",
        "import graphviz\n",
        "import arviz as az\n",
        "\n",
        "import pickle\n",
        "import json\n"
      ],
      "execution_count": 4,
      "outputs": []
    },
    {
      "cell_type": "markdown",
      "metadata": {
        "id": "6RvKtZ3eSHCV"
      },
      "source": [
        "<br>\n",
        "<br>\n",
        "\n",
        "### Logging"
      ]
    },
    {
      "cell_type": "code",
      "metadata": {
        "id": "jXsl-Gd6SGB1"
      },
      "source": [
        "logging.basicConfig(level=logging.INFO, format='%(message)s\\n%(asctime)s.%(msecs)03d', datefmt='%Y-%m-%d %H:%M:%S')\n",
        "logger = logging.getLogger(__name__)"
      ],
      "execution_count": 5,
      "outputs": []
    },
    {
      "cell_type": "markdown",
      "metadata": {
        "id": "N3xLPJBkLZqJ"
      },
      "source": [
        "<br>\n",
        "<br>\n",
        "\n",
        "### Custom"
      ]
    },
    {
      "cell_type": "code",
      "metadata": {
        "id": "pdxEwJ3lLcNH"
      },
      "source": [
        "import config\n",
        "\n",
        "import risk.graphing.relational\n",
        "import risk.graphing.settings\n",
        "\n",
        "import risk.functions.sample\n",
        "import risk.functions.scale\n",
        "\n",
        "import risk.evaluations.dag"
      ],
      "execution_count": 6,
      "outputs": []
    },
    {
      "cell_type": "markdown",
      "metadata": {
        "id": "sEQChpNKe5GI"
      },
      "source": [
        "<br>\n",
        "\n",
        "Configurations"
      ]
    },
    {
      "cell_type": "code",
      "metadata": {
        "id": "bkNOO8hie8Sh"
      },
      "source": [
        "configurations = config.Config()"
      ],
      "execution_count": 7,
      "outputs": []
    },
    {
      "cell_type": "markdown",
      "metadata": {
        "id": "1cPXr4llLrCF"
      },
      "source": [
        "<br>\n",
        "\n",
        "Graphs"
      ]
    },
    {
      "cell_type": "code",
      "metadata": {
        "id": "leKOS6jxLuX0"
      },
      "source": [
        "relational = risk.graphing.relational.Relational()\n",
        "\n",
        "RelationalGraphLabels = collections.namedtuple(typename='RelationalGraphLabels',\n",
        "                                               field_names=['title', 'xlabel', 'ylabel'])"
      ],
      "execution_count": 8,
      "outputs": []
    },
    {
      "cell_type": "markdown",
      "metadata": {
        "id": "A8m2l5cDMO2f"
      },
      "source": [
        "<br>\n",
        "\n",
        "Settings"
      ]
    },
    {
      "cell_type": "code",
      "metadata": {
        "id": "w_c4_LhkMRVy"
      },
      "source": [
        "settings = risk.graphing.settings.Settings()\n",
        "\n",
        "settings.layout()\n",
        "settings.aesthetics()"
      ],
      "execution_count": 9,
      "outputs": []
    },
    {
      "cell_type": "markdown",
      "metadata": {
        "id": "vTw-V7OG2l-7"
      },
      "source": [
        "<br>\n",
        "\n",
        "Paths"
      ]
    },
    {
      "cell_type": "code",
      "metadata": {
        "id": "BqFr2aYwi5rx"
      },
      "source": [
        "if not 'google.colab' in str(get_ipython()):    \n",
        "    notebooks = os.getcwd()\n",
        "    parent = str(pathlib.Path(notebooks).parent)\n",
        "    sys.path.append(parent)\n",
        "else:\n",
        "    parent = os.getcwd()  "
      ],
      "execution_count": 10,
      "outputs": []
    },
    {
      "cell_type": "code",
      "metadata": {
        "id": "OC8J-GdC2pFr"
      },
      "source": [
        "directory = os.path.join(configurations.warehouse, 'model')\n",
        "\n",
        "if not os.path.exists(directory):\n",
        "    os.makedirs(directory)"
      ],
      "execution_count": 11,
      "outputs": []
    },
    {
      "cell_type": "markdown",
      "metadata": {
        "id": "zB2P6S6Br0XZ"
      },
      "source": [
        "<br>\n",
        "<br>\n",
        "\n",
        "## For YAML"
      ]
    },
    {
      "cell_type": "markdown",
      "metadata": {
        "id": "tOF4cfBqEKRd"
      },
      "source": [
        "* 'problem': 'Binary Classification'\n",
        "* 'modelType': 'Bayesian Logistic Model'"
      ]
    },
    {
      "cell_type": "markdown",
      "metadata": {
        "id": "Sm3JrIXsExIg"
      },
      "source": [
        "### Seed"
      ]
    },
    {
      "cell_type": "code",
      "metadata": {
        "id": "tmRAA4Hrr2wG"
      },
      "source": [
        "SEED = 5\n",
        "np.random.seed(seed=SEED)"
      ],
      "execution_count": 12,
      "outputs": []
    },
    {
      "cell_type": "markdown",
      "metadata": {
        "id": "HsYQthZnFkha"
      },
      "source": [
        "<br>\n",
        "\n",
        "### Modelling Parameters, Variables, Arguments"
      ]
    },
    {
      "cell_type": "markdown",
      "metadata": {
        "id": "RsriZqgX3ABw"
      },
      "source": [
        "Cases:\n",
        "\n",
        "* **Include**:<br>['duration_months', 'credit_amount', 'e_chq_acc_status', 'credit_history', 'purpose', 'savings_acc_class', 'property', 'housing']\n",
        "\n",
        "\n",
        "* **Either**:<br>['curr_emp_class']\n",
        "\n",
        "* **Exclude**:<br>['i_rate_by_disp_inc', 'curr_res_since', 'age_years', 'n_e_credits_this_bank', 'n_dependants', 'sex_and_status', 'other_debtors_class', 'other_i_plans', 'job', 'telephone', 'foreign_worker', 'female']\n"
      ]
    },
    {
      "cell_type": "code",
      "metadata": {
        "id": "oJ_CpNObFjjs"
      },
      "source": [
        "include = ['duration_months', 'credit_amount', 'e_chq_acc_status_1', 'e_chq_acc_status_2', \n",
        "           'credit_history_1', 'credit_history_2', 'purpose_1', 'purpose_2',\n",
        "           'savings_acc_class_1', 'savings_acc_class_2', 'property_1', 'property_2', \n",
        "           'housing_1', 'housing_2', 'reasonable']\n",
        "binary_cf = ['A192', 'A201', 'female']\n",
        "target = 'reasonable'"
      ],
      "execution_count": 13,
      "outputs": []
    },
    {
      "cell_type": "markdown",
      "metadata": {
        "id": "GvZ3aSMBEbTl"
      },
      "source": [
        "<br>\n",
        "<br>\n",
        "\n",
        "## Data"
      ]
    },
    {
      "cell_type": "markdown",
      "metadata": {
        "id": "9QUf9hXl5bAG"
      },
      "source": [
        "### Read"
      ]
    },
    {
      "cell_type": "markdown",
      "metadata": {
        "id": "hahTCHYfVrNH"
      },
      "source": [
        "Reads in the data wherein the polytomous categorical fields have undergone t-SNE embedding."
      ]
    },
    {
      "cell_type": "code",
      "metadata": {
        "id": "tazRSshL1ZCx"
      },
      "source": [
        "url_mappings = 'https://raw.githubusercontent.com/exhypotheses/risk/develop/warehouse/splits/scikit/mappings.json'\n",
        "url_training = 'https://raw.githubusercontent.com/exhypotheses/risk/develop/warehouse/splits/scikit/training.csv'"
      ],
      "execution_count": 14,
      "outputs": []
    },
    {
      "cell_type": "markdown",
      "metadata": {
        "id": "WlvLatyO24xC"
      },
      "source": [
        "<br>\n",
        "\n",
        "Mappings"
      ]
    },
    {
      "cell_type": "code",
      "metadata": {
        "id": "Ek6WwSYe1x9u"
      },
      "source": [
        "try:\n",
        "    req = requests.get(url=url_mappings)\n",
        "    req.raise_for_status\n",
        "except requests.exceptions.RequestException as err:\n",
        "    raise Exception(err)\n",
        "\n",
        "mappings = json.loads(req.content)     "
      ],
      "execution_count": 15,
      "outputs": []
    },
    {
      "cell_type": "markdown",
      "metadata": {
        "id": "TKDk6zjM28fd"
      },
      "source": [
        "<br>\n",
        "\n",
        "Training Data"
      ]
    },
    {
      "cell_type": "code",
      "metadata": {
        "id": "qY6YVoXu3HqH"
      },
      "source": [
        "try:\n",
        "    trainingdata = pd.read_csv(\n",
        "        filepath_or_buffer=url_training, header=0, encoding='utf-8', \n",
        "        dtype={'A192': np.uint8, 'A201': np.uint8, 'female': np.uint8, 'reasonable': np.uint8})\n",
        "except OSError as err:\n",
        "    raise Exception(err.strerror)    "
      ],
      "execution_count": 16,
      "outputs": []
    },
    {
      "cell_type": "code",
      "metadata": {
        "colab": {
          "base_uri": "https://localhost:8080/"
        },
        "id": "3l0u3Vya4sKP",
        "outputId": "884dee69-d860-438d-efea-0194b283bd07"
      },
      "source": [
        "training = trainingdata.copy().drop(columns=list(mappings.keys()))\n",
        "training.info()"
      ],
      "execution_count": 17,
      "outputs": [
        {
          "output_type": "stream",
          "text": [
            "<class 'pandas.core.frame.DataFrame'>\n",
            "RangeIndex: 650 entries, 0 to 649\n",
            "Data columns (total 33 columns):\n",
            " #   Column                 Non-Null Count  Dtype  \n",
            "---  ------                 --------------  -----  \n",
            " 0   duration_months        650 non-null    int64  \n",
            " 1   credit_amount          650 non-null    int64  \n",
            " 2   i_rate_by_disp_inc     650 non-null    int64  \n",
            " 3   curr_res_since         650 non-null    int64  \n",
            " 4   age_years              650 non-null    int64  \n",
            " 5   n_e_credits_this_bank  650 non-null    int64  \n",
            " 6   n_dependants           650 non-null    int64  \n",
            " 7   e_chq_acc_status_1     650 non-null    float64\n",
            " 8   e_chq_acc_status_2     650 non-null    float64\n",
            " 9   credit_history_1       650 non-null    float64\n",
            " 10  credit_history_2       650 non-null    float64\n",
            " 11  purpose_1              650 non-null    float64\n",
            " 12  purpose_2              650 non-null    float64\n",
            " 13  savings_acc_class_1    650 non-null    float64\n",
            " 14  savings_acc_class_2    650 non-null    float64\n",
            " 15  curr_emp_class_1       650 non-null    float64\n",
            " 16  curr_emp_class_2       650 non-null    float64\n",
            " 17  sex_and_status_1       650 non-null    float64\n",
            " 18  sex_and_status_2       650 non-null    float64\n",
            " 19  other_debtors_class_1  650 non-null    float64\n",
            " 20  other_debtors_class_2  650 non-null    float64\n",
            " 21  property_1             650 non-null    float64\n",
            " 22  property_2             650 non-null    float64\n",
            " 23  other_i_plans_1        650 non-null    float64\n",
            " 24  other_i_plans_2        650 non-null    float64\n",
            " 25  housing_1              650 non-null    float64\n",
            " 26  housing_2              650 non-null    float64\n",
            " 27  job_1                  650 non-null    float64\n",
            " 28  job_2                  650 non-null    float64\n",
            " 29  A192                   650 non-null    uint8  \n",
            " 30  A201                   650 non-null    uint8  \n",
            " 31  female                 650 non-null    uint8  \n",
            " 32  reasonable             650 non-null    uint8  \n",
            "dtypes: float64(22), int64(7), uint8(4)\n",
            "memory usage: 149.9 KB\n"
          ],
          "name": "stdout"
        }
      ]
    },
    {
      "cell_type": "markdown",
      "metadata": {
        "id": "Nuc-f3dA9NJ-"
      },
      "source": [
        "<br>\n",
        "\n",
        "### Structure"
      ]
    },
    {
      "cell_type": "markdown",
      "metadata": {
        "id": "zDp3oKiFDcy9"
      },
      "source": [
        "**Scale**\n",
        "\n",
        "Via sklearn.preprocessing.StandardScaler"
      ]
    },
    {
      "cell_type": "code",
      "metadata": {
        "id": "BRjYLvxE4_mZ"
      },
      "source": [
        "scale = risk.functions.scale.Scale()"
      ],
      "execution_count": 18,
      "outputs": []
    },
    {
      "cell_type": "code",
      "metadata": {
        "id": "jMVpJh_ODiT-",
        "colab": {
          "base_uri": "https://localhost:8080/"
        },
        "outputId": "9b108ab6-539b-4e28-fd6b-3ba62450f2a6"
      },
      "source": [
        "scaler = scale.exc(blob=training.drop(columns=target))\n",
        "left = scale.apply(blob=training.drop(columns=target), scaler=scaler)\n",
        "scaled = pd.concat((left, training[target]), axis=1, ignore_index=False)\n",
        "scaled.shape"
      ],
      "execution_count": 19,
      "outputs": [
        {
          "output_type": "execute_result",
          "data": {
            "text/plain": [
              "(650, 33)"
            ]
          },
          "metadata": {
            "tags": []
          },
          "execution_count": 19
        }
      ]
    },
    {
      "cell_type": "markdown",
      "metadata": {
        "id": "jsNWMVrUuH3_"
      },
      "source": [
        "<br>\n",
        "<br>\n",
        "\n",
        "**Sample**\n",
        "\n",
        "Via imblearn.over_sampling.SVMSMOTE"
      ]
    },
    {
      "cell_type": "code",
      "metadata": {
        "colab": {
          "base_uri": "https://localhost:8080/"
        },
        "id": "4zVwqnXGPhDQ",
        "outputId": "1fbafcc3-9212-4dc1-f5c6-55a2c8cb2453"
      },
      "source": [
        "sample = risk.functions.sample.Sample()\n",
        "sampled = sample.exc(blob=scaled, target=target)\n",
        "\n",
        "logger.warning('Shape: {}'.format(sampled.shape))\n",
        "logger.warning('\\nBreakdown:\\n{}'.format(sampled.reasonable.value_counts()))"
      ],
      "execution_count": 20,
      "outputs": [
        {
          "output_type": "stream",
          "text": [
            "Shape: (910, 33)\n",
            "2021-08-02 14:28:23.162\n",
            "\n",
            "Breakdown:\n",
            "1    455\n",
            "0    455\n",
            "Name: reasonable, dtype: int64\n",
            "2021-08-02 14:28:23.167\n"
          ],
          "name": "stderr"
        }
      ]
    },
    {
      "cell_type": "markdown",
      "metadata": {
        "id": "FVBrLlZBRD_i"
      },
      "source": [
        "<br>\n",
        "<br>\n",
        "\n",
        "## Model"
      ]
    },
    {
      "cell_type": "code",
      "metadata": {
        "id": "CZXj0j4eH2Vh",
        "colab": {
          "base_uri": "https://localhost:8080/"
        },
        "outputId": "47ec8364-6e3e-40ea-d32e-569fbf421c50"
      },
      "source": [
        "baseline = sampled[include]\n",
        "baseline.info()"
      ],
      "execution_count": 21,
      "outputs": [
        {
          "output_type": "stream",
          "text": [
            "<class 'pandas.core.frame.DataFrame'>\n",
            "RangeIndex: 910 entries, 0 to 909\n",
            "Data columns (total 15 columns):\n",
            " #   Column               Non-Null Count  Dtype  \n",
            "---  ------               --------------  -----  \n",
            " 0   duration_months      910 non-null    float64\n",
            " 1   credit_amount        910 non-null    float64\n",
            " 2   e_chq_acc_status_1   910 non-null    float64\n",
            " 3   e_chq_acc_status_2   910 non-null    float64\n",
            " 4   credit_history_1     910 non-null    float64\n",
            " 5   credit_history_2     910 non-null    float64\n",
            " 6   purpose_1            910 non-null    float64\n",
            " 7   purpose_2            910 non-null    float64\n",
            " 8   savings_acc_class_1  910 non-null    float64\n",
            " 9   savings_acc_class_2  910 non-null    float64\n",
            " 10  property_1           910 non-null    float64\n",
            " 11  property_2           910 non-null    float64\n",
            " 12  housing_1            910 non-null    float64\n",
            " 13  housing_2            910 non-null    float64\n",
            " 14  reasonable           910 non-null    uint8  \n",
            "dtypes: float64(14), uint8(1)\n",
            "memory usage: 100.5 KB\n"
          ],
          "name": "stdout"
        }
      ]
    },
    {
      "cell_type": "markdown",
      "metadata": {
        "id": "7ocPN12MIUCC"
      },
      "source": [
        "<br>\n",
        "\n",
        "Hence"
      ]
    },
    {
      "cell_type": "code",
      "metadata": {
        "id": "23vmgFZhMMvk"
      },
      "source": [
        "training_ = baseline"
      ],
      "execution_count": 22,
      "outputs": []
    },
    {
      "cell_type": "code",
      "metadata": {
        "id": "DoxIDmJ3XCnq"
      },
      "source": [
        "x_training_fields = list(baseline.drop(columns=target).columns)\n",
        "x_training_ = baseline[x_training_fields].to_numpy()\n",
        "y_training_ = baseline[target].to_numpy()"
      ],
      "execution_count": 23,
      "outputs": []
    },
    {
      "cell_type": "markdown",
      "metadata": {
        "id": "uHFMUC2aGtiM"
      },
      "source": [
        "<br>\n",
        "<br>\n",
        "\n",
        "### Define"
      ]
    },
    {
      "cell_type": "markdown",
      "metadata": {
        "id": "RZLJ_nJCj_Nd"
      },
      "source": [
        "* https://docs.pymc.io/api/inference.html#module-pymc3.sampling"
      ]
    },
    {
      "cell_type": "markdown",
      "metadata": {
        "id": "VarPpgPQ4Mrx"
      },
      "source": [
        "\n",
        "Initially"
      ]
    },
    {
      "cell_type": "code",
      "metadata": {
        "id": "zly8Evv44Pm8"
      },
      "source": [
        "xshared = theano.shared(x_training_)"
      ],
      "execution_count": 24,
      "outputs": []
    },
    {
      "cell_type": "markdown",
      "metadata": {
        "id": "4dwtoF0y4XGh"
      },
      "source": [
        "<br>\n",
        "\n",
        "Therefore"
      ]
    },
    {
      "cell_type": "code",
      "metadata": {
        "colab": {
          "base_uri": "https://localhost:8080/",
          "height": 1000
        },
        "id": "C4ZFe5mF4ykw",
        "outputId": "2d6fede7-f193-4b96-b3ef-4e00e0e13f8e"
      },
      "source": [
        "with pymc3.Model() as lm:\n",
        "\n",
        "    pymc3.glm.GLM(x=xshared, y=y_training_, intercept=True, labels=x_training_fields, \n",
        "                  priors={'Regressor': pymc3.StudentT.dist(nu=5.0, mu=0, sigma=15.0)}, \n",
        "                  family=pymc3.families.Binomial())\n",
        "    \n",
        "    # Trace\n",
        "    trace = pymc3.sample(tune=1000, draws=2000)\n",
        "\n",
        "    # The trace generated from MCMC sampling\n",
        "    arviztrace = az.from_pymc3(trace=trace)"
      ],
      "execution_count": 25,
      "outputs": [
        {
          "output_type": "stream",
          "text": [
            "Lock 139737673620752 acquired on /root/.theano/compiledir_Linux-5.4.104+-x86_64-with-Ubuntu-18.04-bionic-x86_64-3.7.11-64/.lock\n",
            "2021-08-02 14:28:23.261\n",
            "Lock 139737673620752 released on /root/.theano/compiledir_Linux-5.4.104+-x86_64-with-Ubuntu-18.04-bionic-x86_64-3.7.11-64/.lock\n",
            "2021-08-02 14:28:24.208\n",
            "Lock 139737556985936 acquired on /root/.theano/compiledir_Linux-5.4.104+-x86_64-with-Ubuntu-18.04-bionic-x86_64-3.7.11-64/.lock\n",
            "2021-08-02 14:28:24.213\n",
            "Lock 139737556985936 released on /root/.theano/compiledir_Linux-5.4.104+-x86_64-with-Ubuntu-18.04-bionic-x86_64-3.7.11-64/.lock\n",
            "2021-08-02 14:28:24.401\n",
            "Lock 139737552617360 acquired on /root/.theano/compiledir_Linux-5.4.104+-x86_64-with-Ubuntu-18.04-bionic-x86_64-3.7.11-64/.lock\n",
            "2021-08-02 14:28:24.418\n",
            "Lock 139737552617360 released on /root/.theano/compiledir_Linux-5.4.104+-x86_64-with-Ubuntu-18.04-bionic-x86_64-3.7.11-64/.lock\n",
            "2021-08-02 14:28:25.060\n",
            "Lock 139737417325904 acquired on /root/.theano/compiledir_Linux-5.4.104+-x86_64-with-Ubuntu-18.04-bionic-x86_64-3.7.11-64/.lock\n",
            "2021-08-02 14:28:25.066\n",
            "Lock 139737417325904 released on /root/.theano/compiledir_Linux-5.4.104+-x86_64-with-Ubuntu-18.04-bionic-x86_64-3.7.11-64/.lock\n",
            "2021-08-02 14:28:25.697\n",
            "Lock 139737417308944 acquired on /root/.theano/compiledir_Linux-5.4.104+-x86_64-with-Ubuntu-18.04-bionic-x86_64-3.7.11-64/.lock\n",
            "2021-08-02 14:28:25.703\n",
            "Lock 139737417308944 released on /root/.theano/compiledir_Linux-5.4.104+-x86_64-with-Ubuntu-18.04-bionic-x86_64-3.7.11-64/.lock\n",
            "2021-08-02 14:28:26.340\n",
            "Lock 139737398809360 acquired on /root/.theano/compiledir_Linux-5.4.104+-x86_64-with-Ubuntu-18.04-bionic-x86_64-3.7.11-64/.lock\n",
            "2021-08-02 14:28:26.348\n",
            "Lock 139737398809360 released on /root/.theano/compiledir_Linux-5.4.104+-x86_64-with-Ubuntu-18.04-bionic-x86_64-3.7.11-64/.lock\n",
            "2021-08-02 14:28:26.967\n",
            "Lock 139737398883600 acquired on /root/.theano/compiledir_Linux-5.4.104+-x86_64-with-Ubuntu-18.04-bionic-x86_64-3.7.11-64/.lock\n",
            "2021-08-02 14:28:26.975\n",
            "Lock 139737398883600 released on /root/.theano/compiledir_Linux-5.4.104+-x86_64-with-Ubuntu-18.04-bionic-x86_64-3.7.11-64/.lock\n",
            "2021-08-02 14:28:27.597\n",
            "Lock 139737398882768 acquired on /root/.theano/compiledir_Linux-5.4.104+-x86_64-with-Ubuntu-18.04-bionic-x86_64-3.7.11-64/.lock\n",
            "2021-08-02 14:28:27.605\n",
            "Lock 139737398882768 released on /root/.theano/compiledir_Linux-5.4.104+-x86_64-with-Ubuntu-18.04-bionic-x86_64-3.7.11-64/.lock\n",
            "2021-08-02 14:28:28.239\n",
            "Lock 139737398916176 acquired on /root/.theano/compiledir_Linux-5.4.104+-x86_64-with-Ubuntu-18.04-bionic-x86_64-3.7.11-64/.lock\n",
            "2021-08-02 14:28:28.247\n",
            "Lock 139737398916176 released on /root/.theano/compiledir_Linux-5.4.104+-x86_64-with-Ubuntu-18.04-bionic-x86_64-3.7.11-64/.lock\n",
            "2021-08-02 14:28:28.767\n",
            "Lock 139737398811216 acquired on /root/.theano/compiledir_Linux-5.4.104+-x86_64-with-Ubuntu-18.04-bionic-x86_64-3.7.11-64/.lock\n",
            "2021-08-02 14:28:28.781\n",
            "Lock 139737398811216 released on /root/.theano/compiledir_Linux-5.4.104+-x86_64-with-Ubuntu-18.04-bionic-x86_64-3.7.11-64/.lock\n",
            "2021-08-02 14:28:29.339\n",
            "Lock 139737390235472 acquired on /root/.theano/compiledir_Linux-5.4.104+-x86_64-with-Ubuntu-18.04-bionic-x86_64-3.7.11-64/.lock\n",
            "2021-08-02 14:28:29.345\n",
            "Lock 139737390235472 released on /root/.theano/compiledir_Linux-5.4.104+-x86_64-with-Ubuntu-18.04-bionic-x86_64-3.7.11-64/.lock\n",
            "2021-08-02 14:28:29.966\n",
            "Lock 139737390332560 acquired on /root/.theano/compiledir_Linux-5.4.104+-x86_64-with-Ubuntu-18.04-bionic-x86_64-3.7.11-64/.lock\n",
            "2021-08-02 14:28:29.971\n",
            "Lock 139737390332560 released on /root/.theano/compiledir_Linux-5.4.104+-x86_64-with-Ubuntu-18.04-bionic-x86_64-3.7.11-64/.lock\n",
            "2021-08-02 14:28:30.516\n",
            "Lock 139737390338512 acquired on /root/.theano/compiledir_Linux-5.4.104+-x86_64-with-Ubuntu-18.04-bionic-x86_64-3.7.11-64/.lock\n",
            "2021-08-02 14:28:30.524\n",
            "Lock 139737390338512 released on /root/.theano/compiledir_Linux-5.4.104+-x86_64-with-Ubuntu-18.04-bionic-x86_64-3.7.11-64/.lock\n",
            "2021-08-02 14:28:31.155\n",
            "Lock 139737383498768 acquired on /root/.theano/compiledir_Linux-5.4.104+-x86_64-with-Ubuntu-18.04-bionic-x86_64-3.7.11-64/.lock\n",
            "2021-08-02 14:28:31.167\n",
            "Lock 139737383498768 released on /root/.theano/compiledir_Linux-5.4.104+-x86_64-with-Ubuntu-18.04-bionic-x86_64-3.7.11-64/.lock\n",
            "2021-08-02 14:28:31.772\n",
            "Lock 139737390232976 acquired on /root/.theano/compiledir_Linux-5.4.104+-x86_64-with-Ubuntu-18.04-bionic-x86_64-3.7.11-64/.lock\n",
            "2021-08-02 14:28:31.777\n",
            "Lock 139737390232976 released on /root/.theano/compiledir_Linux-5.4.104+-x86_64-with-Ubuntu-18.04-bionic-x86_64-3.7.11-64/.lock\n",
            "2021-08-02 14:28:32.401\n",
            "Lock 139737381319376 acquired on /root/.theano/compiledir_Linux-5.4.104+-x86_64-with-Ubuntu-18.04-bionic-x86_64-3.7.11-64/.lock\n",
            "2021-08-02 14:28:32.407\n",
            "Lock 139737381319376 released on /root/.theano/compiledir_Linux-5.4.104+-x86_64-with-Ubuntu-18.04-bionic-x86_64-3.7.11-64/.lock\n",
            "2021-08-02 14:28:32.411\n",
            "Lock 139737376640080 acquired on /root/.theano/compiledir_Linux-5.4.104+-x86_64-with-Ubuntu-18.04-bionic-x86_64-3.7.11-64/.lock\n",
            "2021-08-02 14:28:32.419\n",
            "Lock 139737376640080 released on /root/.theano/compiledir_Linux-5.4.104+-x86_64-with-Ubuntu-18.04-bionic-x86_64-3.7.11-64/.lock\n",
            "2021-08-02 14:28:33.042\n",
            "Lock 139737376638864 acquired on /root/.theano/compiledir_Linux-5.4.104+-x86_64-with-Ubuntu-18.04-bionic-x86_64-3.7.11-64/.lock\n",
            "2021-08-02 14:28:33.049\n",
            "Lock 139737376638864 released on /root/.theano/compiledir_Linux-5.4.104+-x86_64-with-Ubuntu-18.04-bionic-x86_64-3.7.11-64/.lock\n",
            "2021-08-02 14:28:33.675\n",
            "Lock 139737383499344 acquired on /root/.theano/compiledir_Linux-5.4.104+-x86_64-with-Ubuntu-18.04-bionic-x86_64-3.7.11-64/.lock\n",
            "2021-08-02 14:28:33.681\n",
            "Lock 139737383499344 released on /root/.theano/compiledir_Linux-5.4.104+-x86_64-with-Ubuntu-18.04-bionic-x86_64-3.7.11-64/.lock\n",
            "2021-08-02 14:28:34.306\n",
            "Lock 139737376657040 acquired on /root/.theano/compiledir_Linux-5.4.104+-x86_64-with-Ubuntu-18.04-bionic-x86_64-3.7.11-64/.lock\n",
            "2021-08-02 14:28:34.311\n",
            "Lock 139737376657040 released on /root/.theano/compiledir_Linux-5.4.104+-x86_64-with-Ubuntu-18.04-bionic-x86_64-3.7.11-64/.lock\n",
            "2021-08-02 14:28:34.322\n",
            "Lock 139737383500432 acquired on /root/.theano/compiledir_Linux-5.4.104+-x86_64-with-Ubuntu-18.04-bionic-x86_64-3.7.11-64/.lock\n",
            "2021-08-02 14:28:34.329\n",
            "Lock 139737383500432 released on /root/.theano/compiledir_Linux-5.4.104+-x86_64-with-Ubuntu-18.04-bionic-x86_64-3.7.11-64/.lock\n",
            "2021-08-02 14:28:34.334\n",
            "Lock 139737376691024 acquired on /root/.theano/compiledir_Linux-5.4.104+-x86_64-with-Ubuntu-18.04-bionic-x86_64-3.7.11-64/.lock\n",
            "2021-08-02 14:28:34.339\n",
            "Lock 139737376691024 released on /root/.theano/compiledir_Linux-5.4.104+-x86_64-with-Ubuntu-18.04-bionic-x86_64-3.7.11-64/.lock\n",
            "2021-08-02 14:28:34.955\n",
            "Lock 139737376758288 acquired on /root/.theano/compiledir_Linux-5.4.104+-x86_64-with-Ubuntu-18.04-bionic-x86_64-3.7.11-64/.lock\n",
            "2021-08-02 14:28:34.963\n",
            "Lock 139737376758288 released on /root/.theano/compiledir_Linux-5.4.104+-x86_64-with-Ubuntu-18.04-bionic-x86_64-3.7.11-64/.lock\n",
            "2021-08-02 14:28:35.598\n",
            "Lock 139737383518608 acquired on /root/.theano/compiledir_Linux-5.4.104+-x86_64-with-Ubuntu-18.04-bionic-x86_64-3.7.11-64/.lock\n",
            "2021-08-02 14:28:35.604\n",
            "Lock 139737383518608 released on /root/.theano/compiledir_Linux-5.4.104+-x86_64-with-Ubuntu-18.04-bionic-x86_64-3.7.11-64/.lock\n",
            "2021-08-02 14:28:36.248\n",
            "Lock 139737383497808 acquired on /root/.theano/compiledir_Linux-5.4.104+-x86_64-with-Ubuntu-18.04-bionic-x86_64-3.7.11-64/.lock\n",
            "2021-08-02 14:28:36.255\n",
            "Lock 139737383497808 released on /root/.theano/compiledir_Linux-5.4.104+-x86_64-with-Ubuntu-18.04-bionic-x86_64-3.7.11-64/.lock\n",
            "2021-08-02 14:28:36.274\n",
            "Lock 139737376865104 acquired on /root/.theano/compiledir_Linux-5.4.104+-x86_64-with-Ubuntu-18.04-bionic-x86_64-3.7.11-64/.lock\n",
            "2021-08-02 14:28:36.282\n",
            "Lock 139737376865104 released on /root/.theano/compiledir_Linux-5.4.104+-x86_64-with-Ubuntu-18.04-bionic-x86_64-3.7.11-64/.lock\n",
            "2021-08-02 14:28:36.913\n",
            "Lock 139737361563856 acquired on /root/.theano/compiledir_Linux-5.4.104+-x86_64-with-Ubuntu-18.04-bionic-x86_64-3.7.11-64/.lock\n",
            "2021-08-02 14:28:36.924\n",
            "Lock 139737361563856 released on /root/.theano/compiledir_Linux-5.4.104+-x86_64-with-Ubuntu-18.04-bionic-x86_64-3.7.11-64/.lock\n",
            "2021-08-02 14:28:36.928\n",
            "Lock 139737376770384 acquired on /root/.theano/compiledir_Linux-5.4.104+-x86_64-with-Ubuntu-18.04-bionic-x86_64-3.7.11-64/.lock\n",
            "2021-08-02 14:28:36.937\n",
            "Lock 139737376770384 released on /root/.theano/compiledir_Linux-5.4.104+-x86_64-with-Ubuntu-18.04-bionic-x86_64-3.7.11-64/.lock\n",
            "2021-08-02 14:28:37.584\n",
            "Lock 139737361564560 acquired on /root/.theano/compiledir_Linux-5.4.104+-x86_64-with-Ubuntu-18.04-bionic-x86_64-3.7.11-64/.lock\n",
            "2021-08-02 14:28:37.591\n",
            "Lock 139737361564560 released on /root/.theano/compiledir_Linux-5.4.104+-x86_64-with-Ubuntu-18.04-bionic-x86_64-3.7.11-64/.lock\n",
            "2021-08-02 14:28:37.595\n",
            "Lock 139737376736592 acquired on /root/.theano/compiledir_Linux-5.4.104+-x86_64-with-Ubuntu-18.04-bionic-x86_64-3.7.11-64/.lock\n",
            "2021-08-02 14:28:37.601\n",
            "Lock 139737376736592 released on /root/.theano/compiledir_Linux-5.4.104+-x86_64-with-Ubuntu-18.04-bionic-x86_64-3.7.11-64/.lock\n",
            "2021-08-02 14:28:37.604\n",
            "Lock 139737376757456 acquired on /root/.theano/compiledir_Linux-5.4.104+-x86_64-with-Ubuntu-18.04-bionic-x86_64-3.7.11-64/.lock\n",
            "2021-08-02 14:28:37.611\n",
            "Lock 139737376757456 released on /root/.theano/compiledir_Linux-5.4.104+-x86_64-with-Ubuntu-18.04-bionic-x86_64-3.7.11-64/.lock\n",
            "2021-08-02 14:28:38.225\n",
            "Lock 139737417319760 acquired on /root/.theano/compiledir_Linux-5.4.104+-x86_64-with-Ubuntu-18.04-bionic-x86_64-3.7.11-64/.lock\n",
            "2021-08-02 14:28:38.234\n",
            "Lock 139737417319760 released on /root/.theano/compiledir_Linux-5.4.104+-x86_64-with-Ubuntu-18.04-bionic-x86_64-3.7.11-64/.lock\n",
            "2021-08-02 14:28:38.237\n",
            "Lock 139737376807760 acquired on /root/.theano/compiledir_Linux-5.4.104+-x86_64-with-Ubuntu-18.04-bionic-x86_64-3.7.11-64/.lock\n",
            "2021-08-02 14:28:38.244\n",
            "Lock 139737376807760 released on /root/.theano/compiledir_Linux-5.4.104+-x86_64-with-Ubuntu-18.04-bionic-x86_64-3.7.11-64/.lock\n",
            "2021-08-02 14:28:38.248\n",
            "Lock 139737376862288 acquired on /root/.theano/compiledir_Linux-5.4.104+-x86_64-with-Ubuntu-18.04-bionic-x86_64-3.7.11-64/.lock\n",
            "2021-08-02 14:28:38.255\n",
            "Lock 139737376862288 released on /root/.theano/compiledir_Linux-5.4.104+-x86_64-with-Ubuntu-18.04-bionic-x86_64-3.7.11-64/.lock\n",
            "2021-08-02 14:28:38.259\n",
            "Lock 139737361566672 acquired on /root/.theano/compiledir_Linux-5.4.104+-x86_64-with-Ubuntu-18.04-bionic-x86_64-3.7.11-64/.lock\n",
            "2021-08-02 14:28:38.266\n",
            "Lock 139737361566672 released on /root/.theano/compiledir_Linux-5.4.104+-x86_64-with-Ubuntu-18.04-bionic-x86_64-3.7.11-64/.lock\n",
            "2021-08-02 14:28:38.898\n",
            "Lock 139737361683920 acquired on /root/.theano/compiledir_Linux-5.4.104+-x86_64-with-Ubuntu-18.04-bionic-x86_64-3.7.11-64/.lock\n",
            "2021-08-02 14:28:38.906\n",
            "Lock 139737361683920 released on /root/.theano/compiledir_Linux-5.4.104+-x86_64-with-Ubuntu-18.04-bionic-x86_64-3.7.11-64/.lock\n",
            "2021-08-02 14:28:39.534\n",
            "Lock 139737361682576 acquired on /root/.theano/compiledir_Linux-5.4.104+-x86_64-with-Ubuntu-18.04-bionic-x86_64-3.7.11-64/.lock\n",
            "2021-08-02 14:28:39.542\n",
            "Lock 139737361682576 released on /root/.theano/compiledir_Linux-5.4.104+-x86_64-with-Ubuntu-18.04-bionic-x86_64-3.7.11-64/.lock\n",
            "2021-08-02 14:28:39.545\n",
            "Lock 139737376808720 acquired on /root/.theano/compiledir_Linux-5.4.104+-x86_64-with-Ubuntu-18.04-bionic-x86_64-3.7.11-64/.lock\n",
            "2021-08-02 14:28:39.556\n",
            "Lock 139737376808720 released on /root/.theano/compiledir_Linux-5.4.104+-x86_64-with-Ubuntu-18.04-bionic-x86_64-3.7.11-64/.lock\n",
            "2021-08-02 14:28:39.558\n",
            "Lock 139737342254288 acquired on /root/.theano/compiledir_Linux-5.4.104+-x86_64-with-Ubuntu-18.04-bionic-x86_64-3.7.11-64/.lock\n",
            "2021-08-02 14:28:41.063\n",
            "Lock 139737342254288 released on /root/.theano/compiledir_Linux-5.4.104+-x86_64-with-Ubuntu-18.04-bionic-x86_64-3.7.11-64/.lock\n",
            "2021-08-02 14:28:41.964\n",
            "Lock 139737342259600 acquired on /root/.theano/compiledir_Linux-5.4.104+-x86_64-with-Ubuntu-18.04-bionic-x86_64-3.7.11-64/.lock\n",
            "2021-08-02 14:28:41.997\n",
            "Lock 139737342259600 released on /root/.theano/compiledir_Linux-5.4.104+-x86_64-with-Ubuntu-18.04-bionic-x86_64-3.7.11-64/.lock\n",
            "2021-08-02 14:28:42.643\n",
            "Lock 139737342260496 acquired on /root/.theano/compiledir_Linux-5.4.104+-x86_64-with-Ubuntu-18.04-bionic-x86_64-3.7.11-64/.lock\n",
            "2021-08-02 14:28:42.651\n",
            "Lock 139737342260496 released on /root/.theano/compiledir_Linux-5.4.104+-x86_64-with-Ubuntu-18.04-bionic-x86_64-3.7.11-64/.lock\n",
            "2021-08-02 14:28:43.319\n",
            "Lock 139737339801040 acquired on /root/.theano/compiledir_Linux-5.4.104+-x86_64-with-Ubuntu-18.04-bionic-x86_64-3.7.11-64/.lock\n",
            "2021-08-02 14:28:43.324\n",
            "Lock 139737339801040 released on /root/.theano/compiledir_Linux-5.4.104+-x86_64-with-Ubuntu-18.04-bionic-x86_64-3.7.11-64/.lock\n",
            "2021-08-02 14:28:43.971\n",
            "Lock 139737339799696 acquired on /root/.theano/compiledir_Linux-5.4.104+-x86_64-with-Ubuntu-18.04-bionic-x86_64-3.7.11-64/.lock\n",
            "2021-08-02 14:28:43.983\n",
            "Lock 139737339799696 released on /root/.theano/compiledir_Linux-5.4.104+-x86_64-with-Ubuntu-18.04-bionic-x86_64-3.7.11-64/.lock\n",
            "2021-08-02 14:28:43.985\n",
            "Lock 139737339799504 acquired on /root/.theano/compiledir_Linux-5.4.104+-x86_64-with-Ubuntu-18.04-bionic-x86_64-3.7.11-64/.lock\n",
            "2021-08-02 14:28:43.991\n",
            "Lock 139737339799504 released on /root/.theano/compiledir_Linux-5.4.104+-x86_64-with-Ubuntu-18.04-bionic-x86_64-3.7.11-64/.lock\n",
            "2021-08-02 14:28:44.689\n",
            "Lock 139737333238160 acquired on /root/.theano/compiledir_Linux-5.4.104+-x86_64-with-Ubuntu-18.04-bionic-x86_64-3.7.11-64/.lock\n",
            "2021-08-02 14:28:44.697\n",
            "Lock 139737333238160 released on /root/.theano/compiledir_Linux-5.4.104+-x86_64-with-Ubuntu-18.04-bionic-x86_64-3.7.11-64/.lock\n",
            "2021-08-02 14:28:45.335\n",
            "Lock 139737333266832 acquired on /root/.theano/compiledir_Linux-5.4.104+-x86_64-with-Ubuntu-18.04-bionic-x86_64-3.7.11-64/.lock\n",
            "2021-08-02 14:28:45.341\n",
            "Lock 139737333266832 released on /root/.theano/compiledir_Linux-5.4.104+-x86_64-with-Ubuntu-18.04-bionic-x86_64-3.7.11-64/.lock\n",
            "2021-08-02 14:28:45.977\n",
            "Lock 139737333172624 acquired on /root/.theano/compiledir_Linux-5.4.104+-x86_64-with-Ubuntu-18.04-bionic-x86_64-3.7.11-64/.lock\n",
            "2021-08-02 14:28:45.987\n",
            "Lock 139737333172624 released on /root/.theano/compiledir_Linux-5.4.104+-x86_64-with-Ubuntu-18.04-bionic-x86_64-3.7.11-64/.lock\n",
            "2021-08-02 14:28:46.619\n",
            "Lock 139737333259472 acquired on /root/.theano/compiledir_Linux-5.4.104+-x86_64-with-Ubuntu-18.04-bionic-x86_64-3.7.11-64/.lock\n",
            "2021-08-02 14:28:46.624\n",
            "Lock 139737333259472 released on /root/.theano/compiledir_Linux-5.4.104+-x86_64-with-Ubuntu-18.04-bionic-x86_64-3.7.11-64/.lock\n",
            "2021-08-02 14:28:47.247\n",
            "Lock 139737333237840 acquired on /root/.theano/compiledir_Linux-5.4.104+-x86_64-with-Ubuntu-18.04-bionic-x86_64-3.7.11-64/.lock\n",
            "2021-08-02 14:28:47.259\n",
            "Lock 139737333237840 released on /root/.theano/compiledir_Linux-5.4.104+-x86_64-with-Ubuntu-18.04-bionic-x86_64-3.7.11-64/.lock\n",
            "2021-08-02 14:28:47.263\n",
            "Lock 139737333137360 acquired on /root/.theano/compiledir_Linux-5.4.104+-x86_64-with-Ubuntu-18.04-bionic-x86_64-3.7.11-64/.lock\n",
            "2021-08-02 14:28:47.272\n",
            "Lock 139737333137360 released on /root/.theano/compiledir_Linux-5.4.104+-x86_64-with-Ubuntu-18.04-bionic-x86_64-3.7.11-64/.lock\n",
            "2021-08-02 14:28:47.943\n",
            "Lock 139737339799760 acquired on /root/.theano/compiledir_Linux-5.4.104+-x86_64-with-Ubuntu-18.04-bionic-x86_64-3.7.11-64/.lock\n",
            "2021-08-02 14:28:47.950\n",
            "Lock 139737339799760 released on /root/.theano/compiledir_Linux-5.4.104+-x86_64-with-Ubuntu-18.04-bionic-x86_64-3.7.11-64/.lock\n",
            "2021-08-02 14:28:48.592\n",
            "Lock 139737333293776 acquired on /root/.theano/compiledir_Linux-5.4.104+-x86_64-with-Ubuntu-18.04-bionic-x86_64-3.7.11-64/.lock\n",
            "2021-08-02 14:28:48.602\n",
            "Lock 139737333293776 released on /root/.theano/compiledir_Linux-5.4.104+-x86_64-with-Ubuntu-18.04-bionic-x86_64-3.7.11-64/.lock\n",
            "2021-08-02 14:28:48.605\n",
            "Lock 139737339798352 acquired on /root/.theano/compiledir_Linux-5.4.104+-x86_64-with-Ubuntu-18.04-bionic-x86_64-3.7.11-64/.lock\n",
            "2021-08-02 14:28:48.611\n",
            "Lock 139737339798352 released on /root/.theano/compiledir_Linux-5.4.104+-x86_64-with-Ubuntu-18.04-bionic-x86_64-3.7.11-64/.lock\n",
            "2021-08-02 14:28:49.281\n",
            "Lock 139737333259600 acquired on /root/.theano/compiledir_Linux-5.4.104+-x86_64-with-Ubuntu-18.04-bionic-x86_64-3.7.11-64/.lock\n",
            "2021-08-02 14:28:49.294\n",
            "Lock 139737333259600 released on /root/.theano/compiledir_Linux-5.4.104+-x86_64-with-Ubuntu-18.04-bionic-x86_64-3.7.11-64/.lock\n",
            "2021-08-02 14:28:49.964\n",
            "Lock 139737342253136 acquired on /root/.theano/compiledir_Linux-5.4.104+-x86_64-with-Ubuntu-18.04-bionic-x86_64-3.7.11-64/.lock\n",
            "2021-08-02 14:28:49.975\n",
            "Lock 139737342253136 released on /root/.theano/compiledir_Linux-5.4.104+-x86_64-with-Ubuntu-18.04-bionic-x86_64-3.7.11-64/.lock\n",
            "2021-08-02 14:28:49.978\n",
            "Lock 139737320328464 acquired on /root/.theano/compiledir_Linux-5.4.104+-x86_64-with-Ubuntu-18.04-bionic-x86_64-3.7.11-64/.lock\n",
            "2021-08-02 14:28:49.985\n",
            "Lock 139737320328464 released on /root/.theano/compiledir_Linux-5.4.104+-x86_64-with-Ubuntu-18.04-bionic-x86_64-3.7.11-64/.lock\n",
            "2021-08-02 14:28:50.665\n",
            "Lock 139737333175568 acquired on /root/.theano/compiledir_Linux-5.4.104+-x86_64-with-Ubuntu-18.04-bionic-x86_64-3.7.11-64/.lock\n",
            "2021-08-02 14:28:50.676\n",
            "Lock 139737333175568 released on /root/.theano/compiledir_Linux-5.4.104+-x86_64-with-Ubuntu-18.04-bionic-x86_64-3.7.11-64/.lock\n",
            "2021-08-02 14:28:50.678\n",
            "Lock 139737320327824 acquired on /root/.theano/compiledir_Linux-5.4.104+-x86_64-with-Ubuntu-18.04-bionic-x86_64-3.7.11-64/.lock\n",
            "2021-08-02 14:28:50.685\n",
            "Lock 139737320327824 released on /root/.theano/compiledir_Linux-5.4.104+-x86_64-with-Ubuntu-18.04-bionic-x86_64-3.7.11-64/.lock\n",
            "2021-08-02 14:28:51.391\n",
            "Lock 139737320203536 acquired on /root/.theano/compiledir_Linux-5.4.104+-x86_64-with-Ubuntu-18.04-bionic-x86_64-3.7.11-64/.lock\n",
            "2021-08-02 14:28:51.405\n",
            "Lock 139737320203536 released on /root/.theano/compiledir_Linux-5.4.104+-x86_64-with-Ubuntu-18.04-bionic-x86_64-3.7.11-64/.lock\n",
            "2021-08-02 14:28:52.091\n",
            "Lock 139737320377680 acquired on /root/.theano/compiledir_Linux-5.4.104+-x86_64-with-Ubuntu-18.04-bionic-x86_64-3.7.11-64/.lock\n",
            "2021-08-02 14:28:52.105\n",
            "Lock 139737320377680 released on /root/.theano/compiledir_Linux-5.4.104+-x86_64-with-Ubuntu-18.04-bionic-x86_64-3.7.11-64/.lock\n",
            "2021-08-02 14:28:52.109\n",
            "Lock 139737320174480 acquired on /root/.theano/compiledir_Linux-5.4.104+-x86_64-with-Ubuntu-18.04-bionic-x86_64-3.7.11-64/.lock\n",
            "2021-08-02 14:28:52.117\n",
            "Lock 139737320174480 released on /root/.theano/compiledir_Linux-5.4.104+-x86_64-with-Ubuntu-18.04-bionic-x86_64-3.7.11-64/.lock\n",
            "2021-08-02 14:28:52.830\n",
            "Lock 139737333266256 acquired on /root/.theano/compiledir_Linux-5.4.104+-x86_64-with-Ubuntu-18.04-bionic-x86_64-3.7.11-64/.lock\n",
            "2021-08-02 14:28:52.835\n",
            "Lock 139737333266256 released on /root/.theano/compiledir_Linux-5.4.104+-x86_64-with-Ubuntu-18.04-bionic-x86_64-3.7.11-64/.lock\n",
            "2021-08-02 14:28:53.486\n",
            "Lock 139737342259792 acquired on /root/.theano/compiledir_Linux-5.4.104+-x86_64-with-Ubuntu-18.04-bionic-x86_64-3.7.11-64/.lock\n",
            "2021-08-02 14:28:53.497\n",
            "Lock 139737342259792 released on /root/.theano/compiledir_Linux-5.4.104+-x86_64-with-Ubuntu-18.04-bionic-x86_64-3.7.11-64/.lock\n",
            "2021-08-02 14:28:54.168\n",
            "Lock 139737342259792 acquired on /root/.theano/compiledir_Linux-5.4.104+-x86_64-with-Ubuntu-18.04-bionic-x86_64-3.7.11-64/.lock\n",
            "2021-08-02 14:28:54.176\n",
            "Lock 139737342259792 released on /root/.theano/compiledir_Linux-5.4.104+-x86_64-with-Ubuntu-18.04-bionic-x86_64-3.7.11-64/.lock\n",
            "2021-08-02 14:28:54.876\n",
            "Lock 139737343090448 acquired on /root/.theano/compiledir_Linux-5.4.104+-x86_64-with-Ubuntu-18.04-bionic-x86_64-3.7.11-64/.lock\n",
            "2021-08-02 14:28:54.884\n",
            "Lock 139737343090448 released on /root/.theano/compiledir_Linux-5.4.104+-x86_64-with-Ubuntu-18.04-bionic-x86_64-3.7.11-64/.lock\n",
            "2021-08-02 14:28:55.560\n",
            "Lock 139737343128144 acquired on /root/.theano/compiledir_Linux-5.4.104+-x86_64-with-Ubuntu-18.04-bionic-x86_64-3.7.11-64/.lock\n",
            "2021-08-02 14:28:55.571\n",
            "Lock 139737343128144 released on /root/.theano/compiledir_Linux-5.4.104+-x86_64-with-Ubuntu-18.04-bionic-x86_64-3.7.11-64/.lock\n",
            "2021-08-02 14:28:56.244\n",
            "Lock 139737398918928 acquired on /root/.theano/compiledir_Linux-5.4.104+-x86_64-with-Ubuntu-18.04-bionic-x86_64-3.7.11-64/.lock\n",
            "2021-08-02 14:28:56.262\n",
            "Lock 139737398918928 released on /root/.theano/compiledir_Linux-5.4.104+-x86_64-with-Ubuntu-18.04-bionic-x86_64-3.7.11-64/.lock\n",
            "2021-08-02 14:28:56.267\n",
            "Lock 139737307255568 acquired on /root/.theano/compiledir_Linux-5.4.104+-x86_64-with-Ubuntu-18.04-bionic-x86_64-3.7.11-64/.lock\n",
            "2021-08-02 14:28:56.281\n",
            "Lock 139737307255568 released on /root/.theano/compiledir_Linux-5.4.104+-x86_64-with-Ubuntu-18.04-bionic-x86_64-3.7.11-64/.lock\n",
            "2021-08-02 14:28:56.283\n",
            "Lock 139737320235536 acquired on /root/.theano/compiledir_Linux-5.4.104+-x86_64-with-Ubuntu-18.04-bionic-x86_64-3.7.11-64/.lock\n",
            "2021-08-02 14:28:56.299\n",
            "Lock 139737320235536 released on /root/.theano/compiledir_Linux-5.4.104+-x86_64-with-Ubuntu-18.04-bionic-x86_64-3.7.11-64/.lock\n",
            "2021-08-02 14:28:56.970\n",
            "Lock 139737307349904 acquired on /root/.theano/compiledir_Linux-5.4.104+-x86_64-with-Ubuntu-18.04-bionic-x86_64-3.7.11-64/.lock\n",
            "2021-08-02 14:28:56.982\n",
            "Lock 139737307349904 released on /root/.theano/compiledir_Linux-5.4.104+-x86_64-with-Ubuntu-18.04-bionic-x86_64-3.7.11-64/.lock\n",
            "2021-08-02 14:28:57.637\n",
            "Lock 139737320378064 acquired on /root/.theano/compiledir_Linux-5.4.104+-x86_64-with-Ubuntu-18.04-bionic-x86_64-3.7.11-64/.lock\n",
            "2021-08-02 14:28:57.648\n",
            "Lock 139737320378064 released on /root/.theano/compiledir_Linux-5.4.104+-x86_64-with-Ubuntu-18.04-bionic-x86_64-3.7.11-64/.lock\n",
            "2021-08-02 14:28:58.326\n",
            "Lock 139737307270672 acquired on /root/.theano/compiledir_Linux-5.4.104+-x86_64-with-Ubuntu-18.04-bionic-x86_64-3.7.11-64/.lock\n",
            "2021-08-02 14:28:58.337\n",
            "Lock 139737307270672 released on /root/.theano/compiledir_Linux-5.4.104+-x86_64-with-Ubuntu-18.04-bionic-x86_64-3.7.11-64/.lock\n",
            "2021-08-02 14:28:59.001\n",
            "Lock 139737307268560 acquired on /root/.theano/compiledir_Linux-5.4.104+-x86_64-with-Ubuntu-18.04-bionic-x86_64-3.7.11-64/.lock\n",
            "2021-08-02 14:28:59.011\n",
            "Lock 139737307268560 released on /root/.theano/compiledir_Linux-5.4.104+-x86_64-with-Ubuntu-18.04-bionic-x86_64-3.7.11-64/.lock\n",
            "2021-08-02 14:28:59.671\n",
            "Lock 139737307407056 acquired on /root/.theano/compiledir_Linux-5.4.104+-x86_64-with-Ubuntu-18.04-bionic-x86_64-3.7.11-64/.lock\n",
            "2021-08-02 14:28:59.683\n",
            "Lock 139737307407056 released on /root/.theano/compiledir_Linux-5.4.104+-x86_64-with-Ubuntu-18.04-bionic-x86_64-3.7.11-64/.lock\n",
            "2021-08-02 14:29:00.366\n",
            "Lock 139737307267216 acquired on /root/.theano/compiledir_Linux-5.4.104+-x86_64-with-Ubuntu-18.04-bionic-x86_64-3.7.11-64/.lock\n",
            "2021-08-02 14:29:00.374\n",
            "Lock 139737307267216 released on /root/.theano/compiledir_Linux-5.4.104+-x86_64-with-Ubuntu-18.04-bionic-x86_64-3.7.11-64/.lock\n",
            "2021-08-02 14:29:01.068\n",
            "Lock 139737307420432 acquired on /root/.theano/compiledir_Linux-5.4.104+-x86_64-with-Ubuntu-18.04-bionic-x86_64-3.7.11-64/.lock\n",
            "2021-08-02 14:29:01.089\n",
            "Lock 139737307420432 released on /root/.theano/compiledir_Linux-5.4.104+-x86_64-with-Ubuntu-18.04-bionic-x86_64-3.7.11-64/.lock\n",
            "2021-08-02 14:29:01.777\n",
            "Lock 139737277179984 acquired on /root/.theano/compiledir_Linux-5.4.104+-x86_64-with-Ubuntu-18.04-bionic-x86_64-3.7.11-64/.lock\n",
            "2021-08-02 14:29:01.886\n",
            "Lock 139737277179984 released on /root/.theano/compiledir_Linux-5.4.104+-x86_64-with-Ubuntu-18.04-bionic-x86_64-3.7.11-64/.lock\n",
            "2021-08-02 14:29:02.508\n",
            "Lock 139737274461136 acquired on /root/.theano/compiledir_Linux-5.4.104+-x86_64-with-Ubuntu-18.04-bionic-x86_64-3.7.11-64/.lock\n",
            "2021-08-02 14:29:02.606\n",
            "Lock 139737274461136 released on /root/.theano/compiledir_Linux-5.4.104+-x86_64-with-Ubuntu-18.04-bionic-x86_64-3.7.11-64/.lock\n",
            "2021-08-02 14:29:03.172\n",
            "Lock 139737276858448 acquired on /root/.theano/compiledir_Linux-5.4.104+-x86_64-with-Ubuntu-18.04-bionic-x86_64-3.7.11-64/.lock\n",
            "2021-08-02 14:29:03.180\n",
            "Lock 139737276858448 released on /root/.theano/compiledir_Linux-5.4.104+-x86_64-with-Ubuntu-18.04-bionic-x86_64-3.7.11-64/.lock\n",
            "2021-08-02 14:29:03.181\n",
            "Lock 139737271198800 acquired on /root/.theano/compiledir_Linux-5.4.104+-x86_64-with-Ubuntu-18.04-bionic-x86_64-3.7.11-64/.lock\n",
            "2021-08-02 14:29:03.220\n",
            "Lock 139737271198800 released on /root/.theano/compiledir_Linux-5.4.104+-x86_64-with-Ubuntu-18.04-bionic-x86_64-3.7.11-64/.lock\n",
            "2021-08-02 14:29:03.753\n",
            "Lock 139737274632144 acquired on /root/.theano/compiledir_Linux-5.4.104+-x86_64-with-Ubuntu-18.04-bionic-x86_64-3.7.11-64/.lock\n",
            "2021-08-02 14:29:03.758\n",
            "Compiling new CVM\n",
            "2021-08-02 14:29:03.762\n",
            "New version 0.211\n",
            "2021-08-02 14:29:04.024\n",
            "Lock 139737274632144 released on /root/.theano/compiledir_Linux-5.4.104+-x86_64-with-Ubuntu-18.04-bionic-x86_64-3.7.11-64/.lock\n",
            "2021-08-02 14:29:04.027\n",
            "Lock 139737266013072 acquired on /root/.theano/compiledir_Linux-5.4.104+-x86_64-with-Ubuntu-18.04-bionic-x86_64-3.7.11-64/.lock\n",
            "2021-08-02 14:29:04.110\n",
            "Lock 139737266013072 released on /root/.theano/compiledir_Linux-5.4.104+-x86_64-with-Ubuntu-18.04-bionic-x86_64-3.7.11-64/.lock\n",
            "2021-08-02 14:29:04.803\n",
            "Lock 139737260653392 acquired on /root/.theano/compiledir_Linux-5.4.104+-x86_64-with-Ubuntu-18.04-bionic-x86_64-3.7.11-64/.lock\n",
            "2021-08-02 14:29:05.637\n",
            "Lock 139737260653392 released on /root/.theano/compiledir_Linux-5.4.104+-x86_64-with-Ubuntu-18.04-bionic-x86_64-3.7.11-64/.lock\n",
            "2021-08-02 14:29:05.640\n",
            "Lock 139737260651920 acquired on /root/.theano/compiledir_Linux-5.4.104+-x86_64-with-Ubuntu-18.04-bionic-x86_64-3.7.11-64/.lock\n",
            "2021-08-02 14:29:05.650\n",
            "Lock 139737260651920 released on /root/.theano/compiledir_Linux-5.4.104+-x86_64-with-Ubuntu-18.04-bionic-x86_64-3.7.11-64/.lock\n",
            "2021-08-02 14:29:05.656\n",
            "Lock 139737260651664 acquired on /root/.theano/compiledir_Linux-5.4.104+-x86_64-with-Ubuntu-18.04-bionic-x86_64-3.7.11-64/.lock\n",
            "2021-08-02 14:29:05.665\n",
            "Lock 139737260651664 released on /root/.theano/compiledir_Linux-5.4.104+-x86_64-with-Ubuntu-18.04-bionic-x86_64-3.7.11-64/.lock\n",
            "2021-08-02 14:29:06.365\n",
            "Lock 139737260265616 acquired on /root/.theano/compiledir_Linux-5.4.104+-x86_64-with-Ubuntu-18.04-bionic-x86_64-3.7.11-64/.lock\n",
            "2021-08-02 14:29:06.381\n",
            "Lock 139737260265616 released on /root/.theano/compiledir_Linux-5.4.104+-x86_64-with-Ubuntu-18.04-bionic-x86_64-3.7.11-64/.lock\n",
            "2021-08-02 14:29:06.383\n",
            "Lock 139737260305616 acquired on /root/.theano/compiledir_Linux-5.4.104+-x86_64-with-Ubuntu-18.04-bionic-x86_64-3.7.11-64/.lock\n",
            "2021-08-02 14:29:06.393\n",
            "Lock 139737260305616 released on /root/.theano/compiledir_Linux-5.4.104+-x86_64-with-Ubuntu-18.04-bionic-x86_64-3.7.11-64/.lock\n",
            "2021-08-02 14:29:06.396\n",
            "Lock 139737260698896 acquired on /root/.theano/compiledir_Linux-5.4.104+-x86_64-with-Ubuntu-18.04-bionic-x86_64-3.7.11-64/.lock\n",
            "2021-08-02 14:29:06.405\n",
            "Lock 139737260698896 released on /root/.theano/compiledir_Linux-5.4.104+-x86_64-with-Ubuntu-18.04-bionic-x86_64-3.7.11-64/.lock\n",
            "2021-08-02 14:29:07.045\n",
            "Lock 139737260641360 acquired on /root/.theano/compiledir_Linux-5.4.104+-x86_64-with-Ubuntu-18.04-bionic-x86_64-3.7.11-64/.lock\n",
            "2021-08-02 14:29:07.054\n",
            "Lock 139737260641360 released on /root/.theano/compiledir_Linux-5.4.104+-x86_64-with-Ubuntu-18.04-bionic-x86_64-3.7.11-64/.lock\n",
            "2021-08-02 14:29:07.057\n",
            "Lock 139737260697616 acquired on /root/.theano/compiledir_Linux-5.4.104+-x86_64-with-Ubuntu-18.04-bionic-x86_64-3.7.11-64/.lock\n",
            "2021-08-02 14:29:07.067\n",
            "Lock 139737260697616 released on /root/.theano/compiledir_Linux-5.4.104+-x86_64-with-Ubuntu-18.04-bionic-x86_64-3.7.11-64/.lock\n",
            "2021-08-02 14:29:07.071\n",
            "Lock 139737260296976 acquired on /root/.theano/compiledir_Linux-5.4.104+-x86_64-with-Ubuntu-18.04-bionic-x86_64-3.7.11-64/.lock\n",
            "2021-08-02 14:29:07.082\n",
            "Lock 139737260296976 released on /root/.theano/compiledir_Linux-5.4.104+-x86_64-with-Ubuntu-18.04-bionic-x86_64-3.7.11-64/.lock\n",
            "2021-08-02 14:29:07.086\n",
            "Lock 139737260304976 acquired on /root/.theano/compiledir_Linux-5.4.104+-x86_64-with-Ubuntu-18.04-bionic-x86_64-3.7.11-64/.lock\n",
            "2021-08-02 14:29:07.094\n",
            "Lock 139737260304976 released on /root/.theano/compiledir_Linux-5.4.104+-x86_64-with-Ubuntu-18.04-bionic-x86_64-3.7.11-64/.lock\n",
            "2021-08-02 14:29:07.098\n",
            "Lock 139737260302800 acquired on /root/.theano/compiledir_Linux-5.4.104+-x86_64-with-Ubuntu-18.04-bionic-x86_64-3.7.11-64/.lock\n",
            "2021-08-02 14:29:07.107\n",
            "Lock 139737260302800 released on /root/.theano/compiledir_Linux-5.4.104+-x86_64-with-Ubuntu-18.04-bionic-x86_64-3.7.11-64/.lock\n",
            "2021-08-02 14:29:07.111\n",
            "Lock 139737260327184 acquired on /root/.theano/compiledir_Linux-5.4.104+-x86_64-with-Ubuntu-18.04-bionic-x86_64-3.7.11-64/.lock\n",
            "2021-08-02 14:29:07.121\n",
            "Lock 139737260327184 released on /root/.theano/compiledir_Linux-5.4.104+-x86_64-with-Ubuntu-18.04-bionic-x86_64-3.7.11-64/.lock\n",
            "2021-08-02 14:29:07.794\n",
            "Lock 139737260292816 acquired on /root/.theano/compiledir_Linux-5.4.104+-x86_64-with-Ubuntu-18.04-bionic-x86_64-3.7.11-64/.lock\n",
            "2021-08-02 14:29:07.811\n",
            "Lock 139737260292816 released on /root/.theano/compiledir_Linux-5.4.104+-x86_64-with-Ubuntu-18.04-bionic-x86_64-3.7.11-64/.lock\n",
            "2021-08-02 14:29:07.814\n",
            "Lock 139737260297360 acquired on /root/.theano/compiledir_Linux-5.4.104+-x86_64-with-Ubuntu-18.04-bionic-x86_64-3.7.11-64/.lock\n",
            "2021-08-02 14:29:07.824\n",
            "Lock 139737260297360 released on /root/.theano/compiledir_Linux-5.4.104+-x86_64-with-Ubuntu-18.04-bionic-x86_64-3.7.11-64/.lock\n",
            "2021-08-02 14:29:07.827\n",
            "Lock 139737266452752 acquired on /root/.theano/compiledir_Linux-5.4.104+-x86_64-with-Ubuntu-18.04-bionic-x86_64-3.7.11-64/.lock\n",
            "2021-08-02 14:29:07.834\n",
            "Lock 139737266452752 released on /root/.theano/compiledir_Linux-5.4.104+-x86_64-with-Ubuntu-18.04-bionic-x86_64-3.7.11-64/.lock\n",
            "2021-08-02 14:29:08.465\n",
            "Lock 139737266453136 acquired on /root/.theano/compiledir_Linux-5.4.104+-x86_64-with-Ubuntu-18.04-bionic-x86_64-3.7.11-64/.lock\n",
            "2021-08-02 14:29:08.473\n",
            "Lock 139737266453136 released on /root/.theano/compiledir_Linux-5.4.104+-x86_64-with-Ubuntu-18.04-bionic-x86_64-3.7.11-64/.lock\n",
            "2021-08-02 14:29:08.476\n",
            "Lock 139737260296720 acquired on /root/.theano/compiledir_Linux-5.4.104+-x86_64-with-Ubuntu-18.04-bionic-x86_64-3.7.11-64/.lock\n",
            "2021-08-02 14:29:08.483\n",
            "Lock 139737260296720 released on /root/.theano/compiledir_Linux-5.4.104+-x86_64-with-Ubuntu-18.04-bionic-x86_64-3.7.11-64/.lock\n",
            "2021-08-02 14:29:08.487\n",
            "Lock 139737260697872 acquired on /root/.theano/compiledir_Linux-5.4.104+-x86_64-with-Ubuntu-18.04-bionic-x86_64-3.7.11-64/.lock\n",
            "2021-08-02 14:29:08.501\n",
            "Lock 139737260697872 released on /root/.theano/compiledir_Linux-5.4.104+-x86_64-with-Ubuntu-18.04-bionic-x86_64-3.7.11-64/.lock\n",
            "2021-08-02 14:29:08.504\n",
            "Lock 139737260641360 acquired on /root/.theano/compiledir_Linux-5.4.104+-x86_64-with-Ubuntu-18.04-bionic-x86_64-3.7.11-64/.lock\n",
            "2021-08-02 14:29:08.513\n",
            "Lock 139737260641360 released on /root/.theano/compiledir_Linux-5.4.104+-x86_64-with-Ubuntu-18.04-bionic-x86_64-3.7.11-64/.lock\n",
            "2021-08-02 14:29:08.517\n",
            "Lock 139737261136976 acquired on /root/.theano/compiledir_Linux-5.4.104+-x86_64-with-Ubuntu-18.04-bionic-x86_64-3.7.11-64/.lock\n",
            "2021-08-02 14:29:08.534\n",
            "Lock 139737261136976 released on /root/.theano/compiledir_Linux-5.4.104+-x86_64-with-Ubuntu-18.04-bionic-x86_64-3.7.11-64/.lock\n",
            "2021-08-02 14:29:08.537\n",
            "Lock 139737260466384 acquired on /root/.theano/compiledir_Linux-5.4.104+-x86_64-with-Ubuntu-18.04-bionic-x86_64-3.7.11-64/.lock\n",
            "2021-08-02 14:29:08.582\n",
            "Lock 139737260466384 released on /root/.theano/compiledir_Linux-5.4.104+-x86_64-with-Ubuntu-18.04-bionic-x86_64-3.7.11-64/.lock\n",
            "2021-08-02 14:29:08.587\n",
            "Lock 139737251092432 acquired on /root/.theano/compiledir_Linux-5.4.104+-x86_64-with-Ubuntu-18.04-bionic-x86_64-3.7.11-64/.lock\n",
            "2021-08-02 14:29:08.645\n",
            "Lock 139737251092432 released on /root/.theano/compiledir_Linux-5.4.104+-x86_64-with-Ubuntu-18.04-bionic-x86_64-3.7.11-64/.lock\n",
            "2021-08-02 14:29:09.201\n",
            "Lock 139737251130640 acquired on /root/.theano/compiledir_Linux-5.4.104+-x86_64-with-Ubuntu-18.04-bionic-x86_64-3.7.11-64/.lock\n",
            "2021-08-02 14:29:09.210\n",
            "Lock 139737251130640 released on /root/.theano/compiledir_Linux-5.4.104+-x86_64-with-Ubuntu-18.04-bionic-x86_64-3.7.11-64/.lock\n",
            "2021-08-02 14:29:09.797\n",
            "WARNING (theano.tensor.blas): We did not find a dynamic library in the library_dir of the library we use for blas. If you use ATLAS, make sure to compile it with dynamics library.\n",
            "We did not find a dynamic library in the library_dir of the library we use for blas. If you use ATLAS, make sure to compile it with dynamics library.\n",
            "2021-08-02 14:29:09.802\n",
            "Lock 139737251121296 acquired on /root/.theano/compiledir_Linux-5.4.104+-x86_64-with-Ubuntu-18.04-bionic-x86_64-3.7.11-64/.lock\n",
            "2021-08-02 14:29:09.834\n",
            "WARNING (theano.tensor.blas): We did not find a dynamic library in the library_dir of the library we use for blas. If you use ATLAS, make sure to compile it with dynamics library.\n",
            "We did not find a dynamic library in the library_dir of the library we use for blas. If you use ATLAS, make sure to compile it with dynamics library.\n",
            "2021-08-02 14:29:09.843\n",
            "Lock 139737251121296 released on /root/.theano/compiledir_Linux-5.4.104+-x86_64-with-Ubuntu-18.04-bionic-x86_64-3.7.11-64/.lock\n",
            "2021-08-02 14:29:10.658\n",
            "Lock 139737260304784 acquired on /root/.theano/compiledir_Linux-5.4.104+-x86_64-with-Ubuntu-18.04-bionic-x86_64-3.7.11-64/.lock\n",
            "2021-08-02 14:29:10.742\n",
            "Lock 139737260304784 released on /root/.theano/compiledir_Linux-5.4.104+-x86_64-with-Ubuntu-18.04-bionic-x86_64-3.7.11-64/.lock\n",
            "2021-08-02 14:29:11.698\n",
            "/usr/local/lib/python3.7/dist-packages/ipykernel_launcher.py:8: FutureWarning: In v4.0, pm.sample will return an `arviz.InferenceData` object instead of a `MultiTrace` by default. You can pass return_inferencedata=True or return_inferencedata=False to be safe and silence this warning.\n",
            "  \n",
            "Auto-assigning NUTS sampler...\n",
            "Auto-assigning NUTS sampler...\n",
            "2021-08-02 14:29:11.713\n",
            "Initializing NUTS using jitter+adapt_diag...\n",
            "Initializing NUTS using jitter+adapt_diag...\n",
            "2021-08-02 14:29:11.727\n",
            "Lock 139737130338064 acquired on /root/.theano/compiledir_Linux-5.4.104+-x86_64-with-Ubuntu-18.04-bionic-x86_64-3.7.11-64/.lock\n",
            "2021-08-02 14:29:14.053\n",
            "Lock 139737130338064 released on /root/.theano/compiledir_Linux-5.4.104+-x86_64-with-Ubuntu-18.04-bionic-x86_64-3.7.11-64/.lock\n",
            "2021-08-02 14:29:14.994\n",
            "Lock 139737129926224 acquired on /root/.theano/compiledir_Linux-5.4.104+-x86_64-with-Ubuntu-18.04-bionic-x86_64-3.7.11-64/.lock\n",
            "2021-08-02 14:29:15.006\n",
            "Lock 139737129926224 released on /root/.theano/compiledir_Linux-5.4.104+-x86_64-with-Ubuntu-18.04-bionic-x86_64-3.7.11-64/.lock\n",
            "2021-08-02 14:29:15.562\n",
            "Lock 139737129923152 acquired on /root/.theano/compiledir_Linux-5.4.104+-x86_64-with-Ubuntu-18.04-bionic-x86_64-3.7.11-64/.lock\n",
            "2021-08-02 14:29:15.570\n",
            "Lock 139737129923152 released on /root/.theano/compiledir_Linux-5.4.104+-x86_64-with-Ubuntu-18.04-bionic-x86_64-3.7.11-64/.lock\n",
            "2021-08-02 14:29:16.158\n",
            "Lock 139737130430864 acquired on /root/.theano/compiledir_Linux-5.4.104+-x86_64-with-Ubuntu-18.04-bionic-x86_64-3.7.11-64/.lock\n",
            "2021-08-02 14:29:16.166\n",
            "Lock 139737130430864 released on /root/.theano/compiledir_Linux-5.4.104+-x86_64-with-Ubuntu-18.04-bionic-x86_64-3.7.11-64/.lock\n",
            "2021-08-02 14:29:16.168\n",
            "Lock 139737131238864 acquired on /root/.theano/compiledir_Linux-5.4.104+-x86_64-with-Ubuntu-18.04-bionic-x86_64-3.7.11-64/.lock\n",
            "2021-08-02 14:29:16.178\n",
            "Lock 139737131238864 released on /root/.theano/compiledir_Linux-5.4.104+-x86_64-with-Ubuntu-18.04-bionic-x86_64-3.7.11-64/.lock\n",
            "2021-08-02 14:29:16.180\n",
            "Lock 139737263599696 acquired on /root/.theano/compiledir_Linux-5.4.104+-x86_64-with-Ubuntu-18.04-bionic-x86_64-3.7.11-64/.lock\n",
            "2021-08-02 14:29:16.190\n",
            "Lock 139737263599696 released on /root/.theano/compiledir_Linux-5.4.104+-x86_64-with-Ubuntu-18.04-bionic-x86_64-3.7.11-64/.lock\n",
            "2021-08-02 14:29:16.192\n",
            "Lock 139737129899600 acquired on /root/.theano/compiledir_Linux-5.4.104+-x86_64-with-Ubuntu-18.04-bionic-x86_64-3.7.11-64/.lock\n",
            "2021-08-02 14:29:16.201\n",
            "Lock 139737129899600 released on /root/.theano/compiledir_Linux-5.4.104+-x86_64-with-Ubuntu-18.04-bionic-x86_64-3.7.11-64/.lock\n",
            "2021-08-02 14:29:16.205\n",
            "Lock 139737130337936 acquired on /root/.theano/compiledir_Linux-5.4.104+-x86_64-with-Ubuntu-18.04-bionic-x86_64-3.7.11-64/.lock\n",
            "2021-08-02 14:29:16.214\n",
            "Lock 139737130337936 released on /root/.theano/compiledir_Linux-5.4.104+-x86_64-with-Ubuntu-18.04-bionic-x86_64-3.7.11-64/.lock\n",
            "2021-08-02 14:29:16.218\n",
            "Lock 139737131161104 acquired on /root/.theano/compiledir_Linux-5.4.104+-x86_64-with-Ubuntu-18.04-bionic-x86_64-3.7.11-64/.lock\n",
            "2021-08-02 14:29:16.228\n",
            "Lock 139737131161104 released on /root/.theano/compiledir_Linux-5.4.104+-x86_64-with-Ubuntu-18.04-bionic-x86_64-3.7.11-64/.lock\n",
            "2021-08-02 14:29:16.232\n",
            "Lock 139737130725584 acquired on /root/.theano/compiledir_Linux-5.4.104+-x86_64-with-Ubuntu-18.04-bionic-x86_64-3.7.11-64/.lock\n",
            "2021-08-02 14:29:16.241\n",
            "Lock 139737130725584 released on /root/.theano/compiledir_Linux-5.4.104+-x86_64-with-Ubuntu-18.04-bionic-x86_64-3.7.11-64/.lock\n",
            "2021-08-02 14:29:16.245\n",
            "Lock 139737129946448 acquired on /root/.theano/compiledir_Linux-5.4.104+-x86_64-with-Ubuntu-18.04-bionic-x86_64-3.7.11-64/.lock\n",
            "2021-08-02 14:29:16.254\n",
            "Lock 139737129946448 released on /root/.theano/compiledir_Linux-5.4.104+-x86_64-with-Ubuntu-18.04-bionic-x86_64-3.7.11-64/.lock\n",
            "2021-08-02 14:29:16.258\n",
            "Lock 139737131272656 acquired on /root/.theano/compiledir_Linux-5.4.104+-x86_64-with-Ubuntu-18.04-bionic-x86_64-3.7.11-64/.lock\n",
            "2021-08-02 14:29:16.267\n",
            "Lock 139737131272656 released on /root/.theano/compiledir_Linux-5.4.104+-x86_64-with-Ubuntu-18.04-bionic-x86_64-3.7.11-64/.lock\n",
            "2021-08-02 14:29:16.271\n",
            "Lock 139737130336656 acquired on /root/.theano/compiledir_Linux-5.4.104+-x86_64-with-Ubuntu-18.04-bionic-x86_64-3.7.11-64/.lock\n",
            "2021-08-02 14:29:16.281\n",
            "Lock 139737130336656 released on /root/.theano/compiledir_Linux-5.4.104+-x86_64-with-Ubuntu-18.04-bionic-x86_64-3.7.11-64/.lock\n",
            "2021-08-02 14:29:16.286\n",
            "Lock 139737130242000 acquired on /root/.theano/compiledir_Linux-5.4.104+-x86_64-with-Ubuntu-18.04-bionic-x86_64-3.7.11-64/.lock\n",
            "2021-08-02 14:29:16.296\n",
            "Lock 139737130242000 released on /root/.theano/compiledir_Linux-5.4.104+-x86_64-with-Ubuntu-18.04-bionic-x86_64-3.7.11-64/.lock\n",
            "2021-08-02 14:29:16.300\n",
            "Lock 139737129973776 acquired on /root/.theano/compiledir_Linux-5.4.104+-x86_64-with-Ubuntu-18.04-bionic-x86_64-3.7.11-64/.lock\n",
            "2021-08-02 14:29:16.312\n",
            "Lock 139737129973776 released on /root/.theano/compiledir_Linux-5.4.104+-x86_64-with-Ubuntu-18.04-bionic-x86_64-3.7.11-64/.lock\n",
            "2021-08-02 14:29:16.317\n",
            "Lock 139737130727248 acquired on /root/.theano/compiledir_Linux-5.4.104+-x86_64-with-Ubuntu-18.04-bionic-x86_64-3.7.11-64/.lock\n",
            "2021-08-02 14:29:16.328\n",
            "Lock 139737130727248 released on /root/.theano/compiledir_Linux-5.4.104+-x86_64-with-Ubuntu-18.04-bionic-x86_64-3.7.11-64/.lock\n",
            "2021-08-02 14:29:16.332\n",
            "Lock 139737130404624 acquired on /root/.theano/compiledir_Linux-5.4.104+-x86_64-with-Ubuntu-18.04-bionic-x86_64-3.7.11-64/.lock\n",
            "2021-08-02 14:29:16.344\n",
            "Lock 139737130404624 released on /root/.theano/compiledir_Linux-5.4.104+-x86_64-with-Ubuntu-18.04-bionic-x86_64-3.7.11-64/.lock\n",
            "2021-08-02 14:29:16.350\n",
            "Lock 139737130494736 acquired on /root/.theano/compiledir_Linux-5.4.104+-x86_64-with-Ubuntu-18.04-bionic-x86_64-3.7.11-64/.lock\n",
            "2021-08-02 14:29:16.420\n",
            "Lock 139737130494736 released on /root/.theano/compiledir_Linux-5.4.104+-x86_64-with-Ubuntu-18.04-bionic-x86_64-3.7.11-64/.lock\n",
            "2021-08-02 14:29:16.423\n",
            "Lock 139737121364176 acquired on /root/.theano/compiledir_Linux-5.4.104+-x86_64-with-Ubuntu-18.04-bionic-x86_64-3.7.11-64/.lock\n",
            "2021-08-02 14:29:16.437\n",
            "Lock 139737121364176 released on /root/.theano/compiledir_Linux-5.4.104+-x86_64-with-Ubuntu-18.04-bionic-x86_64-3.7.11-64/.lock\n",
            "2021-08-02 14:29:17.111\n",
            "Lock 139737130362768 acquired on /root/.theano/compiledir_Linux-5.4.104+-x86_64-with-Ubuntu-18.04-bionic-x86_64-3.7.11-64/.lock\n",
            "2021-08-02 14:29:17.119\n",
            "Lock 139737130362768 released on /root/.theano/compiledir_Linux-5.4.104+-x86_64-with-Ubuntu-18.04-bionic-x86_64-3.7.11-64/.lock\n",
            "2021-08-02 14:29:17.129\n",
            "Lock 139737121404688 acquired on /root/.theano/compiledir_Linux-5.4.104+-x86_64-with-Ubuntu-18.04-bionic-x86_64-3.7.11-64/.lock\n",
            "2021-08-02 14:29:17.140\n",
            "Lock 139737121404688 released on /root/.theano/compiledir_Linux-5.4.104+-x86_64-with-Ubuntu-18.04-bionic-x86_64-3.7.11-64/.lock\n",
            "2021-08-02 14:29:17.142\n",
            "Lock 139737130724304 acquired on /root/.theano/compiledir_Linux-5.4.104+-x86_64-with-Ubuntu-18.04-bionic-x86_64-3.7.11-64/.lock\n",
            "2021-08-02 14:29:17.150\n",
            "Lock 139737130724304 released on /root/.theano/compiledir_Linux-5.4.104+-x86_64-with-Ubuntu-18.04-bionic-x86_64-3.7.11-64/.lock\n",
            "2021-08-02 14:29:17.153\n",
            "Lock 139737123167888 acquired on /root/.theano/compiledir_Linux-5.4.104+-x86_64-with-Ubuntu-18.04-bionic-x86_64-3.7.11-64/.lock\n",
            "2021-08-02 14:29:17.159\n",
            "Lock 139737123167888 released on /root/.theano/compiledir_Linux-5.4.104+-x86_64-with-Ubuntu-18.04-bionic-x86_64-3.7.11-64/.lock\n",
            "2021-08-02 14:29:17.162\n",
            "Lock 139737121126800 acquired on /root/.theano/compiledir_Linux-5.4.104+-x86_64-with-Ubuntu-18.04-bionic-x86_64-3.7.11-64/.lock\n",
            "2021-08-02 14:29:17.169\n",
            "Lock 139737121126800 released on /root/.theano/compiledir_Linux-5.4.104+-x86_64-with-Ubuntu-18.04-bionic-x86_64-3.7.11-64/.lock\n",
            "2021-08-02 14:29:17.172\n",
            "Lock 139737121405456 acquired on /root/.theano/compiledir_Linux-5.4.104+-x86_64-with-Ubuntu-18.04-bionic-x86_64-3.7.11-64/.lock\n",
            "2021-08-02 14:29:17.178\n",
            "Lock 139737121405456 released on /root/.theano/compiledir_Linux-5.4.104+-x86_64-with-Ubuntu-18.04-bionic-x86_64-3.7.11-64/.lock\n",
            "2021-08-02 14:29:17.181\n",
            "Lock 139737121406864 acquired on /root/.theano/compiledir_Linux-5.4.104+-x86_64-with-Ubuntu-18.04-bionic-x86_64-3.7.11-64/.lock\n",
            "2021-08-02 14:29:17.187\n",
            "Lock 139737121406864 released on /root/.theano/compiledir_Linux-5.4.104+-x86_64-with-Ubuntu-18.04-bionic-x86_64-3.7.11-64/.lock\n",
            "2021-08-02 14:29:17.191\n",
            "Lock 139737130723664 acquired on /root/.theano/compiledir_Linux-5.4.104+-x86_64-with-Ubuntu-18.04-bionic-x86_64-3.7.11-64/.lock\n",
            "2021-08-02 14:29:17.196\n",
            "Lock 139737130723664 released on /root/.theano/compiledir_Linux-5.4.104+-x86_64-with-Ubuntu-18.04-bionic-x86_64-3.7.11-64/.lock\n",
            "2021-08-02 14:29:17.199\n",
            "Lock 139737121128016 acquired on /root/.theano/compiledir_Linux-5.4.104+-x86_64-with-Ubuntu-18.04-bionic-x86_64-3.7.11-64/.lock\n",
            "2021-08-02 14:29:17.205\n",
            "Lock 139737121128016 released on /root/.theano/compiledir_Linux-5.4.104+-x86_64-with-Ubuntu-18.04-bionic-x86_64-3.7.11-64/.lock\n",
            "2021-08-02 14:29:17.209\n",
            "Lock 139737121125136 acquired on /root/.theano/compiledir_Linux-5.4.104+-x86_64-with-Ubuntu-18.04-bionic-x86_64-3.7.11-64/.lock\n",
            "2021-08-02 14:29:17.215\n",
            "Lock 139737121125136 released on /root/.theano/compiledir_Linux-5.4.104+-x86_64-with-Ubuntu-18.04-bionic-x86_64-3.7.11-64/.lock\n",
            "2021-08-02 14:29:17.218\n",
            "Lock 139737121405456 acquired on /root/.theano/compiledir_Linux-5.4.104+-x86_64-with-Ubuntu-18.04-bionic-x86_64-3.7.11-64/.lock\n",
            "2021-08-02 14:29:17.224\n",
            "Lock 139737121405456 released on /root/.theano/compiledir_Linux-5.4.104+-x86_64-with-Ubuntu-18.04-bionic-x86_64-3.7.11-64/.lock\n",
            "2021-08-02 14:29:17.228\n",
            "Lock 139737121103504 acquired on /root/.theano/compiledir_Linux-5.4.104+-x86_64-with-Ubuntu-18.04-bionic-x86_64-3.7.11-64/.lock\n",
            "2021-08-02 14:29:17.233\n",
            "Lock 139737121103504 released on /root/.theano/compiledir_Linux-5.4.104+-x86_64-with-Ubuntu-18.04-bionic-x86_64-3.7.11-64/.lock\n",
            "2021-08-02 14:29:17.236\n",
            "Lock 139737130296656 acquired on /root/.theano/compiledir_Linux-5.4.104+-x86_64-with-Ubuntu-18.04-bionic-x86_64-3.7.11-64/.lock\n",
            "2021-08-02 14:29:17.242\n",
            "Lock 139737130296656 released on /root/.theano/compiledir_Linux-5.4.104+-x86_64-with-Ubuntu-18.04-bionic-x86_64-3.7.11-64/.lock\n",
            "2021-08-02 14:29:17.246\n",
            "Lock 139737121204688 acquired on /root/.theano/compiledir_Linux-5.4.104+-x86_64-with-Ubuntu-18.04-bionic-x86_64-3.7.11-64/.lock\n",
            "2021-08-02 14:29:17.252\n",
            "Lock 139737121204688 released on /root/.theano/compiledir_Linux-5.4.104+-x86_64-with-Ubuntu-18.04-bionic-x86_64-3.7.11-64/.lock\n",
            "2021-08-02 14:29:17.256\n",
            "Lock 139737130295696 acquired on /root/.theano/compiledir_Linux-5.4.104+-x86_64-with-Ubuntu-18.04-bionic-x86_64-3.7.11-64/.lock\n",
            "2021-08-02 14:29:17.262\n",
            "Lock 139737130295696 released on /root/.theano/compiledir_Linux-5.4.104+-x86_64-with-Ubuntu-18.04-bionic-x86_64-3.7.11-64/.lock\n",
            "2021-08-02 14:29:17.266\n",
            "Lock 139737121123664 acquired on /root/.theano/compiledir_Linux-5.4.104+-x86_64-with-Ubuntu-18.04-bionic-x86_64-3.7.11-64/.lock\n",
            "2021-08-02 14:29:17.271\n",
            "Lock 139737121123664 released on /root/.theano/compiledir_Linux-5.4.104+-x86_64-with-Ubuntu-18.04-bionic-x86_64-3.7.11-64/.lock\n",
            "2021-08-02 14:29:17.275\n",
            "Lock 139737121202384 acquired on /root/.theano/compiledir_Linux-5.4.104+-x86_64-with-Ubuntu-18.04-bionic-x86_64-3.7.11-64/.lock\n",
            "2021-08-02 14:29:17.281\n",
            "Lock 139737121202384 released on /root/.theano/compiledir_Linux-5.4.104+-x86_64-with-Ubuntu-18.04-bionic-x86_64-3.7.11-64/.lock\n",
            "2021-08-02 14:29:17.285\n",
            "Lock 139737121225168 acquired on /root/.theano/compiledir_Linux-5.4.104+-x86_64-with-Ubuntu-18.04-bionic-x86_64-3.7.11-64/.lock\n",
            "2021-08-02 14:29:17.310\n",
            "Lock 139737121225168 released on /root/.theano/compiledir_Linux-5.4.104+-x86_64-with-Ubuntu-18.04-bionic-x86_64-3.7.11-64/.lock\n",
            "2021-08-02 14:29:17.316\n",
            "Lock 139737130430864 acquired on /root/.theano/compiledir_Linux-5.4.104+-x86_64-with-Ubuntu-18.04-bionic-x86_64-3.7.11-64/.lock\n",
            "2021-08-02 14:29:17.323\n",
            "Lock 139737130430864 released on /root/.theano/compiledir_Linux-5.4.104+-x86_64-with-Ubuntu-18.04-bionic-x86_64-3.7.11-64/.lock\n",
            "2021-08-02 14:29:17.326\n",
            "Lock 139737123228112 acquired on /root/.theano/compiledir_Linux-5.4.104+-x86_64-with-Ubuntu-18.04-bionic-x86_64-3.7.11-64/.lock\n",
            "2021-08-02 14:29:17.348\n",
            "Lock 139737123228112 released on /root/.theano/compiledir_Linux-5.4.104+-x86_64-with-Ubuntu-18.04-bionic-x86_64-3.7.11-64/.lock\n",
            "2021-08-02 14:29:17.354\n",
            "Lock 139737121127760 acquired on /root/.theano/compiledir_Linux-5.4.104+-x86_64-with-Ubuntu-18.04-bionic-x86_64-3.7.11-64/.lock\n",
            "2021-08-02 14:29:17.362\n",
            "Lock 139737121127760 released on /root/.theano/compiledir_Linux-5.4.104+-x86_64-with-Ubuntu-18.04-bionic-x86_64-3.7.11-64/.lock\n",
            "2021-08-02 14:29:18.019\n",
            "Lock 139737121405520 acquired on /root/.theano/compiledir_Linux-5.4.104+-x86_64-with-Ubuntu-18.04-bionic-x86_64-3.7.11-64/.lock\n",
            "2021-08-02 14:29:18.026\n",
            "Lock 139737121405520 released on /root/.theano/compiledir_Linux-5.4.104+-x86_64-with-Ubuntu-18.04-bionic-x86_64-3.7.11-64/.lock\n",
            "2021-08-02 14:29:18.657\n",
            "Lock 139737130297296 acquired on /root/.theano/compiledir_Linux-5.4.104+-x86_64-with-Ubuntu-18.04-bionic-x86_64-3.7.11-64/.lock\n",
            "2021-08-02 14:29:18.668\n",
            "Lock 139737130297296 released on /root/.theano/compiledir_Linux-5.4.104+-x86_64-with-Ubuntu-18.04-bionic-x86_64-3.7.11-64/.lock\n",
            "2021-08-02 14:29:18.672\n",
            "Lock 139737262410960 acquired on /root/.theano/compiledir_Linux-5.4.104+-x86_64-with-Ubuntu-18.04-bionic-x86_64-3.7.11-64/.lock\n",
            "2021-08-02 14:29:18.680\n",
            "Lock 139737262410960 released on /root/.theano/compiledir_Linux-5.4.104+-x86_64-with-Ubuntu-18.04-bionic-x86_64-3.7.11-64/.lock\n",
            "2021-08-02 14:29:18.685\n",
            "Lock 139737118844816 acquired on /root/.theano/compiledir_Linux-5.4.104+-x86_64-with-Ubuntu-18.04-bionic-x86_64-3.7.11-64/.lock\n",
            "2021-08-02 14:29:18.696\n",
            "Lock 139737118844816 released on /root/.theano/compiledir_Linux-5.4.104+-x86_64-with-Ubuntu-18.04-bionic-x86_64-3.7.11-64/.lock\n",
            "2021-08-02 14:29:19.374\n",
            "Lock 139737262423760 acquired on /root/.theano/compiledir_Linux-5.4.104+-x86_64-with-Ubuntu-18.04-bionic-x86_64-3.7.11-64/.lock\n",
            "2021-08-02 14:29:19.386\n",
            "Lock 139737262423760 released on /root/.theano/compiledir_Linux-5.4.104+-x86_64-with-Ubuntu-18.04-bionic-x86_64-3.7.11-64/.lock\n",
            "2021-08-02 14:29:20.011\n",
            "Lock 139737122061200 acquired on /root/.theano/compiledir_Linux-5.4.104+-x86_64-with-Ubuntu-18.04-bionic-x86_64-3.7.11-64/.lock\n",
            "2021-08-02 14:29:20.029\n",
            "Lock 139737122061200 released on /root/.theano/compiledir_Linux-5.4.104+-x86_64-with-Ubuntu-18.04-bionic-x86_64-3.7.11-64/.lock\n",
            "2021-08-02 14:29:20.033\n",
            "Lock 139737122061712 acquired on /root/.theano/compiledir_Linux-5.4.104+-x86_64-with-Ubuntu-18.04-bionic-x86_64-3.7.11-64/.lock\n",
            "2021-08-02 14:29:20.041\n",
            "Lock 139737122061712 released on /root/.theano/compiledir_Linux-5.4.104+-x86_64-with-Ubuntu-18.04-bionic-x86_64-3.7.11-64/.lock\n",
            "2021-08-02 14:29:20.687\n",
            "Lock 139737130295952 acquired on /root/.theano/compiledir_Linux-5.4.104+-x86_64-with-Ubuntu-18.04-bionic-x86_64-3.7.11-64/.lock\n",
            "2021-08-02 14:29:20.695\n",
            "Lock 139737130295952 released on /root/.theano/compiledir_Linux-5.4.104+-x86_64-with-Ubuntu-18.04-bionic-x86_64-3.7.11-64/.lock\n",
            "2021-08-02 14:29:20.699\n",
            "Lock 139737118890704 acquired on /root/.theano/compiledir_Linux-5.4.104+-x86_64-with-Ubuntu-18.04-bionic-x86_64-3.7.11-64/.lock\n",
            "2021-08-02 14:29:20.713\n",
            "Lock 139737118890704 released on /root/.theano/compiledir_Linux-5.4.104+-x86_64-with-Ubuntu-18.04-bionic-x86_64-3.7.11-64/.lock\n",
            "2021-08-02 14:29:21.344\n",
            "Lock 139737121224336 acquired on /root/.theano/compiledir_Linux-5.4.104+-x86_64-with-Ubuntu-18.04-bionic-x86_64-3.7.11-64/.lock\n",
            "2021-08-02 14:29:21.359\n",
            "Lock 139737121224336 released on /root/.theano/compiledir_Linux-5.4.104+-x86_64-with-Ubuntu-18.04-bionic-x86_64-3.7.11-64/.lock\n",
            "2021-08-02 14:29:21.364\n",
            "Lock 139737121131664 acquired on /root/.theano/compiledir_Linux-5.4.104+-x86_64-with-Ubuntu-18.04-bionic-x86_64-3.7.11-64/.lock\n",
            "2021-08-02 14:29:21.376\n",
            "Lock 139737121131664 released on /root/.theano/compiledir_Linux-5.4.104+-x86_64-with-Ubuntu-18.04-bionic-x86_64-3.7.11-64/.lock\n",
            "2021-08-02 14:29:22.035\n",
            "Lock 139737105819152 acquired on /root/.theano/compiledir_Linux-5.4.104+-x86_64-with-Ubuntu-18.04-bionic-x86_64-3.7.11-64/.lock\n",
            "2021-08-02 14:29:22.047\n",
            "Lock 139737105819152 released on /root/.theano/compiledir_Linux-5.4.104+-x86_64-with-Ubuntu-18.04-bionic-x86_64-3.7.11-64/.lock\n",
            "2021-08-02 14:29:22.687\n",
            "Lock 139737130722192 acquired on /root/.theano/compiledir_Linux-5.4.104+-x86_64-with-Ubuntu-18.04-bionic-x86_64-3.7.11-64/.lock\n",
            "2021-08-02 14:29:22.698\n",
            "Lock 139737130722192 released on /root/.theano/compiledir_Linux-5.4.104+-x86_64-with-Ubuntu-18.04-bionic-x86_64-3.7.11-64/.lock\n",
            "2021-08-02 14:29:22.704\n",
            "Lock 139737105731472 acquired on /root/.theano/compiledir_Linux-5.4.104+-x86_64-with-Ubuntu-18.04-bionic-x86_64-3.7.11-64/.lock\n",
            "2021-08-02 14:29:22.718\n",
            "Lock 139737105731472 released on /root/.theano/compiledir_Linux-5.4.104+-x86_64-with-Ubuntu-18.04-bionic-x86_64-3.7.11-64/.lock\n",
            "2021-08-02 14:29:23.368\n",
            "Lock 139737118844240 acquired on /root/.theano/compiledir_Linux-5.4.104+-x86_64-with-Ubuntu-18.04-bionic-x86_64-3.7.11-64/.lock\n",
            "2021-08-02 14:29:23.385\n",
            "Lock 139737118844240 released on /root/.theano/compiledir_Linux-5.4.104+-x86_64-with-Ubuntu-18.04-bionic-x86_64-3.7.11-64/.lock\n",
            "2021-08-02 14:29:24.058\n",
            "Lock 139737097064720 acquired on /root/.theano/compiledir_Linux-5.4.104+-x86_64-with-Ubuntu-18.04-bionic-x86_64-3.7.11-64/.lock\n",
            "2021-08-02 14:29:24.087\n",
            "Lock 139737097064720 released on /root/.theano/compiledir_Linux-5.4.104+-x86_64-with-Ubuntu-18.04-bionic-x86_64-3.7.11-64/.lock\n",
            "2021-08-02 14:29:24.773\n",
            "Lock 139737105841552 acquired on /root/.theano/compiledir_Linux-5.4.104+-x86_64-with-Ubuntu-18.04-bionic-x86_64-3.7.11-64/.lock\n",
            "2021-08-02 14:29:24.778\n",
            "Lock 139737105841552 released on /root/.theano/compiledir_Linux-5.4.104+-x86_64-with-Ubuntu-18.04-bionic-x86_64-3.7.11-64/.lock\n",
            "2021-08-02 14:29:25.453\n",
            "Lock 139737105898000 acquired on /root/.theano/compiledir_Linux-5.4.104+-x86_64-with-Ubuntu-18.04-bionic-x86_64-3.7.11-64/.lock\n",
            "2021-08-02 14:29:25.472\n",
            "Lock 139737105898000 released on /root/.theano/compiledir_Linux-5.4.104+-x86_64-with-Ubuntu-18.04-bionic-x86_64-3.7.11-64/.lock\n",
            "2021-08-02 14:29:26.173\n",
            "Lock 139737105978704 acquired on /root/.theano/compiledir_Linux-5.4.104+-x86_64-with-Ubuntu-18.04-bionic-x86_64-3.7.11-64/.lock\n",
            "2021-08-02 14:29:26.182\n",
            "Lock 139737105978704 released on /root/.theano/compiledir_Linux-5.4.104+-x86_64-with-Ubuntu-18.04-bionic-x86_64-3.7.11-64/.lock\n",
            "2021-08-02 14:29:26.184\n",
            "Lock 139737105727760 acquired on /root/.theano/compiledir_Linux-5.4.104+-x86_64-with-Ubuntu-18.04-bionic-x86_64-3.7.11-64/.lock\n",
            "2021-08-02 14:29:26.196\n",
            "Lock 139737105727760 released on /root/.theano/compiledir_Linux-5.4.104+-x86_64-with-Ubuntu-18.04-bionic-x86_64-3.7.11-64/.lock\n",
            "2021-08-02 14:29:26.198\n",
            "Lock 139737105728784 acquired on /root/.theano/compiledir_Linux-5.4.104+-x86_64-with-Ubuntu-18.04-bionic-x86_64-3.7.11-64/.lock\n",
            "2021-08-02 14:29:26.203\n",
            "Lock 139737105728784 released on /root/.theano/compiledir_Linux-5.4.104+-x86_64-with-Ubuntu-18.04-bionic-x86_64-3.7.11-64/.lock\n",
            "2021-08-02 14:29:26.205\n",
            "Lock 139737097191504 acquired on /root/.theano/compiledir_Linux-5.4.104+-x86_64-with-Ubuntu-18.04-bionic-x86_64-3.7.11-64/.lock\n",
            "2021-08-02 14:29:26.267\n",
            "Lock 139737097191504 released on /root/.theano/compiledir_Linux-5.4.104+-x86_64-with-Ubuntu-18.04-bionic-x86_64-3.7.11-64/.lock\n",
            "2021-08-02 14:29:26.923\n",
            "Lock 139737097031184 acquired on /root/.theano/compiledir_Linux-5.4.104+-x86_64-with-Ubuntu-18.04-bionic-x86_64-3.7.11-64/.lock\n",
            "2021-08-02 14:29:26.929\n",
            "Lock 139737097031184 released on /root/.theano/compiledir_Linux-5.4.104+-x86_64-with-Ubuntu-18.04-bionic-x86_64-3.7.11-64/.lock\n",
            "2021-08-02 14:29:27.561\n",
            "Lock 139737097028624 acquired on /root/.theano/compiledir_Linux-5.4.104+-x86_64-with-Ubuntu-18.04-bionic-x86_64-3.7.11-64/.lock\n",
            "2021-08-02 14:29:27.571\n",
            "Lock 139737097028624 released on /root/.theano/compiledir_Linux-5.4.104+-x86_64-with-Ubuntu-18.04-bionic-x86_64-3.7.11-64/.lock\n",
            "2021-08-02 14:29:27.576\n",
            "Lock 139737097028432 acquired on /root/.theano/compiledir_Linux-5.4.104+-x86_64-with-Ubuntu-18.04-bionic-x86_64-3.7.11-64/.lock\n",
            "2021-08-02 14:29:27.582\n",
            "Lock 139737097028432 released on /root/.theano/compiledir_Linux-5.4.104+-x86_64-with-Ubuntu-18.04-bionic-x86_64-3.7.11-64/.lock\n",
            "2021-08-02 14:29:28.250\n",
            "Lock 139737105729040 acquired on /root/.theano/compiledir_Linux-5.4.104+-x86_64-with-Ubuntu-18.04-bionic-x86_64-3.7.11-64/.lock\n",
            "2021-08-02 14:29:28.257\n",
            "Lock 139737105729040 released on /root/.theano/compiledir_Linux-5.4.104+-x86_64-with-Ubuntu-18.04-bionic-x86_64-3.7.11-64/.lock\n",
            "2021-08-02 14:29:28.913\n",
            "Lock 139737088415632 acquired on /root/.theano/compiledir_Linux-5.4.104+-x86_64-with-Ubuntu-18.04-bionic-x86_64-3.7.11-64/.lock\n",
            "2021-08-02 14:29:28.930\n",
            "Lock 139737088415632 released on /root/.theano/compiledir_Linux-5.4.104+-x86_64-with-Ubuntu-18.04-bionic-x86_64-3.7.11-64/.lock\n",
            "2021-08-02 14:29:28.932\n",
            "Lock 139737097262992 acquired on /root/.theano/compiledir_Linux-5.4.104+-x86_64-with-Ubuntu-18.04-bionic-x86_64-3.7.11-64/.lock\n",
            "2021-08-02 14:29:28.943\n",
            "Lock 139737097262992 released on /root/.theano/compiledir_Linux-5.4.104+-x86_64-with-Ubuntu-18.04-bionic-x86_64-3.7.11-64/.lock\n",
            "2021-08-02 14:29:28.947\n",
            "Lock 139737081779728 acquired on /root/.theano/compiledir_Linux-5.4.104+-x86_64-with-Ubuntu-18.04-bionic-x86_64-3.7.11-64/.lock\n",
            "2021-08-02 14:29:29.019\n",
            "Lock 139737081779728 released on /root/.theano/compiledir_Linux-5.4.104+-x86_64-with-Ubuntu-18.04-bionic-x86_64-3.7.11-64/.lock\n",
            "2021-08-02 14:29:29.730\n",
            "Lock 139737118793680 acquired on /root/.theano/compiledir_Linux-5.4.104+-x86_64-with-Ubuntu-18.04-bionic-x86_64-3.7.11-64/.lock\n",
            "2021-08-02 14:29:29.742\n",
            "Lock 139737118793680 released on /root/.theano/compiledir_Linux-5.4.104+-x86_64-with-Ubuntu-18.04-bionic-x86_64-3.7.11-64/.lock\n",
            "2021-08-02 14:29:30.460\n",
            "Lock 139737121327824 acquired on /root/.theano/compiledir_Linux-5.4.104+-x86_64-with-Ubuntu-18.04-bionic-x86_64-3.7.11-64/.lock\n",
            "2021-08-02 14:29:30.491\n",
            "Lock 139737121327824 released on /root/.theano/compiledir_Linux-5.4.104+-x86_64-with-Ubuntu-18.04-bionic-x86_64-3.7.11-64/.lock\n",
            "2021-08-02 14:29:31.197\n",
            "Lock 139737081888464 acquired on /root/.theano/compiledir_Linux-5.4.104+-x86_64-with-Ubuntu-18.04-bionic-x86_64-3.7.11-64/.lock\n",
            "2021-08-02 14:29:31.208\n",
            "Lock 139737081888464 released on /root/.theano/compiledir_Linux-5.4.104+-x86_64-with-Ubuntu-18.04-bionic-x86_64-3.7.11-64/.lock\n",
            "2021-08-02 14:29:31.877\n",
            "Lock 139737081885328 acquired on /root/.theano/compiledir_Linux-5.4.104+-x86_64-with-Ubuntu-18.04-bionic-x86_64-3.7.11-64/.lock\n",
            "2021-08-02 14:29:31.888\n",
            "Lock 139737081885328 released on /root/.theano/compiledir_Linux-5.4.104+-x86_64-with-Ubuntu-18.04-bionic-x86_64-3.7.11-64/.lock\n",
            "2021-08-02 14:29:32.607\n",
            "Lock 139737105897936 acquired on /root/.theano/compiledir_Linux-5.4.104+-x86_64-with-Ubuntu-18.04-bionic-x86_64-3.7.11-64/.lock\n",
            "2021-08-02 14:29:32.652\n",
            "Lock 139737105897936 released on /root/.theano/compiledir_Linux-5.4.104+-x86_64-with-Ubuntu-18.04-bionic-x86_64-3.7.11-64/.lock\n",
            "2021-08-02 14:29:32.656\n",
            "Lock 139737105728464 acquired on /root/.theano/compiledir_Linux-5.4.104+-x86_64-with-Ubuntu-18.04-bionic-x86_64-3.7.11-64/.lock\n",
            "2021-08-02 14:29:32.670\n",
            "Lock 139737105728464 released on /root/.theano/compiledir_Linux-5.4.104+-x86_64-with-Ubuntu-18.04-bionic-x86_64-3.7.11-64/.lock\n",
            "2021-08-02 14:29:33.344\n",
            "Lock 139737088366864 acquired on /root/.theano/compiledir_Linux-5.4.104+-x86_64-with-Ubuntu-18.04-bionic-x86_64-3.7.11-64/.lock\n",
            "2021-08-02 14:29:33.370\n",
            "Lock 139737088366864 released on /root/.theano/compiledir_Linux-5.4.104+-x86_64-with-Ubuntu-18.04-bionic-x86_64-3.7.11-64/.lock\n",
            "2021-08-02 14:29:33.376\n",
            "Lock 139737081720144 acquired on /root/.theano/compiledir_Linux-5.4.104+-x86_64-with-Ubuntu-18.04-bionic-x86_64-3.7.11-64/.lock\n",
            "2021-08-02 14:29:33.384\n",
            "Lock 139737081720144 released on /root/.theano/compiledir_Linux-5.4.104+-x86_64-with-Ubuntu-18.04-bionic-x86_64-3.7.11-64/.lock\n",
            "2021-08-02 14:29:34.067\n",
            "Lock 139737081811088 acquired on /root/.theano/compiledir_Linux-5.4.104+-x86_64-with-Ubuntu-18.04-bionic-x86_64-3.7.11-64/.lock\n",
            "2021-08-02 14:29:34.084\n",
            "Lock 139737081811088 released on /root/.theano/compiledir_Linux-5.4.104+-x86_64-with-Ubuntu-18.04-bionic-x86_64-3.7.11-64/.lock\n",
            "2021-08-02 14:29:34.089\n",
            "Lock 139737105869712 acquired on /root/.theano/compiledir_Linux-5.4.104+-x86_64-with-Ubuntu-18.04-bionic-x86_64-3.7.11-64/.lock\n",
            "2021-08-02 14:29:34.099\n",
            "Lock 139737105869712 released on /root/.theano/compiledir_Linux-5.4.104+-x86_64-with-Ubuntu-18.04-bionic-x86_64-3.7.11-64/.lock\n",
            "2021-08-02 14:29:34.103\n",
            "Lock 139737266150672 acquired on /root/.theano/compiledir_Linux-5.4.104+-x86_64-with-Ubuntu-18.04-bionic-x86_64-3.7.11-64/.lock\n",
            "2021-08-02 14:29:34.114\n",
            "Lock 139737266150672 released on /root/.theano/compiledir_Linux-5.4.104+-x86_64-with-Ubuntu-18.04-bionic-x86_64-3.7.11-64/.lock\n",
            "2021-08-02 14:29:34.119\n",
            "Lock 139737068510864 acquired on /root/.theano/compiledir_Linux-5.4.104+-x86_64-with-Ubuntu-18.04-bionic-x86_64-3.7.11-64/.lock\n",
            "2021-08-02 14:29:34.131\n",
            "Lock 139737068510864 released on /root/.theano/compiledir_Linux-5.4.104+-x86_64-with-Ubuntu-18.04-bionic-x86_64-3.7.11-64/.lock\n",
            "2021-08-02 14:29:34.141\n",
            "Lock 139737105869840 acquired on /root/.theano/compiledir_Linux-5.4.104+-x86_64-with-Ubuntu-18.04-bionic-x86_64-3.7.11-64/.lock\n",
            "2021-08-02 14:29:34.203\n",
            "Lock 139737105869840 released on /root/.theano/compiledir_Linux-5.4.104+-x86_64-with-Ubuntu-18.04-bionic-x86_64-3.7.11-64/.lock\n",
            "2021-08-02 14:29:34.783\n",
            "Lock 139737088509200 acquired on /root/.theano/compiledir_Linux-5.4.104+-x86_64-with-Ubuntu-18.04-bionic-x86_64-3.7.11-64/.lock\n",
            "2021-08-02 14:29:34.798\n",
            "Lock 139737088509200 released on /root/.theano/compiledir_Linux-5.4.104+-x86_64-with-Ubuntu-18.04-bionic-x86_64-3.7.11-64/.lock\n",
            "2021-08-02 14:29:35.373\n",
            "Lock 139737066219088 acquired on /root/.theano/compiledir_Linux-5.4.104+-x86_64-with-Ubuntu-18.04-bionic-x86_64-3.7.11-64/.lock\n",
            "2021-08-02 14:29:35.468\n",
            "Lock 139737066219088 released on /root/.theano/compiledir_Linux-5.4.104+-x86_64-with-Ubuntu-18.04-bionic-x86_64-3.7.11-64/.lock\n",
            "2021-08-02 14:29:35.471\n",
            "Lock 139737061836368 acquired on /root/.theano/compiledir_Linux-5.4.104+-x86_64-with-Ubuntu-18.04-bionic-x86_64-3.7.11-64/.lock\n",
            "2021-08-02 14:29:35.570\n",
            "Lock 139737061836368 released on /root/.theano/compiledir_Linux-5.4.104+-x86_64-with-Ubuntu-18.04-bionic-x86_64-3.7.11-64/.lock\n",
            "2021-08-02 14:29:35.573\n",
            "Lock 139737060845264 acquired on /root/.theano/compiledir_Linux-5.4.104+-x86_64-with-Ubuntu-18.04-bionic-x86_64-3.7.11-64/.lock\n",
            "2021-08-02 14:29:35.663\n",
            "Lock 139737060845264 released on /root/.theano/compiledir_Linux-5.4.104+-x86_64-with-Ubuntu-18.04-bionic-x86_64-3.7.11-64/.lock\n",
            "2021-08-02 14:29:35.667\n",
            "Lock 139737060757904 acquired on /root/.theano/compiledir_Linux-5.4.104+-x86_64-with-Ubuntu-18.04-bionic-x86_64-3.7.11-64/.lock\n",
            "2021-08-02 14:29:35.768\n",
            "Lock 139737060757904 released on /root/.theano/compiledir_Linux-5.4.104+-x86_64-with-Ubuntu-18.04-bionic-x86_64-3.7.11-64/.lock\n",
            "2021-08-02 14:29:35.775\n",
            "Lock 139737060465296 acquired on /root/.theano/compiledir_Linux-5.4.104+-x86_64-with-Ubuntu-18.04-bionic-x86_64-3.7.11-64/.lock\n",
            "2021-08-02 14:29:35.864\n",
            "Lock 139737060465296 released on /root/.theano/compiledir_Linux-5.4.104+-x86_64-with-Ubuntu-18.04-bionic-x86_64-3.7.11-64/.lock\n",
            "2021-08-02 14:29:35.867\n",
            "Lock 139737059965200 acquired on /root/.theano/compiledir_Linux-5.4.104+-x86_64-with-Ubuntu-18.04-bionic-x86_64-3.7.11-64/.lock\n",
            "2021-08-02 14:29:35.964\n",
            "Lock 139737059965200 released on /root/.theano/compiledir_Linux-5.4.104+-x86_64-with-Ubuntu-18.04-bionic-x86_64-3.7.11-64/.lock\n",
            "2021-08-02 14:29:35.973\n",
            "Lock 139737130219280 acquired on /root/.theano/compiledir_Linux-5.4.104+-x86_64-with-Ubuntu-18.04-bionic-x86_64-3.7.11-64/.lock\n",
            "2021-08-02 14:29:36.302\n",
            "Lock 139737130219280 released on /root/.theano/compiledir_Linux-5.4.104+-x86_64-with-Ubuntu-18.04-bionic-x86_64-3.7.11-64/.lock\n",
            "2021-08-02 14:29:36.306\n",
            "Lock 139737131398288 acquired on /root/.theano/compiledir_Linux-5.4.104+-x86_64-with-Ubuntu-18.04-bionic-x86_64-3.7.11-64/.lock\n",
            "2021-08-02 14:29:36.400\n",
            "Lock 139737131398288 released on /root/.theano/compiledir_Linux-5.4.104+-x86_64-with-Ubuntu-18.04-bionic-x86_64-3.7.11-64/.lock\n",
            "2021-08-02 14:29:36.404\n",
            "Lock 139737266307280 acquired on /root/.theano/compiledir_Linux-5.4.104+-x86_64-with-Ubuntu-18.04-bionic-x86_64-3.7.11-64/.lock\n",
            "2021-08-02 14:29:36.500\n",
            "Lock 139737266307280 released on /root/.theano/compiledir_Linux-5.4.104+-x86_64-with-Ubuntu-18.04-bionic-x86_64-3.7.11-64/.lock\n",
            "2021-08-02 14:29:36.504\n",
            "Lock 139737347189520 acquired on /root/.theano/compiledir_Linux-5.4.104+-x86_64-with-Ubuntu-18.04-bionic-x86_64-3.7.11-64/.lock\n",
            "2021-08-02 14:29:36.596\n",
            "Lock 139737347189520 released on /root/.theano/compiledir_Linux-5.4.104+-x86_64-with-Ubuntu-18.04-bionic-x86_64-3.7.11-64/.lock\n",
            "2021-08-02 14:29:36.600\n",
            "Lock 139737277250896 acquired on /root/.theano/compiledir_Linux-5.4.104+-x86_64-with-Ubuntu-18.04-bionic-x86_64-3.7.11-64/.lock\n",
            "2021-08-02 14:29:36.697\n",
            "Lock 139737277250896 released on /root/.theano/compiledir_Linux-5.4.104+-x86_64-with-Ubuntu-18.04-bionic-x86_64-3.7.11-64/.lock\n",
            "2021-08-02 14:29:36.703\n",
            "Lock 139737261423888 acquired on /root/.theano/compiledir_Linux-5.4.104+-x86_64-with-Ubuntu-18.04-bionic-x86_64-3.7.11-64/.lock\n",
            "2021-08-02 14:29:36.794\n",
            "Lock 139737261423888 released on /root/.theano/compiledir_Linux-5.4.104+-x86_64-with-Ubuntu-18.04-bionic-x86_64-3.7.11-64/.lock\n",
            "2021-08-02 14:29:36.799\n",
            "Lock 139737346992720 acquired on /root/.theano/compiledir_Linux-5.4.104+-x86_64-with-Ubuntu-18.04-bionic-x86_64-3.7.11-64/.lock\n",
            "2021-08-02 14:29:36.897\n",
            "Lock 139737346992720 released on /root/.theano/compiledir_Linux-5.4.104+-x86_64-with-Ubuntu-18.04-bionic-x86_64-3.7.11-64/.lock\n",
            "2021-08-02 14:29:36.902\n",
            "Lock 139737346119120 acquired on /root/.theano/compiledir_Linux-5.4.104+-x86_64-with-Ubuntu-18.04-bionic-x86_64-3.7.11-64/.lock\n",
            "2021-08-02 14:29:36.918\n",
            "Lock 139737346119120 released on /root/.theano/compiledir_Linux-5.4.104+-x86_64-with-Ubuntu-18.04-bionic-x86_64-3.7.11-64/.lock\n",
            "2021-08-02 14:29:36.923\n",
            "Lock 139737122991440 acquired on /root/.theano/compiledir_Linux-5.4.104+-x86_64-with-Ubuntu-18.04-bionic-x86_64-3.7.11-64/.lock\n",
            "2021-08-02 14:29:37.799\n",
            "Lock 139737122991440 released on /root/.theano/compiledir_Linux-5.4.104+-x86_64-with-Ubuntu-18.04-bionic-x86_64-3.7.11-64/.lock\n",
            "2021-08-02 14:29:38.420\n",
            "Lock 139737056405136 acquired on /root/.theano/compiledir_Linux-5.4.104+-x86_64-with-Ubuntu-18.04-bionic-x86_64-3.7.11-64/.lock\n",
            "2021-08-02 14:29:38.931\n",
            "Lock 139737056405136 released on /root/.theano/compiledir_Linux-5.4.104+-x86_64-with-Ubuntu-18.04-bionic-x86_64-3.7.11-64/.lock\n",
            "2021-08-02 14:29:39.525\n",
            "Lock 139737059275664 acquired on /root/.theano/compiledir_Linux-5.4.104+-x86_64-with-Ubuntu-18.04-bionic-x86_64-3.7.11-64/.lock\n",
            "2021-08-02 14:29:39.536\n",
            "Lock 139737059275664 released on /root/.theano/compiledir_Linux-5.4.104+-x86_64-with-Ubuntu-18.04-bionic-x86_64-3.7.11-64/.lock\n",
            "2021-08-02 14:29:39.543\n",
            "Lock 139737056402704 acquired on /root/.theano/compiledir_Linux-5.4.104+-x86_64-with-Ubuntu-18.04-bionic-x86_64-3.7.11-64/.lock\n",
            "2021-08-02 14:29:39.552\n",
            "Lock 139737056402704 released on /root/.theano/compiledir_Linux-5.4.104+-x86_64-with-Ubuntu-18.04-bionic-x86_64-3.7.11-64/.lock\n",
            "2021-08-02 14:29:39.557\n",
            "Lock 139737059277968 acquired on /root/.theano/compiledir_Linux-5.4.104+-x86_64-with-Ubuntu-18.04-bionic-x86_64-3.7.11-64/.lock\n",
            "2021-08-02 14:29:39.563\n",
            "Lock 139737059277968 released on /root/.theano/compiledir_Linux-5.4.104+-x86_64-with-Ubuntu-18.04-bionic-x86_64-3.7.11-64/.lock\n",
            "2021-08-02 14:29:39.568\n",
            "Lock 139737056439120 acquired on /root/.theano/compiledir_Linux-5.4.104+-x86_64-with-Ubuntu-18.04-bionic-x86_64-3.7.11-64/.lock\n",
            "2021-08-02 14:29:39.575\n",
            "Lock 139737056439120 released on /root/.theano/compiledir_Linux-5.4.104+-x86_64-with-Ubuntu-18.04-bionic-x86_64-3.7.11-64/.lock\n",
            "2021-08-02 14:29:39.580\n",
            "Lock 139737059392400 acquired on /root/.theano/compiledir_Linux-5.4.104+-x86_64-with-Ubuntu-18.04-bionic-x86_64-3.7.11-64/.lock\n",
            "2021-08-02 14:29:39.587\n",
            "Lock 139737059392400 released on /root/.theano/compiledir_Linux-5.4.104+-x86_64-with-Ubuntu-18.04-bionic-x86_64-3.7.11-64/.lock\n",
            "2021-08-02 14:29:39.592\n",
            "Lock 139737056863184 acquired on /root/.theano/compiledir_Linux-5.4.104+-x86_64-with-Ubuntu-18.04-bionic-x86_64-3.7.11-64/.lock\n",
            "2021-08-02 14:29:39.599\n",
            "Lock 139737056863184 released on /root/.theano/compiledir_Linux-5.4.104+-x86_64-with-Ubuntu-18.04-bionic-x86_64-3.7.11-64/.lock\n",
            "2021-08-02 14:29:39.603\n",
            "Lock 139737056849488 acquired on /root/.theano/compiledir_Linux-5.4.104+-x86_64-with-Ubuntu-18.04-bionic-x86_64-3.7.11-64/.lock\n",
            "2021-08-02 14:29:39.610\n",
            "Lock 139737056849488 released on /root/.theano/compiledir_Linux-5.4.104+-x86_64-with-Ubuntu-18.04-bionic-x86_64-3.7.11-64/.lock\n",
            "2021-08-02 14:29:39.615\n",
            "Lock 139737059391376 acquired on /root/.theano/compiledir_Linux-5.4.104+-x86_64-with-Ubuntu-18.04-bionic-x86_64-3.7.11-64/.lock\n",
            "2021-08-02 14:29:39.621\n",
            "Lock 139737059391376 released on /root/.theano/compiledir_Linux-5.4.104+-x86_64-with-Ubuntu-18.04-bionic-x86_64-3.7.11-64/.lock\n",
            "2021-08-02 14:29:39.627\n",
            "Lock 139737056838992 acquired on /root/.theano/compiledir_Linux-5.4.104+-x86_64-with-Ubuntu-18.04-bionic-x86_64-3.7.11-64/.lock\n",
            "2021-08-02 14:29:39.634\n",
            "Lock 139737056838992 released on /root/.theano/compiledir_Linux-5.4.104+-x86_64-with-Ubuntu-18.04-bionic-x86_64-3.7.11-64/.lock\n",
            "2021-08-02 14:29:39.640\n",
            "Lock 139737056867792 acquired on /root/.theano/compiledir_Linux-5.4.104+-x86_64-with-Ubuntu-18.04-bionic-x86_64-3.7.11-64/.lock\n",
            "2021-08-02 14:29:39.648\n",
            "Lock 139737056867792 released on /root/.theano/compiledir_Linux-5.4.104+-x86_64-with-Ubuntu-18.04-bionic-x86_64-3.7.11-64/.lock\n",
            "2021-08-02 14:29:39.654\n",
            "Lock 139737056437776 acquired on /root/.theano/compiledir_Linux-5.4.104+-x86_64-with-Ubuntu-18.04-bionic-x86_64-3.7.11-64/.lock\n",
            "2021-08-02 14:29:39.662\n",
            "Lock 139737056437776 released on /root/.theano/compiledir_Linux-5.4.104+-x86_64-with-Ubuntu-18.04-bionic-x86_64-3.7.11-64/.lock\n",
            "2021-08-02 14:29:39.677\n",
            "Lock 139737059455888 acquired on /root/.theano/compiledir_Linux-5.4.104+-x86_64-with-Ubuntu-18.04-bionic-x86_64-3.7.11-64/.lock\n",
            "2021-08-02 14:29:39.691\n",
            "Lock 139737059455888 released on /root/.theano/compiledir_Linux-5.4.104+-x86_64-with-Ubuntu-18.04-bionic-x86_64-3.7.11-64/.lock\n",
            "2021-08-02 14:29:39.697\n",
            "Lock 139737056438864 acquired on /root/.theano/compiledir_Linux-5.4.104+-x86_64-with-Ubuntu-18.04-bionic-x86_64-3.7.11-64/.lock\n",
            "2021-08-02 14:29:39.704\n",
            "Lock 139737056438864 released on /root/.theano/compiledir_Linux-5.4.104+-x86_64-with-Ubuntu-18.04-bionic-x86_64-3.7.11-64/.lock\n",
            "2021-08-02 14:29:39.710\n",
            "Lock 139737168313936 acquired on /root/.theano/compiledir_Linux-5.4.104+-x86_64-with-Ubuntu-18.04-bionic-x86_64-3.7.11-64/.lock\n",
            "2021-08-02 14:29:39.715\n",
            "Lock 139737168313936 released on /root/.theano/compiledir_Linux-5.4.104+-x86_64-with-Ubuntu-18.04-bionic-x86_64-3.7.11-64/.lock\n",
            "2021-08-02 14:29:39.725\n",
            "Lock 139737056827408 acquired on /root/.theano/compiledir_Linux-5.4.104+-x86_64-with-Ubuntu-18.04-bionic-x86_64-3.7.11-64/.lock\n",
            "2021-08-02 14:29:39.735\n",
            "Lock 139737056827408 released on /root/.theano/compiledir_Linux-5.4.104+-x86_64-with-Ubuntu-18.04-bionic-x86_64-3.7.11-64/.lock\n",
            "2021-08-02 14:29:39.741\n",
            "Lock 139737131400528 acquired on /root/.theano/compiledir_Linux-5.4.104+-x86_64-with-Ubuntu-18.04-bionic-x86_64-3.7.11-64/.lock\n",
            "2021-08-02 14:29:41.081\n",
            "Lock 139737131400528 released on /root/.theano/compiledir_Linux-5.4.104+-x86_64-with-Ubuntu-18.04-bionic-x86_64-3.7.11-64/.lock\n",
            "2021-08-02 14:29:41.087\n",
            "Lock 139737131178832 acquired on /root/.theano/compiledir_Linux-5.4.104+-x86_64-with-Ubuntu-18.04-bionic-x86_64-3.7.11-64/.lock\n",
            "2021-08-02 14:29:41.102\n",
            "Lock 139737131178832 released on /root/.theano/compiledir_Linux-5.4.104+-x86_64-with-Ubuntu-18.04-bionic-x86_64-3.7.11-64/.lock\n",
            "2021-08-02 14:29:41.104\n",
            "Lock 139737060256912 acquired on /root/.theano/compiledir_Linux-5.4.104+-x86_64-with-Ubuntu-18.04-bionic-x86_64-3.7.11-64/.lock\n",
            "2021-08-02 14:29:41.109\n",
            "Lock 139737060256912 released on /root/.theano/compiledir_Linux-5.4.104+-x86_64-with-Ubuntu-18.04-bionic-x86_64-3.7.11-64/.lock\n",
            "2021-08-02 14:29:41.112\n",
            "Lock 139737061717392 acquired on /root/.theano/compiledir_Linux-5.4.104+-x86_64-with-Ubuntu-18.04-bionic-x86_64-3.7.11-64/.lock\n",
            "2021-08-02 14:29:41.119\n",
            "Lock 139737061717392 released on /root/.theano/compiledir_Linux-5.4.104+-x86_64-with-Ubuntu-18.04-bionic-x86_64-3.7.11-64/.lock\n",
            "2021-08-02 14:29:41.825\n",
            "Lock 139737061308048 acquired on /root/.theano/compiledir_Linux-5.4.104+-x86_64-with-Ubuntu-18.04-bionic-x86_64-3.7.11-64/.lock\n",
            "2021-08-02 14:29:41.835\n",
            "Lock 139737061308048 released on /root/.theano/compiledir_Linux-5.4.104+-x86_64-with-Ubuntu-18.04-bionic-x86_64-3.7.11-64/.lock\n",
            "2021-08-02 14:29:41.846\n",
            "Lock 139737050689488 acquired on /root/.theano/compiledir_Linux-5.4.104+-x86_64-with-Ubuntu-18.04-bionic-x86_64-3.7.11-64/.lock\n",
            "2021-08-02 14:29:41.856\n",
            "Lock 139737050689488 released on /root/.theano/compiledir_Linux-5.4.104+-x86_64-with-Ubuntu-18.04-bionic-x86_64-3.7.11-64/.lock\n",
            "2021-08-02 14:29:41.869\n",
            "Lock 139737052652944 acquired on /root/.theano/compiledir_Linux-5.4.104+-x86_64-with-Ubuntu-18.04-bionic-x86_64-3.7.11-64/.lock\n",
            "2021-08-02 14:29:41.876\n",
            "Lock 139737052652944 released on /root/.theano/compiledir_Linux-5.4.104+-x86_64-with-Ubuntu-18.04-bionic-x86_64-3.7.11-64/.lock\n",
            "2021-08-02 14:29:41.894\n",
            "Lock 139737050725712 acquired on /root/.theano/compiledir_Linux-5.4.104+-x86_64-with-Ubuntu-18.04-bionic-x86_64-3.7.11-64/.lock\n",
            "2021-08-02 14:29:41.903\n",
            "Lock 139737050725712 released on /root/.theano/compiledir_Linux-5.4.104+-x86_64-with-Ubuntu-18.04-bionic-x86_64-3.7.11-64/.lock\n",
            "2021-08-02 14:29:41.922\n",
            "Lock 139737050911312 acquired on /root/.theano/compiledir_Linux-5.4.104+-x86_64-with-Ubuntu-18.04-bionic-x86_64-3.7.11-64/.lock\n",
            "2021-08-02 14:29:41.930\n",
            "Lock 139737050911312 released on /root/.theano/compiledir_Linux-5.4.104+-x86_64-with-Ubuntu-18.04-bionic-x86_64-3.7.11-64/.lock\n",
            "2021-08-02 14:29:41.953\n",
            "Lock 139737050679312 acquired on /root/.theano/compiledir_Linux-5.4.104+-x86_64-with-Ubuntu-18.04-bionic-x86_64-3.7.11-64/.lock\n",
            "2021-08-02 14:29:41.962\n",
            "Lock 139737050679312 released on /root/.theano/compiledir_Linux-5.4.104+-x86_64-with-Ubuntu-18.04-bionic-x86_64-3.7.11-64/.lock\n",
            "2021-08-02 14:29:41.988\n",
            "Lock 139737097193872 acquired on /root/.theano/compiledir_Linux-5.4.104+-x86_64-with-Ubuntu-18.04-bionic-x86_64-3.7.11-64/.lock\n",
            "2021-08-02 14:29:41.996\n",
            "Lock 139737097193872 released on /root/.theano/compiledir_Linux-5.4.104+-x86_64-with-Ubuntu-18.04-bionic-x86_64-3.7.11-64/.lock\n",
            "2021-08-02 14:29:42.027\n",
            "Lock 139737121327888 acquired on /root/.theano/compiledir_Linux-5.4.104+-x86_64-with-Ubuntu-18.04-bionic-x86_64-3.7.11-64/.lock\n",
            "2021-08-02 14:29:42.035\n",
            "Lock 139737121327888 released on /root/.theano/compiledir_Linux-5.4.104+-x86_64-with-Ubuntu-18.04-bionic-x86_64-3.7.11-64/.lock\n",
            "2021-08-02 14:29:42.067\n",
            "Lock 139737046344272 acquired on /root/.theano/compiledir_Linux-5.4.104+-x86_64-with-Ubuntu-18.04-bionic-x86_64-3.7.11-64/.lock\n",
            "2021-08-02 14:29:42.074\n",
            "Lock 139737046344272 released on /root/.theano/compiledir_Linux-5.4.104+-x86_64-with-Ubuntu-18.04-bionic-x86_64-3.7.11-64/.lock\n",
            "2021-08-02 14:29:42.107\n",
            "Lock 139737045074704 acquired on /root/.theano/compiledir_Linux-5.4.104+-x86_64-with-Ubuntu-18.04-bionic-x86_64-3.7.11-64/.lock\n",
            "2021-08-02 14:29:42.115\n",
            "Lock 139737045074704 released on /root/.theano/compiledir_Linux-5.4.104+-x86_64-with-Ubuntu-18.04-bionic-x86_64-3.7.11-64/.lock\n",
            "2021-08-02 14:29:42.156\n",
            "Lock 139737044547280 acquired on /root/.theano/compiledir_Linux-5.4.104+-x86_64-with-Ubuntu-18.04-bionic-x86_64-3.7.11-64/.lock\n",
            "2021-08-02 14:29:42.167\n",
            "Lock 139737044547280 released on /root/.theano/compiledir_Linux-5.4.104+-x86_64-with-Ubuntu-18.04-bionic-x86_64-3.7.11-64/.lock\n",
            "2021-08-02 14:29:42.201\n",
            "Lock 139737043995920 acquired on /root/.theano/compiledir_Linux-5.4.104+-x86_64-with-Ubuntu-18.04-bionic-x86_64-3.7.11-64/.lock\n",
            "2021-08-02 14:29:42.208\n",
            "Lock 139737043995920 released on /root/.theano/compiledir_Linux-5.4.104+-x86_64-with-Ubuntu-18.04-bionic-x86_64-3.7.11-64/.lock\n",
            "2021-08-02 14:29:42.258\n",
            "Lock 139737043165712 acquired on /root/.theano/compiledir_Linux-5.4.104+-x86_64-with-Ubuntu-18.04-bionic-x86_64-3.7.11-64/.lock\n",
            "2021-08-02 14:29:42.264\n",
            "Lock 139737043165712 released on /root/.theano/compiledir_Linux-5.4.104+-x86_64-with-Ubuntu-18.04-bionic-x86_64-3.7.11-64/.lock\n",
            "2021-08-02 14:29:42.909\n",
            "Lock 139737041405392 acquired on /root/.theano/compiledir_Linux-5.4.104+-x86_64-with-Ubuntu-18.04-bionic-x86_64-3.7.11-64/.lock\n",
            "2021-08-02 14:29:42.931\n",
            "Lock 139737041405392 released on /root/.theano/compiledir_Linux-5.4.104+-x86_64-with-Ubuntu-18.04-bionic-x86_64-3.7.11-64/.lock\n",
            "2021-08-02 14:29:43.579\n",
            "Lock 139737043194064 acquired on /root/.theano/compiledir_Linux-5.4.104+-x86_64-with-Ubuntu-18.04-bionic-x86_64-3.7.11-64/.lock\n",
            "2021-08-02 14:29:43.589\n",
            "Lock 139737043194064 released on /root/.theano/compiledir_Linux-5.4.104+-x86_64-with-Ubuntu-18.04-bionic-x86_64-3.7.11-64/.lock\n",
            "2021-08-02 14:29:44.288\n",
            "Lock 139737044068816 acquired on /root/.theano/compiledir_Linux-5.4.104+-x86_64-with-Ubuntu-18.04-bionic-x86_64-3.7.11-64/.lock\n",
            "2021-08-02 14:29:44.297\n",
            "Lock 139737044068816 released on /root/.theano/compiledir_Linux-5.4.104+-x86_64-with-Ubuntu-18.04-bionic-x86_64-3.7.11-64/.lock\n",
            "2021-08-02 14:29:44.857\n",
            "Lock 139737042130000 acquired on /root/.theano/compiledir_Linux-5.4.104+-x86_64-with-Ubuntu-18.04-bionic-x86_64-3.7.11-64/.lock\n",
            "2021-08-02 14:29:44.868\n",
            "Lock 139737042130000 released on /root/.theano/compiledir_Linux-5.4.104+-x86_64-with-Ubuntu-18.04-bionic-x86_64-3.7.11-64/.lock\n",
            "2021-08-02 14:29:45.515\n",
            "Lock 139737042649936 acquired on /root/.theano/compiledir_Linux-5.4.104+-x86_64-with-Ubuntu-18.04-bionic-x86_64-3.7.11-64/.lock\n",
            "2021-08-02 14:29:45.536\n",
            "Lock 139737042649936 released on /root/.theano/compiledir_Linux-5.4.104+-x86_64-with-Ubuntu-18.04-bionic-x86_64-3.7.11-64/.lock\n",
            "2021-08-02 14:29:45.553\n",
            "Lock 139737042994512 acquired on /root/.theano/compiledir_Linux-5.4.104+-x86_64-with-Ubuntu-18.04-bionic-x86_64-3.7.11-64/.lock\n",
            "2021-08-02 14:29:45.564\n",
            "Lock 139737042994512 released on /root/.theano/compiledir_Linux-5.4.104+-x86_64-with-Ubuntu-18.04-bionic-x86_64-3.7.11-64/.lock\n",
            "2021-08-02 14:29:46.295\n",
            "Lock 139737042032144 acquired on /root/.theano/compiledir_Linux-5.4.104+-x86_64-with-Ubuntu-18.04-bionic-x86_64-3.7.11-64/.lock\n",
            "2021-08-02 14:29:46.303\n",
            "Lock 139737042032144 released on /root/.theano/compiledir_Linux-5.4.104+-x86_64-with-Ubuntu-18.04-bionic-x86_64-3.7.11-64/.lock\n",
            "2021-08-02 14:29:47.036\n",
            "Lock 139737042202576 acquired on /root/.theano/compiledir_Linux-5.4.104+-x86_64-with-Ubuntu-18.04-bionic-x86_64-3.7.11-64/.lock\n",
            "2021-08-02 14:29:47.063\n",
            "Lock 139737042202576 released on /root/.theano/compiledir_Linux-5.4.104+-x86_64-with-Ubuntu-18.04-bionic-x86_64-3.7.11-64/.lock\n",
            "2021-08-02 14:29:47.961\n",
            "Lock 139737041823376 acquired on /root/.theano/compiledir_Linux-5.4.104+-x86_64-with-Ubuntu-18.04-bionic-x86_64-3.7.11-64/.lock\n",
            "2021-08-02 14:29:48.015\n",
            "Lock 139737041823376 released on /root/.theano/compiledir_Linux-5.4.104+-x86_64-with-Ubuntu-18.04-bionic-x86_64-3.7.11-64/.lock\n",
            "2021-08-02 14:29:48.996\n",
            "Lock 139737041762320 acquired on /root/.theano/compiledir_Linux-5.4.104+-x86_64-with-Ubuntu-18.04-bionic-x86_64-3.7.11-64/.lock\n",
            "2021-08-02 14:29:49.016\n",
            "Lock 139737041762320 released on /root/.theano/compiledir_Linux-5.4.104+-x86_64-with-Ubuntu-18.04-bionic-x86_64-3.7.11-64/.lock\n",
            "2021-08-02 14:29:49.720\n",
            "Lock 139737042076944 acquired on /root/.theano/compiledir_Linux-5.4.104+-x86_64-with-Ubuntu-18.04-bionic-x86_64-3.7.11-64/.lock\n",
            "2021-08-02 14:29:49.744\n",
            "Lock 139737042076944 released on /root/.theano/compiledir_Linux-5.4.104+-x86_64-with-Ubuntu-18.04-bionic-x86_64-3.7.11-64/.lock\n",
            "2021-08-02 14:29:50.421\n",
            "Lock 139737017969872 acquired on /root/.theano/compiledir_Linux-5.4.104+-x86_64-with-Ubuntu-18.04-bionic-x86_64-3.7.11-64/.lock\n",
            "2021-08-02 14:29:50.453\n",
            "Lock 139737017969872 released on /root/.theano/compiledir_Linux-5.4.104+-x86_64-with-Ubuntu-18.04-bionic-x86_64-3.7.11-64/.lock\n",
            "2021-08-02 14:29:50.455\n",
            "Lock 139737041597328 acquired on /root/.theano/compiledir_Linux-5.4.104+-x86_64-with-Ubuntu-18.04-bionic-x86_64-3.7.11-64/.lock\n",
            "2021-08-02 14:29:50.462\n",
            "Lock 139737041597328 released on /root/.theano/compiledir_Linux-5.4.104+-x86_64-with-Ubuntu-18.04-bionic-x86_64-3.7.11-64/.lock\n",
            "2021-08-02 14:29:51.054\n",
            "Lock 139737041525264 acquired on /root/.theano/compiledir_Linux-5.4.104+-x86_64-with-Ubuntu-18.04-bionic-x86_64-3.7.11-64/.lock\n",
            "2021-08-02 14:29:51.062\n",
            "Lock 139737041525264 released on /root/.theano/compiledir_Linux-5.4.104+-x86_64-with-Ubuntu-18.04-bionic-x86_64-3.7.11-64/.lock\n",
            "2021-08-02 14:29:51.066\n",
            "Lock 139737018010192 acquired on /root/.theano/compiledir_Linux-5.4.104+-x86_64-with-Ubuntu-18.04-bionic-x86_64-3.7.11-64/.lock\n",
            "2021-08-02 14:29:51.073\n",
            "Lock 139737018010192 released on /root/.theano/compiledir_Linux-5.4.104+-x86_64-with-Ubuntu-18.04-bionic-x86_64-3.7.11-64/.lock\n",
            "2021-08-02 14:29:51.077\n",
            "Lock 139737041523344 acquired on /root/.theano/compiledir_Linux-5.4.104+-x86_64-with-Ubuntu-18.04-bionic-x86_64-3.7.11-64/.lock\n",
            "2021-08-02 14:29:51.084\n",
            "Lock 139737041523344 released on /root/.theano/compiledir_Linux-5.4.104+-x86_64-with-Ubuntu-18.04-bionic-x86_64-3.7.11-64/.lock\n",
            "2021-08-02 14:29:51.089\n",
            "Lock 139737041524816 acquired on /root/.theano/compiledir_Linux-5.4.104+-x86_64-with-Ubuntu-18.04-bionic-x86_64-3.7.11-64/.lock\n",
            "2021-08-02 14:29:51.096\n",
            "Lock 139737041524816 released on /root/.theano/compiledir_Linux-5.4.104+-x86_64-with-Ubuntu-18.04-bionic-x86_64-3.7.11-64/.lock\n",
            "2021-08-02 14:29:51.100\n",
            "Lock 139737018009936 acquired on /root/.theano/compiledir_Linux-5.4.104+-x86_64-with-Ubuntu-18.04-bionic-x86_64-3.7.11-64/.lock\n",
            "2021-08-02 14:29:51.106\n",
            "Lock 139737018009936 released on /root/.theano/compiledir_Linux-5.4.104+-x86_64-with-Ubuntu-18.04-bionic-x86_64-3.7.11-64/.lock\n",
            "2021-08-02 14:29:51.111\n",
            "Lock 139737018007632 acquired on /root/.theano/compiledir_Linux-5.4.104+-x86_64-with-Ubuntu-18.04-bionic-x86_64-3.7.11-64/.lock\n",
            "2021-08-02 14:29:51.117\n",
            "Lock 139737018007632 released on /root/.theano/compiledir_Linux-5.4.104+-x86_64-with-Ubuntu-18.04-bionic-x86_64-3.7.11-64/.lock\n",
            "2021-08-02 14:29:51.121\n",
            "Lock 139737041789392 acquired on /root/.theano/compiledir_Linux-5.4.104+-x86_64-with-Ubuntu-18.04-bionic-x86_64-3.7.11-64/.lock\n",
            "2021-08-02 14:29:51.127\n",
            "Lock 139737041789392 released on /root/.theano/compiledir_Linux-5.4.104+-x86_64-with-Ubuntu-18.04-bionic-x86_64-3.7.11-64/.lock\n",
            "2021-08-02 14:29:51.131\n",
            "Lock 139737018036688 acquired on /root/.theano/compiledir_Linux-5.4.104+-x86_64-with-Ubuntu-18.04-bionic-x86_64-3.7.11-64/.lock\n",
            "2021-08-02 14:29:51.141\n",
            "Lock 139737018036688 released on /root/.theano/compiledir_Linux-5.4.104+-x86_64-with-Ubuntu-18.04-bionic-x86_64-3.7.11-64/.lock\n",
            "2021-08-02 14:29:51.146\n",
            "Lock 139737018007888 acquired on /root/.theano/compiledir_Linux-5.4.104+-x86_64-with-Ubuntu-18.04-bionic-x86_64-3.7.11-64/.lock\n",
            "2021-08-02 14:29:51.152\n",
            "Lock 139737018007888 released on /root/.theano/compiledir_Linux-5.4.104+-x86_64-with-Ubuntu-18.04-bionic-x86_64-3.7.11-64/.lock\n",
            "2021-08-02 14:29:51.157\n",
            "Lock 139737018010576 acquired on /root/.theano/compiledir_Linux-5.4.104+-x86_64-with-Ubuntu-18.04-bionic-x86_64-3.7.11-64/.lock\n",
            "2021-08-02 14:29:51.163\n",
            "Lock 139737018010576 released on /root/.theano/compiledir_Linux-5.4.104+-x86_64-with-Ubuntu-18.04-bionic-x86_64-3.7.11-64/.lock\n",
            "2021-08-02 14:29:51.168\n",
            "Lock 139737015490384 acquired on /root/.theano/compiledir_Linux-5.4.104+-x86_64-with-Ubuntu-18.04-bionic-x86_64-3.7.11-64/.lock\n",
            "2021-08-02 14:29:51.174\n",
            "Lock 139737015490384 released on /root/.theano/compiledir_Linux-5.4.104+-x86_64-with-Ubuntu-18.04-bionic-x86_64-3.7.11-64/.lock\n",
            "2021-08-02 14:29:51.180\n",
            "Lock 139737018037008 acquired on /root/.theano/compiledir_Linux-5.4.104+-x86_64-with-Ubuntu-18.04-bionic-x86_64-3.7.11-64/.lock\n",
            "2021-08-02 14:29:51.186\n",
            "Lock 139737018037008 released on /root/.theano/compiledir_Linux-5.4.104+-x86_64-with-Ubuntu-18.04-bionic-x86_64-3.7.11-64/.lock\n",
            "2021-08-02 14:29:51.192\n",
            "Lock 139737015567312 acquired on /root/.theano/compiledir_Linux-5.4.104+-x86_64-with-Ubuntu-18.04-bionic-x86_64-3.7.11-64/.lock\n",
            "2021-08-02 14:29:51.200\n",
            "Lock 139737015567312 released on /root/.theano/compiledir_Linux-5.4.104+-x86_64-with-Ubuntu-18.04-bionic-x86_64-3.7.11-64/.lock\n",
            "2021-08-02 14:29:51.205\n",
            "Lock 139737018037264 acquired on /root/.theano/compiledir_Linux-5.4.104+-x86_64-with-Ubuntu-18.04-bionic-x86_64-3.7.11-64/.lock\n",
            "2021-08-02 14:29:51.212\n",
            "Lock 139737018037264 released on /root/.theano/compiledir_Linux-5.4.104+-x86_64-with-Ubuntu-18.04-bionic-x86_64-3.7.11-64/.lock\n",
            "2021-08-02 14:29:51.217\n",
            "Sequential sampling (2 chains in 1 job)\n",
            "Sequential sampling (2 chains in 1 job)\n",
            "2021-08-02 14:29:53.678\n",
            "NUTS: [housing_2, housing_1, property_2, property_1, savings_acc_class_2, savings_acc_class_1, purpose_2, purpose_1, credit_history_2, credit_history_1, e_chq_acc_status_2, e_chq_acc_status_1, credit_amount, duration_months, Intercept]\n",
            "NUTS: [housing_2, housing_1, property_2, property_1, savings_acc_class_2, savings_acc_class_1, purpose_2, purpose_1, credit_history_2, credit_history_1, e_chq_acc_status_2, e_chq_acc_status_1, credit_amount, duration_months, Intercept]\n",
            "2021-08-02 14:29:53.680\n"
          ],
          "name": "stderr"
        },
        {
          "output_type": "display_data",
          "data": {
            "text/html": [
              "\n",
              "    <div>\n",
              "        <style>\n",
              "            /* Turns off some styling */\n",
              "            progress {\n",
              "                /* gets rid of default border in Firefox and Opera. */\n",
              "                border: none;\n",
              "                /* Needs to be in here for Safari polyfill so background images work as expected. */\n",
              "                background-size: auto;\n",
              "            }\n",
              "            .progress-bar-interrupted, .progress-bar-interrupted::-webkit-progress-bar {\n",
              "                background: #F44336;\n",
              "            }\n",
              "        </style>\n",
              "      <progress value='3000' class='' max='3000' style='width:300px; height:20px; vertical-align: middle;'></progress>\n",
              "      100.00% [3000/3000 00:17<00:00 Sampling chain 0, 0 divergences]\n",
              "    </div>\n",
              "    "
            ],
            "text/plain": [
              "<IPython.core.display.HTML object>"
            ]
          },
          "metadata": {
            "tags": []
          }
        },
        {
          "output_type": "stream",
          "text": [
            "Lock 139737045223376 acquired on /root/.theano/compiledir_Linux-5.4.104+-x86_64-with-Ubuntu-18.04-bionic-x86_64-3.7.11-64/.lock\n",
            "2021-08-02 14:29:53.742\n",
            "Lock 139737045223376 released on /root/.theano/compiledir_Linux-5.4.104+-x86_64-with-Ubuntu-18.04-bionic-x86_64-3.7.11-64/.lock\n",
            "2021-08-02 14:29:53.744\n"
          ],
          "name": "stderr"
        },
        {
          "output_type": "display_data",
          "data": {
            "text/html": [
              "\n",
              "    <div>\n",
              "        <style>\n",
              "            /* Turns off some styling */\n",
              "            progress {\n",
              "                /* gets rid of default border in Firefox and Opera. */\n",
              "                border: none;\n",
              "                /* Needs to be in here for Safari polyfill so background images work as expected. */\n",
              "                background-size: auto;\n",
              "            }\n",
              "            .progress-bar-interrupted, .progress-bar-interrupted::-webkit-progress-bar {\n",
              "                background: #F44336;\n",
              "            }\n",
              "        </style>\n",
              "      <progress value='3000' class='' max='3000' style='width:300px; height:20px; vertical-align: middle;'></progress>\n",
              "      100.00% [3000/3000 00:16<00:00 Sampling chain 1, 0 divergences]\n",
              "    </div>\n",
              "    "
            ],
            "text/plain": [
              "<IPython.core.display.HTML object>"
            ]
          },
          "metadata": {
            "tags": []
          }
        },
        {
          "output_type": "stream",
          "text": [
            "Sampling 2 chains for 1_000 tune and 2_000 draw iterations (2_000 + 4_000 draws total) took 34 seconds.\n",
            "Sampling 2 chains for 1_000 tune and 2_000 draw iterations (2_000 + 4_000 draws total) took 34 seconds.\n",
            "2021-08-02 14:30:27.704\n"
          ],
          "name": "stderr"
        }
      ]
    },
    {
      "cell_type": "markdown",
      "metadata": {
        "id": "BDv8Tzj4kOZz"
      },
      "source": [
        "<br>\n",
        "\n",
        "**DAG**"
      ]
    },
    {
      "cell_type": "code",
      "metadata": {
        "id": "nUgRhcpGkrs-",
        "colab": {
          "base_uri": "https://localhost:8080/",
          "height": 778
        },
        "outputId": "2ff9a7a9-0c7a-4c44-d00d-271d755b2ee4"
      },
      "source": [
        "dag = risk.evaluations.dag.DAG()\n",
        "dag.exc(model=lm, directory=directory)"
      ],
      "execution_count": 26,
      "outputs": [
        {
          "output_type": "stream",
          "text": [
            "Lock 139737015067408 acquired on /root/.theano/compiledir_Linux-5.4.104+-x86_64-with-Ubuntu-18.04-bionic-x86_64-3.7.11-64/.lock\n",
            "2021-08-02 14:30:35.683\n",
            "Lock 139737015067408 released on /root/.theano/compiledir_Linux-5.4.104+-x86_64-with-Ubuntu-18.04-bionic-x86_64-3.7.11-64/.lock\n",
            "2021-08-02 14:30:35.685\n",
            "Lock 139737004635792 acquired on /root/.theano/compiledir_Linux-5.4.104+-x86_64-with-Ubuntu-18.04-bionic-x86_64-3.7.11-64/.lock\n",
            "2021-08-02 14:30:35.713\n",
            "Lock 139737004635792 released on /root/.theano/compiledir_Linux-5.4.104+-x86_64-with-Ubuntu-18.04-bionic-x86_64-3.7.11-64/.lock\n",
            "2021-08-02 14:30:35.716\n",
            "Lock 139737004551184 acquired on /root/.theano/compiledir_Linux-5.4.104+-x86_64-with-Ubuntu-18.04-bionic-x86_64-3.7.11-64/.lock\n",
            "2021-08-02 14:30:35.731\n",
            "Lock 139737004551184 released on /root/.theano/compiledir_Linux-5.4.104+-x86_64-with-Ubuntu-18.04-bionic-x86_64-3.7.11-64/.lock\n",
            "2021-08-02 14:30:35.733\n",
            "Lock 139737004539728 acquired on /root/.theano/compiledir_Linux-5.4.104+-x86_64-with-Ubuntu-18.04-bionic-x86_64-3.7.11-64/.lock\n",
            "2021-08-02 14:30:35.748\n",
            "Lock 139737004539728 released on /root/.theano/compiledir_Linux-5.4.104+-x86_64-with-Ubuntu-18.04-bionic-x86_64-3.7.11-64/.lock\n",
            "2021-08-02 14:30:35.750\n",
            "Lock 139737004864656 acquired on /root/.theano/compiledir_Linux-5.4.104+-x86_64-with-Ubuntu-18.04-bionic-x86_64-3.7.11-64/.lock\n",
            "2021-08-02 14:30:35.765\n",
            "Lock 139737004864656 released on /root/.theano/compiledir_Linux-5.4.104+-x86_64-with-Ubuntu-18.04-bionic-x86_64-3.7.11-64/.lock\n",
            "2021-08-02 14:30:35.767\n",
            "Lock 139737004516624 acquired on /root/.theano/compiledir_Linux-5.4.104+-x86_64-with-Ubuntu-18.04-bionic-x86_64-3.7.11-64/.lock\n",
            "2021-08-02 14:30:35.781\n",
            "Lock 139737004516624 released on /root/.theano/compiledir_Linux-5.4.104+-x86_64-with-Ubuntu-18.04-bionic-x86_64-3.7.11-64/.lock\n",
            "2021-08-02 14:30:35.783\n",
            "Lock 139737004473232 acquired on /root/.theano/compiledir_Linux-5.4.104+-x86_64-with-Ubuntu-18.04-bionic-x86_64-3.7.11-64/.lock\n",
            "2021-08-02 14:30:35.798\n",
            "Lock 139737004473232 released on /root/.theano/compiledir_Linux-5.4.104+-x86_64-with-Ubuntu-18.04-bionic-x86_64-3.7.11-64/.lock\n",
            "2021-08-02 14:30:35.800\n",
            "Lock 139737004908176 acquired on /root/.theano/compiledir_Linux-5.4.104+-x86_64-with-Ubuntu-18.04-bionic-x86_64-3.7.11-64/.lock\n",
            "2021-08-02 14:30:35.831\n",
            "Lock 139737004908176 released on /root/.theano/compiledir_Linux-5.4.104+-x86_64-with-Ubuntu-18.04-bionic-x86_64-3.7.11-64/.lock\n",
            "2021-08-02 14:30:35.833\n"
          ],
          "name": "stderr"
        },
        {
          "output_type": "execute_result",
          "data": {
            "text/plain": [
              "<graphviz.files.Source at 0x7f170e920190>"
            ],
            "image/svg+xml": "<?xml version=\"1.0\" encoding=\"UTF-8\" standalone=\"no\"?>\n<!DOCTYPE svg PUBLIC \"-//W3C//DTD SVG 1.1//EN\"\n \"http://www.w3.org/Graphics/SVG/1.1/DTD/svg11.dtd\">\n<!-- Generated by graphviz version 2.40.1 (20161225.0304)\n -->\n<!-- Title: %3 Pages: 1 -->\n<svg width=\"814pt\" height=\"127pt\"\n viewBox=\"0.00 0.00 814.00 127.08\" xmlns=\"http://www.w3.org/2000/svg\" xmlns:xlink=\"http://www.w3.org/1999/xlink\">\n<g id=\"graph0\" class=\"graph\" transform=\"scale(.3421 .3421) rotate(0) translate(4 367.4996)\">\n<title>%3</title>\n<polygon fill=\"#ffffff\" stroke=\"transparent\" points=\"-4,4 -4,-367.4996 2375.5341,-367.4996 2375.5341,4 -4,4\"/>\n<g id=\"clust1\" class=\"cluster\">\n<title>cluster910</title>\n<path fill=\"none\" stroke=\"#000000\" d=\"M1166.7817,-8C1166.7817,-8 1256.7817,-8 1256.7817,-8 1262.7817,-8 1268.7817,-14 1268.7817,-20 1268.7817,-20 1268.7817,-133.9949 1268.7817,-133.9949 1268.7817,-139.9949 1262.7817,-145.9949 1256.7817,-145.9949 1256.7817,-145.9949 1166.7817,-145.9949 1166.7817,-145.9949 1160.7817,-145.9949 1154.7817,-139.9949 1154.7817,-133.9949 1154.7817,-133.9949 1154.7817,-20 1154.7817,-20 1154.7817,-14 1160.7817,-8 1166.7817,-8\"/>\n<text text-anchor=\"middle\" x=\"1249.2817\" y=\"-15.8\" font-family=\"Times,serif\" font-size=\"14.00\" fill=\"#000000\">910</text>\n</g>\n<!-- credit_history_2 -->\n<g id=\"node1\" class=\"node\">\n<title>credit_history_2</title>\n<ellipse fill=\"none\" stroke=\"#000000\" cx=\"77.7817\" cy=\"-268.7473\" rx=\"77.5641\" ry=\"77.5641\"/>\n<text text-anchor=\"middle\" x=\"77.7817\" y=\"-280.0473\" font-family=\"Times,serif\" font-size=\"14.00\" fill=\"#000000\">credit_history_2</text>\n<text text-anchor=\"middle\" x=\"77.7817\" y=\"-265.0473\" font-family=\"Times,serif\" font-size=\"14.00\" fill=\"#000000\">~</text>\n<text text-anchor=\"middle\" x=\"77.7817\" y=\"-250.0473\" font-family=\"Times,serif\" font-size=\"14.00\" fill=\"#000000\">StudentT</text>\n</g>\n<!-- y -->\n<g id=\"node16\" class=\"node\">\n<title>y</title>\n<ellipse fill=\"#d3d3d3\" stroke=\"#000000\" cx=\"1211.7817\" cy=\"-88.4975\" rx=\"49.4949\" ry=\"49.4949\"/>\n<text text-anchor=\"middle\" x=\"1211.7817\" y=\"-99.7975\" font-family=\"Times,serif\" font-size=\"14.00\" fill=\"#000000\">y</text>\n<text text-anchor=\"middle\" x=\"1211.7817\" y=\"-84.7975\" font-family=\"Times,serif\" font-size=\"14.00\" fill=\"#000000\">~</text>\n<text text-anchor=\"middle\" x=\"1211.7817\" y=\"-69.7975\" font-family=\"Times,serif\" font-size=\"14.00\" fill=\"#000000\">Binomial</text>\n</g>\n<!-- credit_history_2&#45;&gt;y -->\n<g id=\"edge1\" class=\"edge\">\n<title>credit_history_2&#45;&gt;y</title>\n<path fill=\"none\" stroke=\"#000000\" d=\"M123.0784,-205.1524C134.9021,-192.8352 148.635,-181.454 163.7817,-173.9949 252.5602,-130.2758 942.8385,-99.2786 1151.9465,-90.8183\"/>\n<polygon fill=\"#000000\" stroke=\"#000000\" points=\"1152.2691,-94.3082 1162.1203,-90.4091 1151.9877,-87.3139 1152.2691,-94.3082\"/>\n</g>\n<!-- e_chq_acc_status_1 -->\n<g id=\"node2\" class=\"node\">\n<title>e_chq_acc_status_1</title>\n<ellipse fill=\"none\" stroke=\"#000000\" cx=\"265.7817\" cy=\"-268.7473\" rx=\"92.7622\" ry=\"92.7622\"/>\n<text text-anchor=\"middle\" x=\"265.7817\" y=\"-280.0473\" font-family=\"Times,serif\" font-size=\"14.00\" fill=\"#000000\">e_chq_acc_status_1</text>\n<text text-anchor=\"middle\" x=\"265.7817\" y=\"-265.0473\" font-family=\"Times,serif\" font-size=\"14.00\" fill=\"#000000\">~</text>\n<text text-anchor=\"middle\" x=\"265.7817\" y=\"-250.0473\" font-family=\"Times,serif\" font-size=\"14.00\" fill=\"#000000\">StudentT</text>\n</g>\n<!-- e_chq_acc_status_1&#45;&gt;y -->\n<g id=\"edge2\" class=\"edge\">\n<title>e_chq_acc_status_1&#45;&gt;y</title>\n<path fill=\"none\" stroke=\"#000000\" d=\"M327.7745,-199.7939C340.0558,-189.6217 353.5775,-180.4196 367.7817,-173.9949 508.256,-110.4581 983.4766,-93.6612 1151.9497,-89.65\"/>\n<polygon fill=\"#000000\" stroke=\"#000000\" points=\"1152.2062,-93.1451 1162.1225,-89.4146 1152.0442,-86.147 1152.2062,-93.1451\"/>\n</g>\n<!-- duration_months -->\n<g id=\"node3\" class=\"node\">\n<title>duration_months</title>\n<ellipse fill=\"none\" stroke=\"#000000\" cx=\"457.7817\" cy=\"-268.7473\" rx=\"81.135\" ry=\"81.135\"/>\n<text text-anchor=\"middle\" x=\"457.7817\" y=\"-280.0473\" font-family=\"Times,serif\" font-size=\"14.00\" fill=\"#000000\">duration_months</text>\n<text text-anchor=\"middle\" x=\"457.7817\" y=\"-265.0473\" font-family=\"Times,serif\" font-size=\"14.00\" fill=\"#000000\">~</text>\n<text text-anchor=\"middle\" x=\"457.7817\" y=\"-250.0473\" font-family=\"Times,serif\" font-size=\"14.00\" fill=\"#000000\">StudentT</text>\n</g>\n<!-- duration_months&#45;&gt;y -->\n<g id=\"edge4\" class=\"edge\">\n<title>duration_months&#45;&gt;y</title>\n<path fill=\"none\" stroke=\"#000000\" d=\"M508.0111,-204.2044C520.1262,-192.4148 533.9142,-181.4897 548.7817,-173.9949 653.9301,-120.9897 1008.9571,-98.2957 1151.657,-91.1638\"/>\n<polygon fill=\"#000000\" stroke=\"#000000\" points=\"1152.1479,-94.644 1161.9641,-90.6573 1151.8043,-87.6524 1152.1479,-94.644\"/>\n</g>\n<!-- purpose_1 -->\n<g id=\"node4\" class=\"node\">\n<title>purpose_1</title>\n<ellipse fill=\"none\" stroke=\"#000000\" cx=\"611.7817\" cy=\"-268.7473\" rx=\"54.3945\" ry=\"54.3945\"/>\n<text text-anchor=\"middle\" x=\"611.7817\" y=\"-280.0473\" font-family=\"Times,serif\" font-size=\"14.00\" fill=\"#000000\">purpose_1</text>\n<text text-anchor=\"middle\" x=\"611.7817\" y=\"-265.0473\" font-family=\"Times,serif\" font-size=\"14.00\" fill=\"#000000\">~</text>\n<text text-anchor=\"middle\" x=\"611.7817\" y=\"-250.0473\" font-family=\"Times,serif\" font-size=\"14.00\" fill=\"#000000\">StudentT</text>\n</g>\n<!-- purpose_1&#45;&gt;y -->\n<g id=\"edge3\" class=\"edge\">\n<title>purpose_1&#45;&gt;y</title>\n<path fill=\"none\" stroke=\"#000000\" d=\"M634.3422,-218.9567C644.3833,-202.1385 657.8283,-184.8844 674.7817,-173.9949 753.1017,-123.6886 1029.4216,-100.1521 1152.212,-91.9946\"/>\n<polygon fill=\"#000000\" stroke=\"#000000\" points=\"1152.4453,-95.4869 1162.196,-91.3428 1151.9892,-88.5018 1152.4453,-95.4869\"/>\n</g>\n<!-- Intercept -->\n<g id=\"node5\" class=\"node\">\n<title>Intercept</title>\n<ellipse fill=\"none\" stroke=\"#000000\" cx=\"730.7817\" cy=\"-268.7473\" rx=\"46.8387\" ry=\"46.8387\"/>\n<text text-anchor=\"middle\" x=\"730.7817\" y=\"-280.0473\" font-family=\"Times,serif\" font-size=\"14.00\" fill=\"#000000\">Intercept</text>\n<text text-anchor=\"middle\" x=\"730.7817\" y=\"-265.0473\" font-family=\"Times,serif\" font-size=\"14.00\" fill=\"#000000\">~</text>\n<text text-anchor=\"middle\" x=\"730.7817\" y=\"-250.0473\" font-family=\"Times,serif\" font-size=\"14.00\" fill=\"#000000\">Flat</text>\n</g>\n<!-- Intercept&#45;&gt;y -->\n<g id=\"edge5\" class=\"edge\">\n<title>Intercept&#45;&gt;y</title>\n<path fill=\"none\" stroke=\"#000000\" d=\"M746.7361,-224.7955C755.5433,-206.4369 768.3072,-186.5089 785.7817,-173.9949 843.8886,-132.3831 1049.3798,-105.5295 1152.2295,-94.3852\"/>\n<polygon fill=\"#000000\" stroke=\"#000000\" points=\"1152.8814,-97.8355 1162.4528,-93.2926 1152.1375,-90.8752 1152.8814,-97.8355\"/>\n</g>\n<!-- property_1 -->\n<g id=\"node6\" class=\"node\">\n<title>property_1</title>\n<ellipse fill=\"none\" stroke=\"#000000\" cx=\"851.7817\" cy=\"-268.7473\" rx=\"56.6372\" ry=\"56.6372\"/>\n<text text-anchor=\"middle\" x=\"851.7817\" y=\"-280.0473\" font-family=\"Times,serif\" font-size=\"14.00\" fill=\"#000000\">property_1</text>\n<text text-anchor=\"middle\" x=\"851.7817\" y=\"-265.0473\" font-family=\"Times,serif\" font-size=\"14.00\" fill=\"#000000\">~</text>\n<text text-anchor=\"middle\" x=\"851.7817\" y=\"-250.0473\" font-family=\"Times,serif\" font-size=\"14.00\" fill=\"#000000\">StudentT</text>\n</g>\n<!-- property_1&#45;&gt;y -->\n<g id=\"edge6\" class=\"edge\">\n<title>property_1&#45;&gt;y</title>\n<path fill=\"none\" stroke=\"#000000\" d=\"M877.3915,-218.1065C887.6979,-202.0157 900.9369,-185.4463 916.7817,-173.9949 987.6054,-122.8094 1088.6408,-102.1206 1152.1858,-93.8589\"/>\n<polygon fill=\"#000000\" stroke=\"#000000\" points=\"1152.9432,-97.292 1162.4382,-92.5916 1152.0843,-90.3449 1152.9432,-97.292\"/>\n</g>\n<!-- savings_acc_class_2 -->\n<g id=\"node7\" class=\"node\">\n<title>savings_acc_class_2</title>\n<ellipse fill=\"none\" stroke=\"#000000\" cx=\"1020.7817\" cy=\"-268.7473\" rx=\"94.5053\" ry=\"94.5053\"/>\n<text text-anchor=\"middle\" x=\"1020.7817\" y=\"-280.0473\" font-family=\"Times,serif\" font-size=\"14.00\" fill=\"#000000\">savings_acc_class_2</text>\n<text text-anchor=\"middle\" x=\"1020.7817\" y=\"-265.0473\" font-family=\"Times,serif\" font-size=\"14.00\" fill=\"#000000\">~</text>\n<text text-anchor=\"middle\" x=\"1020.7817\" y=\"-250.0473\" font-family=\"Times,serif\" font-size=\"14.00\" fill=\"#000000\">StudentT</text>\n</g>\n<!-- savings_acc_class_2&#45;&gt;y -->\n<g id=\"edge11\" class=\"edge\">\n<title>savings_acc_class_2&#45;&gt;y</title>\n<path fill=\"none\" stroke=\"#000000\" d=\"M1089.7371,-203.6729C1115.9633,-178.9229 1145.0907,-151.4349 1168.3112,-129.5214\"/>\n<polygon fill=\"#000000\" stroke=\"#000000\" points=\"1170.761,-132.0219 1175.6316,-122.613 1165.9565,-126.931 1170.761,-132.0219\"/>\n</g>\n<!-- credit_history_1 -->\n<g id=\"node8\" class=\"node\">\n<title>credit_history_1</title>\n<ellipse fill=\"none\" stroke=\"#000000\" cx=\"1211.7817\" cy=\"-268.7473\" rx=\"77.5641\" ry=\"77.5641\"/>\n<text text-anchor=\"middle\" x=\"1211.7817\" y=\"-280.0473\" font-family=\"Times,serif\" font-size=\"14.00\" fill=\"#000000\">credit_history_1</text>\n<text text-anchor=\"middle\" x=\"1211.7817\" y=\"-265.0473\" font-family=\"Times,serif\" font-size=\"14.00\" fill=\"#000000\">~</text>\n<text text-anchor=\"middle\" x=\"1211.7817\" y=\"-250.0473\" font-family=\"Times,serif\" font-size=\"14.00\" fill=\"#000000\">StudentT</text>\n</g>\n<!-- credit_history_1&#45;&gt;y -->\n<g id=\"edge9\" class=\"edge\">\n<title>credit_history_1&#45;&gt;y</title>\n<path fill=\"none\" stroke=\"#000000\" d=\"M1211.7817,-190.7354C1211.7817,-176.4814 1211.7817,-161.8157 1211.7817,-148.1996\"/>\n<polygon fill=\"#000000\" stroke=\"#000000\" points=\"1215.2818,-148.016 1211.7817,-138.016 1208.2818,-148.0161 1215.2818,-148.016\"/>\n</g>\n<!-- property_2 -->\n<g id=\"node9\" class=\"node\">\n<title>property_2</title>\n<ellipse fill=\"none\" stroke=\"#000000\" cx=\"1363.7817\" cy=\"-268.7473\" rx=\"56.6372\" ry=\"56.6372\"/>\n<text text-anchor=\"middle\" x=\"1363.7817\" y=\"-280.0473\" font-family=\"Times,serif\" font-size=\"14.00\" fill=\"#000000\">property_2</text>\n<text text-anchor=\"middle\" x=\"1363.7817\" y=\"-265.0473\" font-family=\"Times,serif\" font-size=\"14.00\" fill=\"#000000\">~</text>\n<text text-anchor=\"middle\" x=\"1363.7817\" y=\"-250.0473\" font-family=\"Times,serif\" font-size=\"14.00\" fill=\"#000000\">StudentT</text>\n</g>\n<!-- property_2&#45;&gt;y -->\n<g id=\"edge8\" class=\"edge\">\n<title>property_2&#45;&gt;y</title>\n<path fill=\"none\" stroke=\"#000000\" d=\"M1333.4385,-220.6882C1323.047,-205.3104 1310.9569,-188.5178 1298.7817,-173.9949 1285.806,-158.5171 1270.4231,-142.705 1256.2277,-128.956\"/>\n<polygon fill=\"#000000\" stroke=\"#000000\" points=\"1258.5742,-126.3571 1248.9317,-121.967 1253.7319,-131.412 1258.5742,-126.3571\"/>\n</g>\n<!-- e_chq_acc_status_2 -->\n<g id=\"node10\" class=\"node\">\n<title>e_chq_acc_status_2</title>\n<ellipse fill=\"none\" stroke=\"#000000\" cx=\"1530.7817\" cy=\"-268.7473\" rx=\"92.7622\" ry=\"92.7622\"/>\n<text text-anchor=\"middle\" x=\"1530.7817\" y=\"-280.0473\" font-family=\"Times,serif\" font-size=\"14.00\" fill=\"#000000\">e_chq_acc_status_2</text>\n<text text-anchor=\"middle\" x=\"1530.7817\" y=\"-265.0473\" font-family=\"Times,serif\" font-size=\"14.00\" fill=\"#000000\">~</text>\n<text text-anchor=\"middle\" x=\"1530.7817\" y=\"-250.0473\" font-family=\"Times,serif\" font-size=\"14.00\" fill=\"#000000\">StudentT</text>\n</g>\n<!-- e_chq_acc_status_2&#45;&gt;y -->\n<g id=\"edge10\" class=\"edge\">\n<title>e_chq_acc_status_2&#45;&gt;y</title>\n<path fill=\"none\" stroke=\"#000000\" d=\"M1466.3942,-201.6966C1454.8043,-191.623 1442.3828,-181.9589 1429.7817,-173.9949 1379.3558,-142.1252 1315.1158,-118.7008 1269.4642,-104.5107\"/>\n<polygon fill=\"#000000\" stroke=\"#000000\" points=\"1270.3144,-101.1108 1259.7281,-101.5365 1268.2693,-107.8054 1270.3144,-101.1108\"/>\n</g>\n<!-- housing_1 -->\n<g id=\"node11\" class=\"node\">\n<title>housing_1</title>\n<ellipse fill=\"none\" stroke=\"#000000\" cx=\"1696.7817\" cy=\"-268.7473\" rx=\"55.3091\" ry=\"55.3091\"/>\n<text text-anchor=\"middle\" x=\"1696.7817\" y=\"-280.0473\" font-family=\"Times,serif\" font-size=\"14.00\" fill=\"#000000\">housing_1</text>\n<text text-anchor=\"middle\" x=\"1696.7817\" y=\"-265.0473\" font-family=\"Times,serif\" font-size=\"14.00\" fill=\"#000000\">~</text>\n<text text-anchor=\"middle\" x=\"1696.7817\" y=\"-250.0473\" font-family=\"Times,serif\" font-size=\"14.00\" fill=\"#000000\">StudentT</text>\n</g>\n<!-- housing_1&#45;&gt;y -->\n<g id=\"edge12\" class=\"edge\">\n<title>housing_1&#45;&gt;y</title>\n<path fill=\"none\" stroke=\"#000000\" d=\"M1673.1469,-218.8445C1662.9374,-202.222 1649.4578,-185.1255 1632.7817,-173.9949 1574.1573,-134.8657 1372.6083,-106.9104 1271.1383,-94.959\"/>\n<polygon fill=\"#000000\" stroke=\"#000000\" points=\"1271.3854,-91.4642 1261.0478,-93.7845 1270.576,-98.4173 1271.3854,-91.4642\"/>\n</g>\n<!-- housing_2 -->\n<g id=\"node12\" class=\"node\">\n<title>housing_2</title>\n<ellipse fill=\"none\" stroke=\"#000000\" cx=\"1824.7817\" cy=\"-268.7473\" rx=\"55.3091\" ry=\"55.3091\"/>\n<text text-anchor=\"middle\" x=\"1824.7817\" y=\"-280.0473\" font-family=\"Times,serif\" font-size=\"14.00\" fill=\"#000000\">housing_2</text>\n<text text-anchor=\"middle\" x=\"1824.7817\" y=\"-265.0473\" font-family=\"Times,serif\" font-size=\"14.00\" fill=\"#000000\">~</text>\n<text text-anchor=\"middle\" x=\"1824.7817\" y=\"-250.0473\" font-family=\"Times,serif\" font-size=\"14.00\" fill=\"#000000\">StudentT</text>\n</g>\n<!-- housing_2&#45;&gt;y -->\n<g id=\"edge7\" class=\"edge\">\n<title>housing_2&#45;&gt;y</title>\n<path fill=\"none\" stroke=\"#000000\" d=\"M1801.4228,-218.4207C1791.2411,-201.7554 1777.7087,-184.7402 1760.7817,-173.9949 1680.2831,-122.8943 1396.7171,-99.7309 1271.7208,-91.8302\"/>\n<polygon fill=\"#000000\" stroke=\"#000000\" points=\"1271.7606,-88.326 1261.563,-91.1998 1271.3269,-95.3126 1271.7606,-88.326\"/>\n</g>\n<!-- credit_amount -->\n<g id=\"node13\" class=\"node\">\n<title>credit_amount</title>\n<ellipse fill=\"none\" stroke=\"#000000\" cx=\"1967.7817\" cy=\"-268.7473\" rx=\"70.0071\" ry=\"70.0071\"/>\n<text text-anchor=\"middle\" x=\"1967.7817\" y=\"-280.0473\" font-family=\"Times,serif\" font-size=\"14.00\" fill=\"#000000\">credit_amount</text>\n<text text-anchor=\"middle\" x=\"1967.7817\" y=\"-265.0473\" font-family=\"Times,serif\" font-size=\"14.00\" fill=\"#000000\">~</text>\n<text text-anchor=\"middle\" x=\"1967.7817\" y=\"-250.0473\" font-family=\"Times,serif\" font-size=\"14.00\" fill=\"#000000\">StudentT</text>\n</g>\n<!-- credit_amount&#45;&gt;y -->\n<g id=\"edge13\" class=\"edge\">\n<title>credit_amount&#45;&gt;y</title>\n<path fill=\"none\" stroke=\"#000000\" d=\"M1930.0898,-209.601C1918.4947,-195.8019 1904.5639,-182.6315 1888.7817,-173.9949 1782.8524,-116.0268 1416.3291,-96.165 1271.4153,-90.4788\"/>\n<polygon fill=\"#000000\" stroke=\"#000000\" points=\"1271.498,-86.9795 1261.3711,-90.0936 1271.2296,-93.9744 1271.498,-86.9795\"/>\n</g>\n<!-- purpose_2 -->\n<g id=\"node14\" class=\"node\">\n<title>purpose_2</title>\n<ellipse fill=\"none\" stroke=\"#000000\" cx=\"2109.7817\" cy=\"-268.7473\" rx=\"54.3945\" ry=\"54.3945\"/>\n<text text-anchor=\"middle\" x=\"2109.7817\" y=\"-280.0473\" font-family=\"Times,serif\" font-size=\"14.00\" fill=\"#000000\">purpose_2</text>\n<text text-anchor=\"middle\" x=\"2109.7817\" y=\"-265.0473\" font-family=\"Times,serif\" font-size=\"14.00\" fill=\"#000000\">~</text>\n<text text-anchor=\"middle\" x=\"2109.7817\" y=\"-250.0473\" font-family=\"Times,serif\" font-size=\"14.00\" fill=\"#000000\">StudentT</text>\n</g>\n<!-- purpose_2&#45;&gt;y -->\n<g id=\"edge14\" class=\"edge\">\n<title>purpose_2&#45;&gt;y</title>\n<path fill=\"none\" stroke=\"#000000\" d=\"M2087.5442,-218.4382C2077.5381,-201.5639 2064.0326,-184.4068 2046.7817,-173.9949 1980.6558,-134.0842 1451.3698,-101.64 1271.419,-91.6681\"/>\n<polygon fill=\"#000000\" stroke=\"#000000\" points=\"1271.5173,-88.1683 1261.3399,-91.1129 1271.1322,-95.1578 1271.5173,-88.1683\"/>\n</g>\n<!-- savings_acc_class_1 -->\n<g id=\"node15\" class=\"node\">\n<title>savings_acc_class_1</title>\n<ellipse fill=\"none\" stroke=\"#000000\" cx=\"2276.7817\" cy=\"-268.7473\" rx=\"94.5053\" ry=\"94.5053\"/>\n<text text-anchor=\"middle\" x=\"2276.7817\" y=\"-280.0473\" font-family=\"Times,serif\" font-size=\"14.00\" fill=\"#000000\">savings_acc_class_1</text>\n<text text-anchor=\"middle\" x=\"2276.7817\" y=\"-265.0473\" font-family=\"Times,serif\" font-size=\"14.00\" fill=\"#000000\">~</text>\n<text text-anchor=\"middle\" x=\"2276.7817\" y=\"-250.0473\" font-family=\"Times,serif\" font-size=\"14.00\" fill=\"#000000\">StudentT</text>\n</g>\n<!-- savings_acc_class_1&#45;&gt;y -->\n<g id=\"edge15\" class=\"edge\">\n<title>savings_acc_class_1&#45;&gt;y</title>\n<path fill=\"none\" stroke=\"#000000\" d=\"M2212.601,-198.9365C2200.3241,-189.0632 2186.871,-180.1826 2172.7817,-173.9949 2090.3396,-137.7882 1468.3889,-102.0852 1271.4162,-91.5843\"/>\n<polygon fill=\"#000000\" stroke=\"#000000\" points=\"1271.4283,-88.0801 1261.2568,-91.0449 1271.0572,-95.0702 1271.4283,-88.0801\"/>\n</g>\n</g>\n</svg>\n"
          },
          "metadata": {
            "tags": []
          },
          "execution_count": 26
        }
      ]
    },
    {
      "cell_type": "markdown",
      "metadata": {
        "id": "kspxjGRyvZOh"
      },
      "source": [
        "<br>\n",
        "<br>\n",
        "\n",
        "### Trace"
      ]
    },
    {
      "cell_type": "markdown",
      "metadata": {
        "id": "eUNZrZYHBXKm"
      },
      "source": [
        "**Variables**"
      ]
    },
    {
      "cell_type": "code",
      "metadata": {
        "id": "NdzD9_lceiRf",
        "colab": {
          "base_uri": "https://localhost:8080/",
          "height": 54
        },
        "outputId": "f769737d-f704-471b-e254-084065f2bb0a"
      },
      "source": [
        "', '.join(trace.varnames)"
      ],
      "execution_count": 27,
      "outputs": [
        {
          "output_type": "execute_result",
          "data": {
            "application/vnd.google.colaboratory.intrinsic+json": {
              "type": "string"
            },
            "text/plain": [
              "'Intercept, duration_months, credit_amount, e_chq_acc_status_1, e_chq_acc_status_2, credit_history_1, credit_history_2, purpose_1, purpose_2, savings_acc_class_1, savings_acc_class_2, property_1, property_2, housing_1, housing_2'"
            ]
          },
          "metadata": {
            "tags": []
          },
          "execution_count": 27
        }
      ]
    },
    {
      "cell_type": "markdown",
      "metadata": {
        "id": "XKGhMyLPBSsN"
      },
      "source": [
        "<br>\n",
        "\n",
        "**Graphs**\n",
        "\n",
        "* plt.rcParams\n",
        "\n",
        "* Ascertain `{'figure.constrained_layout.use': True}`"
      ]
    },
    {
      "cell_type": "code",
      "metadata": {
        "id": "SR5HjwKKZdmx",
        "colab": {
          "base_uri": "https://localhost:8080/",
          "height": 458
        },
        "outputId": "e58eaeca-1659-4e11-eda9-4ddb2cddf59c"
      },
      "source": [
        "plt.rcParams.update({'font.size': 11, 'ytick.labelsize': 11, 'xtick.labelsize': 11, \n",
        "                     'axes.titlesize': 11, 'figure.subplot.hspace': 0.4})\n",
        "\n",
        "with lm:\n",
        "    az.plot_trace(data=arviztrace, figsize=(5.15, 4.30), \n",
        "                  var_names=['Intercept', 'duration_months', 'credit_amount'])"
      ],
      "execution_count": 28,
      "outputs": [
        {
          "output_type": "display_data",
          "data": {
            "image/png": "[encoded data removed]",
            "text/plain": [
              "<Figure size 515x430 with 6 Axes>"
            ]
          },
          "metadata": {
            "tags": []
          }
        }
      ]
    },
    {
      "cell_type": "markdown",
      "metadata": {
        "id": "OpbNUSvcETRn"
      },
      "source": [
        "<br>\n",
        "\n",
        "**Posterior Graphs** (cf. Default Trace Graphs)"
      ]
    },
    {
      "cell_type": "code",
      "metadata": {
        "id": "vq98FiAxXmjU",
        "colab": {
          "base_uri": "https://localhost:8080/",
          "height": 258
        },
        "outputId": "fcbe94b1-d2bb-4be9-b353-c6757c1699bd"
      },
      "source": [
        "plt.rcParams.update({'font.size': 11, 'axes.labelsize': 11.0, 'figure.constrained_layout.wspace': 0.2})\n",
        "\n",
        "with lm:\n",
        "    pymc3.plot_posterior(data=trace, var_names=['Intercept', 'duration_months', 'credit_amount'], \n",
        "                         figsize=(7.15, 2.3), grid=(1, 3), point_estimate='median', textsize=9)"
      ],
      "execution_count": 29,
      "outputs": [
        {
          "output_type": "display_data",
          "data": {
            "image/png": "[encoded data removed]",
            "text/plain": [
              "<Figure size 715x230 with 3 Axes>"
            ]
          },
          "metadata": {
            "tags": []
          }
        }
      ]
    },
    {
      "cell_type": "markdown",
      "metadata": {
        "id": "6FLQ-4XYJRGD"
      },
      "source": [
        "<br>\n",
        "<br>\n",
        "\n",
        "## Persist"
      ]
    },
    {
      "cell_type": "markdown",
      "metadata": {
        "id": "b5gtdg3KaUS5"
      },
      "source": [
        "### Assets"
      ]
    },
    {
      "cell_type": "markdown",
      "metadata": {
        "id": "hHZ8SuZyVr9T"
      },
      "source": [
        "**Pre-transforms training data**"
      ]
    },
    {
      "cell_type": "code",
      "metadata": {
        "id": "B0LAwQFWVXAw"
      },
      "source": [
        "trainingdata.to_csv(path_or_buf=os.path.join(directory, 'training.csv'), \n",
        "                    header=True, index=False, encoding='UTF-8')"
      ],
      "execution_count": 30,
      "outputs": []
    },
    {
      "cell_type": "markdown",
      "metadata": {
        "id": "pd1giNszPudQ"
      },
      "source": [
        "<br>\n",
        "\n",
        "**Sampled**"
      ]
    },
    {
      "cell_type": "code",
      "metadata": {
        "id": "MTpq5rBwWdKN"
      },
      "source": [
        "sampled.to_csv(path_or_buf=os.path.join(directory, 'sampled.csv'), \n",
        "               header=True, index=False, encoding='UTF-8')"
      ],
      "execution_count": 31,
      "outputs": []
    },
    {
      "cell_type": "markdown",
      "metadata": {
        "id": "8_H2VeYO_WJ7"
      },
      "source": [
        "<br>\n",
        "\n",
        "**Determine Binary Maps**"
      ]
    },
    {
      "cell_type": "code",
      "metadata": {
        "id": "pBYbCg0F-reO"
      },
      "source": [
        "dictionary = {}\n",
        "\n",
        "for element in binary_cf:\n",
        "\n",
        "    pairings = pd.concat((training[element], scaled[element]), axis=1, ).drop_duplicates()\n",
        "    pairings.set_axis(labels=['state', element], axis=1, inplace=True)\n",
        "    mapping = pairings.set_index(keys='state', drop=True).to_dict(orient='dict')\n",
        "\n",
        "    dictionary.__setitem__(element, mapping[element])"
      ],
      "execution_count": 32,
      "outputs": []
    },
    {
      "cell_type": "markdown",
      "metadata": {
        "id": "TayWH-Y9LllG"
      },
      "source": [
        "<br>\n",
        "\n",
        "**Pocket**"
      ]
    },
    {
      "cell_type": "code",
      "metadata": {
        "id": "_g-p-SMf3Q0X"
      },
      "source": [
        "pocket = {\n",
        "    'lm': lm,\n",
        "    'ndraws': trace.report.n_draws,\n",
        "    'nchains': trace.nchains,\n",
        "    'xshared': xshared,\n",
        "    'target': target, \n",
        "    'regressors': ','.join(x_training_fields),\n",
        "    'binary_cf_dictionary': dictionary,\n",
        "    'scaler': scaler \n",
        "}"
      ],
      "execution_count": 33,
      "outputs": []
    },
    {
      "cell_type": "markdown",
      "metadata": {
        "id": "qP3HyRbPK8Ly"
      },
      "source": [
        "<br>\n",
        "\n",
        "**Assets**"
      ]
    },
    {
      "cell_type": "code",
      "metadata": {
        "id": "Ro_1dcQrK-IA"
      },
      "source": [
        "class Assets:\n",
        "\n",
        "    def __init__(self, directory: str):\n",
        "        \"\"\"\n",
        "        \n",
        "        \"\"\"\n",
        "\n",
        "        self.directory = directory\n",
        "\n",
        "    def pocket_(self, pocket: dict):\n",
        "\n",
        "        pickled = pickle.dumps(pocket)        \n",
        "        f = open(os.path.join(self.directory, 'pocket.pkl'), mode='wb')        \n",
        "        f.write(pickled)\n",
        "        f.close()\n",
        "\n",
        "    def trace_(self, trace: pymc3.backends.base.MultiTrace):\n",
        "        \"\"\"\n",
        "        Reloading requires the model context, excellent.\n",
        "\n",
        "        :param trace:\n",
        "        \"\"\"\n",
        "\n",
        "        pymc3.backends.ndarray.save_trace(\n",
        "            trace=trace, directory=os.path.join('trace'), overwrite=True)\n",
        "        \n",
        "        tracefiles = []\n",
        "        for base, directories, files in os.walk(os.path.join('trace')):\n",
        "            for file in files:\n",
        "                tracefiles.append(os.path.join(base, file))\n",
        "\n",
        "        with zipfile.ZipFile(file='trace.zip', mode='w', compression=zipfile.ZIP_DEFLATED, allowZip64=False, compresslevel=6) as tr:\n",
        "            for tracefile in tracefiles:\n",
        "                tr.write(tracefile)\n"
      ],
      "execution_count": 34,
      "outputs": []
    },
    {
      "cell_type": "code",
      "metadata": {
        "id": "EHe3LZ8WNikZ"
      },
      "source": [
        "assets = Assets(directory=directory)\n",
        "assets.pocket_(pocket=pocket)\n",
        "assets.trace_(trace=trace)"
      ],
      "execution_count": 35,
      "outputs": []
    },
    {
      "cell_type": "markdown",
      "metadata": {
        "id": "AfmWjZRoDCqH"
      },
      "source": [
        "<br>\n",
        "<br>\n",
        "\n",
        "### ArViz"
      ]
    },
    {
      "cell_type": "markdown",
      "metadata": {
        "id": "p9z_iDqn8y2y"
      },
      "source": [
        "```python\n",
        "arviztrace.to_json(os.path.join(directory, 'arviz.json'))\n",
        "```"
      ]
    }
  ]
}