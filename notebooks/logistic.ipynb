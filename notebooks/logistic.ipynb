{
  "nbformat": 4,
  "nbformat_minor": 0,
  "metadata": {
    "colab": {
      "name": "logistic.ipynb",
      "provenance": [],
      "collapsed_sections": []
    },
    "kernelspec": {
      "name": "python3",
      "display_name": "Python 3"
    },
    "language_info": {
      "name": "python"
    }
  },
  "cells": [
    {
      "cell_type": "markdown",
      "metadata": {
        "id": "0N4C2hHrsSfn"
      },
      "source": [
        "Bayesian Logistic Regression\n",
        "\n",
        "* https://docs.pymc.io/pymc-examples/examples/generalized_linear_models/GLM-logistic.html\n",
        "\n",
        "\n",
        "<br>"
      ]
    },
    {
      "cell_type": "markdown",
      "metadata": {
        "id": "MbwaZ2iDEg7T"
      },
      "source": [
        "## Preliminaries"
      ]
    },
    {
      "cell_type": "code",
      "metadata": {
        "id": "ahXoiVIJbyEA"
      },
      "source": [
        "%%bash\n",
        "\n",
        "rm -rf *.sh\n",
        "rm -rf trace.zip\n",
        "rm -rf warehouse"
      ],
      "execution_count": 1,
      "outputs": []
    },
    {
      "cell_type": "markdown",
      "metadata": {
        "id": "6VgMmWuTI5rZ"
      },
      "source": [
        "<br>\n",
        "<br>\n",
        "\n",
        "### Packages & Libraries"
      ]
    },
    {
      "cell_type": "markdown",
      "metadata": {
        "id": "SP7DionDTfMV"
      },
      "source": [
        "**Packages**"
      ]
    },
    {
      "cell_type": "code",
      "metadata": {
        "id": "IrEiqQ65i4HP"
      },
      "source": [
        "import subprocess"
      ],
      "execution_count": 2,
      "outputs": []
    },
    {
      "cell_type": "code",
      "metadata": {
        "id": "XVwENGGwi8pA"
      },
      "source": [
        "if 'google.colab' in str(get_ipython()):\n",
        "    subprocess.run('wget -q https://raw.githubusercontent.com/exhypotheses/risk/develop/scripts.sh', shell=True)\n",
        "    subprocess.run('chmod u+x scripts.sh', shell=True)\n",
        "    subprocess.run('./scripts.sh', shell=True)"
      ],
      "execution_count": 3,
      "outputs": []
    },
    {
      "cell_type": "markdown",
      "metadata": {
        "id": "V04o5dwaEVeU"
      },
      "source": [
        "<br>\n",
        "\n",
        "**Libraries**"
      ]
    },
    {
      "cell_type": "code",
      "metadata": {
        "id": "lvWNfNACETeQ"
      },
      "source": [
        "import logging\n",
        "import collections\n",
        "import os\n",
        "import zipfile\n",
        "import requests\n",
        "\n",
        "import numpy as np\n",
        "import pandas as pd\n",
        "import matplotlib.pyplot as plt\n",
        "\n",
        "import theano\n",
        "import pymc3\n",
        "import graphviz\n",
        "import arviz as az\n",
        "\n",
        "import pickle\n",
        "import json\n"
      ],
      "execution_count": 4,
      "outputs": []
    },
    {
      "cell_type": "markdown",
      "metadata": {
        "id": "6RvKtZ3eSHCV"
      },
      "source": [
        "<br>\n",
        "<br>\n",
        "\n",
        "### Logging"
      ]
    },
    {
      "cell_type": "code",
      "metadata": {
        "id": "jXsl-Gd6SGB1"
      },
      "source": [
        "logging.basicConfig(level=logging.INFO, format='%(message)s\\n%(asctime)s.%(msecs)03d', datefmt='%Y-%m-%d %H:%M:%S')\n",
        "logger = logging.getLogger(__name__)"
      ],
      "execution_count": 5,
      "outputs": []
    },
    {
      "cell_type": "markdown",
      "metadata": {
        "id": "N3xLPJBkLZqJ"
      },
      "source": [
        "<br>\n",
        "<br>\n",
        "\n",
        "### Custom"
      ]
    },
    {
      "cell_type": "code",
      "metadata": {
        "id": "pdxEwJ3lLcNH"
      },
      "source": [
        "import config\n",
        "\n",
        "import risk.graphing.relational\n",
        "import risk.graphing.settings\n",
        "\n",
        "import risk.functions.sample\n",
        "import risk.functions.scale\n",
        "\n",
        "import risk.evaluations.dag"
      ],
      "execution_count": 6,
      "outputs": []
    },
    {
      "cell_type": "markdown",
      "metadata": {
        "id": "sEQChpNKe5GI"
      },
      "source": [
        "<br>\n",
        "\n",
        "Configurations"
      ]
    },
    {
      "cell_type": "code",
      "metadata": {
        "id": "bkNOO8hie8Sh"
      },
      "source": [
        "configurations = config.Config()"
      ],
      "execution_count": 7,
      "outputs": []
    },
    {
      "cell_type": "markdown",
      "metadata": {
        "id": "1cPXr4llLrCF"
      },
      "source": [
        "<br>\n",
        "\n",
        "Graphs"
      ]
    },
    {
      "cell_type": "code",
      "metadata": {
        "id": "leKOS6jxLuX0"
      },
      "source": [
        "relational = risk.graphing.relational.Relational()\n",
        "\n",
        "RelationalGraphLabels = collections.namedtuple(typename='RelationalGraphLabels',\n",
        "                                               field_names=['title', 'xlabel', 'ylabel'])"
      ],
      "execution_count": 8,
      "outputs": []
    },
    {
      "cell_type": "markdown",
      "metadata": {
        "id": "A8m2l5cDMO2f"
      },
      "source": [
        "<br>\n",
        "\n",
        "Settings"
      ]
    },
    {
      "cell_type": "code",
      "metadata": {
        "id": "w_c4_LhkMRVy"
      },
      "source": [
        "settings = risk.graphing.settings.Settings()\n",
        "\n",
        "settings.layout()\n",
        "settings.aesthetics()"
      ],
      "execution_count": 9,
      "outputs": []
    },
    {
      "cell_type": "markdown",
      "metadata": {
        "id": "vTw-V7OG2l-7"
      },
      "source": [
        "<br>\n",
        "\n",
        "Paths"
      ]
    },
    {
      "cell_type": "code",
      "metadata": {
        "id": "BqFr2aYwi5rx"
      },
      "source": [
        "if not 'google.colab' in str(get_ipython()):    \n",
        "    notebooks = os.getcwd()\n",
        "    parent = str(pathlib.Path(notebooks).parent)\n",
        "    sys.path.append(parent)\n",
        "else:\n",
        "    parent = os.getcwd()  "
      ],
      "execution_count": 10,
      "outputs": []
    },
    {
      "cell_type": "code",
      "metadata": {
        "id": "OC8J-GdC2pFr"
      },
      "source": [
        "directory = os.path.join(configurations.warehouse, 'model')\n",
        "\n",
        "if not os.path.exists(directory):\n",
        "    os.makedirs(directory)"
      ],
      "execution_count": 11,
      "outputs": []
    },
    {
      "cell_type": "markdown",
      "metadata": {
        "id": "zB2P6S6Br0XZ"
      },
      "source": [
        "<br>\n",
        "<br>\n",
        "\n",
        "## For YAML"
      ]
    },
    {
      "cell_type": "markdown",
      "metadata": {
        "id": "tOF4cfBqEKRd"
      },
      "source": [
        "* 'problem': 'Binary Classification'\n",
        "* 'modelType': 'Bayesian Logistic Model'"
      ]
    },
    {
      "cell_type": "markdown",
      "metadata": {
        "id": "Sm3JrIXsExIg"
      },
      "source": [
        "### Seed"
      ]
    },
    {
      "cell_type": "code",
      "metadata": {
        "id": "tmRAA4Hrr2wG"
      },
      "source": [
        "SEED = 5\n",
        "np.random.seed(seed=SEED)"
      ],
      "execution_count": 12,
      "outputs": []
    },
    {
      "cell_type": "markdown",
      "metadata": {
        "id": "HsYQthZnFkha"
      },
      "source": [
        "<br>\n",
        "\n",
        "### Modelling Parameters, Variables, Arguments"
      ]
    },
    {
      "cell_type": "code",
      "metadata": {
        "id": "oJ_CpNObFjjs"
      },
      "source": [
        "exclude = ['age_years', 'sex_and_status_1', 'sex_and_status_2', 'female']\n",
        "binary_cf = ['A192', 'A201', 'female']\n",
        "target = 'reasonable'"
      ],
      "execution_count": 13,
      "outputs": []
    },
    {
      "cell_type": "markdown",
      "metadata": {
        "id": "GvZ3aSMBEbTl"
      },
      "source": [
        "<br>\n",
        "<br>\n",
        "\n",
        "## Data"
      ]
    },
    {
      "cell_type": "markdown",
      "metadata": {
        "id": "9QUf9hXl5bAG"
      },
      "source": [
        "### Read"
      ]
    },
    {
      "cell_type": "markdown",
      "metadata": {
        "id": "hahTCHYfVrNH"
      },
      "source": [
        "Reads in the data wherein the polytomous categorical fields have undergone t-SNE embedding."
      ]
    },
    {
      "cell_type": "code",
      "metadata": {
        "id": "tazRSshL1ZCx"
      },
      "source": [
        "url_mappings = 'https://raw.githubusercontent.com/exhypotheses/risk/develop/warehouse/splits/scikit/mappings.json'\n",
        "url_training = 'https://raw.githubusercontent.com/exhypotheses/risk/develop/warehouse/splits/scikit/training.csv'"
      ],
      "execution_count": 14,
      "outputs": []
    },
    {
      "cell_type": "markdown",
      "metadata": {
        "id": "WlvLatyO24xC"
      },
      "source": [
        "<br>\n",
        "\n",
        "Mappings"
      ]
    },
    {
      "cell_type": "code",
      "metadata": {
        "id": "Ek6WwSYe1x9u"
      },
      "source": [
        "try:\n",
        "    req = requests.get(url=url_mappings)\n",
        "    req.raise_for_status\n",
        "except requests.exceptions.RequestException as err:\n",
        "    raise Exception(err)\n",
        "\n",
        "mappings = json.loads(req.content)     "
      ],
      "execution_count": 15,
      "outputs": []
    },
    {
      "cell_type": "markdown",
      "metadata": {
        "id": "TKDk6zjM28fd"
      },
      "source": [
        "<br>\n",
        "\n",
        "Training Data"
      ]
    },
    {
      "cell_type": "code",
      "metadata": {
        "id": "qY6YVoXu3HqH"
      },
      "source": [
        "try:\n",
        "    trainingdata = pd.read_csv(\n",
        "        filepath_or_buffer=url_training, header=0, encoding='utf-8', \n",
        "        dtype={'A192': np.uint8, 'A201': np.uint8, 'female': np.uint8, 'reasonable': np.uint8})\n",
        "except OSError as err:\n",
        "    raise Exception(err.strerror)    "
      ],
      "execution_count": 16,
      "outputs": []
    },
    {
      "cell_type": "code",
      "metadata": {
        "colab": {
          "base_uri": "https://localhost:8080/"
        },
        "id": "3l0u3Vya4sKP",
        "outputId": "c6c9d2fe-05dd-4093-ac94-9145bee2a837"
      },
      "source": [
        "training = trainingdata.copy().drop(columns=list(mappings.keys()))\n",
        "training.info()"
      ],
      "execution_count": 17,
      "outputs": [
        {
          "output_type": "stream",
          "text": [
            "<class 'pandas.core.frame.DataFrame'>\n",
            "RangeIndex: 650 entries, 0 to 649\n",
            "Data columns (total 33 columns):\n",
            " #   Column                 Non-Null Count  Dtype  \n",
            "---  ------                 --------------  -----  \n",
            " 0   duration_months        650 non-null    int64  \n",
            " 1   credit_amount          650 non-null    int64  \n",
            " 2   i_rate_by_disp_inc     650 non-null    int64  \n",
            " 3   curr_res_since         650 non-null    int64  \n",
            " 4   age_years              650 non-null    int64  \n",
            " 5   n_e_credits_this_bank  650 non-null    int64  \n",
            " 6   n_dependants           650 non-null    int64  \n",
            " 7   e_chq_acc_status_1     650 non-null    float64\n",
            " 8   e_chq_acc_status_2     650 non-null    float64\n",
            " 9   credit_history_1       650 non-null    float64\n",
            " 10  credit_history_2       650 non-null    float64\n",
            " 11  purpose_1              650 non-null    float64\n",
            " 12  purpose_2              650 non-null    float64\n",
            " 13  savings_acc_class_1    650 non-null    float64\n",
            " 14  savings_acc_class_2    650 non-null    float64\n",
            " 15  curr_emp_class_1       650 non-null    float64\n",
            " 16  curr_emp_class_2       650 non-null    float64\n",
            " 17  sex_and_status_1       650 non-null    float64\n",
            " 18  sex_and_status_2       650 non-null    float64\n",
            " 19  other_debtors_class_1  650 non-null    float64\n",
            " 20  other_debtors_class_2  650 non-null    float64\n",
            " 21  property_1             650 non-null    float64\n",
            " 22  property_2             650 non-null    float64\n",
            " 23  other_i_plans_1        650 non-null    float64\n",
            " 24  other_i_plans_2        650 non-null    float64\n",
            " 25  housing_1              650 non-null    float64\n",
            " 26  housing_2              650 non-null    float64\n",
            " 27  job_1                  650 non-null    float64\n",
            " 28  job_2                  650 non-null    float64\n",
            " 29  A192                   650 non-null    uint8  \n",
            " 30  A201                   650 non-null    uint8  \n",
            " 31  female                 650 non-null    uint8  \n",
            " 32  reasonable             650 non-null    uint8  \n",
            "dtypes: float64(22), int64(7), uint8(4)\n",
            "memory usage: 149.9 KB\n"
          ],
          "name": "stdout"
        }
      ]
    },
    {
      "cell_type": "markdown",
      "metadata": {
        "id": "Nuc-f3dA9NJ-"
      },
      "source": [
        "<br>\n",
        "\n",
        "### Structure"
      ]
    },
    {
      "cell_type": "markdown",
      "metadata": {
        "id": "zDp3oKiFDcy9"
      },
      "source": [
        "**Scale**"
      ]
    },
    {
      "cell_type": "code",
      "metadata": {
        "id": "BRjYLvxE4_mZ"
      },
      "source": [
        "scale = risk.functions.scale.Scale()"
      ],
      "execution_count": 18,
      "outputs": []
    },
    {
      "cell_type": "code",
      "metadata": {
        "id": "jMVpJh_ODiT-",
        "colab": {
          "base_uri": "https://localhost:8080/"
        },
        "outputId": "1319e2c5-6bd3-4da4-a738-33f8d2571dc2"
      },
      "source": [
        "scaler = scale.exc(blob=training.drop(columns=target))\n",
        "left = scale.apply(blob=training.drop(columns=target), scaler=scaler)\n",
        "scaled = pd.concat((left, training[target]), axis=1, ignore_index=False)\n",
        "scaled.shape"
      ],
      "execution_count": 19,
      "outputs": [
        {
          "output_type": "execute_result",
          "data": {
            "text/plain": [
              "(650, 33)"
            ]
          },
          "metadata": {
            "tags": []
          },
          "execution_count": 19
        }
      ]
    },
    {
      "cell_type": "markdown",
      "metadata": {
        "id": "jsNWMVrUuH3_"
      },
      "source": [
        "<br>\n",
        "<br>\n",
        "\n",
        "**Sample**"
      ]
    },
    {
      "cell_type": "code",
      "metadata": {
        "id": "N0BV5D9u9ras",
        "colab": {
          "base_uri": "https://localhost:8080/"
        },
        "outputId": "a10a070a-075f-41cb-b775-a5c54dc20653"
      },
      "source": [
        "sample = risk.functions.sample.Sample()\n",
        "sampled = sample.exc(blob=scaled, target=target)\n",
        "sampled.shape"
      ],
      "execution_count": 20,
      "outputs": [
        {
          "output_type": "execute_result",
          "data": {
            "text/plain": [
              "(910, 33)"
            ]
          },
          "metadata": {
            "tags": []
          },
          "execution_count": 20
        }
      ]
    },
    {
      "cell_type": "markdown",
      "metadata": {
        "id": "FVBrLlZBRD_i"
      },
      "source": [
        "<br>\n",
        "<br>\n",
        "\n",
        "## Model"
      ]
    },
    {
      "cell_type": "code",
      "metadata": {
        "id": "CZXj0j4eH2Vh"
      },
      "source": [
        "baseline = sampled.drop(columns=exclude)"
      ],
      "execution_count": 21,
      "outputs": []
    },
    {
      "cell_type": "markdown",
      "metadata": {
        "id": "7ocPN12MIUCC"
      },
      "source": [
        "<br>\n",
        "\n",
        "Hence"
      ]
    },
    {
      "cell_type": "code",
      "metadata": {
        "id": "23vmgFZhMMvk"
      },
      "source": [
        "training_ = baseline"
      ],
      "execution_count": 22,
      "outputs": []
    },
    {
      "cell_type": "code",
      "metadata": {
        "id": "DoxIDmJ3XCnq"
      },
      "source": [
        "x_training_fields = list(baseline.drop(columns=target).columns)\n",
        "x_training_ = baseline[x_training_fields].to_numpy()\n",
        "y_training_ = baseline[target].to_numpy()"
      ],
      "execution_count": 23,
      "outputs": []
    },
    {
      "cell_type": "markdown",
      "metadata": {
        "id": "uHFMUC2aGtiM"
      },
      "source": [
        "<br>\n",
        "<br>\n",
        "\n",
        "### Define"
      ]
    },
    {
      "cell_type": "markdown",
      "metadata": {
        "id": "RZLJ_nJCj_Nd"
      },
      "source": [
        "* https://docs.pymc.io/api/inference.html#module-pymc3.sampling"
      ]
    },
    {
      "cell_type": "markdown",
      "metadata": {
        "id": "VarPpgPQ4Mrx"
      },
      "source": [
        "\n",
        "Initially"
      ]
    },
    {
      "cell_type": "code",
      "metadata": {
        "id": "zly8Evv44Pm8"
      },
      "source": [
        "xshared = theano.shared(x_training_)"
      ],
      "execution_count": 24,
      "outputs": []
    },
    {
      "cell_type": "markdown",
      "metadata": {
        "id": "4dwtoF0y4XGh"
      },
      "source": [
        "<br>\n",
        "\n",
        "Therefore"
      ]
    },
    {
      "cell_type": "code",
      "metadata": {
        "colab": {
          "base_uri": "https://localhost:8080/",
          "height": 1000
        },
        "id": "C4ZFe5mF4ykw",
        "outputId": "ac4c8753-6332-4d1a-9e9c-ea73a6d4c09e"
      },
      "source": [
        "with pymc3.Model() as lm:\n",
        "\n",
        "    pymc3.glm.GLM(x=xshared, y=y_training_, intercept=True, labels=x_training_fields, \n",
        "                  priors={'Regressor': pymc3.StudentT.dist(nu=5.0, mu=0, sigma=15.0)}, \n",
        "                  family=pymc3.families.Binomial())\n",
        "    \n",
        "    # Trace\n",
        "    trace = pymc3.sample(tune=1000, draws=2000)\n",
        "\n",
        "    # The trace generated from MCMC sampling\n",
        "    arviztrace = az.from_pymc3(trace=trace)"
      ],
      "execution_count": 25,
      "outputs": [
        {
          "output_type": "stream",
          "text": [
            "Lock 140675097831184 acquired on /root/.theano/compiledir_Linux-5.4.104+-x86_64-with-Ubuntu-18.04-bionic-x86_64-3.7.10-64/.lock\n",
            "2021-07-10 03:07:40.794\n",
            "Lock 140675097831184 released on /root/.theano/compiledir_Linux-5.4.104+-x86_64-with-Ubuntu-18.04-bionic-x86_64-3.7.10-64/.lock\n",
            "2021-07-10 03:07:41.776\n",
            "Lock 140675216376592 acquired on /root/.theano/compiledir_Linux-5.4.104+-x86_64-with-Ubuntu-18.04-bionic-x86_64-3.7.10-64/.lock\n",
            "2021-07-10 03:07:41.780\n",
            "Lock 140675216376592 released on /root/.theano/compiledir_Linux-5.4.104+-x86_64-with-Ubuntu-18.04-bionic-x86_64-3.7.10-64/.lock\n",
            "2021-07-10 03:07:41.968\n",
            "Lock 140674962746576 acquired on /root/.theano/compiledir_Linux-5.4.104+-x86_64-with-Ubuntu-18.04-bionic-x86_64-3.7.10-64/.lock\n",
            "2021-07-10 03:07:41.976\n",
            "Lock 140674962746576 released on /root/.theano/compiledir_Linux-5.4.104+-x86_64-with-Ubuntu-18.04-bionic-x86_64-3.7.10-64/.lock\n",
            "2021-07-10 03:07:42.600\n",
            "Lock 140674963094544 acquired on /root/.theano/compiledir_Linux-5.4.104+-x86_64-with-Ubuntu-18.04-bionic-x86_64-3.7.10-64/.lock\n",
            "2021-07-10 03:07:42.609\n",
            "Lock 140674963094544 released on /root/.theano/compiledir_Linux-5.4.104+-x86_64-with-Ubuntu-18.04-bionic-x86_64-3.7.10-64/.lock\n",
            "2021-07-10 03:07:43.229\n",
            "Lock 140674962785232 acquired on /root/.theano/compiledir_Linux-5.4.104+-x86_64-with-Ubuntu-18.04-bionic-x86_64-3.7.10-64/.lock\n",
            "2021-07-10 03:07:43.237\n",
            "Lock 140674962785232 released on /root/.theano/compiledir_Linux-5.4.104+-x86_64-with-Ubuntu-18.04-bionic-x86_64-3.7.10-64/.lock\n",
            "2021-07-10 03:07:43.863\n",
            "Lock 140674962701328 acquired on /root/.theano/compiledir_Linux-5.4.104+-x86_64-with-Ubuntu-18.04-bionic-x86_64-3.7.10-64/.lock\n",
            "2021-07-10 03:07:43.870\n",
            "Lock 140674962701328 released on /root/.theano/compiledir_Linux-5.4.104+-x86_64-with-Ubuntu-18.04-bionic-x86_64-3.7.10-64/.lock\n",
            "2021-07-10 03:07:44.485\n",
            "Lock 140674962699408 acquired on /root/.theano/compiledir_Linux-5.4.104+-x86_64-with-Ubuntu-18.04-bionic-x86_64-3.7.10-64/.lock\n",
            "2021-07-10 03:07:44.493\n",
            "Lock 140674962699408 released on /root/.theano/compiledir_Linux-5.4.104+-x86_64-with-Ubuntu-18.04-bionic-x86_64-3.7.10-64/.lock\n",
            "2021-07-10 03:07:45.106\n",
            "Lock 140674944381456 acquired on /root/.theano/compiledir_Linux-5.4.104+-x86_64-with-Ubuntu-18.04-bionic-x86_64-3.7.10-64/.lock\n",
            "2021-07-10 03:07:45.113\n",
            "Lock 140674944381456 released on /root/.theano/compiledir_Linux-5.4.104+-x86_64-with-Ubuntu-18.04-bionic-x86_64-3.7.10-64/.lock\n",
            "2021-07-10 03:07:45.748\n",
            "Lock 140675097831696 acquired on /root/.theano/compiledir_Linux-5.4.104+-x86_64-with-Ubuntu-18.04-bionic-x86_64-3.7.10-64/.lock\n",
            "2021-07-10 03:07:45.755\n",
            "Lock 140675097831696 released on /root/.theano/compiledir_Linux-5.4.104+-x86_64-with-Ubuntu-18.04-bionic-x86_64-3.7.10-64/.lock\n",
            "2021-07-10 03:07:46.270\n",
            "Lock 140674935699600 acquired on /root/.theano/compiledir_Linux-5.4.104+-x86_64-with-Ubuntu-18.04-bionic-x86_64-3.7.10-64/.lock\n",
            "2021-07-10 03:07:46.278\n",
            "Lock 140674935699600 released on /root/.theano/compiledir_Linux-5.4.104+-x86_64-with-Ubuntu-18.04-bionic-x86_64-3.7.10-64/.lock\n",
            "2021-07-10 03:07:46.805\n",
            "Lock 140674935686800 acquired on /root/.theano/compiledir_Linux-5.4.104+-x86_64-with-Ubuntu-18.04-bionic-x86_64-3.7.10-64/.lock\n",
            "2021-07-10 03:07:46.814\n",
            "Lock 140674935686800 released on /root/.theano/compiledir_Linux-5.4.104+-x86_64-with-Ubuntu-18.04-bionic-x86_64-3.7.10-64/.lock\n",
            "2021-07-10 03:07:47.402\n",
            "Lock 140674935822672 acquired on /root/.theano/compiledir_Linux-5.4.104+-x86_64-with-Ubuntu-18.04-bionic-x86_64-3.7.10-64/.lock\n",
            "2021-07-10 03:07:47.409\n",
            "Lock 140674935822672 released on /root/.theano/compiledir_Linux-5.4.104+-x86_64-with-Ubuntu-18.04-bionic-x86_64-3.7.10-64/.lock\n",
            "2021-07-10 03:07:47.942\n",
            "Lock 140674935830672 acquired on /root/.theano/compiledir_Linux-5.4.104+-x86_64-with-Ubuntu-18.04-bionic-x86_64-3.7.10-64/.lock\n",
            "2021-07-10 03:07:47.951\n",
            "Lock 140674935830672 released on /root/.theano/compiledir_Linux-5.4.104+-x86_64-with-Ubuntu-18.04-bionic-x86_64-3.7.10-64/.lock\n",
            "2021-07-10 03:07:48.575\n",
            "Lock 140674926770896 acquired on /root/.theano/compiledir_Linux-5.4.104+-x86_64-with-Ubuntu-18.04-bionic-x86_64-3.7.10-64/.lock\n",
            "2021-07-10 03:07:48.589\n",
            "Lock 140674926770896 released on /root/.theano/compiledir_Linux-5.4.104+-x86_64-with-Ubuntu-18.04-bionic-x86_64-3.7.10-64/.lock\n",
            "2021-07-10 03:07:49.182\n",
            "Lock 140674926769808 acquired on /root/.theano/compiledir_Linux-5.4.104+-x86_64-with-Ubuntu-18.04-bionic-x86_64-3.7.10-64/.lock\n",
            "2021-07-10 03:07:49.187\n",
            "Lock 140674926769808 released on /root/.theano/compiledir_Linux-5.4.104+-x86_64-with-Ubuntu-18.04-bionic-x86_64-3.7.10-64/.lock\n",
            "2021-07-10 03:07:49.785\n",
            "Lock 140674926842064 acquired on /root/.theano/compiledir_Linux-5.4.104+-x86_64-with-Ubuntu-18.04-bionic-x86_64-3.7.10-64/.lock\n",
            "2021-07-10 03:07:49.798\n",
            "Lock 140674926842064 released on /root/.theano/compiledir_Linux-5.4.104+-x86_64-with-Ubuntu-18.04-bionic-x86_64-3.7.10-64/.lock\n",
            "2021-07-10 03:07:49.807\n",
            "Lock 140674926857040 acquired on /root/.theano/compiledir_Linux-5.4.104+-x86_64-with-Ubuntu-18.04-bionic-x86_64-3.7.10-64/.lock\n",
            "2021-07-10 03:07:49.814\n",
            "Lock 140674926857040 released on /root/.theano/compiledir_Linux-5.4.104+-x86_64-with-Ubuntu-18.04-bionic-x86_64-3.7.10-64/.lock\n",
            "2021-07-10 03:07:50.451\n",
            "Lock 140674926869008 acquired on /root/.theano/compiledir_Linux-5.4.104+-x86_64-with-Ubuntu-18.04-bionic-x86_64-3.7.10-64/.lock\n",
            "2021-07-10 03:07:50.458\n",
            "Lock 140674926869008 released on /root/.theano/compiledir_Linux-5.4.104+-x86_64-with-Ubuntu-18.04-bionic-x86_64-3.7.10-64/.lock\n",
            "2021-07-10 03:07:51.076\n",
            "Lock 140674926742992 acquired on /root/.theano/compiledir_Linux-5.4.104+-x86_64-with-Ubuntu-18.04-bionic-x86_64-3.7.10-64/.lock\n",
            "2021-07-10 03:07:51.082\n",
            "Lock 140674926742992 released on /root/.theano/compiledir_Linux-5.4.104+-x86_64-with-Ubuntu-18.04-bionic-x86_64-3.7.10-64/.lock\n",
            "2021-07-10 03:07:51.682\n",
            "Lock 140674926797392 acquired on /root/.theano/compiledir_Linux-5.4.104+-x86_64-with-Ubuntu-18.04-bionic-x86_64-3.7.10-64/.lock\n",
            "2021-07-10 03:07:51.690\n",
            "Lock 140674926797392 released on /root/.theano/compiledir_Linux-5.4.104+-x86_64-with-Ubuntu-18.04-bionic-x86_64-3.7.10-64/.lock\n",
            "2021-07-10 03:07:51.693\n",
            "Lock 140674926797648 acquired on /root/.theano/compiledir_Linux-5.4.104+-x86_64-with-Ubuntu-18.04-bionic-x86_64-3.7.10-64/.lock\n",
            "2021-07-10 03:07:51.701\n",
            "Lock 140674926797648 released on /root/.theano/compiledir_Linux-5.4.104+-x86_64-with-Ubuntu-18.04-bionic-x86_64-3.7.10-64/.lock\n",
            "2021-07-10 03:07:51.703\n",
            "Lock 140674935831760 acquired on /root/.theano/compiledir_Linux-5.4.104+-x86_64-with-Ubuntu-18.04-bionic-x86_64-3.7.10-64/.lock\n",
            "2021-07-10 03:07:51.708\n",
            "Lock 140674935831760 released on /root/.theano/compiledir_Linux-5.4.104+-x86_64-with-Ubuntu-18.04-bionic-x86_64-3.7.10-64/.lock\n",
            "2021-07-10 03:07:52.324\n",
            "Lock 140674926802192 acquired on /root/.theano/compiledir_Linux-5.4.104+-x86_64-with-Ubuntu-18.04-bionic-x86_64-3.7.10-64/.lock\n",
            "2021-07-10 03:07:52.332\n",
            "Lock 140674926802192 released on /root/.theano/compiledir_Linux-5.4.104+-x86_64-with-Ubuntu-18.04-bionic-x86_64-3.7.10-64/.lock\n",
            "2021-07-10 03:07:52.941\n",
            "Lock 140674922232080 acquired on /root/.theano/compiledir_Linux-5.4.104+-x86_64-with-Ubuntu-18.04-bionic-x86_64-3.7.10-64/.lock\n",
            "2021-07-10 03:07:52.947\n",
            "Lock 140674922232080 released on /root/.theano/compiledir_Linux-5.4.104+-x86_64-with-Ubuntu-18.04-bionic-x86_64-3.7.10-64/.lock\n",
            "2021-07-10 03:07:53.573\n",
            "Lock 140674922200016 acquired on /root/.theano/compiledir_Linux-5.4.104+-x86_64-with-Ubuntu-18.04-bionic-x86_64-3.7.10-64/.lock\n",
            "2021-07-10 03:07:53.580\n",
            "Lock 140674922200016 released on /root/.theano/compiledir_Linux-5.4.104+-x86_64-with-Ubuntu-18.04-bionic-x86_64-3.7.10-64/.lock\n",
            "2021-07-10 03:07:53.582\n",
            "Lock 140674922300688 acquired on /root/.theano/compiledir_Linux-5.4.104+-x86_64-with-Ubuntu-18.04-bionic-x86_64-3.7.10-64/.lock\n",
            "2021-07-10 03:07:53.589\n",
            "Lock 140674922300688 released on /root/.theano/compiledir_Linux-5.4.104+-x86_64-with-Ubuntu-18.04-bionic-x86_64-3.7.10-64/.lock\n",
            "2021-07-10 03:07:54.217\n",
            "Lock 140674922208912 acquired on /root/.theano/compiledir_Linux-5.4.104+-x86_64-with-Ubuntu-18.04-bionic-x86_64-3.7.10-64/.lock\n",
            "2021-07-10 03:07:54.231\n",
            "Lock 140674922208912 released on /root/.theano/compiledir_Linux-5.4.104+-x86_64-with-Ubuntu-18.04-bionic-x86_64-3.7.10-64/.lock\n",
            "2021-07-10 03:07:54.235\n",
            "Lock 140674922361488 acquired on /root/.theano/compiledir_Linux-5.4.104+-x86_64-with-Ubuntu-18.04-bionic-x86_64-3.7.10-64/.lock\n",
            "2021-07-10 03:07:54.242\n",
            "Lock 140674922361488 released on /root/.theano/compiledir_Linux-5.4.104+-x86_64-with-Ubuntu-18.04-bionic-x86_64-3.7.10-64/.lock\n",
            "2021-07-10 03:07:54.873\n",
            "Lock 140674922210192 acquired on /root/.theano/compiledir_Linux-5.4.104+-x86_64-with-Ubuntu-18.04-bionic-x86_64-3.7.10-64/.lock\n",
            "2021-07-10 03:07:54.879\n",
            "Lock 140674922210192 released on /root/.theano/compiledir_Linux-5.4.104+-x86_64-with-Ubuntu-18.04-bionic-x86_64-3.7.10-64/.lock\n",
            "2021-07-10 03:07:54.882\n",
            "Lock 140674922346000 acquired on /root/.theano/compiledir_Linux-5.4.104+-x86_64-with-Ubuntu-18.04-bionic-x86_64-3.7.10-64/.lock\n",
            "2021-07-10 03:07:54.889\n",
            "Lock 140674922346000 released on /root/.theano/compiledir_Linux-5.4.104+-x86_64-with-Ubuntu-18.04-bionic-x86_64-3.7.10-64/.lock\n",
            "2021-07-10 03:07:54.892\n",
            "Lock 140674922139216 acquired on /root/.theano/compiledir_Linux-5.4.104+-x86_64-with-Ubuntu-18.04-bionic-x86_64-3.7.10-64/.lock\n",
            "2021-07-10 03:07:54.897\n",
            "Lock 140674922139216 released on /root/.theano/compiledir_Linux-5.4.104+-x86_64-with-Ubuntu-18.04-bionic-x86_64-3.7.10-64/.lock\n",
            "2021-07-10 03:07:55.511\n",
            "Lock 140674922148560 acquired on /root/.theano/compiledir_Linux-5.4.104+-x86_64-with-Ubuntu-18.04-bionic-x86_64-3.7.10-64/.lock\n",
            "2021-07-10 03:07:55.521\n",
            "Lock 140674922148560 released on /root/.theano/compiledir_Linux-5.4.104+-x86_64-with-Ubuntu-18.04-bionic-x86_64-3.7.10-64/.lock\n",
            "2021-07-10 03:07:55.523\n",
            "Lock 140674926769872 acquired on /root/.theano/compiledir_Linux-5.4.104+-x86_64-with-Ubuntu-18.04-bionic-x86_64-3.7.10-64/.lock\n",
            "2021-07-10 03:07:55.530\n",
            "Lock 140674926769872 released on /root/.theano/compiledir_Linux-5.4.104+-x86_64-with-Ubuntu-18.04-bionic-x86_64-3.7.10-64/.lock\n",
            "2021-07-10 03:07:55.533\n",
            "Lock 140674922362256 acquired on /root/.theano/compiledir_Linux-5.4.104+-x86_64-with-Ubuntu-18.04-bionic-x86_64-3.7.10-64/.lock\n",
            "2021-07-10 03:07:55.541\n",
            "Lock 140674922362256 released on /root/.theano/compiledir_Linux-5.4.104+-x86_64-with-Ubuntu-18.04-bionic-x86_64-3.7.10-64/.lock\n",
            "2021-07-10 03:07:55.544\n",
            "Lock 140674922242128 acquired on /root/.theano/compiledir_Linux-5.4.104+-x86_64-with-Ubuntu-18.04-bionic-x86_64-3.7.10-64/.lock\n",
            "2021-07-10 03:07:55.557\n",
            "Lock 140674922242128 released on /root/.theano/compiledir_Linux-5.4.104+-x86_64-with-Ubuntu-18.04-bionic-x86_64-3.7.10-64/.lock\n",
            "2021-07-10 03:07:56.191\n",
            "Lock 140674922150288 acquired on /root/.theano/compiledir_Linux-5.4.104+-x86_64-with-Ubuntu-18.04-bionic-x86_64-3.7.10-64/.lock\n",
            "2021-07-10 03:07:56.196\n",
            "Lock 140674922150288 released on /root/.theano/compiledir_Linux-5.4.104+-x86_64-with-Ubuntu-18.04-bionic-x86_64-3.7.10-64/.lock\n",
            "2021-07-10 03:07:56.823\n",
            "Lock 140674922243600 acquired on /root/.theano/compiledir_Linux-5.4.104+-x86_64-with-Ubuntu-18.04-bionic-x86_64-3.7.10-64/.lock\n",
            "2021-07-10 03:07:56.832\n",
            "Lock 140674922243600 released on /root/.theano/compiledir_Linux-5.4.104+-x86_64-with-Ubuntu-18.04-bionic-x86_64-3.7.10-64/.lock\n",
            "2021-07-10 03:07:56.835\n",
            "Lock 140674902954256 acquired on /root/.theano/compiledir_Linux-5.4.104+-x86_64-with-Ubuntu-18.04-bionic-x86_64-3.7.10-64/.lock\n",
            "2021-07-10 03:07:56.843\n",
            "Lock 140674902954256 released on /root/.theano/compiledir_Linux-5.4.104+-x86_64-with-Ubuntu-18.04-bionic-x86_64-3.7.10-64/.lock\n",
            "2021-07-10 03:07:56.846\n",
            "Lock 140674878321424 acquired on /root/.theano/compiledir_Linux-5.4.104+-x86_64-with-Ubuntu-18.04-bionic-x86_64-3.7.10-64/.lock\n",
            "2021-07-10 03:07:59.609\n",
            "Lock 140674878321424 released on /root/.theano/compiledir_Linux-5.4.104+-x86_64-with-Ubuntu-18.04-bionic-x86_64-3.7.10-64/.lock\n",
            "2021-07-10 03:08:00.952\n",
            "Lock 140674877279632 acquired on /root/.theano/compiledir_Linux-5.4.104+-x86_64-with-Ubuntu-18.04-bionic-x86_64-3.7.10-64/.lock\n",
            "2021-07-10 03:08:00.969\n",
            "Lock 140674877279632 released on /root/.theano/compiledir_Linux-5.4.104+-x86_64-with-Ubuntu-18.04-bionic-x86_64-3.7.10-64/.lock\n",
            "2021-07-10 03:08:01.600\n",
            "Lock 140674878414160 acquired on /root/.theano/compiledir_Linux-5.4.104+-x86_64-with-Ubuntu-18.04-bionic-x86_64-3.7.10-64/.lock\n",
            "2021-07-10 03:08:01.608\n",
            "Lock 140674878414160 released on /root/.theano/compiledir_Linux-5.4.104+-x86_64-with-Ubuntu-18.04-bionic-x86_64-3.7.10-64/.lock\n",
            "2021-07-10 03:08:02.268\n",
            "Lock 140674878034256 acquired on /root/.theano/compiledir_Linux-5.4.104+-x86_64-with-Ubuntu-18.04-bionic-x86_64-3.7.10-64/.lock\n",
            "2021-07-10 03:08:02.276\n",
            "Lock 140674878034256 released on /root/.theano/compiledir_Linux-5.4.104+-x86_64-with-Ubuntu-18.04-bionic-x86_64-3.7.10-64/.lock\n",
            "2021-07-10 03:08:02.913\n",
            "Lock 140674868536080 acquired on /root/.theano/compiledir_Linux-5.4.104+-x86_64-with-Ubuntu-18.04-bionic-x86_64-3.7.10-64/.lock\n",
            "2021-07-10 03:08:02.924\n",
            "Lock 140674868536080 released on /root/.theano/compiledir_Linux-5.4.104+-x86_64-with-Ubuntu-18.04-bionic-x86_64-3.7.10-64/.lock\n",
            "2021-07-10 03:08:02.926\n",
            "Lock 140674868535632 acquired on /root/.theano/compiledir_Linux-5.4.104+-x86_64-with-Ubuntu-18.04-bionic-x86_64-3.7.10-64/.lock\n",
            "2021-07-10 03:08:02.933\n",
            "Lock 140674868535632 released on /root/.theano/compiledir_Linux-5.4.104+-x86_64-with-Ubuntu-18.04-bionic-x86_64-3.7.10-64/.lock\n",
            "2021-07-10 03:08:03.627\n",
            "Lock 140674868600656 acquired on /root/.theano/compiledir_Linux-5.4.104+-x86_64-with-Ubuntu-18.04-bionic-x86_64-3.7.10-64/.lock\n",
            "2021-07-10 03:08:03.635\n",
            "Lock 140674868600656 released on /root/.theano/compiledir_Linux-5.4.104+-x86_64-with-Ubuntu-18.04-bionic-x86_64-3.7.10-64/.lock\n",
            "2021-07-10 03:08:04.263\n",
            "Lock 140674868522960 acquired on /root/.theano/compiledir_Linux-5.4.104+-x86_64-with-Ubuntu-18.04-bionic-x86_64-3.7.10-64/.lock\n",
            "2021-07-10 03:08:04.270\n",
            "Lock 140674868522960 released on /root/.theano/compiledir_Linux-5.4.104+-x86_64-with-Ubuntu-18.04-bionic-x86_64-3.7.10-64/.lock\n",
            "2021-07-10 03:08:04.894\n",
            "Lock 140674868535696 acquired on /root/.theano/compiledir_Linux-5.4.104+-x86_64-with-Ubuntu-18.04-bionic-x86_64-3.7.10-64/.lock\n",
            "2021-07-10 03:08:04.905\n",
            "Lock 140674868535696 released on /root/.theano/compiledir_Linux-5.4.104+-x86_64-with-Ubuntu-18.04-bionic-x86_64-3.7.10-64/.lock\n",
            "2021-07-10 03:08:05.539\n",
            "Lock 140674877919504 acquired on /root/.theano/compiledir_Linux-5.4.104+-x86_64-with-Ubuntu-18.04-bionic-x86_64-3.7.10-64/.lock\n",
            "2021-07-10 03:08:05.544\n",
            "Lock 140674877919504 released on /root/.theano/compiledir_Linux-5.4.104+-x86_64-with-Ubuntu-18.04-bionic-x86_64-3.7.10-64/.lock\n",
            "2021-07-10 03:08:06.153\n",
            "Lock 140674861838416 acquired on /root/.theano/compiledir_Linux-5.4.104+-x86_64-with-Ubuntu-18.04-bionic-x86_64-3.7.10-64/.lock\n",
            "2021-07-10 03:08:06.164\n",
            "Lock 140674861838416 released on /root/.theano/compiledir_Linux-5.4.104+-x86_64-with-Ubuntu-18.04-bionic-x86_64-3.7.10-64/.lock\n",
            "2021-07-10 03:08:06.167\n",
            "Lock 140674861890512 acquired on /root/.theano/compiledir_Linux-5.4.104+-x86_64-with-Ubuntu-18.04-bionic-x86_64-3.7.10-64/.lock\n",
            "2021-07-10 03:08:06.176\n",
            "Lock 140674861890512 released on /root/.theano/compiledir_Linux-5.4.104+-x86_64-with-Ubuntu-18.04-bionic-x86_64-3.7.10-64/.lock\n",
            "2021-07-10 03:08:06.836\n",
            "Lock 140674868640080 acquired on /root/.theano/compiledir_Linux-5.4.104+-x86_64-with-Ubuntu-18.04-bionic-x86_64-3.7.10-64/.lock\n",
            "2021-07-10 03:08:06.843\n",
            "Lock 140674868640080 released on /root/.theano/compiledir_Linux-5.4.104+-x86_64-with-Ubuntu-18.04-bionic-x86_64-3.7.10-64/.lock\n",
            "2021-07-10 03:08:07.483\n",
            "Lock 140674861842384 acquired on /root/.theano/compiledir_Linux-5.4.104+-x86_64-with-Ubuntu-18.04-bionic-x86_64-3.7.10-64/.lock\n",
            "2021-07-10 03:08:07.495\n",
            "Lock 140674861842384 released on /root/.theano/compiledir_Linux-5.4.104+-x86_64-with-Ubuntu-18.04-bionic-x86_64-3.7.10-64/.lock\n",
            "2021-07-10 03:08:07.498\n",
            "Lock 140674861791504 acquired on /root/.theano/compiledir_Linux-5.4.104+-x86_64-with-Ubuntu-18.04-bionic-x86_64-3.7.10-64/.lock\n",
            "2021-07-10 03:08:07.505\n",
            "Lock 140674861791504 released on /root/.theano/compiledir_Linux-5.4.104+-x86_64-with-Ubuntu-18.04-bionic-x86_64-3.7.10-64/.lock\n",
            "2021-07-10 03:08:08.181\n",
            "Lock 140674868644048 acquired on /root/.theano/compiledir_Linux-5.4.104+-x86_64-with-Ubuntu-18.04-bionic-x86_64-3.7.10-64/.lock\n",
            "2021-07-10 03:08:08.194\n",
            "Lock 140674868644048 released on /root/.theano/compiledir_Linux-5.4.104+-x86_64-with-Ubuntu-18.04-bionic-x86_64-3.7.10-64/.lock\n",
            "2021-07-10 03:08:08.867\n",
            "Lock 140674861862800 acquired on /root/.theano/compiledir_Linux-5.4.104+-x86_64-with-Ubuntu-18.04-bionic-x86_64-3.7.10-64/.lock\n",
            "2021-07-10 03:08:08.880\n",
            "Lock 140674861862800 released on /root/.theano/compiledir_Linux-5.4.104+-x86_64-with-Ubuntu-18.04-bionic-x86_64-3.7.10-64/.lock\n",
            "2021-07-10 03:08:08.883\n",
            "Lock 140674868645584 acquired on /root/.theano/compiledir_Linux-5.4.104+-x86_64-with-Ubuntu-18.04-bionic-x86_64-3.7.10-64/.lock\n",
            "2021-07-10 03:08:08.892\n",
            "Lock 140674868645584 released on /root/.theano/compiledir_Linux-5.4.104+-x86_64-with-Ubuntu-18.04-bionic-x86_64-3.7.10-64/.lock\n",
            "2021-07-10 03:08:09.584\n",
            "Lock 140674861950352 acquired on /root/.theano/compiledir_Linux-5.4.104+-x86_64-with-Ubuntu-18.04-bionic-x86_64-3.7.10-64/.lock\n",
            "2021-07-10 03:08:09.595\n",
            "Lock 140674861950352 released on /root/.theano/compiledir_Linux-5.4.104+-x86_64-with-Ubuntu-18.04-bionic-x86_64-3.7.10-64/.lock\n",
            "2021-07-10 03:08:09.598\n",
            "Lock 140674868598672 acquired on /root/.theano/compiledir_Linux-5.4.104+-x86_64-with-Ubuntu-18.04-bionic-x86_64-3.7.10-64/.lock\n",
            "2021-07-10 03:08:09.605\n",
            "Lock 140674868598672 released on /root/.theano/compiledir_Linux-5.4.104+-x86_64-with-Ubuntu-18.04-bionic-x86_64-3.7.10-64/.lock\n",
            "2021-07-10 03:08:10.305\n",
            "Lock 140674861888848 acquired on /root/.theano/compiledir_Linux-5.4.104+-x86_64-with-Ubuntu-18.04-bionic-x86_64-3.7.10-64/.lock\n",
            "2021-07-10 03:08:10.321\n",
            "Lock 140674861888848 released on /root/.theano/compiledir_Linux-5.4.104+-x86_64-with-Ubuntu-18.04-bionic-x86_64-3.7.10-64/.lock\n",
            "2021-07-10 03:08:11.005\n",
            "Lock 140674846814864 acquired on /root/.theano/compiledir_Linux-5.4.104+-x86_64-with-Ubuntu-18.04-bionic-x86_64-3.7.10-64/.lock\n",
            "2021-07-10 03:08:11.018\n",
            "Lock 140674846814864 released on /root/.theano/compiledir_Linux-5.4.104+-x86_64-with-Ubuntu-18.04-bionic-x86_64-3.7.10-64/.lock\n",
            "2021-07-10 03:08:11.025\n",
            "Lock 140674861825616 acquired on /root/.theano/compiledir_Linux-5.4.104+-x86_64-with-Ubuntu-18.04-bionic-x86_64-3.7.10-64/.lock\n",
            "2021-07-10 03:08:11.030\n",
            "Lock 140674861825616 released on /root/.theano/compiledir_Linux-5.4.104+-x86_64-with-Ubuntu-18.04-bionic-x86_64-3.7.10-64/.lock\n",
            "2021-07-10 03:08:11.709\n",
            "Lock 140674861822032 acquired on /root/.theano/compiledir_Linux-5.4.104+-x86_64-with-Ubuntu-18.04-bionic-x86_64-3.7.10-64/.lock\n",
            "2021-07-10 03:08:11.715\n",
            "Lock 140674861822032 released on /root/.theano/compiledir_Linux-5.4.104+-x86_64-with-Ubuntu-18.04-bionic-x86_64-3.7.10-64/.lock\n",
            "2021-07-10 03:08:12.348\n",
            "Lock 140674862025104 acquired on /root/.theano/compiledir_Linux-5.4.104+-x86_64-with-Ubuntu-18.04-bionic-x86_64-3.7.10-64/.lock\n",
            "2021-07-10 03:08:12.358\n",
            "Lock 140674862025104 released on /root/.theano/compiledir_Linux-5.4.104+-x86_64-with-Ubuntu-18.04-bionic-x86_64-3.7.10-64/.lock\n",
            "2021-07-10 03:08:13.023\n",
            "Lock 140674868557904 acquired on /root/.theano/compiledir_Linux-5.4.104+-x86_64-with-Ubuntu-18.04-bionic-x86_64-3.7.10-64/.lock\n",
            "2021-07-10 03:08:13.030\n",
            "Lock 140674868557904 released on /root/.theano/compiledir_Linux-5.4.104+-x86_64-with-Ubuntu-18.04-bionic-x86_64-3.7.10-64/.lock\n",
            "2021-07-10 03:08:13.734\n",
            "Lock 140674877321040 acquired on /root/.theano/compiledir_Linux-5.4.104+-x86_64-with-Ubuntu-18.04-bionic-x86_64-3.7.10-64/.lock\n",
            "2021-07-10 03:08:13.744\n",
            "Lock 140674877321040 released on /root/.theano/compiledir_Linux-5.4.104+-x86_64-with-Ubuntu-18.04-bionic-x86_64-3.7.10-64/.lock\n",
            "2021-07-10 03:08:14.416\n",
            "Lock 140674861825424 acquired on /root/.theano/compiledir_Linux-5.4.104+-x86_64-with-Ubuntu-18.04-bionic-x86_64-3.7.10-64/.lock\n",
            "2021-07-10 03:08:14.428\n",
            "Lock 140674861825424 released on /root/.theano/compiledir_Linux-5.4.104+-x86_64-with-Ubuntu-18.04-bionic-x86_64-3.7.10-64/.lock\n",
            "2021-07-10 03:08:15.103\n",
            "Lock 140674877178384 acquired on /root/.theano/compiledir_Linux-5.4.104+-x86_64-with-Ubuntu-18.04-bionic-x86_64-3.7.10-64/.lock\n",
            "2021-07-10 03:08:15.121\n",
            "Lock 140674877178384 released on /root/.theano/compiledir_Linux-5.4.104+-x86_64-with-Ubuntu-18.04-bionic-x86_64-3.7.10-64/.lock\n",
            "2021-07-10 03:08:15.123\n",
            "Lock 140674868642832 acquired on /root/.theano/compiledir_Linux-5.4.104+-x86_64-with-Ubuntu-18.04-bionic-x86_64-3.7.10-64/.lock\n",
            "2021-07-10 03:08:15.139\n",
            "Lock 140674868642832 released on /root/.theano/compiledir_Linux-5.4.104+-x86_64-with-Ubuntu-18.04-bionic-x86_64-3.7.10-64/.lock\n",
            "2021-07-10 03:08:15.143\n",
            "Lock 140674846862032 acquired on /root/.theano/compiledir_Linux-5.4.104+-x86_64-with-Ubuntu-18.04-bionic-x86_64-3.7.10-64/.lock\n",
            "2021-07-10 03:08:15.157\n",
            "Lock 140674846862032 released on /root/.theano/compiledir_Linux-5.4.104+-x86_64-with-Ubuntu-18.04-bionic-x86_64-3.7.10-64/.lock\n",
            "2021-07-10 03:08:15.822\n",
            "Lock 140674861822736 acquired on /root/.theano/compiledir_Linux-5.4.104+-x86_64-with-Ubuntu-18.04-bionic-x86_64-3.7.10-64/.lock\n",
            "2021-07-10 03:08:15.834\n",
            "Lock 140674861822736 released on /root/.theano/compiledir_Linux-5.4.104+-x86_64-with-Ubuntu-18.04-bionic-x86_64-3.7.10-64/.lock\n",
            "2021-07-10 03:08:16.501\n",
            "Lock 140674846986192 acquired on /root/.theano/compiledir_Linux-5.4.104+-x86_64-with-Ubuntu-18.04-bionic-x86_64-3.7.10-64/.lock\n",
            "2021-07-10 03:08:16.511\n",
            "Lock 140674846986192 released on /root/.theano/compiledir_Linux-5.4.104+-x86_64-with-Ubuntu-18.04-bionic-x86_64-3.7.10-64/.lock\n",
            "2021-07-10 03:08:17.210\n",
            "Lock 140674846986192 acquired on /root/.theano/compiledir_Linux-5.4.104+-x86_64-with-Ubuntu-18.04-bionic-x86_64-3.7.10-64/.lock\n",
            "2021-07-10 03:08:17.220\n",
            "Lock 140674846986192 released on /root/.theano/compiledir_Linux-5.4.104+-x86_64-with-Ubuntu-18.04-bionic-x86_64-3.7.10-64/.lock\n",
            "2021-07-10 03:08:17.883\n",
            "Lock 140674825349072 acquired on /root/.theano/compiledir_Linux-5.4.104+-x86_64-with-Ubuntu-18.04-bionic-x86_64-3.7.10-64/.lock\n",
            "2021-07-10 03:08:17.894\n",
            "Lock 140674825349072 released on /root/.theano/compiledir_Linux-5.4.104+-x86_64-with-Ubuntu-18.04-bionic-x86_64-3.7.10-64/.lock\n",
            "2021-07-10 03:08:18.555\n",
            "Lock 140674825393424 acquired on /root/.theano/compiledir_Linux-5.4.104+-x86_64-with-Ubuntu-18.04-bionic-x86_64-3.7.10-64/.lock\n",
            "2021-07-10 03:08:18.566\n",
            "Lock 140674825393424 released on /root/.theano/compiledir_Linux-5.4.104+-x86_64-with-Ubuntu-18.04-bionic-x86_64-3.7.10-64/.lock\n",
            "2021-07-10 03:08:19.250\n",
            "Lock 140674846908752 acquired on /root/.theano/compiledir_Linux-5.4.104+-x86_64-with-Ubuntu-18.04-bionic-x86_64-3.7.10-64/.lock\n",
            "2021-07-10 03:08:19.262\n",
            "Lock 140674846908752 released on /root/.theano/compiledir_Linux-5.4.104+-x86_64-with-Ubuntu-18.04-bionic-x86_64-3.7.10-64/.lock\n",
            "2021-07-10 03:08:19.937\n",
            "Lock 140674825540496 acquired on /root/.theano/compiledir_Linux-5.4.104+-x86_64-with-Ubuntu-18.04-bionic-x86_64-3.7.10-64/.lock\n",
            "2021-07-10 03:08:19.955\n",
            "Lock 140674825540496 released on /root/.theano/compiledir_Linux-5.4.104+-x86_64-with-Ubuntu-18.04-bionic-x86_64-3.7.10-64/.lock\n",
            "2021-07-10 03:08:20.653\n",
            "Lock 140674825340368 acquired on /root/.theano/compiledir_Linux-5.4.104+-x86_64-with-Ubuntu-18.04-bionic-x86_64-3.7.10-64/.lock\n",
            "2021-07-10 03:08:20.762\n",
            "Lock 140674825340368 released on /root/.theano/compiledir_Linux-5.4.104+-x86_64-with-Ubuntu-18.04-bionic-x86_64-3.7.10-64/.lock\n",
            "2021-07-10 03:08:21.372\n",
            "Lock 140674812518608 acquired on /root/.theano/compiledir_Linux-5.4.104+-x86_64-with-Ubuntu-18.04-bionic-x86_64-3.7.10-64/.lock\n",
            "2021-07-10 03:08:21.466\n",
            "Lock 140674812518608 released on /root/.theano/compiledir_Linux-5.4.104+-x86_64-with-Ubuntu-18.04-bionic-x86_64-3.7.10-64/.lock\n",
            "2021-07-10 03:08:22.016\n",
            "Lock 140674812130640 acquired on /root/.theano/compiledir_Linux-5.4.104+-x86_64-with-Ubuntu-18.04-bionic-x86_64-3.7.10-64/.lock\n",
            "2021-07-10 03:08:22.022\n",
            "Lock 140674812130640 released on /root/.theano/compiledir_Linux-5.4.104+-x86_64-with-Ubuntu-18.04-bionic-x86_64-3.7.10-64/.lock\n",
            "2021-07-10 03:08:22.030\n",
            "Lock 140674806122000 acquired on /root/.theano/compiledir_Linux-5.4.104+-x86_64-with-Ubuntu-18.04-bionic-x86_64-3.7.10-64/.lock\n",
            "2021-07-10 03:08:22.070\n",
            "Lock 140674806122000 released on /root/.theano/compiledir_Linux-5.4.104+-x86_64-with-Ubuntu-18.04-bionic-x86_64-3.7.10-64/.lock\n",
            "2021-07-10 03:08:22.598\n",
            "Lock 140674809517136 acquired on /root/.theano/compiledir_Linux-5.4.104+-x86_64-with-Ubuntu-18.04-bionic-x86_64-3.7.10-64/.lock\n",
            "2021-07-10 03:08:22.603\n",
            "Compiling new CVM\n",
            "2021-07-10 03:08:22.606\n",
            "New version 0.211\n",
            "2021-07-10 03:08:22.867\n",
            "Lock 140674809517136 released on /root/.theano/compiledir_Linux-5.4.104+-x86_64-with-Ubuntu-18.04-bionic-x86_64-3.7.10-64/.lock\n",
            "2021-07-10 03:08:22.869\n",
            "Lock 140674889396624 acquired on /root/.theano/compiledir_Linux-5.4.104+-x86_64-with-Ubuntu-18.04-bionic-x86_64-3.7.10-64/.lock\n",
            "2021-07-10 03:08:23.143\n",
            "Lock 140674889396624 released on /root/.theano/compiledir_Linux-5.4.104+-x86_64-with-Ubuntu-18.04-bionic-x86_64-3.7.10-64/.lock\n",
            "2021-07-10 03:08:23.833\n",
            "Lock 140674798612048 acquired on /root/.theano/compiledir_Linux-5.4.104+-x86_64-with-Ubuntu-18.04-bionic-x86_64-3.7.10-64/.lock\n",
            "2021-07-10 03:08:25.466\n",
            "Lock 140674798612048 released on /root/.theano/compiledir_Linux-5.4.104+-x86_64-with-Ubuntu-18.04-bionic-x86_64-3.7.10-64/.lock\n",
            "2021-07-10 03:08:25.469\n",
            "Lock 140674793562832 acquired on /root/.theano/compiledir_Linux-5.4.104+-x86_64-with-Ubuntu-18.04-bionic-x86_64-3.7.10-64/.lock\n",
            "2021-07-10 03:08:25.479\n",
            "Lock 140674793562832 released on /root/.theano/compiledir_Linux-5.4.104+-x86_64-with-Ubuntu-18.04-bionic-x86_64-3.7.10-64/.lock\n",
            "2021-07-10 03:08:25.482\n",
            "Lock 140674793563792 acquired on /root/.theano/compiledir_Linux-5.4.104+-x86_64-with-Ubuntu-18.04-bionic-x86_64-3.7.10-64/.lock\n",
            "2021-07-10 03:08:25.491\n",
            "Lock 140674793563792 released on /root/.theano/compiledir_Linux-5.4.104+-x86_64-with-Ubuntu-18.04-bionic-x86_64-3.7.10-64/.lock\n",
            "2021-07-10 03:08:26.184\n",
            "Lock 140674896960272 acquired on /root/.theano/compiledir_Linux-5.4.104+-x86_64-with-Ubuntu-18.04-bionic-x86_64-3.7.10-64/.lock\n",
            "2021-07-10 03:08:26.199\n",
            "Lock 140674896960272 released on /root/.theano/compiledir_Linux-5.4.104+-x86_64-with-Ubuntu-18.04-bionic-x86_64-3.7.10-64/.lock\n",
            "2021-07-10 03:08:26.202\n",
            "Lock 140674825373200 acquired on /root/.theano/compiledir_Linux-5.4.104+-x86_64-with-Ubuntu-18.04-bionic-x86_64-3.7.10-64/.lock\n",
            "2021-07-10 03:08:26.212\n",
            "Lock 140674825373200 released on /root/.theano/compiledir_Linux-5.4.104+-x86_64-with-Ubuntu-18.04-bionic-x86_64-3.7.10-64/.lock\n",
            "2021-07-10 03:08:26.215\n",
            "Lock 140674889254544 acquired on /root/.theano/compiledir_Linux-5.4.104+-x86_64-with-Ubuntu-18.04-bionic-x86_64-3.7.10-64/.lock\n",
            "2021-07-10 03:08:26.224\n",
            "Lock 140674889254544 released on /root/.theano/compiledir_Linux-5.4.104+-x86_64-with-Ubuntu-18.04-bionic-x86_64-3.7.10-64/.lock\n",
            "2021-07-10 03:08:26.859\n",
            "Lock 140674793731920 acquired on /root/.theano/compiledir_Linux-5.4.104+-x86_64-with-Ubuntu-18.04-bionic-x86_64-3.7.10-64/.lock\n",
            "2021-07-10 03:08:26.870\n",
            "Lock 140674793731920 released on /root/.theano/compiledir_Linux-5.4.104+-x86_64-with-Ubuntu-18.04-bionic-x86_64-3.7.10-64/.lock\n",
            "2021-07-10 03:08:26.874\n",
            "Lock 140674796755920 acquired on /root/.theano/compiledir_Linux-5.4.104+-x86_64-with-Ubuntu-18.04-bionic-x86_64-3.7.10-64/.lock\n",
            "2021-07-10 03:08:26.883\n",
            "Lock 140674796755920 released on /root/.theano/compiledir_Linux-5.4.104+-x86_64-with-Ubuntu-18.04-bionic-x86_64-3.7.10-64/.lock\n",
            "2021-07-10 03:08:26.887\n",
            "Lock 140674794766032 acquired on /root/.theano/compiledir_Linux-5.4.104+-x86_64-with-Ubuntu-18.04-bionic-x86_64-3.7.10-64/.lock\n",
            "2021-07-10 03:08:26.899\n",
            "Lock 140674794766032 released on /root/.theano/compiledir_Linux-5.4.104+-x86_64-with-Ubuntu-18.04-bionic-x86_64-3.7.10-64/.lock\n",
            "2021-07-10 03:08:26.903\n",
            "Lock 140674793225232 acquired on /root/.theano/compiledir_Linux-5.4.104+-x86_64-with-Ubuntu-18.04-bionic-x86_64-3.7.10-64/.lock\n",
            "2021-07-10 03:08:26.914\n",
            "Lock 140674793225232 released on /root/.theano/compiledir_Linux-5.4.104+-x86_64-with-Ubuntu-18.04-bionic-x86_64-3.7.10-64/.lock\n",
            "2021-07-10 03:08:26.918\n",
            "Lock 140674806692624 acquired on /root/.theano/compiledir_Linux-5.4.104+-x86_64-with-Ubuntu-18.04-bionic-x86_64-3.7.10-64/.lock\n",
            "2021-07-10 03:08:26.928\n",
            "Lock 140674806692624 released on /root/.theano/compiledir_Linux-5.4.104+-x86_64-with-Ubuntu-18.04-bionic-x86_64-3.7.10-64/.lock\n",
            "2021-07-10 03:08:26.933\n",
            "Lock 140674796306832 acquired on /root/.theano/compiledir_Linux-5.4.104+-x86_64-with-Ubuntu-18.04-bionic-x86_64-3.7.10-64/.lock\n",
            "2021-07-10 03:08:26.946\n",
            "Lock 140674796306832 released on /root/.theano/compiledir_Linux-5.4.104+-x86_64-with-Ubuntu-18.04-bionic-x86_64-3.7.10-64/.lock\n",
            "2021-07-10 03:08:27.631\n",
            "Lock 140674797974672 acquired on /root/.theano/compiledir_Linux-5.4.104+-x86_64-with-Ubuntu-18.04-bionic-x86_64-3.7.10-64/.lock\n",
            "2021-07-10 03:08:27.643\n",
            "Lock 140674797974672 released on /root/.theano/compiledir_Linux-5.4.104+-x86_64-with-Ubuntu-18.04-bionic-x86_64-3.7.10-64/.lock\n",
            "2021-07-10 03:08:27.647\n",
            "Lock 140674793736976 acquired on /root/.theano/compiledir_Linux-5.4.104+-x86_64-with-Ubuntu-18.04-bionic-x86_64-3.7.10-64/.lock\n",
            "2021-07-10 03:08:27.660\n",
            "Lock 140674793736976 released on /root/.theano/compiledir_Linux-5.4.104+-x86_64-with-Ubuntu-18.04-bionic-x86_64-3.7.10-64/.lock\n",
            "2021-07-10 03:08:27.669\n",
            "Lock 140674796369616 acquired on /root/.theano/compiledir_Linux-5.4.104+-x86_64-with-Ubuntu-18.04-bionic-x86_64-3.7.10-64/.lock\n",
            "2021-07-10 03:08:27.677\n",
            "Lock 140674796369616 released on /root/.theano/compiledir_Linux-5.4.104+-x86_64-with-Ubuntu-18.04-bionic-x86_64-3.7.10-64/.lock\n",
            "2021-07-10 03:08:28.320\n",
            "Lock 140674792534672 acquired on /root/.theano/compiledir_Linux-5.4.104+-x86_64-with-Ubuntu-18.04-bionic-x86_64-3.7.10-64/.lock\n",
            "2021-07-10 03:08:28.329\n",
            "Lock 140674792534672 released on /root/.theano/compiledir_Linux-5.4.104+-x86_64-with-Ubuntu-18.04-bionic-x86_64-3.7.10-64/.lock\n",
            "2021-07-10 03:08:28.332\n",
            "Lock 140674798032144 acquired on /root/.theano/compiledir_Linux-5.4.104+-x86_64-with-Ubuntu-18.04-bionic-x86_64-3.7.10-64/.lock\n",
            "2021-07-10 03:08:28.340\n",
            "Lock 140674798032144 released on /root/.theano/compiledir_Linux-5.4.104+-x86_64-with-Ubuntu-18.04-bionic-x86_64-3.7.10-64/.lock\n",
            "2021-07-10 03:08:28.344\n",
            "Lock 140674799078736 acquired on /root/.theano/compiledir_Linux-5.4.104+-x86_64-with-Ubuntu-18.04-bionic-x86_64-3.7.10-64/.lock\n",
            "2021-07-10 03:08:28.358\n",
            "Lock 140674799078736 released on /root/.theano/compiledir_Linux-5.4.104+-x86_64-with-Ubuntu-18.04-bionic-x86_64-3.7.10-64/.lock\n",
            "2021-07-10 03:08:28.362\n",
            "Lock 140674792107536 acquired on /root/.theano/compiledir_Linux-5.4.104+-x86_64-with-Ubuntu-18.04-bionic-x86_64-3.7.10-64/.lock\n",
            "2021-07-10 03:08:28.372\n",
            "Lock 140674792107536 released on /root/.theano/compiledir_Linux-5.4.104+-x86_64-with-Ubuntu-18.04-bionic-x86_64-3.7.10-64/.lock\n",
            "2021-07-10 03:08:28.375\n",
            "Lock 140674891227088 acquired on /root/.theano/compiledir_Linux-5.4.104+-x86_64-with-Ubuntu-18.04-bionic-x86_64-3.7.10-64/.lock\n",
            "2021-07-10 03:08:28.397\n",
            "Lock 140674891227088 released on /root/.theano/compiledir_Linux-5.4.104+-x86_64-with-Ubuntu-18.04-bionic-x86_64-3.7.10-64/.lock\n",
            "2021-07-10 03:08:28.400\n",
            "Lock 140674797439504 acquired on /root/.theano/compiledir_Linux-5.4.104+-x86_64-with-Ubuntu-18.04-bionic-x86_64-3.7.10-64/.lock\n",
            "2021-07-10 03:08:28.443\n",
            "Lock 140674797439504 released on /root/.theano/compiledir_Linux-5.4.104+-x86_64-with-Ubuntu-18.04-bionic-x86_64-3.7.10-64/.lock\n",
            "2021-07-10 03:08:28.448\n",
            "Lock 140674783206224 acquired on /root/.theano/compiledir_Linux-5.4.104+-x86_64-with-Ubuntu-18.04-bionic-x86_64-3.7.10-64/.lock\n",
            "2021-07-10 03:08:28.502\n",
            "Lock 140674783206224 released on /root/.theano/compiledir_Linux-5.4.104+-x86_64-with-Ubuntu-18.04-bionic-x86_64-3.7.10-64/.lock\n",
            "2021-07-10 03:08:29.050\n",
            "Lock 140674796370448 acquired on /root/.theano/compiledir_Linux-5.4.104+-x86_64-with-Ubuntu-18.04-bionic-x86_64-3.7.10-64/.lock\n",
            "2021-07-10 03:08:29.059\n",
            "Lock 140674796370448 released on /root/.theano/compiledir_Linux-5.4.104+-x86_64-with-Ubuntu-18.04-bionic-x86_64-3.7.10-64/.lock\n",
            "2021-07-10 03:08:29.623\n",
            "WARNING (theano.tensor.blas): We did not find a dynamic library in the library_dir of the library we use for blas. If you use ATLAS, make sure to compile it with dynamics library.\n",
            "We did not find a dynamic library in the library_dir of the library we use for blas. If you use ATLAS, make sure to compile it with dynamics library.\n",
            "2021-07-10 03:08:29.630\n",
            "Lock 140674783319568 acquired on /root/.theano/compiledir_Linux-5.4.104+-x86_64-with-Ubuntu-18.04-bionic-x86_64-3.7.10-64/.lock\n",
            "2021-07-10 03:08:29.662\n",
            "WARNING (theano.tensor.blas): We did not find a dynamic library in the library_dir of the library we use for blas. If you use ATLAS, make sure to compile it with dynamics library.\n",
            "We did not find a dynamic library in the library_dir of the library we use for blas. If you use ATLAS, make sure to compile it with dynamics library.\n",
            "2021-07-10 03:08:29.669\n",
            "Lock 140674783319568 released on /root/.theano/compiledir_Linux-5.4.104+-x86_64-with-Ubuntu-18.04-bionic-x86_64-3.7.10-64/.lock\n",
            "2021-07-10 03:08:30.484\n",
            "Lock 140674783284240 acquired on /root/.theano/compiledir_Linux-5.4.104+-x86_64-with-Ubuntu-18.04-bionic-x86_64-3.7.10-64/.lock\n",
            "2021-07-10 03:08:30.588\n",
            "Lock 140674783284240 released on /root/.theano/compiledir_Linux-5.4.104+-x86_64-with-Ubuntu-18.04-bionic-x86_64-3.7.10-64/.lock\n",
            "2021-07-10 03:08:31.514\n",
            "/usr/local/lib/python3.7/dist-packages/ipykernel_launcher.py:8: FutureWarning: In v4.0, pm.sample will return an `arviz.InferenceData` object instead of a `MultiTrace` by default. You can pass return_inferencedata=True or return_inferencedata=False to be safe and silence this warning.\n",
            "  \n",
            "Auto-assigning NUTS sampler...\n",
            "Auto-assigning NUTS sampler...\n",
            "2021-07-10 03:08:31.527\n",
            "Initializing NUTS using jitter+adapt_diag...\n",
            "Initializing NUTS using jitter+adapt_diag...\n",
            "2021-07-10 03:08:31.531\n",
            "Lock 140674794087632 acquired on /root/.theano/compiledir_Linux-5.4.104+-x86_64-with-Ubuntu-18.04-bionic-x86_64-3.7.10-64/.lock\n",
            "2021-07-10 03:08:35.544\n",
            "Lock 140674794087632 released on /root/.theano/compiledir_Linux-5.4.104+-x86_64-with-Ubuntu-18.04-bionic-x86_64-3.7.10-64/.lock\n",
            "2021-07-10 03:08:36.933\n",
            "Lock 140674795794320 acquired on /root/.theano/compiledir_Linux-5.4.104+-x86_64-with-Ubuntu-18.04-bionic-x86_64-3.7.10-64/.lock\n",
            "2021-07-10 03:08:36.944\n",
            "Lock 140674795794320 released on /root/.theano/compiledir_Linux-5.4.104+-x86_64-with-Ubuntu-18.04-bionic-x86_64-3.7.10-64/.lock\n",
            "2021-07-10 03:08:37.473\n",
            "Lock 140674783340752 acquired on /root/.theano/compiledir_Linux-5.4.104+-x86_64-with-Ubuntu-18.04-bionic-x86_64-3.7.10-64/.lock\n",
            "2021-07-10 03:08:37.480\n",
            "Lock 140674783340752 released on /root/.theano/compiledir_Linux-5.4.104+-x86_64-with-Ubuntu-18.04-bionic-x86_64-3.7.10-64/.lock\n",
            "2021-07-10 03:08:38.037\n",
            "Lock 140674794747984 acquired on /root/.theano/compiledir_Linux-5.4.104+-x86_64-with-Ubuntu-18.04-bionic-x86_64-3.7.10-64/.lock\n",
            "2021-07-10 03:08:38.042\n",
            "Lock 140674794747984 released on /root/.theano/compiledir_Linux-5.4.104+-x86_64-with-Ubuntu-18.04-bionic-x86_64-3.7.10-64/.lock\n",
            "2021-07-10 03:08:38.050\n",
            "Lock 140674795449360 acquired on /root/.theano/compiledir_Linux-5.4.104+-x86_64-with-Ubuntu-18.04-bionic-x86_64-3.7.10-64/.lock\n",
            "2021-07-10 03:08:38.058\n",
            "Lock 140674795449360 released on /root/.theano/compiledir_Linux-5.4.104+-x86_64-with-Ubuntu-18.04-bionic-x86_64-3.7.10-64/.lock\n",
            "2021-07-10 03:08:38.060\n",
            "Lock 140674792542352 acquired on /root/.theano/compiledir_Linux-5.4.104+-x86_64-with-Ubuntu-18.04-bionic-x86_64-3.7.10-64/.lock\n",
            "2021-07-10 03:08:38.068\n",
            "Lock 140674792542352 released on /root/.theano/compiledir_Linux-5.4.104+-x86_64-with-Ubuntu-18.04-bionic-x86_64-3.7.10-64/.lock\n",
            "2021-07-10 03:08:38.071\n",
            "Lock 140674799410512 acquired on /root/.theano/compiledir_Linux-5.4.104+-x86_64-with-Ubuntu-18.04-bionic-x86_64-3.7.10-64/.lock\n",
            "2021-07-10 03:08:38.079\n",
            "Lock 140674799410512 released on /root/.theano/compiledir_Linux-5.4.104+-x86_64-with-Ubuntu-18.04-bionic-x86_64-3.7.10-64/.lock\n",
            "2021-07-10 03:08:38.082\n",
            "Lock 140674794117584 acquired on /root/.theano/compiledir_Linux-5.4.104+-x86_64-with-Ubuntu-18.04-bionic-x86_64-3.7.10-64/.lock\n",
            "2021-07-10 03:08:38.090\n",
            "Lock 140674794117584 released on /root/.theano/compiledir_Linux-5.4.104+-x86_64-with-Ubuntu-18.04-bionic-x86_64-3.7.10-64/.lock\n",
            "2021-07-10 03:08:38.095\n",
            "Lock 140674663812688 acquired on /root/.theano/compiledir_Linux-5.4.104+-x86_64-with-Ubuntu-18.04-bionic-x86_64-3.7.10-64/.lock\n",
            "2021-07-10 03:08:38.103\n",
            "Lock 140674663812688 released on /root/.theano/compiledir_Linux-5.4.104+-x86_64-with-Ubuntu-18.04-bionic-x86_64-3.7.10-64/.lock\n",
            "2021-07-10 03:08:38.106\n",
            "Lock 140674795293840 acquired on /root/.theano/compiledir_Linux-5.4.104+-x86_64-with-Ubuntu-18.04-bionic-x86_64-3.7.10-64/.lock\n",
            "2021-07-10 03:08:38.113\n",
            "Lock 140674795293840 released on /root/.theano/compiledir_Linux-5.4.104+-x86_64-with-Ubuntu-18.04-bionic-x86_64-3.7.10-64/.lock\n",
            "2021-07-10 03:08:38.117\n",
            "Lock 140674783339216 acquired on /root/.theano/compiledir_Linux-5.4.104+-x86_64-with-Ubuntu-18.04-bionic-x86_64-3.7.10-64/.lock\n",
            "2021-07-10 03:08:38.125\n",
            "Lock 140674783339216 released on /root/.theano/compiledir_Linux-5.4.104+-x86_64-with-Ubuntu-18.04-bionic-x86_64-3.7.10-64/.lock\n",
            "2021-07-10 03:08:38.129\n",
            "Lock 140674795425744 acquired on /root/.theano/compiledir_Linux-5.4.104+-x86_64-with-Ubuntu-18.04-bionic-x86_64-3.7.10-64/.lock\n",
            "2021-07-10 03:08:38.137\n",
            "Lock 140674795425744 released on /root/.theano/compiledir_Linux-5.4.104+-x86_64-with-Ubuntu-18.04-bionic-x86_64-3.7.10-64/.lock\n",
            "2021-07-10 03:08:38.141\n",
            "Lock 140674795291472 acquired on /root/.theano/compiledir_Linux-5.4.104+-x86_64-with-Ubuntu-18.04-bionic-x86_64-3.7.10-64/.lock\n",
            "2021-07-10 03:08:38.154\n",
            "Lock 140674795291472 released on /root/.theano/compiledir_Linux-5.4.104+-x86_64-with-Ubuntu-18.04-bionic-x86_64-3.7.10-64/.lock\n",
            "2021-07-10 03:08:38.158\n",
            "Lock 140674795422480 acquired on /root/.theano/compiledir_Linux-5.4.104+-x86_64-with-Ubuntu-18.04-bionic-x86_64-3.7.10-64/.lock\n",
            "2021-07-10 03:08:38.167\n",
            "Lock 140674795422480 released on /root/.theano/compiledir_Linux-5.4.104+-x86_64-with-Ubuntu-18.04-bionic-x86_64-3.7.10-64/.lock\n",
            "2021-07-10 03:08:38.171\n",
            "Lock 140674661380880 acquired on /root/.theano/compiledir_Linux-5.4.104+-x86_64-with-Ubuntu-18.04-bionic-x86_64-3.7.10-64/.lock\n",
            "2021-07-10 03:08:38.179\n",
            "Lock 140674661380880 released on /root/.theano/compiledir_Linux-5.4.104+-x86_64-with-Ubuntu-18.04-bionic-x86_64-3.7.10-64/.lock\n",
            "2021-07-10 03:08:38.183\n",
            "Lock 140674799413008 acquired on /root/.theano/compiledir_Linux-5.4.104+-x86_64-with-Ubuntu-18.04-bionic-x86_64-3.7.10-64/.lock\n",
            "2021-07-10 03:08:38.191\n",
            "Lock 140674799413008 released on /root/.theano/compiledir_Linux-5.4.104+-x86_64-with-Ubuntu-18.04-bionic-x86_64-3.7.10-64/.lock\n",
            "2021-07-10 03:08:38.196\n",
            "Lock 140674795424400 acquired on /root/.theano/compiledir_Linux-5.4.104+-x86_64-with-Ubuntu-18.04-bionic-x86_64-3.7.10-64/.lock\n",
            "2021-07-10 03:08:38.205\n",
            "Lock 140674795424400 released on /root/.theano/compiledir_Linux-5.4.104+-x86_64-with-Ubuntu-18.04-bionic-x86_64-3.7.10-64/.lock\n",
            "2021-07-10 03:08:38.215\n",
            "Lock 140674796987600 acquired on /root/.theano/compiledir_Linux-5.4.104+-x86_64-with-Ubuntu-18.04-bionic-x86_64-3.7.10-64/.lock\n",
            "2021-07-10 03:08:38.225\n",
            "Lock 140674796987600 released on /root/.theano/compiledir_Linux-5.4.104+-x86_64-with-Ubuntu-18.04-bionic-x86_64-3.7.10-64/.lock\n",
            "2021-07-10 03:08:38.230\n",
            "Lock 140674661951184 acquired on /root/.theano/compiledir_Linux-5.4.104+-x86_64-with-Ubuntu-18.04-bionic-x86_64-3.7.10-64/.lock\n",
            "2021-07-10 03:08:38.240\n",
            "Lock 140674661951184 released on /root/.theano/compiledir_Linux-5.4.104+-x86_64-with-Ubuntu-18.04-bionic-x86_64-3.7.10-64/.lock\n",
            "2021-07-10 03:08:38.247\n",
            "Lock 140674796986448 acquired on /root/.theano/compiledir_Linux-5.4.104+-x86_64-with-Ubuntu-18.04-bionic-x86_64-3.7.10-64/.lock\n",
            "2021-07-10 03:08:38.253\n",
            "Lock 140674796986448 released on /root/.theano/compiledir_Linux-5.4.104+-x86_64-with-Ubuntu-18.04-bionic-x86_64-3.7.10-64/.lock\n",
            "2021-07-10 03:08:38.260\n",
            "Lock 140674661575952 acquired on /root/.theano/compiledir_Linux-5.4.104+-x86_64-with-Ubuntu-18.04-bionic-x86_64-3.7.10-64/.lock\n",
            "2021-07-10 03:08:38.266\n",
            "Lock 140674661575952 released on /root/.theano/compiledir_Linux-5.4.104+-x86_64-with-Ubuntu-18.04-bionic-x86_64-3.7.10-64/.lock\n",
            "2021-07-10 03:08:38.277\n",
            "Lock 140674661503184 acquired on /root/.theano/compiledir_Linux-5.4.104+-x86_64-with-Ubuntu-18.04-bionic-x86_64-3.7.10-64/.lock\n",
            "2021-07-10 03:08:38.288\n",
            "Lock 140674661503184 released on /root/.theano/compiledir_Linux-5.4.104+-x86_64-with-Ubuntu-18.04-bionic-x86_64-3.7.10-64/.lock\n",
            "2021-07-10 03:08:38.294\n",
            "Lock 140674661452880 acquired on /root/.theano/compiledir_Linux-5.4.104+-x86_64-with-Ubuntu-18.04-bionic-x86_64-3.7.10-64/.lock\n",
            "2021-07-10 03:08:38.300\n",
            "Lock 140674661452880 released on /root/.theano/compiledir_Linux-5.4.104+-x86_64-with-Ubuntu-18.04-bionic-x86_64-3.7.10-64/.lock\n",
            "2021-07-10 03:08:38.311\n",
            "Lock 140674661405072 acquired on /root/.theano/compiledir_Linux-5.4.104+-x86_64-with-Ubuntu-18.04-bionic-x86_64-3.7.10-64/.lock\n",
            "2021-07-10 03:08:38.321\n",
            "Lock 140674661405072 released on /root/.theano/compiledir_Linux-5.4.104+-x86_64-with-Ubuntu-18.04-bionic-x86_64-3.7.10-64/.lock\n",
            "2021-07-10 03:08:38.325\n",
            "Lock 140674795368016 acquired on /root/.theano/compiledir_Linux-5.4.104+-x86_64-with-Ubuntu-18.04-bionic-x86_64-3.7.10-64/.lock\n",
            "2021-07-10 03:08:38.335\n",
            "Lock 140674795368016 released on /root/.theano/compiledir_Linux-5.4.104+-x86_64-with-Ubuntu-18.04-bionic-x86_64-3.7.10-64/.lock\n",
            "2021-07-10 03:08:38.340\n",
            "Lock 140674661573456 acquired on /root/.theano/compiledir_Linux-5.4.104+-x86_64-with-Ubuntu-18.04-bionic-x86_64-3.7.10-64/.lock\n",
            "2021-07-10 03:08:38.349\n",
            "Lock 140674661573456 released on /root/.theano/compiledir_Linux-5.4.104+-x86_64-with-Ubuntu-18.04-bionic-x86_64-3.7.10-64/.lock\n",
            "2021-07-10 03:08:38.354\n",
            "Lock 140674799370384 acquired on /root/.theano/compiledir_Linux-5.4.104+-x86_64-with-Ubuntu-18.04-bionic-x86_64-3.7.10-64/.lock\n",
            "2021-07-10 03:08:38.362\n",
            "Lock 140674799370384 released on /root/.theano/compiledir_Linux-5.4.104+-x86_64-with-Ubuntu-18.04-bionic-x86_64-3.7.10-64/.lock\n",
            "2021-07-10 03:08:38.369\n",
            "Lock 140674799414352 acquired on /root/.theano/compiledir_Linux-5.4.104+-x86_64-with-Ubuntu-18.04-bionic-x86_64-3.7.10-64/.lock\n",
            "2021-07-10 03:08:38.383\n",
            "Lock 140674799414352 released on /root/.theano/compiledir_Linux-5.4.104+-x86_64-with-Ubuntu-18.04-bionic-x86_64-3.7.10-64/.lock\n",
            "2021-07-10 03:08:38.389\n",
            "Lock 140674661551312 acquired on /root/.theano/compiledir_Linux-5.4.104+-x86_64-with-Ubuntu-18.04-bionic-x86_64-3.7.10-64/.lock\n",
            "2021-07-10 03:08:38.395\n",
            "Lock 140674661551312 released on /root/.theano/compiledir_Linux-5.4.104+-x86_64-with-Ubuntu-18.04-bionic-x86_64-3.7.10-64/.lock\n",
            "2021-07-10 03:08:38.407\n",
            "Lock 140674903005520 acquired on /root/.theano/compiledir_Linux-5.4.104+-x86_64-with-Ubuntu-18.04-bionic-x86_64-3.7.10-64/.lock\n",
            "2021-07-10 03:08:38.418\n",
            "Lock 140674903005520 released on /root/.theano/compiledir_Linux-5.4.104+-x86_64-with-Ubuntu-18.04-bionic-x86_64-3.7.10-64/.lock\n",
            "2021-07-10 03:08:38.423\n",
            "Lock 140674661575376 acquired on /root/.theano/compiledir_Linux-5.4.104+-x86_64-with-Ubuntu-18.04-bionic-x86_64-3.7.10-64/.lock\n",
            "2021-07-10 03:08:38.429\n",
            "Lock 140674661575376 released on /root/.theano/compiledir_Linux-5.4.104+-x86_64-with-Ubuntu-18.04-bionic-x86_64-3.7.10-64/.lock\n",
            "2021-07-10 03:08:38.442\n",
            "Lock 140674652823312 acquired on /root/.theano/compiledir_Linux-5.4.104+-x86_64-with-Ubuntu-18.04-bionic-x86_64-3.7.10-64/.lock\n",
            "2021-07-10 03:08:38.548\n",
            "Lock 140674652823312 released on /root/.theano/compiledir_Linux-5.4.104+-x86_64-with-Ubuntu-18.04-bionic-x86_64-3.7.10-64/.lock\n",
            "2021-07-10 03:08:38.552\n",
            "Lock 140674652413200 acquired on /root/.theano/compiledir_Linux-5.4.104+-x86_64-with-Ubuntu-18.04-bionic-x86_64-3.7.10-64/.lock\n",
            "2021-07-10 03:08:38.564\n",
            "Lock 140674652413200 released on /root/.theano/compiledir_Linux-5.4.104+-x86_64-with-Ubuntu-18.04-bionic-x86_64-3.7.10-64/.lock\n",
            "2021-07-10 03:08:39.234\n",
            "Lock 140674796966352 acquired on /root/.theano/compiledir_Linux-5.4.104+-x86_64-with-Ubuntu-18.04-bionic-x86_64-3.7.10-64/.lock\n",
            "2021-07-10 03:08:39.240\n",
            "Lock 140674796966352 released on /root/.theano/compiledir_Linux-5.4.104+-x86_64-with-Ubuntu-18.04-bionic-x86_64-3.7.10-64/.lock\n",
            "2021-07-10 03:08:39.242\n",
            "Lock 140674652669136 acquired on /root/.theano/compiledir_Linux-5.4.104+-x86_64-with-Ubuntu-18.04-bionic-x86_64-3.7.10-64/.lock\n",
            "2021-07-10 03:08:39.250\n",
            "Lock 140674652669136 released on /root/.theano/compiledir_Linux-5.4.104+-x86_64-with-Ubuntu-18.04-bionic-x86_64-3.7.10-64/.lock\n",
            "2021-07-10 03:08:39.253\n",
            "Lock 140674652893456 acquired on /root/.theano/compiledir_Linux-5.4.104+-x86_64-with-Ubuntu-18.04-bionic-x86_64-3.7.10-64/.lock\n",
            "2021-07-10 03:08:39.259\n",
            "Lock 140674652893456 released on /root/.theano/compiledir_Linux-5.4.104+-x86_64-with-Ubuntu-18.04-bionic-x86_64-3.7.10-64/.lock\n",
            "2021-07-10 03:08:39.262\n",
            "Lock 140674652704976 acquired on /root/.theano/compiledir_Linux-5.4.104+-x86_64-with-Ubuntu-18.04-bionic-x86_64-3.7.10-64/.lock\n",
            "2021-07-10 03:08:39.268\n",
            "Lock 140674652704976 released on /root/.theano/compiledir_Linux-5.4.104+-x86_64-with-Ubuntu-18.04-bionic-x86_64-3.7.10-64/.lock\n",
            "2021-07-10 03:08:39.272\n",
            "Lock 140674653153872 acquired on /root/.theano/compiledir_Linux-5.4.104+-x86_64-with-Ubuntu-18.04-bionic-x86_64-3.7.10-64/.lock\n",
            "2021-07-10 03:08:39.278\n",
            "Lock 140674653153872 released on /root/.theano/compiledir_Linux-5.4.104+-x86_64-with-Ubuntu-18.04-bionic-x86_64-3.7.10-64/.lock\n",
            "2021-07-10 03:08:39.281\n",
            "Lock 140674652188496 acquired on /root/.theano/compiledir_Linux-5.4.104+-x86_64-with-Ubuntu-18.04-bionic-x86_64-3.7.10-64/.lock\n",
            "2021-07-10 03:08:39.287\n",
            "Lock 140674652188496 released on /root/.theano/compiledir_Linux-5.4.104+-x86_64-with-Ubuntu-18.04-bionic-x86_64-3.7.10-64/.lock\n",
            "2021-07-10 03:08:39.290\n",
            "Lock 140674652491664 acquired on /root/.theano/compiledir_Linux-5.4.104+-x86_64-with-Ubuntu-18.04-bionic-x86_64-3.7.10-64/.lock\n",
            "2021-07-10 03:08:39.296\n",
            "Lock 140674652491664 released on /root/.theano/compiledir_Linux-5.4.104+-x86_64-with-Ubuntu-18.04-bionic-x86_64-3.7.10-64/.lock\n",
            "2021-07-10 03:08:39.300\n",
            "Lock 140674783340240 acquired on /root/.theano/compiledir_Linux-5.4.104+-x86_64-with-Ubuntu-18.04-bionic-x86_64-3.7.10-64/.lock\n",
            "2021-07-10 03:08:39.305\n",
            "Lock 140674783340240 released on /root/.theano/compiledir_Linux-5.4.104+-x86_64-with-Ubuntu-18.04-bionic-x86_64-3.7.10-64/.lock\n",
            "2021-07-10 03:08:39.308\n",
            "Lock 140674661573136 acquired on /root/.theano/compiledir_Linux-5.4.104+-x86_64-with-Ubuntu-18.04-bionic-x86_64-3.7.10-64/.lock\n",
            "2021-07-10 03:08:39.313\n",
            "Lock 140674661573136 released on /root/.theano/compiledir_Linux-5.4.104+-x86_64-with-Ubuntu-18.04-bionic-x86_64-3.7.10-64/.lock\n",
            "2021-07-10 03:08:39.316\n",
            "Lock 140674652706128 acquired on /root/.theano/compiledir_Linux-5.4.104+-x86_64-with-Ubuntu-18.04-bionic-x86_64-3.7.10-64/.lock\n",
            "2021-07-10 03:08:39.322\n",
            "Lock 140674652706128 released on /root/.theano/compiledir_Linux-5.4.104+-x86_64-with-Ubuntu-18.04-bionic-x86_64-3.7.10-64/.lock\n",
            "2021-07-10 03:08:39.325\n",
            "Lock 140674653002384 acquired on /root/.theano/compiledir_Linux-5.4.104+-x86_64-with-Ubuntu-18.04-bionic-x86_64-3.7.10-64/.lock\n",
            "2021-07-10 03:08:39.331\n",
            "Lock 140674653002384 released on /root/.theano/compiledir_Linux-5.4.104+-x86_64-with-Ubuntu-18.04-bionic-x86_64-3.7.10-64/.lock\n",
            "2021-07-10 03:08:39.334\n",
            "Lock 140674652187152 acquired on /root/.theano/compiledir_Linux-5.4.104+-x86_64-with-Ubuntu-18.04-bionic-x86_64-3.7.10-64/.lock\n",
            "2021-07-10 03:08:39.339\n",
            "Lock 140674652187152 released on /root/.theano/compiledir_Linux-5.4.104+-x86_64-with-Ubuntu-18.04-bionic-x86_64-3.7.10-64/.lock\n",
            "2021-07-10 03:08:39.343\n",
            "Lock 140674652230544 acquired on /root/.theano/compiledir_Linux-5.4.104+-x86_64-with-Ubuntu-18.04-bionic-x86_64-3.7.10-64/.lock\n",
            "2021-07-10 03:08:39.348\n",
            "Lock 140674652230544 released on /root/.theano/compiledir_Linux-5.4.104+-x86_64-with-Ubuntu-18.04-bionic-x86_64-3.7.10-64/.lock\n",
            "2021-07-10 03:08:39.352\n",
            "Lock 140674652822352 acquired on /root/.theano/compiledir_Linux-5.4.104+-x86_64-with-Ubuntu-18.04-bionic-x86_64-3.7.10-64/.lock\n",
            "2021-07-10 03:08:39.357\n",
            "Lock 140674652822352 released on /root/.theano/compiledir_Linux-5.4.104+-x86_64-with-Ubuntu-18.04-bionic-x86_64-3.7.10-64/.lock\n",
            "2021-07-10 03:08:39.361\n",
            "Lock 140674653079440 acquired on /root/.theano/compiledir_Linux-5.4.104+-x86_64-with-Ubuntu-18.04-bionic-x86_64-3.7.10-64/.lock\n",
            "2021-07-10 03:08:39.366\n",
            "Lock 140674653079440 released on /root/.theano/compiledir_Linux-5.4.104+-x86_64-with-Ubuntu-18.04-bionic-x86_64-3.7.10-64/.lock\n",
            "2021-07-10 03:08:39.370\n",
            "Lock 140674799372112 acquired on /root/.theano/compiledir_Linux-5.4.104+-x86_64-with-Ubuntu-18.04-bionic-x86_64-3.7.10-64/.lock\n",
            "2021-07-10 03:08:39.375\n",
            "Lock 140674799372112 released on /root/.theano/compiledir_Linux-5.4.104+-x86_64-with-Ubuntu-18.04-bionic-x86_64-3.7.10-64/.lock\n",
            "2021-07-10 03:08:39.380\n",
            "Lock 140674652706704 acquired on /root/.theano/compiledir_Linux-5.4.104+-x86_64-with-Ubuntu-18.04-bionic-x86_64-3.7.10-64/.lock\n",
            "2021-07-10 03:08:39.385\n",
            "Lock 140674652706704 released on /root/.theano/compiledir_Linux-5.4.104+-x86_64-with-Ubuntu-18.04-bionic-x86_64-3.7.10-64/.lock\n",
            "2021-07-10 03:08:39.389\n",
            "Lock 140674652049936 acquired on /root/.theano/compiledir_Linux-5.4.104+-x86_64-with-Ubuntu-18.04-bionic-x86_64-3.7.10-64/.lock\n",
            "2021-07-10 03:08:39.395\n",
            "Lock 140674652049936 released on /root/.theano/compiledir_Linux-5.4.104+-x86_64-with-Ubuntu-18.04-bionic-x86_64-3.7.10-64/.lock\n",
            "2021-07-10 03:08:39.398\n",
            "Lock 140674652670160 acquired on /root/.theano/compiledir_Linux-5.4.104+-x86_64-with-Ubuntu-18.04-bionic-x86_64-3.7.10-64/.lock\n",
            "2021-07-10 03:08:39.404\n",
            "Lock 140674652670160 released on /root/.theano/compiledir_Linux-5.4.104+-x86_64-with-Ubuntu-18.04-bionic-x86_64-3.7.10-64/.lock\n",
            "2021-07-10 03:08:39.408\n",
            "Lock 140674652309456 acquired on /root/.theano/compiledir_Linux-5.4.104+-x86_64-with-Ubuntu-18.04-bionic-x86_64-3.7.10-64/.lock\n",
            "2021-07-10 03:08:39.414\n",
            "Lock 140674652309456 released on /root/.theano/compiledir_Linux-5.4.104+-x86_64-with-Ubuntu-18.04-bionic-x86_64-3.7.10-64/.lock\n",
            "2021-07-10 03:08:39.418\n",
            "Lock 140674652309648 acquired on /root/.theano/compiledir_Linux-5.4.104+-x86_64-with-Ubuntu-18.04-bionic-x86_64-3.7.10-64/.lock\n",
            "2021-07-10 03:08:39.423\n",
            "Lock 140674652309648 released on /root/.theano/compiledir_Linux-5.4.104+-x86_64-with-Ubuntu-18.04-bionic-x86_64-3.7.10-64/.lock\n",
            "2021-07-10 03:08:39.427\n",
            "Lock 140674652051152 acquired on /root/.theano/compiledir_Linux-5.4.104+-x86_64-with-Ubuntu-18.04-bionic-x86_64-3.7.10-64/.lock\n",
            "2021-07-10 03:08:39.433\n",
            "Lock 140674652051152 released on /root/.theano/compiledir_Linux-5.4.104+-x86_64-with-Ubuntu-18.04-bionic-x86_64-3.7.10-64/.lock\n",
            "2021-07-10 03:08:39.437\n",
            "Lock 140674794609104 acquired on /root/.theano/compiledir_Linux-5.4.104+-x86_64-with-Ubuntu-18.04-bionic-x86_64-3.7.10-64/.lock\n",
            "2021-07-10 03:08:39.443\n",
            "Lock 140674794609104 released on /root/.theano/compiledir_Linux-5.4.104+-x86_64-with-Ubuntu-18.04-bionic-x86_64-3.7.10-64/.lock\n",
            "2021-07-10 03:08:39.447\n",
            "Lock 140674652268240 acquired on /root/.theano/compiledir_Linux-5.4.104+-x86_64-with-Ubuntu-18.04-bionic-x86_64-3.7.10-64/.lock\n",
            "2021-07-10 03:08:39.454\n",
            "Lock 140674652268240 released on /root/.theano/compiledir_Linux-5.4.104+-x86_64-with-Ubuntu-18.04-bionic-x86_64-3.7.10-64/.lock\n",
            "2021-07-10 03:08:39.459\n",
            "Lock 140674653077904 acquired on /root/.theano/compiledir_Linux-5.4.104+-x86_64-with-Ubuntu-18.04-bionic-x86_64-3.7.10-64/.lock\n",
            "2021-07-10 03:08:39.466\n",
            "Lock 140674653077904 released on /root/.theano/compiledir_Linux-5.4.104+-x86_64-with-Ubuntu-18.04-bionic-x86_64-3.7.10-64/.lock\n",
            "2021-07-10 03:08:39.472\n",
            "Lock 140674653153808 acquired on /root/.theano/compiledir_Linux-5.4.104+-x86_64-with-Ubuntu-18.04-bionic-x86_64-3.7.10-64/.lock\n",
            "2021-07-10 03:08:39.478\n",
            "Lock 140674653153808 released on /root/.theano/compiledir_Linux-5.4.104+-x86_64-with-Ubuntu-18.04-bionic-x86_64-3.7.10-64/.lock\n",
            "2021-07-10 03:08:39.483\n",
            "Lock 140674652049936 acquired on /root/.theano/compiledir_Linux-5.4.104+-x86_64-with-Ubuntu-18.04-bionic-x86_64-3.7.10-64/.lock\n",
            "2021-07-10 03:08:39.490\n",
            "Lock 140674652049936 released on /root/.theano/compiledir_Linux-5.4.104+-x86_64-with-Ubuntu-18.04-bionic-x86_64-3.7.10-64/.lock\n",
            "2021-07-10 03:08:39.495\n",
            "Lock 140674652084816 acquired on /root/.theano/compiledir_Linux-5.4.104+-x86_64-with-Ubuntu-18.04-bionic-x86_64-3.7.10-64/.lock\n",
            "2021-07-10 03:08:39.501\n",
            "Lock 140674652084816 released on /root/.theano/compiledir_Linux-5.4.104+-x86_64-with-Ubuntu-18.04-bionic-x86_64-3.7.10-64/.lock\n",
            "2021-07-10 03:08:39.506\n",
            "Lock 140674652105488 acquired on /root/.theano/compiledir_Linux-5.4.104+-x86_64-with-Ubuntu-18.04-bionic-x86_64-3.7.10-64/.lock\n",
            "2021-07-10 03:08:39.512\n",
            "Lock 140674652105488 released on /root/.theano/compiledir_Linux-5.4.104+-x86_64-with-Ubuntu-18.04-bionic-x86_64-3.7.10-64/.lock\n",
            "2021-07-10 03:08:39.518\n",
            "Lock 140674653154256 acquired on /root/.theano/compiledir_Linux-5.4.104+-x86_64-with-Ubuntu-18.04-bionic-x86_64-3.7.10-64/.lock\n",
            "2021-07-10 03:08:39.526\n",
            "Lock 140674653154256 released on /root/.theano/compiledir_Linux-5.4.104+-x86_64-with-Ubuntu-18.04-bionic-x86_64-3.7.10-64/.lock\n",
            "2021-07-10 03:08:39.534\n",
            "Lock 140674663954640 acquired on /root/.theano/compiledir_Linux-5.4.104+-x86_64-with-Ubuntu-18.04-bionic-x86_64-3.7.10-64/.lock\n",
            "2021-07-10 03:08:39.549\n",
            "Lock 140674663954640 released on /root/.theano/compiledir_Linux-5.4.104+-x86_64-with-Ubuntu-18.04-bionic-x86_64-3.7.10-64/.lock\n",
            "2021-07-10 03:08:39.565\n",
            "Lock 140674652413648 acquired on /root/.theano/compiledir_Linux-5.4.104+-x86_64-with-Ubuntu-18.04-bionic-x86_64-3.7.10-64/.lock\n",
            "2021-07-10 03:08:39.618\n",
            "Lock 140674652413648 released on /root/.theano/compiledir_Linux-5.4.104+-x86_64-with-Ubuntu-18.04-bionic-x86_64-3.7.10-64/.lock\n",
            "2021-07-10 03:08:39.625\n",
            "Lock 140674661506832 acquired on /root/.theano/compiledir_Linux-5.4.104+-x86_64-with-Ubuntu-18.04-bionic-x86_64-3.7.10-64/.lock\n",
            "2021-07-10 03:08:39.633\n",
            "Lock 140674661506832 released on /root/.theano/compiledir_Linux-5.4.104+-x86_64-with-Ubuntu-18.04-bionic-x86_64-3.7.10-64/.lock\n",
            "2021-07-10 03:08:39.638\n",
            "Lock 140674653153360 acquired on /root/.theano/compiledir_Linux-5.4.104+-x86_64-with-Ubuntu-18.04-bionic-x86_64-3.7.10-64/.lock\n",
            "2021-07-10 03:08:39.657\n",
            "Lock 140674653153360 released on /root/.theano/compiledir_Linux-5.4.104+-x86_64-with-Ubuntu-18.04-bionic-x86_64-3.7.10-64/.lock\n",
            "2021-07-10 03:08:39.663\n",
            "Lock 140674796966864 acquired on /root/.theano/compiledir_Linux-5.4.104+-x86_64-with-Ubuntu-18.04-bionic-x86_64-3.7.10-64/.lock\n",
            "2021-07-10 03:08:39.670\n",
            "Lock 140674796966864 released on /root/.theano/compiledir_Linux-5.4.104+-x86_64-with-Ubuntu-18.04-bionic-x86_64-3.7.10-64/.lock\n",
            "2021-07-10 03:08:40.312\n",
            "Lock 140674797049424 acquired on /root/.theano/compiledir_Linux-5.4.104+-x86_64-with-Ubuntu-18.04-bionic-x86_64-3.7.10-64/.lock\n",
            "2021-07-10 03:08:40.319\n",
            "Lock 140674797049424 released on /root/.theano/compiledir_Linux-5.4.104+-x86_64-with-Ubuntu-18.04-bionic-x86_64-3.7.10-64/.lock\n",
            "2021-07-10 03:08:40.948\n",
            "Lock 140674794115856 acquired on /root/.theano/compiledir_Linux-5.4.104+-x86_64-with-Ubuntu-18.04-bionic-x86_64-3.7.10-64/.lock\n",
            "2021-07-10 03:08:40.959\n",
            "Lock 140674794115856 released on /root/.theano/compiledir_Linux-5.4.104+-x86_64-with-Ubuntu-18.04-bionic-x86_64-3.7.10-64/.lock\n",
            "2021-07-10 03:08:40.963\n",
            "Lock 140674649535248 acquired on /root/.theano/compiledir_Linux-5.4.104+-x86_64-with-Ubuntu-18.04-bionic-x86_64-3.7.10-64/.lock\n",
            "2021-07-10 03:08:40.970\n",
            "Lock 140674649535248 released on /root/.theano/compiledir_Linux-5.4.104+-x86_64-with-Ubuntu-18.04-bionic-x86_64-3.7.10-64/.lock\n",
            "2021-07-10 03:08:40.974\n",
            "Lock 140674652103120 acquired on /root/.theano/compiledir_Linux-5.4.104+-x86_64-with-Ubuntu-18.04-bionic-x86_64-3.7.10-64/.lock\n",
            "2021-07-10 03:08:40.984\n",
            "Lock 140674652103120 released on /root/.theano/compiledir_Linux-5.4.104+-x86_64-with-Ubuntu-18.04-bionic-x86_64-3.7.10-64/.lock\n",
            "2021-07-10 03:08:41.629\n",
            "Lock 140674799246160 acquired on /root/.theano/compiledir_Linux-5.4.104+-x86_64-with-Ubuntu-18.04-bionic-x86_64-3.7.10-64/.lock\n",
            "2021-07-10 03:08:41.637\n",
            "Lock 140674799246160 released on /root/.theano/compiledir_Linux-5.4.104+-x86_64-with-Ubuntu-18.04-bionic-x86_64-3.7.10-64/.lock\n",
            "2021-07-10 03:08:42.260\n",
            "Lock 140674652267280 acquired on /root/.theano/compiledir_Linux-5.4.104+-x86_64-with-Ubuntu-18.04-bionic-x86_64-3.7.10-64/.lock\n",
            "2021-07-10 03:08:42.279\n",
            "Lock 140674652267280 released on /root/.theano/compiledir_Linux-5.4.104+-x86_64-with-Ubuntu-18.04-bionic-x86_64-3.7.10-64/.lock\n",
            "2021-07-10 03:08:42.285\n",
            "Lock 140674799246160 acquired on /root/.theano/compiledir_Linux-5.4.104+-x86_64-with-Ubuntu-18.04-bionic-x86_64-3.7.10-64/.lock\n",
            "2021-07-10 03:08:42.290\n",
            "Lock 140674799246160 released on /root/.theano/compiledir_Linux-5.4.104+-x86_64-with-Ubuntu-18.04-bionic-x86_64-3.7.10-64/.lock\n",
            "2021-07-10 03:08:42.917\n",
            "Lock 140674652308368 acquired on /root/.theano/compiledir_Linux-5.4.104+-x86_64-with-Ubuntu-18.04-bionic-x86_64-3.7.10-64/.lock\n",
            "2021-07-10 03:08:42.925\n",
            "Lock 140674652308368 released on /root/.theano/compiledir_Linux-5.4.104+-x86_64-with-Ubuntu-18.04-bionic-x86_64-3.7.10-64/.lock\n",
            "2021-07-10 03:08:42.928\n",
            "Lock 140674653117712 acquired on /root/.theano/compiledir_Linux-5.4.104+-x86_64-with-Ubuntu-18.04-bionic-x86_64-3.7.10-64/.lock\n",
            "2021-07-10 03:08:42.944\n",
            "Lock 140674653117712 released on /root/.theano/compiledir_Linux-5.4.104+-x86_64-with-Ubuntu-18.04-bionic-x86_64-3.7.10-64/.lock\n",
            "2021-07-10 03:08:43.547\n",
            "Lock 140674652861328 acquired on /root/.theano/compiledir_Linux-5.4.104+-x86_64-with-Ubuntu-18.04-bionic-x86_64-3.7.10-64/.lock\n",
            "2021-07-10 03:08:43.557\n",
            "Lock 140674652861328 released on /root/.theano/compiledir_Linux-5.4.104+-x86_64-with-Ubuntu-18.04-bionic-x86_64-3.7.10-64/.lock\n",
            "2021-07-10 03:08:43.563\n",
            "Lock 140674652410512 acquired on /root/.theano/compiledir_Linux-5.4.104+-x86_64-with-Ubuntu-18.04-bionic-x86_64-3.7.10-64/.lock\n",
            "2021-07-10 03:08:43.574\n",
            "Lock 140674652410512 released on /root/.theano/compiledir_Linux-5.4.104+-x86_64-with-Ubuntu-18.04-bionic-x86_64-3.7.10-64/.lock\n",
            "2021-07-10 03:08:44.209\n",
            "Lock 140674641022288 acquired on /root/.theano/compiledir_Linux-5.4.104+-x86_64-with-Ubuntu-18.04-bionic-x86_64-3.7.10-64/.lock\n",
            "2021-07-10 03:08:44.222\n",
            "Lock 140674641022288 released on /root/.theano/compiledir_Linux-5.4.104+-x86_64-with-Ubuntu-18.04-bionic-x86_64-3.7.10-64/.lock\n",
            "2021-07-10 03:08:44.845\n",
            "Lock 140674640779216 acquired on /root/.theano/compiledir_Linux-5.4.104+-x86_64-with-Ubuntu-18.04-bionic-x86_64-3.7.10-64/.lock\n",
            "2021-07-10 03:08:44.852\n",
            "Lock 140674640779216 released on /root/.theano/compiledir_Linux-5.4.104+-x86_64-with-Ubuntu-18.04-bionic-x86_64-3.7.10-64/.lock\n",
            "2021-07-10 03:08:44.856\n",
            "Lock 140674634234896 acquired on /root/.theano/compiledir_Linux-5.4.104+-x86_64-with-Ubuntu-18.04-bionic-x86_64-3.7.10-64/.lock\n",
            "2021-07-10 03:08:44.867\n",
            "Lock 140674634234896 released on /root/.theano/compiledir_Linux-5.4.104+-x86_64-with-Ubuntu-18.04-bionic-x86_64-3.7.10-64/.lock\n",
            "2021-07-10 03:08:45.494\n",
            "Lock 140674663955280 acquired on /root/.theano/compiledir_Linux-5.4.104+-x86_64-with-Ubuntu-18.04-bionic-x86_64-3.7.10-64/.lock\n",
            "2021-07-10 03:08:45.511\n",
            "Lock 140674663955280 released on /root/.theano/compiledir_Linux-5.4.104+-x86_64-with-Ubuntu-18.04-bionic-x86_64-3.7.10-64/.lock\n",
            "2021-07-10 03:08:46.270\n",
            "Lock 140674663932432 acquired on /root/.theano/compiledir_Linux-5.4.104+-x86_64-with-Ubuntu-18.04-bionic-x86_64-3.7.10-64/.lock\n",
            "2021-07-10 03:08:46.294\n",
            "Lock 140674663932432 released on /root/.theano/compiledir_Linux-5.4.104+-x86_64-with-Ubuntu-18.04-bionic-x86_64-3.7.10-64/.lock\n",
            "2021-07-10 03:08:46.958\n",
            "Lock 140674794118352 acquired on /root/.theano/compiledir_Linux-5.4.104+-x86_64-with-Ubuntu-18.04-bionic-x86_64-3.7.10-64/.lock\n",
            "2021-07-10 03:08:46.966\n",
            "Lock 140674794118352 released on /root/.theano/compiledir_Linux-5.4.104+-x86_64-with-Ubuntu-18.04-bionic-x86_64-3.7.10-64/.lock\n",
            "2021-07-10 03:08:47.602\n",
            "Lock 140674795421968 acquired on /root/.theano/compiledir_Linux-5.4.104+-x86_64-with-Ubuntu-18.04-bionic-x86_64-3.7.10-64/.lock\n",
            "2021-07-10 03:08:47.618\n",
            "Lock 140674795421968 released on /root/.theano/compiledir_Linux-5.4.104+-x86_64-with-Ubuntu-18.04-bionic-x86_64-3.7.10-64/.lock\n",
            "2021-07-10 03:08:48.317\n",
            "Lock 140674796993296 acquired on /root/.theano/compiledir_Linux-5.4.104+-x86_64-with-Ubuntu-18.04-bionic-x86_64-3.7.10-64/.lock\n",
            "2021-07-10 03:08:48.328\n",
            "Lock 140674796993296 released on /root/.theano/compiledir_Linux-5.4.104+-x86_64-with-Ubuntu-18.04-bionic-x86_64-3.7.10-64/.lock\n",
            "2021-07-10 03:08:48.330\n",
            "Lock 140674794117392 acquired on /root/.theano/compiledir_Linux-5.4.104+-x86_64-with-Ubuntu-18.04-bionic-x86_64-3.7.10-64/.lock\n",
            "2021-07-10 03:08:48.344\n",
            "Lock 140674794117392 released on /root/.theano/compiledir_Linux-5.4.104+-x86_64-with-Ubuntu-18.04-bionic-x86_64-3.7.10-64/.lock\n",
            "2021-07-10 03:08:48.345\n",
            "Lock 140674796884496 acquired on /root/.theano/compiledir_Linux-5.4.104+-x86_64-with-Ubuntu-18.04-bionic-x86_64-3.7.10-64/.lock\n",
            "2021-07-10 03:08:48.355\n",
            "Lock 140674796884496 released on /root/.theano/compiledir_Linux-5.4.104+-x86_64-with-Ubuntu-18.04-bionic-x86_64-3.7.10-64/.lock\n",
            "2021-07-10 03:08:48.357\n",
            "Lock 140674795330192 acquired on /root/.theano/compiledir_Linux-5.4.104+-x86_64-with-Ubuntu-18.04-bionic-x86_64-3.7.10-64/.lock\n",
            "2021-07-10 03:08:48.414\n",
            "Lock 140674795330192 released on /root/.theano/compiledir_Linux-5.4.104+-x86_64-with-Ubuntu-18.04-bionic-x86_64-3.7.10-64/.lock\n",
            "2021-07-10 03:08:49.049\n",
            "Lock 140674663935952 acquired on /root/.theano/compiledir_Linux-5.4.104+-x86_64-with-Ubuntu-18.04-bionic-x86_64-3.7.10-64/.lock\n",
            "2021-07-10 03:08:49.055\n",
            "Lock 140674663935952 released on /root/.theano/compiledir_Linux-5.4.104+-x86_64-with-Ubuntu-18.04-bionic-x86_64-3.7.10-64/.lock\n",
            "2021-07-10 03:08:49.675\n",
            "Lock 140674661572944 acquired on /root/.theano/compiledir_Linux-5.4.104+-x86_64-with-Ubuntu-18.04-bionic-x86_64-3.7.10-64/.lock\n",
            "2021-07-10 03:08:49.688\n",
            "Lock 140674661572944 released on /root/.theano/compiledir_Linux-5.4.104+-x86_64-with-Ubuntu-18.04-bionic-x86_64-3.7.10-64/.lock\n",
            "2021-07-10 03:08:49.696\n",
            "Lock 140674652897040 acquired on /root/.theano/compiledir_Linux-5.4.104+-x86_64-with-Ubuntu-18.04-bionic-x86_64-3.7.10-64/.lock\n",
            "2021-07-10 03:08:49.704\n",
            "Lock 140674652897040 released on /root/.theano/compiledir_Linux-5.4.104+-x86_64-with-Ubuntu-18.04-bionic-x86_64-3.7.10-64/.lock\n",
            "2021-07-10 03:08:50.371\n",
            "Lock 140674653117584 acquired on /root/.theano/compiledir_Linux-5.4.104+-x86_64-with-Ubuntu-18.04-bionic-x86_64-3.7.10-64/.lock\n",
            "2021-07-10 03:08:50.379\n",
            "Lock 140674653117584 released on /root/.theano/compiledir_Linux-5.4.104+-x86_64-with-Ubuntu-18.04-bionic-x86_64-3.7.10-64/.lock\n",
            "2021-07-10 03:08:51.032\n",
            "Lock 140674662118864 acquired on /root/.theano/compiledir_Linux-5.4.104+-x86_64-with-Ubuntu-18.04-bionic-x86_64-3.7.10-64/.lock\n",
            "2021-07-10 03:08:51.049\n",
            "Lock 140674662118864 released on /root/.theano/compiledir_Linux-5.4.104+-x86_64-with-Ubuntu-18.04-bionic-x86_64-3.7.10-64/.lock\n",
            "2021-07-10 03:08:51.050\n",
            "Lock 140674661990544 acquired on /root/.theano/compiledir_Linux-5.4.104+-x86_64-with-Ubuntu-18.04-bionic-x86_64-3.7.10-64/.lock\n",
            "2021-07-10 03:08:51.062\n",
            "Lock 140674661990544 released on /root/.theano/compiledir_Linux-5.4.104+-x86_64-with-Ubuntu-18.04-bionic-x86_64-3.7.10-64/.lock\n",
            "2021-07-10 03:08:51.067\n",
            "Lock 140674798095312 acquired on /root/.theano/compiledir_Linux-5.4.104+-x86_64-with-Ubuntu-18.04-bionic-x86_64-3.7.10-64/.lock\n",
            "2021-07-10 03:08:51.151\n",
            "Lock 140674798095312 released on /root/.theano/compiledir_Linux-5.4.104+-x86_64-with-Ubuntu-18.04-bionic-x86_64-3.7.10-64/.lock\n",
            "2021-07-10 03:08:51.849\n",
            "Lock 140674662131152 acquired on /root/.theano/compiledir_Linux-5.4.104+-x86_64-with-Ubuntu-18.04-bionic-x86_64-3.7.10-64/.lock\n",
            "2021-07-10 03:08:51.860\n",
            "Lock 140674662131152 released on /root/.theano/compiledir_Linux-5.4.104+-x86_64-with-Ubuntu-18.04-bionic-x86_64-3.7.10-64/.lock\n",
            "2021-07-10 03:08:52.539\n",
            "Lock 140674795268944 acquired on /root/.theano/compiledir_Linux-5.4.104+-x86_64-with-Ubuntu-18.04-bionic-x86_64-3.7.10-64/.lock\n",
            "2021-07-10 03:08:52.569\n",
            "Lock 140674795268944 released on /root/.theano/compiledir_Linux-5.4.104+-x86_64-with-Ubuntu-18.04-bionic-x86_64-3.7.10-64/.lock\n",
            "2021-07-10 03:08:53.254\n",
            "Lock 140674891128144 acquired on /root/.theano/compiledir_Linux-5.4.104+-x86_64-with-Ubuntu-18.04-bionic-x86_64-3.7.10-64/.lock\n",
            "2021-07-10 03:08:53.265\n",
            "Lock 140674891128144 released on /root/.theano/compiledir_Linux-5.4.104+-x86_64-with-Ubuntu-18.04-bionic-x86_64-3.7.10-64/.lock\n",
            "2021-07-10 03:08:53.918\n",
            "Lock 140674796018128 acquired on /root/.theano/compiledir_Linux-5.4.104+-x86_64-with-Ubuntu-18.04-bionic-x86_64-3.7.10-64/.lock\n",
            "2021-07-10 03:08:53.928\n",
            "Lock 140674796018128 released on /root/.theano/compiledir_Linux-5.4.104+-x86_64-with-Ubuntu-18.04-bionic-x86_64-3.7.10-64/.lock\n",
            "2021-07-10 03:08:54.595\n",
            "Lock 140674891259728 acquired on /root/.theano/compiledir_Linux-5.4.104+-x86_64-with-Ubuntu-18.04-bionic-x86_64-3.7.10-64/.lock\n",
            "2021-07-10 03:08:54.639\n",
            "Lock 140674891259728 released on /root/.theano/compiledir_Linux-5.4.104+-x86_64-with-Ubuntu-18.04-bionic-x86_64-3.7.10-64/.lock\n",
            "2021-07-10 03:08:54.642\n",
            "Lock 140674889788368 acquired on /root/.theano/compiledir_Linux-5.4.104+-x86_64-with-Ubuntu-18.04-bionic-x86_64-3.7.10-64/.lock\n",
            "2021-07-10 03:08:54.655\n",
            "Lock 140674889788368 released on /root/.theano/compiledir_Linux-5.4.104+-x86_64-with-Ubuntu-18.04-bionic-x86_64-3.7.10-64/.lock\n",
            "2021-07-10 03:08:55.293\n",
            "Lock 140674891327952 acquired on /root/.theano/compiledir_Linux-5.4.104+-x86_64-with-Ubuntu-18.04-bionic-x86_64-3.7.10-64/.lock\n",
            "2021-07-10 03:08:55.319\n",
            "Lock 140674891327952 released on /root/.theano/compiledir_Linux-5.4.104+-x86_64-with-Ubuntu-18.04-bionic-x86_64-3.7.10-64/.lock\n",
            "2021-07-10 03:08:55.324\n",
            "Lock 140674891423952 acquired on /root/.theano/compiledir_Linux-5.4.104+-x86_64-with-Ubuntu-18.04-bionic-x86_64-3.7.10-64/.lock\n",
            "2021-07-10 03:08:55.331\n",
            "Lock 140674891423952 released on /root/.theano/compiledir_Linux-5.4.104+-x86_64-with-Ubuntu-18.04-bionic-x86_64-3.7.10-64/.lock\n",
            "2021-07-10 03:08:55.999\n",
            "Lock 140674634173904 acquired on /root/.theano/compiledir_Linux-5.4.104+-x86_64-with-Ubuntu-18.04-bionic-x86_64-3.7.10-64/.lock\n",
            "2021-07-10 03:08:56.017\n",
            "Lock 140674634173904 released on /root/.theano/compiledir_Linux-5.4.104+-x86_64-with-Ubuntu-18.04-bionic-x86_64-3.7.10-64/.lock\n",
            "2021-07-10 03:08:56.026\n",
            "Lock 140674661407376 acquired on /root/.theano/compiledir_Linux-5.4.104+-x86_64-with-Ubuntu-18.04-bionic-x86_64-3.7.10-64/.lock\n",
            "2021-07-10 03:08:56.037\n",
            "Lock 140674661407376 released on /root/.theano/compiledir_Linux-5.4.104+-x86_64-with-Ubuntu-18.04-bionic-x86_64-3.7.10-64/.lock\n",
            "2021-07-10 03:08:56.045\n",
            "Lock 140674890947472 acquired on /root/.theano/compiledir_Linux-5.4.104+-x86_64-with-Ubuntu-18.04-bionic-x86_64-3.7.10-64/.lock\n",
            "2021-07-10 03:08:56.055\n",
            "Lock 140674890947472 released on /root/.theano/compiledir_Linux-5.4.104+-x86_64-with-Ubuntu-18.04-bionic-x86_64-3.7.10-64/.lock\n",
            "2021-07-10 03:08:56.059\n",
            "Lock 140674661951696 acquired on /root/.theano/compiledir_Linux-5.4.104+-x86_64-with-Ubuntu-18.04-bionic-x86_64-3.7.10-64/.lock\n",
            "2021-07-10 03:08:56.069\n",
            "Lock 140674661951696 released on /root/.theano/compiledir_Linux-5.4.104+-x86_64-with-Ubuntu-18.04-bionic-x86_64-3.7.10-64/.lock\n",
            "2021-07-10 03:08:56.074\n",
            "Lock 140674812459472 acquired on /root/.theano/compiledir_Linux-5.4.104+-x86_64-with-Ubuntu-18.04-bionic-x86_64-3.7.10-64/.lock\n",
            "2021-07-10 03:08:56.150\n",
            "Lock 140674812459472 released on /root/.theano/compiledir_Linux-5.4.104+-x86_64-with-Ubuntu-18.04-bionic-x86_64-3.7.10-64/.lock\n",
            "2021-07-10 03:08:56.718\n",
            "Lock 140674884623056 acquired on /root/.theano/compiledir_Linux-5.4.104+-x86_64-with-Ubuntu-18.04-bionic-x86_64-3.7.10-64/.lock\n",
            "2021-07-10 03:08:56.732\n",
            "Lock 140674884623056 released on /root/.theano/compiledir_Linux-5.4.104+-x86_64-with-Ubuntu-18.04-bionic-x86_64-3.7.10-64/.lock\n",
            "2021-07-10 03:08:57.289\n",
            "Lock 140674809949904 acquired on /root/.theano/compiledir_Linux-5.4.104+-x86_64-with-Ubuntu-18.04-bionic-x86_64-3.7.10-64/.lock\n",
            "2021-07-10 03:08:57.381\n",
            "Lock 140674809949904 released on /root/.theano/compiledir_Linux-5.4.104+-x86_64-with-Ubuntu-18.04-bionic-x86_64-3.7.10-64/.lock\n",
            "2021-07-10 03:08:57.383\n",
            "Lock 140674890230288 acquired on /root/.theano/compiledir_Linux-5.4.104+-x86_64-with-Ubuntu-18.04-bionic-x86_64-3.7.10-64/.lock\n",
            "2021-07-10 03:08:57.471\n",
            "Lock 140674890230288 released on /root/.theano/compiledir_Linux-5.4.104+-x86_64-with-Ubuntu-18.04-bionic-x86_64-3.7.10-64/.lock\n",
            "2021-07-10 03:08:57.475\n",
            "Lock 140674798042640 acquired on /root/.theano/compiledir_Linux-5.4.104+-x86_64-with-Ubuntu-18.04-bionic-x86_64-3.7.10-64/.lock\n",
            "2021-07-10 03:08:57.559\n",
            "Lock 140674798042640 released on /root/.theano/compiledir_Linux-5.4.104+-x86_64-with-Ubuntu-18.04-bionic-x86_64-3.7.10-64/.lock\n",
            "2021-07-10 03:08:57.562\n",
            "Lock 140674792535568 acquired on /root/.theano/compiledir_Linux-5.4.104+-x86_64-with-Ubuntu-18.04-bionic-x86_64-3.7.10-64/.lock\n",
            "2021-07-10 03:08:57.650\n",
            "Lock 140674792535568 released on /root/.theano/compiledir_Linux-5.4.104+-x86_64-with-Ubuntu-18.04-bionic-x86_64-3.7.10-64/.lock\n",
            "2021-07-10 03:08:57.653\n",
            "Lock 140674792705616 acquired on /root/.theano/compiledir_Linux-5.4.104+-x86_64-with-Ubuntu-18.04-bionic-x86_64-3.7.10-64/.lock\n",
            "2021-07-10 03:08:57.742\n",
            "Lock 140674792705616 released on /root/.theano/compiledir_Linux-5.4.104+-x86_64-with-Ubuntu-18.04-bionic-x86_64-3.7.10-64/.lock\n",
            "2021-07-10 03:08:57.746\n",
            "Lock 140674889705744 acquired on /root/.theano/compiledir_Linux-5.4.104+-x86_64-with-Ubuntu-18.04-bionic-x86_64-3.7.10-64/.lock\n",
            "2021-07-10 03:08:57.842\n",
            "Lock 140674889705744 released on /root/.theano/compiledir_Linux-5.4.104+-x86_64-with-Ubuntu-18.04-bionic-x86_64-3.7.10-64/.lock\n",
            "2021-07-10 03:08:57.846\n",
            "Lock 140674652968464 acquired on /root/.theano/compiledir_Linux-5.4.104+-x86_64-with-Ubuntu-18.04-bionic-x86_64-3.7.10-64/.lock\n",
            "2021-07-10 03:08:57.941\n",
            "Lock 140674652968464 released on /root/.theano/compiledir_Linux-5.4.104+-x86_64-with-Ubuntu-18.04-bionic-x86_64-3.7.10-64/.lock\n",
            "2021-07-10 03:08:57.945\n",
            "Lock 140674795852816 acquired on /root/.theano/compiledir_Linux-5.4.104+-x86_64-with-Ubuntu-18.04-bionic-x86_64-3.7.10-64/.lock\n",
            "2021-07-10 03:08:58.036\n",
            "Lock 140674795852816 released on /root/.theano/compiledir_Linux-5.4.104+-x86_64-with-Ubuntu-18.04-bionic-x86_64-3.7.10-64/.lock\n",
            "2021-07-10 03:08:58.041\n",
            "Lock 140674792789776 acquired on /root/.theano/compiledir_Linux-5.4.104+-x86_64-with-Ubuntu-18.04-bionic-x86_64-3.7.10-64/.lock\n",
            "2021-07-10 03:08:58.132\n",
            "Lock 140674792789776 released on /root/.theano/compiledir_Linux-5.4.104+-x86_64-with-Ubuntu-18.04-bionic-x86_64-3.7.10-64/.lock\n",
            "2021-07-10 03:08:58.136\n",
            "Lock 140674792819600 acquired on /root/.theano/compiledir_Linux-5.4.104+-x86_64-with-Ubuntu-18.04-bionic-x86_64-3.7.10-64/.lock\n",
            "2021-07-10 03:08:58.239\n",
            "Lock 140674792819600 released on /root/.theano/compiledir_Linux-5.4.104+-x86_64-with-Ubuntu-18.04-bionic-x86_64-3.7.10-64/.lock\n",
            "2021-07-10 03:08:58.243\n",
            "Lock 140674798350096 acquired on /root/.theano/compiledir_Linux-5.4.104+-x86_64-with-Ubuntu-18.04-bionic-x86_64-3.7.10-64/.lock\n",
            "2021-07-10 03:08:58.336\n",
            "Lock 140674798350096 released on /root/.theano/compiledir_Linux-5.4.104+-x86_64-with-Ubuntu-18.04-bionic-x86_64-3.7.10-64/.lock\n",
            "2021-07-10 03:08:58.341\n",
            "Lock 140674793663376 acquired on /root/.theano/compiledir_Linux-5.4.104+-x86_64-with-Ubuntu-18.04-bionic-x86_64-3.7.10-64/.lock\n",
            "2021-07-10 03:08:58.432\n",
            "Lock 140674793663376 released on /root/.theano/compiledir_Linux-5.4.104+-x86_64-with-Ubuntu-18.04-bionic-x86_64-3.7.10-64/.lock\n",
            "2021-07-10 03:08:58.437\n",
            "Lock 140674799091920 acquired on /root/.theano/compiledir_Linux-5.4.104+-x86_64-with-Ubuntu-18.04-bionic-x86_64-3.7.10-64/.lock\n",
            "2021-07-10 03:08:58.532\n",
            "Lock 140674799091920 released on /root/.theano/compiledir_Linux-5.4.104+-x86_64-with-Ubuntu-18.04-bionic-x86_64-3.7.10-64/.lock\n",
            "2021-07-10 03:08:58.537\n",
            "Lock 140674793662160 acquired on /root/.theano/compiledir_Linux-5.4.104+-x86_64-with-Ubuntu-18.04-bionic-x86_64-3.7.10-64/.lock\n",
            "2021-07-10 03:08:58.629\n",
            "Lock 140674793662160 released on /root/.theano/compiledir_Linux-5.4.104+-x86_64-with-Ubuntu-18.04-bionic-x86_64-3.7.10-64/.lock\n",
            "2021-07-10 03:08:58.634\n",
            "Lock 140674793031952 acquired on /root/.theano/compiledir_Linux-5.4.104+-x86_64-with-Ubuntu-18.04-bionic-x86_64-3.7.10-64/.lock\n",
            "2021-07-10 03:08:58.722\n",
            "Lock 140674793031952 released on /root/.theano/compiledir_Linux-5.4.104+-x86_64-with-Ubuntu-18.04-bionic-x86_64-3.7.10-64/.lock\n",
            "2021-07-10 03:08:58.728\n",
            "Lock 140674662528656 acquired on /root/.theano/compiledir_Linux-5.4.104+-x86_64-with-Ubuntu-18.04-bionic-x86_64-3.7.10-64/.lock\n",
            "2021-07-10 03:08:58.823\n",
            "Lock 140674662528656 released on /root/.theano/compiledir_Linux-5.4.104+-x86_64-with-Ubuntu-18.04-bionic-x86_64-3.7.10-64/.lock\n",
            "2021-07-10 03:08:58.829\n",
            "Lock 140674662648080 acquired on /root/.theano/compiledir_Linux-5.4.104+-x86_64-with-Ubuntu-18.04-bionic-x86_64-3.7.10-64/.lock\n",
            "2021-07-10 03:08:58.925\n",
            "Lock 140674662648080 released on /root/.theano/compiledir_Linux-5.4.104+-x86_64-with-Ubuntu-18.04-bionic-x86_64-3.7.10-64/.lock\n",
            "2021-07-10 03:08:58.930\n",
            "Lock 140674700229840 acquired on /root/.theano/compiledir_Linux-5.4.104+-x86_64-with-Ubuntu-18.04-bionic-x86_64-3.7.10-64/.lock\n",
            "2021-07-10 03:08:59.021\n",
            "Lock 140674700229840 released on /root/.theano/compiledir_Linux-5.4.104+-x86_64-with-Ubuntu-18.04-bionic-x86_64-3.7.10-64/.lock\n",
            "2021-07-10 03:08:59.027\n",
            "Lock 140674661629200 acquired on /root/.theano/compiledir_Linux-5.4.104+-x86_64-with-Ubuntu-18.04-bionic-x86_64-3.7.10-64/.lock\n",
            "2021-07-10 03:08:59.114\n",
            "Lock 140674661629200 released on /root/.theano/compiledir_Linux-5.4.104+-x86_64-with-Ubuntu-18.04-bionic-x86_64-3.7.10-64/.lock\n",
            "2021-07-10 03:08:59.120\n",
            "Lock 140674793538192 acquired on /root/.theano/compiledir_Linux-5.4.104+-x86_64-with-Ubuntu-18.04-bionic-x86_64-3.7.10-64/.lock\n",
            "2021-07-10 03:08:59.218\n",
            "Lock 140674793538192 released on /root/.theano/compiledir_Linux-5.4.104+-x86_64-with-Ubuntu-18.04-bionic-x86_64-3.7.10-64/.lock\n",
            "2021-07-10 03:08:59.224\n",
            "Lock 140674795677712 acquired on /root/.theano/compiledir_Linux-5.4.104+-x86_64-with-Ubuntu-18.04-bionic-x86_64-3.7.10-64/.lock\n",
            "2021-07-10 03:08:59.316\n",
            "Lock 140674795677712 released on /root/.theano/compiledir_Linux-5.4.104+-x86_64-with-Ubuntu-18.04-bionic-x86_64-3.7.10-64/.lock\n",
            "2021-07-10 03:08:59.323\n",
            "Lock 140674659722512 acquired on /root/.theano/compiledir_Linux-5.4.104+-x86_64-with-Ubuntu-18.04-bionic-x86_64-3.7.10-64/.lock\n",
            "2021-07-10 03:08:59.414\n",
            "Lock 140674659722512 released on /root/.theano/compiledir_Linux-5.4.104+-x86_64-with-Ubuntu-18.04-bionic-x86_64-3.7.10-64/.lock\n",
            "2021-07-10 03:08:59.420\n",
            "Lock 140674659778768 acquired on /root/.theano/compiledir_Linux-5.4.104+-x86_64-with-Ubuntu-18.04-bionic-x86_64-3.7.10-64/.lock\n",
            "2021-07-10 03:08:59.509\n",
            "Lock 140674659778768 released on /root/.theano/compiledir_Linux-5.4.104+-x86_64-with-Ubuntu-18.04-bionic-x86_64-3.7.10-64/.lock\n",
            "2021-07-10 03:08:59.516\n",
            "Lock 140674659924368 acquired on /root/.theano/compiledir_Linux-5.4.104+-x86_64-with-Ubuntu-18.04-bionic-x86_64-3.7.10-64/.lock\n",
            "2021-07-10 03:08:59.610\n",
            "Lock 140674659924368 released on /root/.theano/compiledir_Linux-5.4.104+-x86_64-with-Ubuntu-18.04-bionic-x86_64-3.7.10-64/.lock\n",
            "2021-07-10 03:08:59.621\n",
            "Lock 140674663447120 acquired on /root/.theano/compiledir_Linux-5.4.104+-x86_64-with-Ubuntu-18.04-bionic-x86_64-3.7.10-64/.lock\n",
            "2021-07-10 03:08:59.722\n",
            "Lock 140674663447120 released on /root/.theano/compiledir_Linux-5.4.104+-x86_64-with-Ubuntu-18.04-bionic-x86_64-3.7.10-64/.lock\n",
            "2021-07-10 03:08:59.730\n",
            "Lock 140674663481616 acquired on /root/.theano/compiledir_Linux-5.4.104+-x86_64-with-Ubuntu-18.04-bionic-x86_64-3.7.10-64/.lock\n",
            "2021-07-10 03:08:59.814\n",
            "Lock 140674663481616 released on /root/.theano/compiledir_Linux-5.4.104+-x86_64-with-Ubuntu-18.04-bionic-x86_64-3.7.10-64/.lock\n",
            "2021-07-10 03:08:59.822\n",
            "Lock 140674593880400 acquired on /root/.theano/compiledir_Linux-5.4.104+-x86_64-with-Ubuntu-18.04-bionic-x86_64-3.7.10-64/.lock\n",
            "2021-07-10 03:08:59.908\n",
            "Lock 140674593880400 released on /root/.theano/compiledir_Linux-5.4.104+-x86_64-with-Ubuntu-18.04-bionic-x86_64-3.7.10-64/.lock\n",
            "2021-07-10 03:08:59.916\n",
            "Lock 140674593801232 acquired on /root/.theano/compiledir_Linux-5.4.104+-x86_64-with-Ubuntu-18.04-bionic-x86_64-3.7.10-64/.lock\n",
            "2021-07-10 03:08:59.936\n",
            "Lock 140674593801232 released on /root/.theano/compiledir_Linux-5.4.104+-x86_64-with-Ubuntu-18.04-bionic-x86_64-3.7.10-64/.lock\n",
            "2021-07-10 03:08:59.943\n",
            "Lock 140674586566032 acquired on /root/.theano/compiledir_Linux-5.4.104+-x86_64-with-Ubuntu-18.04-bionic-x86_64-3.7.10-64/.lock\n",
            "2021-07-10 03:09:01.917\n",
            "Lock 140674586566032 released on /root/.theano/compiledir_Linux-5.4.104+-x86_64-with-Ubuntu-18.04-bionic-x86_64-3.7.10-64/.lock\n",
            "2021-07-10 03:09:02.532\n",
            "Lock 140674583013904 acquired on /root/.theano/compiledir_Linux-5.4.104+-x86_64-with-Ubuntu-18.04-bionic-x86_64-3.7.10-64/.lock\n",
            "2021-07-10 03:09:03.435\n",
            "Lock 140674583013904 released on /root/.theano/compiledir_Linux-5.4.104+-x86_64-with-Ubuntu-18.04-bionic-x86_64-3.7.10-64/.lock\n",
            "2021-07-10 03:09:04.017\n",
            "Lock 140674583048080 acquired on /root/.theano/compiledir_Linux-5.4.104+-x86_64-with-Ubuntu-18.04-bionic-x86_64-3.7.10-64/.lock\n",
            "2021-07-10 03:09:04.028\n",
            "Lock 140674583048080 released on /root/.theano/compiledir_Linux-5.4.104+-x86_64-with-Ubuntu-18.04-bionic-x86_64-3.7.10-64/.lock\n",
            "2021-07-10 03:09:04.034\n",
            "Lock 140674586595472 acquired on /root/.theano/compiledir_Linux-5.4.104+-x86_64-with-Ubuntu-18.04-bionic-x86_64-3.7.10-64/.lock\n",
            "2021-07-10 03:09:04.044\n",
            "Lock 140674586595472 released on /root/.theano/compiledir_Linux-5.4.104+-x86_64-with-Ubuntu-18.04-bionic-x86_64-3.7.10-64/.lock\n",
            "2021-07-10 03:09:04.049\n",
            "Lock 140674586595472 acquired on /root/.theano/compiledir_Linux-5.4.104+-x86_64-with-Ubuntu-18.04-bionic-x86_64-3.7.10-64/.lock\n",
            "2021-07-10 03:09:04.056\n",
            "Lock 140674586595472 released on /root/.theano/compiledir_Linux-5.4.104+-x86_64-with-Ubuntu-18.04-bionic-x86_64-3.7.10-64/.lock\n",
            "2021-07-10 03:09:04.062\n",
            "Lock 140674891424592 acquired on /root/.theano/compiledir_Linux-5.4.104+-x86_64-with-Ubuntu-18.04-bionic-x86_64-3.7.10-64/.lock\n",
            "2021-07-10 03:09:04.069\n",
            "Lock 140674891424592 released on /root/.theano/compiledir_Linux-5.4.104+-x86_64-with-Ubuntu-18.04-bionic-x86_64-3.7.10-64/.lock\n",
            "2021-07-10 03:09:04.075\n",
            "Lock 140674583010640 acquired on /root/.theano/compiledir_Linux-5.4.104+-x86_64-with-Ubuntu-18.04-bionic-x86_64-3.7.10-64/.lock\n",
            "2021-07-10 03:09:04.082\n",
            "Lock 140674583010640 released on /root/.theano/compiledir_Linux-5.4.104+-x86_64-with-Ubuntu-18.04-bionic-x86_64-3.7.10-64/.lock\n",
            "2021-07-10 03:09:04.090\n",
            "Lock 140674889737808 acquired on /root/.theano/compiledir_Linux-5.4.104+-x86_64-with-Ubuntu-18.04-bionic-x86_64-3.7.10-64/.lock\n",
            "2021-07-10 03:09:04.098\n",
            "Lock 140674889737808 released on /root/.theano/compiledir_Linux-5.4.104+-x86_64-with-Ubuntu-18.04-bionic-x86_64-3.7.10-64/.lock\n",
            "2021-07-10 03:09:04.103\n",
            "Lock 140674583002640 acquired on /root/.theano/compiledir_Linux-5.4.104+-x86_64-with-Ubuntu-18.04-bionic-x86_64-3.7.10-64/.lock\n",
            "2021-07-10 03:09:04.110\n",
            "Lock 140674583002640 released on /root/.theano/compiledir_Linux-5.4.104+-x86_64-with-Ubuntu-18.04-bionic-x86_64-3.7.10-64/.lock\n",
            "2021-07-10 03:09:04.115\n",
            "Lock 140674583737680 acquired on /root/.theano/compiledir_Linux-5.4.104+-x86_64-with-Ubuntu-18.04-bionic-x86_64-3.7.10-64/.lock\n",
            "2021-07-10 03:09:04.122\n",
            "Lock 140674583737680 released on /root/.theano/compiledir_Linux-5.4.104+-x86_64-with-Ubuntu-18.04-bionic-x86_64-3.7.10-64/.lock\n",
            "2021-07-10 03:09:04.129\n",
            "Lock 140674583008656 acquired on /root/.theano/compiledir_Linux-5.4.104+-x86_64-with-Ubuntu-18.04-bionic-x86_64-3.7.10-64/.lock\n",
            "2021-07-10 03:09:04.136\n",
            "Lock 140674583008656 released on /root/.theano/compiledir_Linux-5.4.104+-x86_64-with-Ubuntu-18.04-bionic-x86_64-3.7.10-64/.lock\n",
            "2021-07-10 03:09:04.148\n",
            "Lock 140674583022800 acquired on /root/.theano/compiledir_Linux-5.4.104+-x86_64-with-Ubuntu-18.04-bionic-x86_64-3.7.10-64/.lock\n",
            "2021-07-10 03:09:04.155\n",
            "Lock 140674583022800 released on /root/.theano/compiledir_Linux-5.4.104+-x86_64-with-Ubuntu-18.04-bionic-x86_64-3.7.10-64/.lock\n",
            "2021-07-10 03:09:04.164\n",
            "Lock 140674586604304 acquired on /root/.theano/compiledir_Linux-5.4.104+-x86_64-with-Ubuntu-18.04-bionic-x86_64-3.7.10-64/.lock\n",
            "2021-07-10 03:09:04.174\n",
            "Lock 140674586604304 released on /root/.theano/compiledir_Linux-5.4.104+-x86_64-with-Ubuntu-18.04-bionic-x86_64-3.7.10-64/.lock\n",
            "2021-07-10 03:09:04.180\n",
            "Lock 140674583026768 acquired on /root/.theano/compiledir_Linux-5.4.104+-x86_64-with-Ubuntu-18.04-bionic-x86_64-3.7.10-64/.lock\n",
            "2021-07-10 03:09:04.187\n",
            "Lock 140674583026768 released on /root/.theano/compiledir_Linux-5.4.104+-x86_64-with-Ubuntu-18.04-bionic-x86_64-3.7.10-64/.lock\n",
            "2021-07-10 03:09:04.196\n",
            "Lock 140674583010192 acquired on /root/.theano/compiledir_Linux-5.4.104+-x86_64-with-Ubuntu-18.04-bionic-x86_64-3.7.10-64/.lock\n",
            "2021-07-10 03:09:04.204\n",
            "Lock 140674583010192 released on /root/.theano/compiledir_Linux-5.4.104+-x86_64-with-Ubuntu-18.04-bionic-x86_64-3.7.10-64/.lock\n",
            "2021-07-10 03:09:04.211\n",
            "Lock 140674583045712 acquired on /root/.theano/compiledir_Linux-5.4.104+-x86_64-with-Ubuntu-18.04-bionic-x86_64-3.7.10-64/.lock\n",
            "2021-07-10 03:09:04.219\n",
            "Lock 140674583045712 released on /root/.theano/compiledir_Linux-5.4.104+-x86_64-with-Ubuntu-18.04-bionic-x86_64-3.7.10-64/.lock\n",
            "2021-07-10 03:09:04.230\n",
            "Lock 140674583025680 acquired on /root/.theano/compiledir_Linux-5.4.104+-x86_64-with-Ubuntu-18.04-bionic-x86_64-3.7.10-64/.lock\n",
            "2021-07-10 03:09:04.237\n",
            "Lock 140674583025680 released on /root/.theano/compiledir_Linux-5.4.104+-x86_64-with-Ubuntu-18.04-bionic-x86_64-3.7.10-64/.lock\n",
            "2021-07-10 03:09:04.243\n",
            "Lock 140674583036368 acquired on /root/.theano/compiledir_Linux-5.4.104+-x86_64-with-Ubuntu-18.04-bionic-x86_64-3.7.10-64/.lock\n",
            "2021-07-10 03:09:04.249\n",
            "Lock 140674583036368 released on /root/.theano/compiledir_Linux-5.4.104+-x86_64-with-Ubuntu-18.04-bionic-x86_64-3.7.10-64/.lock\n",
            "2021-07-10 03:09:04.256\n",
            "Lock 140674583014864 acquired on /root/.theano/compiledir_Linux-5.4.104+-x86_64-with-Ubuntu-18.04-bionic-x86_64-3.7.10-64/.lock\n",
            "2021-07-10 03:09:04.264\n",
            "Lock 140674583014864 released on /root/.theano/compiledir_Linux-5.4.104+-x86_64-with-Ubuntu-18.04-bionic-x86_64-3.7.10-64/.lock\n",
            "2021-07-10 03:09:04.270\n",
            "Lock 140674583023568 acquired on /root/.theano/compiledir_Linux-5.4.104+-x86_64-with-Ubuntu-18.04-bionic-x86_64-3.7.10-64/.lock\n",
            "2021-07-10 03:09:04.280\n",
            "Lock 140674583023568 released on /root/.theano/compiledir_Linux-5.4.104+-x86_64-with-Ubuntu-18.04-bionic-x86_64-3.7.10-64/.lock\n",
            "2021-07-10 03:09:04.292\n",
            "Lock 140674586598672 acquired on /root/.theano/compiledir_Linux-5.4.104+-x86_64-with-Ubuntu-18.04-bionic-x86_64-3.7.10-64/.lock\n",
            "2021-07-10 03:09:04.301\n",
            "Lock 140674586598672 released on /root/.theano/compiledir_Linux-5.4.104+-x86_64-with-Ubuntu-18.04-bionic-x86_64-3.7.10-64/.lock\n",
            "2021-07-10 03:09:04.308\n",
            "Lock 140674583013904 acquired on /root/.theano/compiledir_Linux-5.4.104+-x86_64-with-Ubuntu-18.04-bionic-x86_64-3.7.10-64/.lock\n",
            "2021-07-10 03:09:04.320\n",
            "Lock 140674583013904 released on /root/.theano/compiledir_Linux-5.4.104+-x86_64-with-Ubuntu-18.04-bionic-x86_64-3.7.10-64/.lock\n",
            "2021-07-10 03:09:04.328\n",
            "Lock 140674583039248 acquired on /root/.theano/compiledir_Linux-5.4.104+-x86_64-with-Ubuntu-18.04-bionic-x86_64-3.7.10-64/.lock\n",
            "2021-07-10 03:09:04.337\n",
            "Lock 140674583039248 released on /root/.theano/compiledir_Linux-5.4.104+-x86_64-with-Ubuntu-18.04-bionic-x86_64-3.7.10-64/.lock\n",
            "2021-07-10 03:09:04.344\n",
            "Lock 140674583009552 acquired on /root/.theano/compiledir_Linux-5.4.104+-x86_64-with-Ubuntu-18.04-bionic-x86_64-3.7.10-64/.lock\n",
            "2021-07-10 03:09:04.353\n",
            "Lock 140674583009552 released on /root/.theano/compiledir_Linux-5.4.104+-x86_64-with-Ubuntu-18.04-bionic-x86_64-3.7.10-64/.lock\n",
            "2021-07-10 03:09:04.361\n",
            "Lock 140674583003344 acquired on /root/.theano/compiledir_Linux-5.4.104+-x86_64-with-Ubuntu-18.04-bionic-x86_64-3.7.10-64/.lock\n",
            "2021-07-10 03:09:04.371\n",
            "Lock 140674583003344 released on /root/.theano/compiledir_Linux-5.4.104+-x86_64-with-Ubuntu-18.04-bionic-x86_64-3.7.10-64/.lock\n",
            "2021-07-10 03:09:04.377\n",
            "Lock 140674583039440 acquired on /root/.theano/compiledir_Linux-5.4.104+-x86_64-with-Ubuntu-18.04-bionic-x86_64-3.7.10-64/.lock\n",
            "2021-07-10 03:09:04.382\n",
            "Lock 140674583039440 released on /root/.theano/compiledir_Linux-5.4.104+-x86_64-with-Ubuntu-18.04-bionic-x86_64-3.7.10-64/.lock\n",
            "2021-07-10 03:09:04.398\n",
            "Lock 140674583032016 acquired on /root/.theano/compiledir_Linux-5.4.104+-x86_64-with-Ubuntu-18.04-bionic-x86_64-3.7.10-64/.lock\n",
            "2021-07-10 03:09:04.407\n",
            "Lock 140674583032016 released on /root/.theano/compiledir_Linux-5.4.104+-x86_64-with-Ubuntu-18.04-bionic-x86_64-3.7.10-64/.lock\n",
            "2021-07-10 03:09:04.414\n",
            "Lock 140674583042128 acquired on /root/.theano/compiledir_Linux-5.4.104+-x86_64-with-Ubuntu-18.04-bionic-x86_64-3.7.10-64/.lock\n",
            "2021-07-10 03:09:04.427\n",
            "Lock 140674583042128 released on /root/.theano/compiledir_Linux-5.4.104+-x86_64-with-Ubuntu-18.04-bionic-x86_64-3.7.10-64/.lock\n",
            "2021-07-10 03:09:04.439\n",
            "Lock 140674583047824 acquired on /root/.theano/compiledir_Linux-5.4.104+-x86_64-with-Ubuntu-18.04-bionic-x86_64-3.7.10-64/.lock\n",
            "2021-07-10 03:09:04.451\n",
            "Lock 140674583047824 released on /root/.theano/compiledir_Linux-5.4.104+-x86_64-with-Ubuntu-18.04-bionic-x86_64-3.7.10-64/.lock\n",
            "2021-07-10 03:09:04.458\n",
            "Lock 140674583003024 acquired on /root/.theano/compiledir_Linux-5.4.104+-x86_64-with-Ubuntu-18.04-bionic-x86_64-3.7.10-64/.lock\n",
            "2021-07-10 03:09:04.469\n",
            "Lock 140674583003024 released on /root/.theano/compiledir_Linux-5.4.104+-x86_64-with-Ubuntu-18.04-bionic-x86_64-3.7.10-64/.lock\n",
            "2021-07-10 03:09:04.479\n",
            "Lock 140674586596880 acquired on /root/.theano/compiledir_Linux-5.4.104+-x86_64-with-Ubuntu-18.04-bionic-x86_64-3.7.10-64/.lock\n",
            "2021-07-10 03:09:04.489\n",
            "Lock 140674586596880 released on /root/.theano/compiledir_Linux-5.4.104+-x86_64-with-Ubuntu-18.04-bionic-x86_64-3.7.10-64/.lock\n",
            "2021-07-10 03:09:04.497\n",
            "Lock 140674571035024 acquired on /root/.theano/compiledir_Linux-5.4.104+-x86_64-with-Ubuntu-18.04-bionic-x86_64-3.7.10-64/.lock\n",
            "2021-07-10 03:09:06.772\n",
            "Lock 140674571035024 released on /root/.theano/compiledir_Linux-5.4.104+-x86_64-with-Ubuntu-18.04-bionic-x86_64-3.7.10-64/.lock\n",
            "2021-07-10 03:09:06.780\n",
            "Lock 140674570530256 acquired on /root/.theano/compiledir_Linux-5.4.104+-x86_64-with-Ubuntu-18.04-bionic-x86_64-3.7.10-64/.lock\n",
            "2021-07-10 03:09:06.809\n",
            "Lock 140674570530256 released on /root/.theano/compiledir_Linux-5.4.104+-x86_64-with-Ubuntu-18.04-bionic-x86_64-3.7.10-64/.lock\n",
            "2021-07-10 03:09:06.819\n",
            "Lock 140674570542224 acquired on /root/.theano/compiledir_Linux-5.4.104+-x86_64-with-Ubuntu-18.04-bionic-x86_64-3.7.10-64/.lock\n",
            "2021-07-10 03:09:06.823\n",
            "Lock 140674570542224 released on /root/.theano/compiledir_Linux-5.4.104+-x86_64-with-Ubuntu-18.04-bionic-x86_64-3.7.10-64/.lock\n",
            "2021-07-10 03:09:06.828\n",
            "Lock 140674570528336 acquired on /root/.theano/compiledir_Linux-5.4.104+-x86_64-with-Ubuntu-18.04-bionic-x86_64-3.7.10-64/.lock\n",
            "2021-07-10 03:09:06.844\n",
            "Lock 140674570528336 released on /root/.theano/compiledir_Linux-5.4.104+-x86_64-with-Ubuntu-18.04-bionic-x86_64-3.7.10-64/.lock\n",
            "2021-07-10 03:09:07.537\n",
            "Lock 140674568037904 acquired on /root/.theano/compiledir_Linux-5.4.104+-x86_64-with-Ubuntu-18.04-bionic-x86_64-3.7.10-64/.lock\n",
            "2021-07-10 03:09:07.543\n",
            "Lock 140674568037904 released on /root/.theano/compiledir_Linux-5.4.104+-x86_64-with-Ubuntu-18.04-bionic-x86_64-3.7.10-64/.lock\n",
            "2021-07-10 03:09:07.564\n",
            "Lock 140674570463120 acquired on /root/.theano/compiledir_Linux-5.4.104+-x86_64-with-Ubuntu-18.04-bionic-x86_64-3.7.10-64/.lock\n",
            "2021-07-10 03:09:07.573\n",
            "Lock 140674570463120 released on /root/.theano/compiledir_Linux-5.4.104+-x86_64-with-Ubuntu-18.04-bionic-x86_64-3.7.10-64/.lock\n",
            "2021-07-10 03:09:07.588\n",
            "Lock 140674568194704 acquired on /root/.theano/compiledir_Linux-5.4.104+-x86_64-with-Ubuntu-18.04-bionic-x86_64-3.7.10-64/.lock\n",
            "2021-07-10 03:09:07.596\n",
            "Lock 140674568194704 released on /root/.theano/compiledir_Linux-5.4.104+-x86_64-with-Ubuntu-18.04-bionic-x86_64-3.7.10-64/.lock\n",
            "2021-07-10 03:09:07.612\n",
            "Lock 140674567901392 acquired on /root/.theano/compiledir_Linux-5.4.104+-x86_64-with-Ubuntu-18.04-bionic-x86_64-3.7.10-64/.lock\n",
            "2021-07-10 03:09:07.621\n",
            "Lock 140674567901392 released on /root/.theano/compiledir_Linux-5.4.104+-x86_64-with-Ubuntu-18.04-bionic-x86_64-3.7.10-64/.lock\n",
            "2021-07-10 03:09:07.640\n",
            "Lock 140674567837968 acquired on /root/.theano/compiledir_Linux-5.4.104+-x86_64-with-Ubuntu-18.04-bionic-x86_64-3.7.10-64/.lock\n",
            "2021-07-10 03:09:07.648\n",
            "Lock 140674567837968 released on /root/.theano/compiledir_Linux-5.4.104+-x86_64-with-Ubuntu-18.04-bionic-x86_64-3.7.10-64/.lock\n",
            "2021-07-10 03:09:07.671\n",
            "Lock 140674567880208 acquired on /root/.theano/compiledir_Linux-5.4.104+-x86_64-with-Ubuntu-18.04-bionic-x86_64-3.7.10-64/.lock\n",
            "2021-07-10 03:09:07.682\n",
            "Lock 140674567880208 released on /root/.theano/compiledir_Linux-5.4.104+-x86_64-with-Ubuntu-18.04-bionic-x86_64-3.7.10-64/.lock\n",
            "2021-07-10 03:09:07.706\n",
            "Lock 140674567903376 acquired on /root/.theano/compiledir_Linux-5.4.104+-x86_64-with-Ubuntu-18.04-bionic-x86_64-3.7.10-64/.lock\n",
            "2021-07-10 03:09:07.712\n",
            "Lock 140674567903376 released on /root/.theano/compiledir_Linux-5.4.104+-x86_64-with-Ubuntu-18.04-bionic-x86_64-3.7.10-64/.lock\n",
            "2021-07-10 03:09:07.746\n",
            "Lock 140674567668880 acquired on /root/.theano/compiledir_Linux-5.4.104+-x86_64-with-Ubuntu-18.04-bionic-x86_64-3.7.10-64/.lock\n",
            "2021-07-10 03:09:07.756\n",
            "Lock 140674567668880 released on /root/.theano/compiledir_Linux-5.4.104+-x86_64-with-Ubuntu-18.04-bionic-x86_64-3.7.10-64/.lock\n",
            "2021-07-10 03:09:07.784\n",
            "Lock 140674566350160 acquired on /root/.theano/compiledir_Linux-5.4.104+-x86_64-with-Ubuntu-18.04-bionic-x86_64-3.7.10-64/.lock\n",
            "2021-07-10 03:09:07.791\n",
            "Lock 140674566350160 released on /root/.theano/compiledir_Linux-5.4.104+-x86_64-with-Ubuntu-18.04-bionic-x86_64-3.7.10-64/.lock\n",
            "2021-07-10 03:09:07.822\n",
            "Lock 140674565420880 acquired on /root/.theano/compiledir_Linux-5.4.104+-x86_64-with-Ubuntu-18.04-bionic-x86_64-3.7.10-64/.lock\n",
            "2021-07-10 03:09:07.832\n",
            "Lock 140674565420880 released on /root/.theano/compiledir_Linux-5.4.104+-x86_64-with-Ubuntu-18.04-bionic-x86_64-3.7.10-64/.lock\n",
            "2021-07-10 03:09:07.872\n",
            "Lock 140674566148944 acquired on /root/.theano/compiledir_Linux-5.4.104+-x86_64-with-Ubuntu-18.04-bionic-x86_64-3.7.10-64/.lock\n",
            "2021-07-10 03:09:07.877\n",
            "Lock 140674566148944 released on /root/.theano/compiledir_Linux-5.4.104+-x86_64-with-Ubuntu-18.04-bionic-x86_64-3.7.10-64/.lock\n",
            "2021-07-10 03:09:07.916\n",
            "Lock 140674564468688 acquired on /root/.theano/compiledir_Linux-5.4.104+-x86_64-with-Ubuntu-18.04-bionic-x86_64-3.7.10-64/.lock\n",
            "2021-07-10 03:09:07.928\n",
            "Lock 140674564468688 released on /root/.theano/compiledir_Linux-5.4.104+-x86_64-with-Ubuntu-18.04-bionic-x86_64-3.7.10-64/.lock\n",
            "2021-07-10 03:09:07.971\n",
            "Lock 140674565443664 acquired on /root/.theano/compiledir_Linux-5.4.104+-x86_64-with-Ubuntu-18.04-bionic-x86_64-3.7.10-64/.lock\n",
            "2021-07-10 03:09:07.981\n",
            "Lock 140674565443664 released on /root/.theano/compiledir_Linux-5.4.104+-x86_64-with-Ubuntu-18.04-bionic-x86_64-3.7.10-64/.lock\n",
            "2021-07-10 03:09:08.024\n",
            "Lock 140674561645200 acquired on /root/.theano/compiledir_Linux-5.4.104+-x86_64-with-Ubuntu-18.04-bionic-x86_64-3.7.10-64/.lock\n",
            "2021-07-10 03:09:08.033\n",
            "Lock 140674561645200 released on /root/.theano/compiledir_Linux-5.4.104+-x86_64-with-Ubuntu-18.04-bionic-x86_64-3.7.10-64/.lock\n",
            "2021-07-10 03:09:08.076\n",
            "Lock 140674561137040 acquired on /root/.theano/compiledir_Linux-5.4.104+-x86_64-with-Ubuntu-18.04-bionic-x86_64-3.7.10-64/.lock\n",
            "2021-07-10 03:09:08.083\n",
            "Lock 140674561137040 released on /root/.theano/compiledir_Linux-5.4.104+-x86_64-with-Ubuntu-18.04-bionic-x86_64-3.7.10-64/.lock\n",
            "2021-07-10 03:09:08.130\n",
            "Lock 140674561082576 acquired on /root/.theano/compiledir_Linux-5.4.104+-x86_64-with-Ubuntu-18.04-bionic-x86_64-3.7.10-64/.lock\n",
            "2021-07-10 03:09:08.141\n",
            "Lock 140674561082576 released on /root/.theano/compiledir_Linux-5.4.104+-x86_64-with-Ubuntu-18.04-bionic-x86_64-3.7.10-64/.lock\n",
            "2021-07-10 03:09:08.190\n",
            "Lock 140674559877008 acquired on /root/.theano/compiledir_Linux-5.4.104+-x86_64-with-Ubuntu-18.04-bionic-x86_64-3.7.10-64/.lock\n",
            "2021-07-10 03:09:08.197\n",
            "Lock 140674559877008 released on /root/.theano/compiledir_Linux-5.4.104+-x86_64-with-Ubuntu-18.04-bionic-x86_64-3.7.10-64/.lock\n",
            "2021-07-10 03:09:08.251\n",
            "Lock 140674556314384 acquired on /root/.theano/compiledir_Linux-5.4.104+-x86_64-with-Ubuntu-18.04-bionic-x86_64-3.7.10-64/.lock\n",
            "2021-07-10 03:09:08.258\n",
            "Lock 140674556314384 released on /root/.theano/compiledir_Linux-5.4.104+-x86_64-with-Ubuntu-18.04-bionic-x86_64-3.7.10-64/.lock\n",
            "2021-07-10 03:09:08.660\n",
            "Lock 140674556434064 acquired on /root/.theano/compiledir_Linux-5.4.104+-x86_64-with-Ubuntu-18.04-bionic-x86_64-3.7.10-64/.lock\n",
            "2021-07-10 03:09:08.665\n",
            "Lock 140674556434064 released on /root/.theano/compiledir_Linux-5.4.104+-x86_64-with-Ubuntu-18.04-bionic-x86_64-3.7.10-64/.lock\n",
            "2021-07-10 03:09:08.724\n",
            "Lock 140674559068688 acquired on /root/.theano/compiledir_Linux-5.4.104+-x86_64-with-Ubuntu-18.04-bionic-x86_64-3.7.10-64/.lock\n",
            "2021-07-10 03:09:08.730\n",
            "Lock 140674559068688 released on /root/.theano/compiledir_Linux-5.4.104+-x86_64-with-Ubuntu-18.04-bionic-x86_64-3.7.10-64/.lock\n",
            "2021-07-10 03:09:08.787\n",
            "Lock 140674561136400 acquired on /root/.theano/compiledir_Linux-5.4.104+-x86_64-with-Ubuntu-18.04-bionic-x86_64-3.7.10-64/.lock\n",
            "2021-07-10 03:09:08.793\n",
            "Lock 140674561136400 released on /root/.theano/compiledir_Linux-5.4.104+-x86_64-with-Ubuntu-18.04-bionic-x86_64-3.7.10-64/.lock\n",
            "2021-07-10 03:09:08.862\n",
            "Lock 140674567876816 acquired on /root/.theano/compiledir_Linux-5.4.104+-x86_64-with-Ubuntu-18.04-bionic-x86_64-3.7.10-64/.lock\n",
            "2021-07-10 03:09:08.868\n",
            "Lock 140674567876816 released on /root/.theano/compiledir_Linux-5.4.104+-x86_64-with-Ubuntu-18.04-bionic-x86_64-3.7.10-64/.lock\n",
            "2021-07-10 03:09:08.934\n",
            "Lock 140674561194768 acquired on /root/.theano/compiledir_Linux-5.4.104+-x86_64-with-Ubuntu-18.04-bionic-x86_64-3.7.10-64/.lock\n",
            "2021-07-10 03:09:08.945\n",
            "Lock 140674561194768 released on /root/.theano/compiledir_Linux-5.4.104+-x86_64-with-Ubuntu-18.04-bionic-x86_64-3.7.10-64/.lock\n",
            "2021-07-10 03:09:09.017\n",
            "Lock 140674563017552 acquired on /root/.theano/compiledir_Linux-5.4.104+-x86_64-with-Ubuntu-18.04-bionic-x86_64-3.7.10-64/.lock\n",
            "2021-07-10 03:09:09.027\n",
            "Lock 140674563017552 released on /root/.theano/compiledir_Linux-5.4.104+-x86_64-with-Ubuntu-18.04-bionic-x86_64-3.7.10-64/.lock\n",
            "2021-07-10 03:09:09.095\n",
            "Lock 140674553915024 acquired on /root/.theano/compiledir_Linux-5.4.104+-x86_64-with-Ubuntu-18.04-bionic-x86_64-3.7.10-64/.lock\n",
            "2021-07-10 03:09:09.107\n",
            "Lock 140674553915024 released on /root/.theano/compiledir_Linux-5.4.104+-x86_64-with-Ubuntu-18.04-bionic-x86_64-3.7.10-64/.lock\n",
            "2021-07-10 03:09:09.526\n",
            "Lock 140674552346832 acquired on /root/.theano/compiledir_Linux-5.4.104+-x86_64-with-Ubuntu-18.04-bionic-x86_64-3.7.10-64/.lock\n",
            "2021-07-10 03:09:09.540\n",
            "Lock 140674552346832 released on /root/.theano/compiledir_Linux-5.4.104+-x86_64-with-Ubuntu-18.04-bionic-x86_64-3.7.10-64/.lock\n",
            "2021-07-10 03:09:09.614\n",
            "Lock 140674551525520 acquired on /root/.theano/compiledir_Linux-5.4.104+-x86_64-with-Ubuntu-18.04-bionic-x86_64-3.7.10-64/.lock\n",
            "2021-07-10 03:09:09.621\n",
            "Lock 140674551525520 released on /root/.theano/compiledir_Linux-5.4.104+-x86_64-with-Ubuntu-18.04-bionic-x86_64-3.7.10-64/.lock\n",
            "2021-07-10 03:09:10.247\n",
            "Lock 140674559849552 acquired on /root/.theano/compiledir_Linux-5.4.104+-x86_64-with-Ubuntu-18.04-bionic-x86_64-3.7.10-64/.lock\n",
            "2021-07-10 03:09:10.278\n",
            "Lock 140674559849552 released on /root/.theano/compiledir_Linux-5.4.104+-x86_64-with-Ubuntu-18.04-bionic-x86_64-3.7.10-64/.lock\n",
            "2021-07-10 03:09:10.925\n",
            "Lock 140674553319312 acquired on /root/.theano/compiledir_Linux-5.4.104+-x86_64-with-Ubuntu-18.04-bionic-x86_64-3.7.10-64/.lock\n",
            "2021-07-10 03:09:10.936\n",
            "Lock 140674553319312 released on /root/.theano/compiledir_Linux-5.4.104+-x86_64-with-Ubuntu-18.04-bionic-x86_64-3.7.10-64/.lock\n",
            "2021-07-10 03:09:11.645\n",
            "Lock 140674565815696 acquired on /root/.theano/compiledir_Linux-5.4.104+-x86_64-with-Ubuntu-18.04-bionic-x86_64-3.7.10-64/.lock\n",
            "2021-07-10 03:09:11.656\n",
            "Lock 140674565815696 released on /root/.theano/compiledir_Linux-5.4.104+-x86_64-with-Ubuntu-18.04-bionic-x86_64-3.7.10-64/.lock\n",
            "2021-07-10 03:09:12.206\n",
            "Lock 140674564907280 acquired on /root/.theano/compiledir_Linux-5.4.104+-x86_64-with-Ubuntu-18.04-bionic-x86_64-3.7.10-64/.lock\n",
            "2021-07-10 03:09:12.225\n",
            "Lock 140674564907280 released on /root/.theano/compiledir_Linux-5.4.104+-x86_64-with-Ubuntu-18.04-bionic-x86_64-3.7.10-64/.lock\n",
            "2021-07-10 03:09:12.851\n",
            "Lock 140674562353360 acquired on /root/.theano/compiledir_Linux-5.4.104+-x86_64-with-Ubuntu-18.04-bionic-x86_64-3.7.10-64/.lock\n",
            "2021-07-10 03:09:12.890\n",
            "Lock 140674562353360 released on /root/.theano/compiledir_Linux-5.4.104+-x86_64-with-Ubuntu-18.04-bionic-x86_64-3.7.10-64/.lock\n",
            "2021-07-10 03:09:12.893\n",
            "Lock 140674561192528 acquired on /root/.theano/compiledir_Linux-5.4.104+-x86_64-with-Ubuntu-18.04-bionic-x86_64-3.7.10-64/.lock\n",
            "2021-07-10 03:09:12.900\n",
            "Lock 140674561192528 released on /root/.theano/compiledir_Linux-5.4.104+-x86_64-with-Ubuntu-18.04-bionic-x86_64-3.7.10-64/.lock\n",
            "2021-07-10 03:09:13.626\n",
            "Lock 140674568218640 acquired on /root/.theano/compiledir_Linux-5.4.104+-x86_64-with-Ubuntu-18.04-bionic-x86_64-3.7.10-64/.lock\n",
            "2021-07-10 03:09:13.634\n",
            "Lock 140674568218640 released on /root/.theano/compiledir_Linux-5.4.104+-x86_64-with-Ubuntu-18.04-bionic-x86_64-3.7.10-64/.lock\n",
            "2021-07-10 03:09:14.336\n",
            "Lock 140674567278416 acquired on /root/.theano/compiledir_Linux-5.4.104+-x86_64-with-Ubuntu-18.04-bionic-x86_64-3.7.10-64/.lock\n",
            "2021-07-10 03:09:14.360\n",
            "Lock 140674567278416 released on /root/.theano/compiledir_Linux-5.4.104+-x86_64-with-Ubuntu-18.04-bionic-x86_64-3.7.10-64/.lock\n",
            "2021-07-10 03:09:15.223\n",
            "Lock 140674568216848 acquired on /root/.theano/compiledir_Linux-5.4.104+-x86_64-with-Ubuntu-18.04-bionic-x86_64-3.7.10-64/.lock\n",
            "2021-07-10 03:09:15.272\n",
            "Lock 140674568216848 released on /root/.theano/compiledir_Linux-5.4.104+-x86_64-with-Ubuntu-18.04-bionic-x86_64-3.7.10-64/.lock\n",
            "2021-07-10 03:09:16.212\n",
            "Lock 140674561559184 acquired on /root/.theano/compiledir_Linux-5.4.104+-x86_64-with-Ubuntu-18.04-bionic-x86_64-3.7.10-64/.lock\n",
            "2021-07-10 03:09:16.236\n",
            "Lock 140674561559184 released on /root/.theano/compiledir_Linux-5.4.104+-x86_64-with-Ubuntu-18.04-bionic-x86_64-3.7.10-64/.lock\n",
            "2021-07-10 03:09:16.947\n",
            "Lock 140674567483856 acquired on /root/.theano/compiledir_Linux-5.4.104+-x86_64-with-Ubuntu-18.04-bionic-x86_64-3.7.10-64/.lock\n",
            "2021-07-10 03:09:16.986\n",
            "Lock 140674567483856 released on /root/.theano/compiledir_Linux-5.4.104+-x86_64-with-Ubuntu-18.04-bionic-x86_64-3.7.10-64/.lock\n",
            "2021-07-10 03:09:17.637\n",
            "Lock 140674565305104 acquired on /root/.theano/compiledir_Linux-5.4.104+-x86_64-with-Ubuntu-18.04-bionic-x86_64-3.7.10-64/.lock\n",
            "2021-07-10 03:09:17.693\n",
            "Lock 140674565305104 released on /root/.theano/compiledir_Linux-5.4.104+-x86_64-with-Ubuntu-18.04-bionic-x86_64-3.7.10-64/.lock\n",
            "2021-07-10 03:09:17.697\n",
            "Lock 140674565307216 acquired on /root/.theano/compiledir_Linux-5.4.104+-x86_64-with-Ubuntu-18.04-bionic-x86_64-3.7.10-64/.lock\n",
            "2021-07-10 03:09:17.705\n",
            "Lock 140674565307216 released on /root/.theano/compiledir_Linux-5.4.104+-x86_64-with-Ubuntu-18.04-bionic-x86_64-3.7.10-64/.lock\n",
            "2021-07-10 03:09:18.281\n",
            "Lock 140674566167440 acquired on /root/.theano/compiledir_Linux-5.4.104+-x86_64-with-Ubuntu-18.04-bionic-x86_64-3.7.10-64/.lock\n",
            "2021-07-10 03:09:18.288\n",
            "Lock 140674566167440 released on /root/.theano/compiledir_Linux-5.4.104+-x86_64-with-Ubuntu-18.04-bionic-x86_64-3.7.10-64/.lock\n",
            "2021-07-10 03:09:18.292\n",
            "Lock 140674567553168 acquired on /root/.theano/compiledir_Linux-5.4.104+-x86_64-with-Ubuntu-18.04-bionic-x86_64-3.7.10-64/.lock\n",
            "2021-07-10 03:09:18.299\n",
            "Lock 140674567553168 released on /root/.theano/compiledir_Linux-5.4.104+-x86_64-with-Ubuntu-18.04-bionic-x86_64-3.7.10-64/.lock\n",
            "2021-07-10 03:09:18.303\n",
            "Lock 140674565875600 acquired on /root/.theano/compiledir_Linux-5.4.104+-x86_64-with-Ubuntu-18.04-bionic-x86_64-3.7.10-64/.lock\n",
            "2021-07-10 03:09:18.308\n",
            "Lock 140674565875600 released on /root/.theano/compiledir_Linux-5.4.104+-x86_64-with-Ubuntu-18.04-bionic-x86_64-3.7.10-64/.lock\n",
            "2021-07-10 03:09:18.312\n",
            "Lock 140674566568720 acquired on /root/.theano/compiledir_Linux-5.4.104+-x86_64-with-Ubuntu-18.04-bionic-x86_64-3.7.10-64/.lock\n",
            "2021-07-10 03:09:18.318\n",
            "Lock 140674566568720 released on /root/.theano/compiledir_Linux-5.4.104+-x86_64-with-Ubuntu-18.04-bionic-x86_64-3.7.10-64/.lock\n",
            "2021-07-10 03:09:18.321\n",
            "Lock 140674567393552 acquired on /root/.theano/compiledir_Linux-5.4.104+-x86_64-with-Ubuntu-18.04-bionic-x86_64-3.7.10-64/.lock\n",
            "2021-07-10 03:09:18.327\n",
            "Lock 140674567393552 released on /root/.theano/compiledir_Linux-5.4.104+-x86_64-with-Ubuntu-18.04-bionic-x86_64-3.7.10-64/.lock\n",
            "2021-07-10 03:09:18.332\n",
            "Lock 140674566938192 acquired on /root/.theano/compiledir_Linux-5.4.104+-x86_64-with-Ubuntu-18.04-bionic-x86_64-3.7.10-64/.lock\n",
            "2021-07-10 03:09:18.339\n",
            "Lock 140674566938192 released on /root/.theano/compiledir_Linux-5.4.104+-x86_64-with-Ubuntu-18.04-bionic-x86_64-3.7.10-64/.lock\n",
            "2021-07-10 03:09:18.346\n",
            "Lock 140674565472720 acquired on /root/.theano/compiledir_Linux-5.4.104+-x86_64-with-Ubuntu-18.04-bionic-x86_64-3.7.10-64/.lock\n",
            "2021-07-10 03:09:18.355\n",
            "Lock 140674565472720 released on /root/.theano/compiledir_Linux-5.4.104+-x86_64-with-Ubuntu-18.04-bionic-x86_64-3.7.10-64/.lock\n",
            "2021-07-10 03:09:18.359\n",
            "Lock 140674566325584 acquired on /root/.theano/compiledir_Linux-5.4.104+-x86_64-with-Ubuntu-18.04-bionic-x86_64-3.7.10-64/.lock\n",
            "2021-07-10 03:09:18.368\n",
            "Lock 140674566325584 released on /root/.theano/compiledir_Linux-5.4.104+-x86_64-with-Ubuntu-18.04-bionic-x86_64-3.7.10-64/.lock\n",
            "2021-07-10 03:09:18.373\n",
            "Lock 140674565474704 acquired on /root/.theano/compiledir_Linux-5.4.104+-x86_64-with-Ubuntu-18.04-bionic-x86_64-3.7.10-64/.lock\n",
            "2021-07-10 03:09:18.379\n",
            "Lock 140674565474704 released on /root/.theano/compiledir_Linux-5.4.104+-x86_64-with-Ubuntu-18.04-bionic-x86_64-3.7.10-64/.lock\n",
            "2021-07-10 03:09:18.384\n",
            "Lock 140674565960592 acquired on /root/.theano/compiledir_Linux-5.4.104+-x86_64-with-Ubuntu-18.04-bionic-x86_64-3.7.10-64/.lock\n",
            "2021-07-10 03:09:18.391\n",
            "Lock 140674565960592 released on /root/.theano/compiledir_Linux-5.4.104+-x86_64-with-Ubuntu-18.04-bionic-x86_64-3.7.10-64/.lock\n",
            "2021-07-10 03:09:18.403\n",
            "Lock 140674565704528 acquired on /root/.theano/compiledir_Linux-5.4.104+-x86_64-with-Ubuntu-18.04-bionic-x86_64-3.7.10-64/.lock\n",
            "2021-07-10 03:09:18.413\n",
            "Lock 140674565704528 released on /root/.theano/compiledir_Linux-5.4.104+-x86_64-with-Ubuntu-18.04-bionic-x86_64-3.7.10-64/.lock\n",
            "2021-07-10 03:09:18.418\n",
            "Lock 140674564913040 acquired on /root/.theano/compiledir_Linux-5.4.104+-x86_64-with-Ubuntu-18.04-bionic-x86_64-3.7.10-64/.lock\n",
            "2021-07-10 03:09:18.425\n",
            "Lock 140674564913040 released on /root/.theano/compiledir_Linux-5.4.104+-x86_64-with-Ubuntu-18.04-bionic-x86_64-3.7.10-64/.lock\n",
            "2021-07-10 03:09:18.430\n",
            "Lock 140674565702800 acquired on /root/.theano/compiledir_Linux-5.4.104+-x86_64-with-Ubuntu-18.04-bionic-x86_64-3.7.10-64/.lock\n",
            "2021-07-10 03:09:18.438\n",
            "Lock 140674565702800 released on /root/.theano/compiledir_Linux-5.4.104+-x86_64-with-Ubuntu-18.04-bionic-x86_64-3.7.10-64/.lock\n",
            "2021-07-10 03:09:18.443\n",
            "Lock 140674565704976 acquired on /root/.theano/compiledir_Linux-5.4.104+-x86_64-with-Ubuntu-18.04-bionic-x86_64-3.7.10-64/.lock\n",
            "2021-07-10 03:09:18.449\n",
            "Lock 140674565704976 released on /root/.theano/compiledir_Linux-5.4.104+-x86_64-with-Ubuntu-18.04-bionic-x86_64-3.7.10-64/.lock\n",
            "2021-07-10 03:09:18.454\n",
            "Lock 140674566938576 acquired on /root/.theano/compiledir_Linux-5.4.104+-x86_64-with-Ubuntu-18.04-bionic-x86_64-3.7.10-64/.lock\n",
            "2021-07-10 03:09:18.460\n",
            "Lock 140674566938576 released on /root/.theano/compiledir_Linux-5.4.104+-x86_64-with-Ubuntu-18.04-bionic-x86_64-3.7.10-64/.lock\n",
            "2021-07-10 03:09:18.465\n",
            "Lock 140674565702032 acquired on /root/.theano/compiledir_Linux-5.4.104+-x86_64-with-Ubuntu-18.04-bionic-x86_64-3.7.10-64/.lock\n",
            "2021-07-10 03:09:18.472\n",
            "Lock 140674565702032 released on /root/.theano/compiledir_Linux-5.4.104+-x86_64-with-Ubuntu-18.04-bionic-x86_64-3.7.10-64/.lock\n",
            "2021-07-10 03:09:18.485\n",
            "Lock 140674566168528 acquired on /root/.theano/compiledir_Linux-5.4.104+-x86_64-with-Ubuntu-18.04-bionic-x86_64-3.7.10-64/.lock\n",
            "2021-07-10 03:09:18.492\n",
            "Lock 140674566168528 released on /root/.theano/compiledir_Linux-5.4.104+-x86_64-with-Ubuntu-18.04-bionic-x86_64-3.7.10-64/.lock\n",
            "2021-07-10 03:09:18.505\n",
            "Lock 140674565491728 acquired on /root/.theano/compiledir_Linux-5.4.104+-x86_64-with-Ubuntu-18.04-bionic-x86_64-3.7.10-64/.lock\n",
            "2021-07-10 03:09:18.514\n",
            "Lock 140674565491728 released on /root/.theano/compiledir_Linux-5.4.104+-x86_64-with-Ubuntu-18.04-bionic-x86_64-3.7.10-64/.lock\n",
            "2021-07-10 03:09:18.522\n",
            "Lock 140674566166864 acquired on /root/.theano/compiledir_Linux-5.4.104+-x86_64-with-Ubuntu-18.04-bionic-x86_64-3.7.10-64/.lock\n",
            "2021-07-10 03:09:18.530\n",
            "Lock 140674566166864 released on /root/.theano/compiledir_Linux-5.4.104+-x86_64-with-Ubuntu-18.04-bionic-x86_64-3.7.10-64/.lock\n",
            "2021-07-10 03:09:18.535\n",
            "Lock 140674565176848 acquired on /root/.theano/compiledir_Linux-5.4.104+-x86_64-with-Ubuntu-18.04-bionic-x86_64-3.7.10-64/.lock\n",
            "2021-07-10 03:09:18.545\n",
            "Lock 140674565176848 released on /root/.theano/compiledir_Linux-5.4.104+-x86_64-with-Ubuntu-18.04-bionic-x86_64-3.7.10-64/.lock\n",
            "2021-07-10 03:09:18.555\n",
            "Lock 140674565705360 acquired on /root/.theano/compiledir_Linux-5.4.104+-x86_64-with-Ubuntu-18.04-bionic-x86_64-3.7.10-64/.lock\n",
            "2021-07-10 03:09:18.565\n",
            "Lock 140674565705360 released on /root/.theano/compiledir_Linux-5.4.104+-x86_64-with-Ubuntu-18.04-bionic-x86_64-3.7.10-64/.lock\n",
            "2021-07-10 03:09:18.571\n",
            "Lock 140674566702416 acquired on /root/.theano/compiledir_Linux-5.4.104+-x86_64-with-Ubuntu-18.04-bionic-x86_64-3.7.10-64/.lock\n",
            "2021-07-10 03:09:18.577\n",
            "Lock 140674566702416 released on /root/.theano/compiledir_Linux-5.4.104+-x86_64-with-Ubuntu-18.04-bionic-x86_64-3.7.10-64/.lock\n",
            "2021-07-10 03:09:18.589\n",
            "Lock 140674566937680 acquired on /root/.theano/compiledir_Linux-5.4.104+-x86_64-with-Ubuntu-18.04-bionic-x86_64-3.7.10-64/.lock\n",
            "2021-07-10 03:09:18.600\n",
            "Lock 140674566937680 released on /root/.theano/compiledir_Linux-5.4.104+-x86_64-with-Ubuntu-18.04-bionic-x86_64-3.7.10-64/.lock\n",
            "2021-07-10 03:09:18.608\n",
            "Lock 140674566667088 acquired on /root/.theano/compiledir_Linux-5.4.104+-x86_64-with-Ubuntu-18.04-bionic-x86_64-3.7.10-64/.lock\n",
            "2021-07-10 03:09:18.624\n",
            "Lock 140674566667088 released on /root/.theano/compiledir_Linux-5.4.104+-x86_64-with-Ubuntu-18.04-bionic-x86_64-3.7.10-64/.lock\n",
            "2021-07-10 03:09:18.639\n",
            "Lock 140674565613776 acquired on /root/.theano/compiledir_Linux-5.4.104+-x86_64-with-Ubuntu-18.04-bionic-x86_64-3.7.10-64/.lock\n",
            "2021-07-10 03:09:18.645\n",
            "Lock 140674565613776 released on /root/.theano/compiledir_Linux-5.4.104+-x86_64-with-Ubuntu-18.04-bionic-x86_64-3.7.10-64/.lock\n",
            "2021-07-10 03:09:18.652\n",
            "Lock 140674564863632 acquired on /root/.theano/compiledir_Linux-5.4.104+-x86_64-with-Ubuntu-18.04-bionic-x86_64-3.7.10-64/.lock\n",
            "2021-07-10 03:09:18.658\n",
            "Lock 140674564863632 released on /root/.theano/compiledir_Linux-5.4.104+-x86_64-with-Ubuntu-18.04-bionic-x86_64-3.7.10-64/.lock\n",
            "2021-07-10 03:09:18.665\n",
            "Lock 140674564641616 acquired on /root/.theano/compiledir_Linux-5.4.104+-x86_64-with-Ubuntu-18.04-bionic-x86_64-3.7.10-64/.lock\n",
            "2021-07-10 03:09:18.672\n",
            "Lock 140674564641616 released on /root/.theano/compiledir_Linux-5.4.104+-x86_64-with-Ubuntu-18.04-bionic-x86_64-3.7.10-64/.lock\n",
            "2021-07-10 03:09:18.679\n",
            "Lock 140674565435984 acquired on /root/.theano/compiledir_Linux-5.4.104+-x86_64-with-Ubuntu-18.04-bionic-x86_64-3.7.10-64/.lock\n",
            "2021-07-10 03:09:18.686\n",
            "Lock 140674565435984 released on /root/.theano/compiledir_Linux-5.4.104+-x86_64-with-Ubuntu-18.04-bionic-x86_64-3.7.10-64/.lock\n",
            "2021-07-10 03:09:18.694\n",
            "Sequential sampling (2 chains in 1 job)\n",
            "Sequential sampling (2 chains in 1 job)\n",
            "2021-07-10 03:09:22.466\n",
            "NUTS: [A201, A192, job_2, job_1, housing_2, housing_1, other_i_plans_2, other_i_plans_1, property_2, property_1, other_debtors_class_2, other_debtors_class_1, curr_emp_class_2, curr_emp_class_1, savings_acc_class_2, savings_acc_class_1, purpose_2, purpose_1, credit_history_2, credit_history_1, e_chq_acc_status_2, e_chq_acc_status_1, n_dependants, n_e_credits_this_bank, curr_res_since, i_rate_by_disp_inc, credit_amount, duration_months, Intercept]\n",
            "NUTS: [A201, A192, job_2, job_1, housing_2, housing_1, other_i_plans_2, other_i_plans_1, property_2, property_1, other_debtors_class_2, other_debtors_class_1, curr_emp_class_2, curr_emp_class_1, savings_acc_class_2, savings_acc_class_1, purpose_2, purpose_1, credit_history_2, credit_history_1, e_chq_acc_status_2, e_chq_acc_status_1, n_dependants, n_e_credits_this_bank, curr_res_since, i_rate_by_disp_inc, credit_amount, duration_months, Intercept]\n",
            "2021-07-10 03:09:22.469\n"
          ],
          "name": "stderr"
        },
        {
          "output_type": "display_data",
          "data": {
            "text/html": [
              "\n",
              "    <div>\n",
              "        <style>\n",
              "            /* Turns off some styling */\n",
              "            progress {\n",
              "                /* gets rid of default border in Firefox and Opera. */\n",
              "                border: none;\n",
              "                /* Needs to be in here for Safari polyfill so background images work as expected. */\n",
              "                background-size: auto;\n",
              "            }\n",
              "            .progress-bar-interrupted, .progress-bar-interrupted::-webkit-progress-bar {\n",
              "                background: #F44336;\n",
              "            }\n",
              "        </style>\n",
              "      <progress value='3000' class='' max='3000' style='width:300px; height:20px; vertical-align: middle;'></progress>\n",
              "      100.00% [3000/3000 00:23<00:00 Sampling chain 0, 0 divergences]\n",
              "    </div>\n",
              "    "
            ],
            "text/plain": [
              "<IPython.core.display.HTML object>"
            ]
          },
          "metadata": {
            "tags": []
          }
        },
        {
          "output_type": "stream",
          "text": [
            "Lock 140674519012944 acquired on /root/.theano/compiledir_Linux-5.4.104+-x86_64-with-Ubuntu-18.04-bionic-x86_64-3.7.10-64/.lock\n",
            "2021-07-10 03:09:22.549\n",
            "Lock 140674519012944 released on /root/.theano/compiledir_Linux-5.4.104+-x86_64-with-Ubuntu-18.04-bionic-x86_64-3.7.10-64/.lock\n",
            "2021-07-10 03:09:22.552\n"
          ],
          "name": "stderr"
        },
        {
          "output_type": "display_data",
          "data": {
            "text/html": [
              "\n",
              "    <div>\n",
              "        <style>\n",
              "            /* Turns off some styling */\n",
              "            progress {\n",
              "                /* gets rid of default border in Firefox and Opera. */\n",
              "                border: none;\n",
              "                /* Needs to be in here for Safari polyfill so background images work as expected. */\n",
              "                background-size: auto;\n",
              "            }\n",
              "            .progress-bar-interrupted, .progress-bar-interrupted::-webkit-progress-bar {\n",
              "                background: #F44336;\n",
              "            }\n",
              "        </style>\n",
              "      <progress value='3000' class='' max='3000' style='width:300px; height:20px; vertical-align: middle;'></progress>\n",
              "      100.00% [3000/3000 00:23<00:00 Sampling chain 1, 0 divergences]\n",
              "    </div>\n",
              "    "
            ],
            "text/plain": [
              "<IPython.core.display.HTML object>"
            ]
          },
          "metadata": {
            "tags": []
          }
        },
        {
          "output_type": "stream",
          "text": [
            "Sampling 2 chains for 1_000 tune and 2_000 draw iterations (2_000 + 4_000 draws total) took 47 seconds.\n",
            "Sampling 2 chains for 1_000 tune and 2_000 draw iterations (2_000 + 4_000 draws total) took 47 seconds.\n",
            "2021-07-10 03:10:09.945\n"
          ],
          "name": "stderr"
        }
      ]
    },
    {
      "cell_type": "markdown",
      "metadata": {
        "id": "BDv8Tzj4kOZz"
      },
      "source": [
        "<br>\n",
        "\n",
        "**DAG**"
      ]
    },
    {
      "cell_type": "code",
      "metadata": {
        "id": "nUgRhcpGkrs-",
        "colab": {
          "base_uri": "https://localhost:8080/",
          "height": 698
        },
        "outputId": "6adc9ec5-db82-4218-9a01-f165ebd97091"
      },
      "source": [
        "dag = risk.evaluations.dag.DAG()\n",
        "dag.exc(model=lm, directory=directory)"
      ],
      "execution_count": 26,
      "outputs": [
        {
          "output_type": "stream",
          "text": [
            "Lock 140674660636944 acquired on /root/.theano/compiledir_Linux-5.4.104+-x86_64-with-Ubuntu-18.04-bionic-x86_64-3.7.10-64/.lock\n",
            "2021-07-10 03:10:25.659\n",
            "Lock 140674660636944 released on /root/.theano/compiledir_Linux-5.4.104+-x86_64-with-Ubuntu-18.04-bionic-x86_64-3.7.10-64/.lock\n",
            "2021-07-10 03:10:25.661\n",
            "Lock 140674798148624 acquired on /root/.theano/compiledir_Linux-5.4.104+-x86_64-with-Ubuntu-18.04-bionic-x86_64-3.7.10-64/.lock\n",
            "2021-07-10 03:10:25.680\n",
            "Lock 140674798148624 released on /root/.theano/compiledir_Linux-5.4.104+-x86_64-with-Ubuntu-18.04-bionic-x86_64-3.7.10-64/.lock\n",
            "2021-07-10 03:10:25.682\n",
            "Lock 140674889482960 acquired on /root/.theano/compiledir_Linux-5.4.104+-x86_64-with-Ubuntu-18.04-bionic-x86_64-3.7.10-64/.lock\n",
            "2021-07-10 03:10:25.701\n",
            "Lock 140674889482960 released on /root/.theano/compiledir_Linux-5.4.104+-x86_64-with-Ubuntu-18.04-bionic-x86_64-3.7.10-64/.lock\n",
            "2021-07-10 03:10:25.703\n",
            "Lock 140674891033360 acquired on /root/.theano/compiledir_Linux-5.4.104+-x86_64-with-Ubuntu-18.04-bionic-x86_64-3.7.10-64/.lock\n",
            "2021-07-10 03:10:25.723\n",
            "Lock 140674891033360 released on /root/.theano/compiledir_Linux-5.4.104+-x86_64-with-Ubuntu-18.04-bionic-x86_64-3.7.10-64/.lock\n",
            "2021-07-10 03:10:25.724\n",
            "Lock 140674792933776 acquired on /root/.theano/compiledir_Linux-5.4.104+-x86_64-with-Ubuntu-18.04-bionic-x86_64-3.7.10-64/.lock\n",
            "2021-07-10 03:10:25.739\n",
            "Lock 140674792933776 released on /root/.theano/compiledir_Linux-5.4.104+-x86_64-with-Ubuntu-18.04-bionic-x86_64-3.7.10-64/.lock\n",
            "2021-07-10 03:10:25.740\n",
            "Lock 140674634235792 acquired on /root/.theano/compiledir_Linux-5.4.104+-x86_64-with-Ubuntu-18.04-bionic-x86_64-3.7.10-64/.lock\n",
            "2021-07-10 03:10:25.758\n",
            "Lock 140674634235792 released on /root/.theano/compiledir_Linux-5.4.104+-x86_64-with-Ubuntu-18.04-bionic-x86_64-3.7.10-64/.lock\n",
            "2021-07-10 03:10:25.759\n",
            "Lock 140674634233936 acquired on /root/.theano/compiledir_Linux-5.4.104+-x86_64-with-Ubuntu-18.04-bionic-x86_64-3.7.10-64/.lock\n",
            "2021-07-10 03:10:25.774\n",
            "Lock 140674634233936 released on /root/.theano/compiledir_Linux-5.4.104+-x86_64-with-Ubuntu-18.04-bionic-x86_64-3.7.10-64/.lock\n",
            "2021-07-10 03:10:25.777\n",
            "Lock 140674567446416 acquired on /root/.theano/compiledir_Linux-5.4.104+-x86_64-with-Ubuntu-18.04-bionic-x86_64-3.7.10-64/.lock\n",
            "2021-07-10 03:10:25.807\n",
            "Lock 140674567446416 released on /root/.theano/compiledir_Linux-5.4.104+-x86_64-with-Ubuntu-18.04-bionic-x86_64-3.7.10-64/.lock\n",
            "2021-07-10 03:10:25.809\n"
          ],
          "name": "stderr"
        },
        {
          "output_type": "execute_result",
          "data": {
            "text/plain": [
              "<graphviz.files.Source at 0x7ff16cfc4790>"
            ],
            "image/svg+xml": "<?xml version=\"1.0\" encoding=\"UTF-8\" standalone=\"no\"?>\n<!DOCTYPE svg PUBLIC \"-//W3C//DTD SVG 1.1//EN\"\n \"http://www.w3.org/Graphics/SVG/1.1/DTD/svg11.dtd\">\n<!-- Generated by graphviz version 2.40.1 (20161225.0304)\n -->\n<!-- Title: %3 Pages: 1 -->\n<svg width=\"814pt\" height=\"67pt\"\n viewBox=\"0.00 0.00 814.00 66.60\" xmlns=\"http://www.w3.org/2000/svg\" xmlns:xlink=\"http://www.w3.org/1999/xlink\">\n<g id=\"graph0\" class=\"graph\" transform=\"scale(.1714 .1714) rotate(0) translate(4 384.4701)\">\n<title>%3</title>\n<polygon fill=\"#ffffff\" stroke=\"transparent\" points=\"-4,4 -4,-384.4701 4744.3,-384.4701 4744.3,4 -4,4\"/>\n<g id=\"clust1\" class=\"cluster\">\n<title>cluster910</title>\n<path fill=\"none\" stroke=\"#000000\" d=\"M2431.8528,-8C2431.8528,-8 2521.8528,-8 2521.8528,-8 2527.8528,-8 2533.8528,-14 2533.8528,-20 2533.8528,-20 2533.8528,-133.9949 2533.8528,-133.9949 2533.8528,-139.9949 2527.8528,-145.9949 2521.8528,-145.9949 2521.8528,-145.9949 2431.8528,-145.9949 2431.8528,-145.9949 2425.8528,-145.9949 2419.8528,-139.9949 2419.8528,-133.9949 2419.8528,-133.9949 2419.8528,-20 2419.8528,-20 2419.8528,-14 2425.8528,-8 2431.8528,-8\"/>\n<text text-anchor=\"middle\" x=\"2514.3528\" y=\"-15.8\" font-family=\"Times,serif\" font-size=\"14.00\" fill=\"#000000\">910</text>\n</g>\n<!-- curr_emp_class_1 -->\n<g id=\"node1\" class=\"node\">\n<title>curr_emp_class_1</title>\n<ellipse fill=\"none\" stroke=\"#000000\" cx=\"84.8528\" cy=\"-277.2325\" rx=\"84.7059\" ry=\"84.7059\"/>\n<text text-anchor=\"middle\" x=\"84.8528\" y=\"-288.5325\" font-family=\"Times,serif\" font-size=\"14.00\" fill=\"#000000\">curr_emp_class_1</text>\n<text text-anchor=\"middle\" x=\"84.8528\" y=\"-273.5325\" font-family=\"Times,serif\" font-size=\"14.00\" fill=\"#000000\">~</text>\n<text text-anchor=\"middle\" x=\"84.8528\" y=\"-258.5325\" font-family=\"Times,serif\" font-size=\"14.00\" fill=\"#000000\">StudentT</text>\n</g>\n<!-- y -->\n<g id=\"node30\" class=\"node\">\n<title>y</title>\n<ellipse fill=\"#d3d3d3\" stroke=\"#000000\" cx=\"2476.8528\" cy=\"-88.4975\" rx=\"49.4949\" ry=\"49.4949\"/>\n<text text-anchor=\"middle\" x=\"2476.8528\" y=\"-99.7975\" font-family=\"Times,serif\" font-size=\"14.00\" fill=\"#000000\">y</text>\n<text text-anchor=\"middle\" x=\"2476.8528\" y=\"-84.7975\" font-family=\"Times,serif\" font-size=\"14.00\" fill=\"#000000\">~</text>\n<text text-anchor=\"middle\" x=\"2476.8528\" y=\"-69.7975\" font-family=\"Times,serif\" font-size=\"14.00\" fill=\"#000000\">Binomial</text>\n</g>\n<!-- curr_emp_class_1&#45;&gt;y -->\n<g id=\"edge1\" class=\"edge\">\n<title>curr_emp_class_1&#45;&gt;y</title>\n<path fill=\"none\" stroke=\"#000000\" d=\"M133.8809,-207.66C146.873,-194.1651 162.034,-181.8042 178.8528,-173.9949 283.2883,-125.5041 2066.1804,-94.9704 2417.1502,-89.4148\"/>\n<polygon fill=\"#000000\" stroke=\"#000000\" points=\"2417.4103,-92.9112 2427.3538,-89.2539 2417.2999,-85.9121 2417.4103,-92.9112\"/>\n</g>\n<!-- curr_emp_class_2 -->\n<g id=\"node2\" class=\"node\">\n<title>curr_emp_class_2</title>\n<ellipse fill=\"none\" stroke=\"#000000\" cx=\"272.8528\" cy=\"-277.2325\" rx=\"84.7059\" ry=\"84.7059\"/>\n<text text-anchor=\"middle\" x=\"272.8528\" y=\"-288.5325\" font-family=\"Times,serif\" font-size=\"14.00\" fill=\"#000000\">curr_emp_class_2</text>\n<text text-anchor=\"middle\" x=\"272.8528\" y=\"-273.5325\" font-family=\"Times,serif\" font-size=\"14.00\" fill=\"#000000\">~</text>\n<text text-anchor=\"middle\" x=\"272.8528\" y=\"-258.5325\" font-family=\"Times,serif\" font-size=\"14.00\" fill=\"#000000\">StudentT</text>\n</g>\n<!-- curr_emp_class_2&#45;&gt;y -->\n<g id=\"edge2\" class=\"edge\">\n<title>curr_emp_class_2&#45;&gt;y</title>\n<path fill=\"none\" stroke=\"#000000\" d=\"M321.5167,-207.4463C334.3193,-194.0519 349.2576,-181.7874 365.8528,-173.9949 461.1023,-129.2697 2082.2596,-96.0205 2416.7708,-89.6179\"/>\n<polygon fill=\"#000000\" stroke=\"#000000\" points=\"2417.2778,-93.1089 2427.2092,-89.4188 2417.1443,-86.1102 2417.2778,-93.1089\"/>\n</g>\n<!-- property_2 -->\n<g id=\"node3\" class=\"node\">\n<title>property_2</title>\n<ellipse fill=\"none\" stroke=\"#000000\" cx=\"431.8528\" cy=\"-277.2325\" rx=\"56.6372\" ry=\"56.6372\"/>\n<text text-anchor=\"middle\" x=\"431.8528\" y=\"-288.5325\" font-family=\"Times,serif\" font-size=\"14.00\" fill=\"#000000\">property_2</text>\n<text text-anchor=\"middle\" x=\"431.8528\" y=\"-273.5325\" font-family=\"Times,serif\" font-size=\"14.00\" fill=\"#000000\">~</text>\n<text text-anchor=\"middle\" x=\"431.8528\" y=\"-258.5325\" font-family=\"Times,serif\" font-size=\"14.00\" fill=\"#000000\">StudentT</text>\n</g>\n<!-- property_2&#45;&gt;y -->\n<g id=\"edge3\" class=\"edge\">\n<title>property_2&#45;&gt;y</title>\n<path fill=\"none\" stroke=\"#000000\" d=\"M452.5062,-224.3178C462.8196,-205.09 477.3456,-185.3205 496.8528,-173.9949 581.9412,-124.5941 2096.0873,-95.21 2417.2841,-89.5172\"/>\n<polygon fill=\"#000000\" stroke=\"#000000\" points=\"2417.3855,-93.016 2427.3222,-89.3401 2417.262,-86.0171 2417.3855,-93.016\"/>\n</g>\n<!-- other_debtors_class_2 -->\n<g id=\"node4\" class=\"node\">\n<title>other_debtors_class_2</title>\n<ellipse fill=\"none\" stroke=\"#000000\" cx=\"607.8528\" cy=\"-277.2325\" rx=\"101.6471\" ry=\"101.6471\"/>\n<text text-anchor=\"middle\" x=\"607.8528\" y=\"-288.5325\" font-family=\"Times,serif\" font-size=\"14.00\" fill=\"#000000\">other_debtors_class_2</text>\n<text text-anchor=\"middle\" x=\"607.8528\" y=\"-273.5325\" font-family=\"Times,serif\" font-size=\"14.00\" fill=\"#000000\">~</text>\n<text text-anchor=\"middle\" x=\"607.8528\" y=\"-258.5325\" font-family=\"Times,serif\" font-size=\"14.00\" fill=\"#000000\">StudentT</text>\n</g>\n<!-- other_debtors_class_2&#45;&gt;y -->\n<g id=\"edge4\" class=\"edge\">\n<title>other_debtors_class_2&#45;&gt;y</title>\n<path fill=\"none\" stroke=\"#000000\" d=\"M675.63,-200.9097C688.8638,-190.1082 703.4532,-180.4856 718.8528,-173.9949 878.0025,-106.916 2127.1476,-91.6349 2416.9506,-88.9792\"/>\n<polygon fill=\"#000000\" stroke=\"#000000\" points=\"2417.2832,-92.4765 2427.2512,-88.8865 2417.2201,-85.4768 2417.2832,-92.4765\"/>\n</g>\n<!-- purpose_2 -->\n<g id=\"node5\" class=\"node\">\n<title>purpose_2</title>\n<ellipse fill=\"none\" stroke=\"#000000\" cx=\"781.8528\" cy=\"-277.2325\" rx=\"54.3945\" ry=\"54.3945\"/>\n<text text-anchor=\"middle\" x=\"781.8528\" y=\"-288.5325\" font-family=\"Times,serif\" font-size=\"14.00\" fill=\"#000000\">purpose_2</text>\n<text text-anchor=\"middle\" x=\"781.8528\" y=\"-273.5325\" font-family=\"Times,serif\" font-size=\"14.00\" fill=\"#000000\">~</text>\n<text text-anchor=\"middle\" x=\"781.8528\" y=\"-258.5325\" font-family=\"Times,serif\" font-size=\"14.00\" fill=\"#000000\">StudentT</text>\n</g>\n<!-- purpose_2&#45;&gt;y -->\n<g id=\"edge5\" class=\"edge\">\n<title>purpose_2&#45;&gt;y</title>\n<path fill=\"none\" stroke=\"#000000\" d=\"M800.7324,-226.0681C810.724,-206.3583 825.1045,-185.7686 844.8528,-173.9949 913.6472,-132.9808 2131.1118,-97.7937 2417.0772,-90.0707\"/>\n<polygon fill=\"#000000\" stroke=\"#000000\" points=\"2417.3461,-93.5648 2427.2483,-89.797 2417.1577,-86.5673 2417.3461,-93.5648\"/>\n</g>\n<!-- e_chq_acc_status_2 -->\n<g id=\"node6\" class=\"node\">\n<title>e_chq_acc_status_2</title>\n<ellipse fill=\"none\" stroke=\"#000000\" cx=\"946.8528\" cy=\"-277.2325\" rx=\"92.7622\" ry=\"92.7622\"/>\n<text text-anchor=\"middle\" x=\"946.8528\" y=\"-288.5325\" font-family=\"Times,serif\" font-size=\"14.00\" fill=\"#000000\">e_chq_acc_status_2</text>\n<text text-anchor=\"middle\" x=\"946.8528\" y=\"-273.5325\" font-family=\"Times,serif\" font-size=\"14.00\" fill=\"#000000\">~</text>\n<text text-anchor=\"middle\" x=\"946.8528\" y=\"-258.5325\" font-family=\"Times,serif\" font-size=\"14.00\" fill=\"#000000\">StudentT</text>\n</g>\n<!-- e_chq_acc_status_2&#45;&gt;y -->\n<g id=\"edge6\" class=\"edge\">\n<title>e_chq_acc_status_2&#45;&gt;y</title>\n<path fill=\"none\" stroke=\"#000000\" d=\"M1004.7049,-204.4626C1017.8841,-192.2955 1032.7893,-181.2769 1048.8528,-173.9949 1174.7708,-116.9133 2161.9526,-94.4483 2416.9198,-89.5655\"/>\n<polygon fill=\"#000000\" stroke=\"#000000\" points=\"2417.1643,-93.0615 2427.0961,-89.3725 2417.0315,-86.0628 2417.1643,-93.0615\"/>\n</g>\n<!-- n_dependants -->\n<g id=\"node7\" class=\"node\">\n<title>n_dependants</title>\n<ellipse fill=\"none\" stroke=\"#000000\" cx=\"1125.8528\" cy=\"-277.2325\" rx=\"67.7647\" ry=\"67.7647\"/>\n<text text-anchor=\"middle\" x=\"1125.8528\" y=\"-288.5325\" font-family=\"Times,serif\" font-size=\"14.00\" fill=\"#000000\">n_dependants</text>\n<text text-anchor=\"middle\" x=\"1125.8528\" y=\"-273.5325\" font-family=\"Times,serif\" font-size=\"14.00\" fill=\"#000000\">~</text>\n<text text-anchor=\"middle\" x=\"1125.8528\" y=\"-258.5325\" font-family=\"Times,serif\" font-size=\"14.00\" fill=\"#000000\">StudentT</text>\n</g>\n<!-- n_dependants&#45;&gt;y -->\n<g id=\"edge7\" class=\"edge\">\n<title>n_dependants&#45;&gt;y</title>\n<path fill=\"none\" stroke=\"#000000\" d=\"M1157.5372,-217.0609C1169.433,-200.2796 1184.589,-183.9366 1202.8528,-173.9949 1310.2887,-115.514 2179.5051,-94.3203 2417.0507,-89.5893\"/>\n<polygon fill=\"#000000\" stroke=\"#000000\" points=\"2417.2924,-93.0853 2427.2216,-89.3891 2417.1546,-86.0867 2417.2924,-93.0853\"/>\n</g>\n<!-- n_e_credits_this_bank -->\n<g id=\"node8\" class=\"node\">\n<title>n_e_credits_this_bank</title>\n<ellipse fill=\"none\" stroke=\"#000000\" cx=\"1314.8528\" cy=\"-277.2325\" rx=\"103.4757\" ry=\"103.4757\"/>\n<text text-anchor=\"middle\" x=\"1314.8528\" y=\"-288.5325\" font-family=\"Times,serif\" font-size=\"14.00\" fill=\"#000000\">n_e_credits_this_bank</text>\n<text text-anchor=\"middle\" x=\"1314.8528\" y=\"-273.5325\" font-family=\"Times,serif\" font-size=\"14.00\" fill=\"#000000\">~</text>\n<text text-anchor=\"middle\" x=\"1314.8528\" y=\"-258.5325\" font-family=\"Times,serif\" font-size=\"14.00\" fill=\"#000000\">StudentT</text>\n</g>\n<!-- n_e_credits_this_bank&#45;&gt;y -->\n<g id=\"edge8\" class=\"edge\">\n<title>n_e_credits_this_bank&#45;&gt;y</title>\n<path fill=\"none\" stroke=\"#000000\" d=\"M1384.4543,-200.5648C1397.5228,-190.0235 1411.8354,-180.5752 1426.8528,-173.9949 1517.6645,-134.2033 2207.9665,-100.4802 2417.0343,-91.094\"/>\n<polygon fill=\"#000000\" stroke=\"#000000\" points=\"2417.3722,-94.5825 2427.206,-90.6395 2417.0597,-87.5894 2417.3722,-94.5825\"/>\n</g>\n<!-- i_rate_by_disp_inc -->\n<g id=\"node9\" class=\"node\">\n<title>i_rate_by_disp_inc</title>\n<ellipse fill=\"none\" stroke=\"#000000\" cx=\"1525.8528\" cy=\"-277.2325\" rx=\"89.6056\" ry=\"89.6056\"/>\n<text text-anchor=\"middle\" x=\"1525.8528\" y=\"-288.5325\" font-family=\"Times,serif\" font-size=\"14.00\" fill=\"#000000\">i_rate_by_disp_inc</text>\n<text text-anchor=\"middle\" x=\"1525.8528\" y=\"-273.5325\" font-family=\"Times,serif\" font-size=\"14.00\" fill=\"#000000\">~</text>\n<text text-anchor=\"middle\" x=\"1525.8528\" y=\"-258.5325\" font-family=\"Times,serif\" font-size=\"14.00\" fill=\"#000000\">StudentT</text>\n</g>\n<!-- i_rate_by_disp_inc&#45;&gt;y -->\n<g id=\"edge9\" class=\"edge\">\n<title>i_rate_by_disp_inc&#45;&gt;y</title>\n<path fill=\"none\" stroke=\"#000000\" d=\"M1580.8521,-206.0322C1593.9145,-193.4141 1608.7782,-181.823 1624.8528,-173.9949 1764.9993,-105.7457 2247.3,-91.9396 2417.1165,-89.1783\"/>\n<polygon fill=\"#000000\" stroke=\"#000000\" points=\"2417.1827,-92.6778 2427.127,-89.0226 2417.0737,-85.6787 2417.1827,-92.6778\"/>\n</g>\n<!-- other_debtors_class_1 -->\n<g id=\"node10\" class=\"node\">\n<title>other_debtors_class_1</title>\n<ellipse fill=\"none\" stroke=\"#000000\" cx=\"1735.8528\" cy=\"-277.2325\" rx=\"101.6471\" ry=\"101.6471\"/>\n<text text-anchor=\"middle\" x=\"1735.8528\" y=\"-288.5325\" font-family=\"Times,serif\" font-size=\"14.00\" fill=\"#000000\">other_debtors_class_1</text>\n<text text-anchor=\"middle\" x=\"1735.8528\" y=\"-273.5325\" font-family=\"Times,serif\" font-size=\"14.00\" fill=\"#000000\">~</text>\n<text text-anchor=\"middle\" x=\"1735.8528\" y=\"-258.5325\" font-family=\"Times,serif\" font-size=\"14.00\" fill=\"#000000\">StudentT</text>\n</g>\n<!-- other_debtors_class_1&#45;&gt;y -->\n<g id=\"edge10\" class=\"edge\">\n<title>other_debtors_class_1&#45;&gt;y</title>\n<path fill=\"none\" stroke=\"#000000\" d=\"M1804.0511,-201.507C1816.9521,-190.7821 1831.0722,-181.0291 1845.8528,-173.9949 1946.4237,-126.1329 2279.606,-100.6469 2416.9095,-91.9647\"/>\n<polygon fill=\"#000000\" stroke=\"#000000\" points=\"2417.4717,-95.4365 2427.2342,-91.3203 2417.0355,-88.4501 2417.4717,-95.4365\"/>\n</g>\n<!-- Intercept -->\n<g id=\"node11\" class=\"node\">\n<title>Intercept</title>\n<ellipse fill=\"none\" stroke=\"#000000\" cx=\"1901.8528\" cy=\"-277.2325\" rx=\"46.8387\" ry=\"46.8387\"/>\n<text text-anchor=\"middle\" x=\"1901.8528\" y=\"-288.5325\" font-family=\"Times,serif\" font-size=\"14.00\" fill=\"#000000\">Intercept</text>\n<text text-anchor=\"middle\" x=\"1901.8528\" y=\"-273.5325\" font-family=\"Times,serif\" font-size=\"14.00\" fill=\"#000000\">~</text>\n<text text-anchor=\"middle\" x=\"1901.8528\" y=\"-258.5325\" font-family=\"Times,serif\" font-size=\"14.00\" fill=\"#000000\">Flat</text>\n</g>\n<!-- Intercept&#45;&gt;y -->\n<g id=\"edge11\" class=\"edge\">\n<title>Intercept&#45;&gt;y</title>\n<path fill=\"none\" stroke=\"#000000\" d=\"M1915.3753,-232.2787C1923.9488,-211.3762 1937.2141,-188.0784 1956.8528,-173.9949 2029.8181,-121.6698 2296.5799,-99.3217 2417.0715,-91.7424\"/>\n<polygon fill=\"#000000\" stroke=\"#000000\" points=\"2417.4599,-95.2252 2427.2258,-91.117 2417.0295,-88.2385 2417.4599,-95.2252\"/>\n</g>\n<!-- savings_acc_class_2 -->\n<g id=\"node12\" class=\"node\">\n<title>savings_acc_class_2</title>\n<ellipse fill=\"none\" stroke=\"#000000\" cx=\"2060.8528\" cy=\"-277.2325\" rx=\"94.5053\" ry=\"94.5053\"/>\n<text text-anchor=\"middle\" x=\"2060.8528\" y=\"-288.5325\" font-family=\"Times,serif\" font-size=\"14.00\" fill=\"#000000\">savings_acc_class_2</text>\n<text text-anchor=\"middle\" x=\"2060.8528\" y=\"-273.5325\" font-family=\"Times,serif\" font-size=\"14.00\" fill=\"#000000\">~</text>\n<text text-anchor=\"middle\" x=\"2060.8528\" y=\"-258.5325\" font-family=\"Times,serif\" font-size=\"14.00\" fill=\"#000000\">StudentT</text>\n</g>\n<!-- savings_acc_class_2&#45;&gt;y -->\n<g id=\"edge12\" class=\"edge\">\n<title>savings_acc_class_2&#45;&gt;y</title>\n<path fill=\"none\" stroke=\"#000000\" d=\"M2123.0863,-205.4679C2135.9449,-193.6724 2150.0995,-182.5323 2164.8528,-173.9949 2245.2564,-127.4674 2352.0052,-105.3722 2417.4919,-95.5606\"/>\n<polygon fill=\"#000000\" stroke=\"#000000\" points=\"2418.2433,-98.9884 2427.6375,-94.0896 2417.2387,-92.0608 2418.2433,-98.9884\"/>\n</g>\n<!-- A192 -->\n<g id=\"node13\" class=\"node\">\n<title>A192</title>\n<ellipse fill=\"none\" stroke=\"#000000\" cx=\"2222.8528\" cy=\"-277.2325\" rx=\"49.4949\" ry=\"49.4949\"/>\n<text text-anchor=\"middle\" x=\"2222.8528\" y=\"-288.5325\" font-family=\"Times,serif\" font-size=\"14.00\" fill=\"#000000\">A192</text>\n<text text-anchor=\"middle\" x=\"2222.8528\" y=\"-273.5325\" font-family=\"Times,serif\" font-size=\"14.00\" fill=\"#000000\">~</text>\n<text text-anchor=\"middle\" x=\"2222.8528\" y=\"-258.5325\" font-family=\"Times,serif\" font-size=\"14.00\" fill=\"#000000\">StudentT</text>\n</g>\n<!-- A192&#45;&gt;y -->\n<g id=\"edge13\" class=\"edge\">\n<title>A192&#45;&gt;y</title>\n<path fill=\"none\" stroke=\"#000000\" d=\"M2241.2778,-231.1827C2250.9791,-211.5356 2264.5073,-189.593 2281.8528,-173.9949 2320.9128,-138.8701 2376.6959,-116.3959 2418.5998,-103.3508\"/>\n<polygon fill=\"#000000\" stroke=\"#000000\" points=\"2419.833,-106.6346 2428.3945,-100.3935 2417.8097,-99.9334 2419.833,-106.6346\"/>\n</g>\n<!-- job_1 -->\n<g id=\"node14\" class=\"node\">\n<title>job_1</title>\n<ellipse fill=\"none\" stroke=\"#000000\" cx=\"2339.8528\" cy=\"-277.2325\" rx=\"49.4949\" ry=\"49.4949\"/>\n<text text-anchor=\"middle\" x=\"2339.8528\" y=\"-288.5325\" font-family=\"Times,serif\" font-size=\"14.00\" fill=\"#000000\">job_1</text>\n<text text-anchor=\"middle\" x=\"2339.8528\" y=\"-273.5325\" font-family=\"Times,serif\" font-size=\"14.00\" fill=\"#000000\">~</text>\n<text text-anchor=\"middle\" x=\"2339.8528\" y=\"-258.5325\" font-family=\"Times,serif\" font-size=\"14.00\" fill=\"#000000\">StudentT</text>\n</g>\n<!-- job_1&#45;&gt;y -->\n<g id=\"edge14\" class=\"edge\">\n<title>job_1&#45;&gt;y</title>\n<path fill=\"none\" stroke=\"#000000\" d=\"M2362.3521,-232.9643C2372.5967,-214.191 2385.425,-192.4353 2398.8528,-173.9949 2409.5306,-159.3311 2422.378,-144.3767 2434.5367,-131.1604\"/>\n<polygon fill=\"#000000\" stroke=\"#000000\" points=\"2437.3322,-133.2947 2441.5944,-123.595 2432.2136,-128.5197 2437.3322,-133.2947\"/>\n</g>\n<!-- curr_res_since -->\n<g id=\"node15\" class=\"node\">\n<title>curr_res_since</title>\n<ellipse fill=\"none\" stroke=\"#000000\" cx=\"2476.8528\" cy=\"-277.2325\" rx=\"69.0935\" ry=\"69.0935\"/>\n<text text-anchor=\"middle\" x=\"2476.8528\" y=\"-288.5325\" font-family=\"Times,serif\" font-size=\"14.00\" fill=\"#000000\">curr_res_since</text>\n<text text-anchor=\"middle\" x=\"2476.8528\" y=\"-273.5325\" font-family=\"Times,serif\" font-size=\"14.00\" fill=\"#000000\">~</text>\n<text text-anchor=\"middle\" x=\"2476.8528\" y=\"-258.5325\" font-family=\"Times,serif\" font-size=\"14.00\" fill=\"#000000\">StudentT</text>\n</g>\n<!-- curr_res_since&#45;&gt;y -->\n<g id=\"edge15\" class=\"edge\">\n<title>curr_res_since&#45;&gt;y</title>\n<path fill=\"none\" stroke=\"#000000\" d=\"M2476.8528,-207.7586C2476.8528,-188.2482 2476.8528,-167.2089 2476.8528,-148.3137\"/>\n<polygon fill=\"#000000\" stroke=\"#000000\" points=\"2480.3529,-148.0603 2476.8528,-138.0603 2473.3529,-148.0604 2480.3529,-148.0603\"/>\n</g>\n<!-- other_i_plans_2 -->\n<g id=\"node16\" class=\"node\">\n<title>other_i_plans_2</title>\n<ellipse fill=\"none\" stroke=\"#000000\" cx=\"2641.8528\" cy=\"-277.2325\" rx=\"77.5641\" ry=\"77.5641\"/>\n<text text-anchor=\"middle\" x=\"2641.8528\" y=\"-288.5325\" font-family=\"Times,serif\" font-size=\"14.00\" fill=\"#000000\">other_i_plans_2</text>\n<text text-anchor=\"middle\" x=\"2641.8528\" y=\"-273.5325\" font-family=\"Times,serif\" font-size=\"14.00\" fill=\"#000000\">~</text>\n<text text-anchor=\"middle\" x=\"2641.8528\" y=\"-258.5325\" font-family=\"Times,serif\" font-size=\"14.00\" fill=\"#000000\">StudentT</text>\n</g>\n<!-- other_i_plans_2&#45;&gt;y -->\n<g id=\"edge16\" class=\"edge\">\n<title>other_i_plans_2&#45;&gt;y</title>\n<path fill=\"none\" stroke=\"#000000\" d=\"M2592.1028,-217.3871C2580.0197,-203.0778 2567.0612,-187.9169 2554.8528,-173.9949 2542.8931,-160.3565 2529.6679,-145.7042 2517.5574,-132.4494\"/>\n<polygon fill=\"#000000\" stroke=\"#000000\" points=\"2519.909,-129.835 2510.5736,-124.8249 2514.7471,-134.5631 2519.909,-129.835\"/>\n</g>\n<!-- housing_2 -->\n<g id=\"node17\" class=\"node\">\n<title>housing_2</title>\n<ellipse fill=\"none\" stroke=\"#000000\" cx=\"2792.8528\" cy=\"-277.2325\" rx=\"55.3091\" ry=\"55.3091\"/>\n<text text-anchor=\"middle\" x=\"2792.8528\" y=\"-288.5325\" font-family=\"Times,serif\" font-size=\"14.00\" fill=\"#000000\">housing_2</text>\n<text text-anchor=\"middle\" x=\"2792.8528\" y=\"-273.5325\" font-family=\"Times,serif\" font-size=\"14.00\" fill=\"#000000\">~</text>\n<text text-anchor=\"middle\" x=\"2792.8528\" y=\"-258.5325\" font-family=\"Times,serif\" font-size=\"14.00\" fill=\"#000000\">StudentT</text>\n</g>\n<!-- housing_2&#45;&gt;y -->\n<g id=\"edge17\" class=\"edge\">\n<title>housing_2&#45;&gt;y</title>\n<path fill=\"none\" stroke=\"#000000\" d=\"M2770.5619,-226.4946C2760.2018,-207.8024 2746.2707,-187.8361 2728.8528,-173.9949 2672.3289,-129.0782 2590.9088,-107.1398 2536.051,-96.8637\"/>\n<polygon fill=\"#000000\" stroke=\"#000000\" points=\"2536.5908,-93.4047 2526.1289,-95.0777 2535.3507,-100.294 2536.5908,-93.4047\"/>\n</g>\n<!-- e_chq_acc_status_1 -->\n<g id=\"node18\" class=\"node\">\n<title>e_chq_acc_status_1</title>\n<ellipse fill=\"none\" stroke=\"#000000\" cx=\"2958.8528\" cy=\"-277.2325\" rx=\"92.7622\" ry=\"92.7622\"/>\n<text text-anchor=\"middle\" x=\"2958.8528\" y=\"-288.5325\" font-family=\"Times,serif\" font-size=\"14.00\" fill=\"#000000\">e_chq_acc_status_1</text>\n<text text-anchor=\"middle\" x=\"2958.8528\" y=\"-273.5325\" font-family=\"Times,serif\" font-size=\"14.00\" fill=\"#000000\">~</text>\n<text text-anchor=\"middle\" x=\"2958.8528\" y=\"-258.5325\" font-family=\"Times,serif\" font-size=\"14.00\" fill=\"#000000\">StudentT</text>\n</g>\n<!-- e_chq_acc_status_1&#45;&gt;y -->\n<g id=\"edge19\" class=\"edge\">\n<title>e_chq_acc_status_1&#45;&gt;y</title>\n<path fill=\"none\" stroke=\"#000000\" d=\"M2899.4253,-205.9491C2886.4741,-193.8132 2872.0563,-182.4268 2856.8528,-173.9949 2753.7089,-116.7913 2614.7169,-97.848 2536.6048,-91.5837\"/>\n<polygon fill=\"#000000\" stroke=\"#000000\" points=\"2536.6966,-88.0807 2526.4605,-90.8143 2536.1672,-95.0606 2536.6966,-88.0807\"/>\n</g>\n<!-- duration_months -->\n<g id=\"node19\" class=\"node\">\n<title>duration_months</title>\n<ellipse fill=\"none\" stroke=\"#000000\" cx=\"3150.8528\" cy=\"-277.2325\" rx=\"81.135\" ry=\"81.135\"/>\n<text text-anchor=\"middle\" x=\"3150.8528\" y=\"-288.5325\" font-family=\"Times,serif\" font-size=\"14.00\" fill=\"#000000\">duration_months</text>\n<text text-anchor=\"middle\" x=\"3150.8528\" y=\"-273.5325\" font-family=\"Times,serif\" font-size=\"14.00\" fill=\"#000000\">~</text>\n<text text-anchor=\"middle\" x=\"3150.8528\" y=\"-258.5325\" font-family=\"Times,serif\" font-size=\"14.00\" fill=\"#000000\">StudentT</text>\n</g>\n<!-- duration_months&#45;&gt;y -->\n<g id=\"edge20\" class=\"edge\">\n<title>duration_months&#45;&gt;y</title>\n<path fill=\"none\" stroke=\"#000000\" d=\"M3104.6807,-210.0598C3092.0358,-196.1021 3077.2371,-182.9368 3060.8528,-173.9949 2971.1984,-125.0652 2667.0378,-100.4947 2536.8162,-92.0165\"/>\n<polygon fill=\"#000000\" stroke=\"#000000\" points=\"2536.8304,-88.5103 2526.6269,-91.3629 2536.3823,-95.4959 2536.8304,-88.5103\"/>\n</g>\n<!-- job_2 -->\n<g id=\"node20\" class=\"node\">\n<title>job_2</title>\n<ellipse fill=\"none\" stroke=\"#000000\" cx=\"3299.8528\" cy=\"-277.2325\" rx=\"49.4949\" ry=\"49.4949\"/>\n<text text-anchor=\"middle\" x=\"3299.8528\" y=\"-288.5325\" font-family=\"Times,serif\" font-size=\"14.00\" fill=\"#000000\">job_2</text>\n<text text-anchor=\"middle\" x=\"3299.8528\" y=\"-273.5325\" font-family=\"Times,serif\" font-size=\"14.00\" fill=\"#000000\">~</text>\n<text text-anchor=\"middle\" x=\"3299.8528\" y=\"-258.5325\" font-family=\"Times,serif\" font-size=\"14.00\" fill=\"#000000\">StudentT</text>\n</g>\n<!-- job_2&#45;&gt;y -->\n<g id=\"edge18\" class=\"edge\">\n<title>job_2&#45;&gt;y</title>\n<path fill=\"none\" stroke=\"#000000\" d=\"M3284.1703,-230.1779C3274.8533,-209.5789 3260.8633,-187.1487 3240.8528,-173.9949 3182.3112,-135.5129 2705.8831,-102.6428 2536.4143,-92.0647\"/>\n<polygon fill=\"#000000\" stroke=\"#000000\" points=\"2536.6164,-88.5706 2526.4188,-91.4445 2536.1828,-95.5572 2536.6164,-88.5706\"/>\n</g>\n<!-- housing_1 -->\n<g id=\"node21\" class=\"node\">\n<title>housing_1</title>\n<ellipse fill=\"none\" stroke=\"#000000\" cx=\"3422.8528\" cy=\"-277.2325\" rx=\"55.3091\" ry=\"55.3091\"/>\n<text text-anchor=\"middle\" x=\"3422.8528\" y=\"-288.5325\" font-family=\"Times,serif\" font-size=\"14.00\" fill=\"#000000\">housing_1</text>\n<text text-anchor=\"middle\" x=\"3422.8528\" y=\"-273.5325\" font-family=\"Times,serif\" font-size=\"14.00\" fill=\"#000000\">~</text>\n<text text-anchor=\"middle\" x=\"3422.8528\" y=\"-258.5325\" font-family=\"Times,serif\" font-size=\"14.00\" fill=\"#000000\">StudentT</text>\n</g>\n<!-- housing_1&#45;&gt;y -->\n<g id=\"edge22\" class=\"edge\">\n<title>housing_1&#45;&gt;y</title>\n<path fill=\"none\" stroke=\"#000000\" d=\"M3402.461,-225.9266C3392.0655,-206.4443 3377.4101,-186.0614 3357.8528,-173.9949 3288.1404,-130.9835 2723.4032,-100.3098 2536.5998,-91.259\"/>\n<polygon fill=\"#000000\" stroke=\"#000000\" points=\"2536.5728,-87.7537 2526.4161,-90.7689 2536.2363,-94.7456 2536.5728,-87.7537\"/>\n</g>\n<!-- A201 -->\n<g id=\"node22\" class=\"node\">\n<title>A201</title>\n<ellipse fill=\"none\" stroke=\"#000000\" cx=\"3545.8528\" cy=\"-277.2325\" rx=\"49.4949\" ry=\"49.4949\"/>\n<text text-anchor=\"middle\" x=\"3545.8528\" y=\"-288.5325\" font-family=\"Times,serif\" font-size=\"14.00\" fill=\"#000000\">A201</text>\n<text text-anchor=\"middle\" x=\"3545.8528\" y=\"-273.5325\" font-family=\"Times,serif\" font-size=\"14.00\" fill=\"#000000\">~</text>\n<text text-anchor=\"middle\" x=\"3545.8528\" y=\"-258.5325\" font-family=\"Times,serif\" font-size=\"14.00\" fill=\"#000000\">StudentT</text>\n</g>\n<!-- A201&#45;&gt;y -->\n<g id=\"edge21\" class=\"edge\">\n<title>A201&#45;&gt;y</title>\n<path fill=\"none\" stroke=\"#000000\" d=\"M3530.3279,-229.9345C3521.0455,-209.2822 3507.039,-186.8775 3486.8528,-173.9949 3406.7055,-122.8462 2742.0654,-97.1248 2536.9201,-90.3519\"/>\n<polygon fill=\"#000000\" stroke=\"#000000\" points=\"2536.7508,-86.8446 2526.6418,-90.0158 2536.522,-93.8409 2536.7508,-86.8446\"/>\n</g>\n<!-- property_1 -->\n<g id=\"node23\" class=\"node\">\n<title>property_1</title>\n<ellipse fill=\"none\" stroke=\"#000000\" cx=\"3669.8528\" cy=\"-277.2325\" rx=\"56.6372\" ry=\"56.6372\"/>\n<text text-anchor=\"middle\" x=\"3669.8528\" y=\"-288.5325\" font-family=\"Times,serif\" font-size=\"14.00\" fill=\"#000000\">property_1</text>\n<text text-anchor=\"middle\" x=\"3669.8528\" y=\"-273.5325\" font-family=\"Times,serif\" font-size=\"14.00\" fill=\"#000000\">~</text>\n<text text-anchor=\"middle\" x=\"3669.8528\" y=\"-258.5325\" font-family=\"Times,serif\" font-size=\"14.00\" fill=\"#000000\">StudentT</text>\n</g>\n<!-- property_1&#45;&gt;y -->\n<g id=\"edge23\" class=\"edge\">\n<title>property_1&#45;&gt;y</title>\n<path fill=\"none\" stroke=\"#000000\" d=\"M3648.5113,-224.6249C3637.9869,-205.4406 3623.2981,-185.6206 3603.8528,-173.9949 3511.8935,-119.0157 2756.5283,-95.6167 2536.6711,-89.9302\"/>\n<polygon fill=\"#000000\" stroke=\"#000000\" points=\"2536.6976,-86.4299 2526.6113,-89.6728 2536.5185,-93.4276 2536.6976,-86.4299\"/>\n</g>\n<!-- credit_history_1 -->\n<g id=\"node24\" class=\"node\">\n<title>credit_history_1</title>\n<ellipse fill=\"none\" stroke=\"#000000\" cx=\"3821.8528\" cy=\"-277.2325\" rx=\"77.5641\" ry=\"77.5641\"/>\n<text text-anchor=\"middle\" x=\"3821.8528\" y=\"-288.5325\" font-family=\"Times,serif\" font-size=\"14.00\" fill=\"#000000\">credit_history_1</text>\n<text text-anchor=\"middle\" x=\"3821.8528\" y=\"-273.5325\" font-family=\"Times,serif\" font-size=\"14.00\" fill=\"#000000\">~</text>\n<text text-anchor=\"middle\" x=\"3821.8528\" y=\"-258.5325\" font-family=\"Times,serif\" font-size=\"14.00\" fill=\"#000000\">StudentT</text>\n</g>\n<!-- credit_history_1&#45;&gt;y -->\n<g id=\"edge24\" class=\"edge\">\n<title>credit_history_1&#45;&gt;y</title>\n<path fill=\"none\" stroke=\"#000000\" d=\"M3780.51,-211.3076C3768.0179,-196.5777 3752.9934,-182.7454 3735.8528,-173.9949 3628.3043,-119.0903 2772.2008,-95.3421 2536.6527,-89.8081\"/>\n<polygon fill=\"#000000\" stroke=\"#000000\" points=\"2536.6422,-86.307 2526.5635,-89.5733 2536.4793,-93.3051 2536.6422,-86.307\"/>\n</g>\n<!-- credit_history_2 -->\n<g id=\"node25\" class=\"node\">\n<title>credit_history_2</title>\n<ellipse fill=\"none\" stroke=\"#000000\" cx=\"3995.8528\" cy=\"-277.2325\" rx=\"77.5641\" ry=\"77.5641\"/>\n<text text-anchor=\"middle\" x=\"3995.8528\" y=\"-288.5325\" font-family=\"Times,serif\" font-size=\"14.00\" fill=\"#000000\">credit_history_2</text>\n<text text-anchor=\"middle\" x=\"3995.8528\" y=\"-273.5325\" font-family=\"Times,serif\" font-size=\"14.00\" fill=\"#000000\">~</text>\n<text text-anchor=\"middle\" x=\"3995.8528\" y=\"-258.5325\" font-family=\"Times,serif\" font-size=\"14.00\" fill=\"#000000\">StudentT</text>\n</g>\n<!-- credit_history_2&#45;&gt;y -->\n<g id=\"edge25\" class=\"edge\">\n<title>credit_history_2&#45;&gt;y</title>\n<path fill=\"none\" stroke=\"#000000\" d=\"M3954.1804,-211.4683C3941.4987,-196.6398 3926.2406,-182.7202 3908.8528,-173.9949 3784.8721,-111.7809 2792.1509,-93.0999 2536.6488,-89.2998\"/>\n<polygon fill=\"#000000\" stroke=\"#000000\" points=\"2536.5035,-85.7974 2526.4532,-89.1503 2536.4008,-92.7966 2536.5035,-85.7974\"/>\n</g>\n<!-- credit_amount -->\n<g id=\"node26\" class=\"node\">\n<title>credit_amount</title>\n<ellipse fill=\"none\" stroke=\"#000000\" cx=\"4161.8528\" cy=\"-277.2325\" rx=\"70.0071\" ry=\"70.0071\"/>\n<text text-anchor=\"middle\" x=\"4161.8528\" y=\"-288.5325\" font-family=\"Times,serif\" font-size=\"14.00\" fill=\"#000000\">credit_amount</text>\n<text text-anchor=\"middle\" x=\"4161.8528\" y=\"-273.5325\" font-family=\"Times,serif\" font-size=\"14.00\" fill=\"#000000\">~</text>\n<text text-anchor=\"middle\" x=\"4161.8528\" y=\"-258.5325\" font-family=\"Times,serif\" font-size=\"14.00\" fill=\"#000000\">StudentT</text>\n</g>\n<!-- credit_amount&#45;&gt;y -->\n<g id=\"edge26\" class=\"edge\">\n<title>credit_amount&#45;&gt;y</title>\n<path fill=\"none\" stroke=\"#000000\" d=\"M4128.1419,-215.527C4116.0837,-199.2182 4100.9182,-183.5244 4082.8528,-173.9949 3944.1006,-100.8033 2811.283,-90.228 2536.655,-88.7366\"/>\n<polygon fill=\"#000000\" stroke=\"#000000\" points=\"2536.5089,-85.2359 2526.4907,-88.6835 2536.4722,-92.2358 2536.5089,-85.2359\"/>\n</g>\n<!-- savings_acc_class_1 -->\n<g id=\"node27\" class=\"node\">\n<title>savings_acc_class_1</title>\n<ellipse fill=\"none\" stroke=\"#000000\" cx=\"4344.8528\" cy=\"-277.2325\" rx=\"94.5053\" ry=\"94.5053\"/>\n<text text-anchor=\"middle\" x=\"4344.8528\" y=\"-288.5325\" font-family=\"Times,serif\" font-size=\"14.00\" fill=\"#000000\">savings_acc_class_1</text>\n<text text-anchor=\"middle\" x=\"4344.8528\" y=\"-273.5325\" font-family=\"Times,serif\" font-size=\"14.00\" fill=\"#000000\">~</text>\n<text text-anchor=\"middle\" x=\"4344.8528\" y=\"-258.5325\" font-family=\"Times,serif\" font-size=\"14.00\" fill=\"#000000\">StudentT</text>\n</g>\n<!-- savings_acc_class_1&#45;&gt;y -->\n<g id=\"edge27\" class=\"edge\">\n<title>savings_acc_class_1&#45;&gt;y</title>\n<path fill=\"none\" stroke=\"#000000\" d=\"M4284.8709,-203.5238C4271.6593,-191.6809 4256.8001,-181.0226 4240.8528,-173.9949 4082.2715,-104.1117 2828.0114,-90.9794 2537.0051,-88.8643\"/>\n<polygon fill=\"#000000\" stroke=\"#000000\" points=\"2536.6862,-85.3621 2526.6616,-88.7909 2536.6365,-92.3619 2536.6862,-85.3621\"/>\n</g>\n<!-- other_i_plans_1 -->\n<g id=\"node28\" class=\"node\">\n<title>other_i_plans_1</title>\n<ellipse fill=\"none\" stroke=\"#000000\" cx=\"4535.8528\" cy=\"-277.2325\" rx=\"77.5641\" ry=\"77.5641\"/>\n<text text-anchor=\"middle\" x=\"4535.8528\" y=\"-288.5325\" font-family=\"Times,serif\" font-size=\"14.00\" fill=\"#000000\">other_i_plans_1</text>\n<text text-anchor=\"middle\" x=\"4535.8528\" y=\"-273.5325\" font-family=\"Times,serif\" font-size=\"14.00\" fill=\"#000000\">~</text>\n<text text-anchor=\"middle\" x=\"4535.8528\" y=\"-258.5325\" font-family=\"Times,serif\" font-size=\"14.00\" fill=\"#000000\">StudentT</text>\n</g>\n<!-- other_i_plans_1&#45;&gt;y -->\n<g id=\"edge28\" class=\"edge\">\n<title>other_i_plans_1&#45;&gt;y</title>\n<path fill=\"none\" stroke=\"#000000\" d=\"M4494.2771,-211.2737C4481.5941,-196.4478 4466.3112,-182.5782 4448.8528,-173.9949 4360.961,-130.7838 2857.0273,-96.559 2536.5912,-89.7376\"/>\n<polygon fill=\"#000000\" stroke=\"#000000\" points=\"2536.6466,-86.238 2526.5745,-89.5251 2536.498,-93.2365 2536.6466,-86.238\"/>\n</g>\n<!-- purpose_1 -->\n<g id=\"node29\" class=\"node\">\n<title>purpose_1</title>\n<ellipse fill=\"none\" stroke=\"#000000\" cx=\"4685.8528\" cy=\"-277.2325\" rx=\"54.3945\" ry=\"54.3945\"/>\n<text text-anchor=\"middle\" x=\"4685.8528\" y=\"-288.5325\" font-family=\"Times,serif\" font-size=\"14.00\" fill=\"#000000\">purpose_1</text>\n<text text-anchor=\"middle\" x=\"4685.8528\" y=\"-273.5325\" font-family=\"Times,serif\" font-size=\"14.00\" fill=\"#000000\">~</text>\n<text text-anchor=\"middle\" x=\"4685.8528\" y=\"-258.5325\" font-family=\"Times,serif\" font-size=\"14.00\" fill=\"#000000\">StudentT</text>\n</g>\n<!-- purpose_1&#45;&gt;y -->\n<g id=\"edge29\" class=\"edge\">\n<title>purpose_1&#45;&gt;y</title>\n<path fill=\"none\" stroke=\"#000000\" d=\"M4667.0453,-225.9464C4657.0655,-206.2165 4642.6744,-185.6447 4622.8528,-173.9949 4530.4871,-119.7087 2873.7463,-93.9785 2536.4816,-89.2912\"/>\n<polygon fill=\"#000000\" stroke=\"#000000\" points=\"2536.4747,-85.7909 2526.4273,-89.1523 2536.378,-92.7902 2536.4747,-85.7909\"/>\n</g>\n</g>\n</svg>\n"
          },
          "metadata": {
            "tags": []
          },
          "execution_count": 26
        }
      ]
    },
    {
      "cell_type": "markdown",
      "metadata": {
        "id": "kspxjGRyvZOh"
      },
      "source": [
        "<br>\n",
        "<br>\n",
        "\n",
        "### Trace"
      ]
    },
    {
      "cell_type": "markdown",
      "metadata": {
        "id": "eUNZrZYHBXKm"
      },
      "source": [
        "**Variables**"
      ]
    },
    {
      "cell_type": "code",
      "metadata": {
        "id": "NdzD9_lceiRf",
        "colab": {
          "base_uri": "https://localhost:8080/",
          "height": 72
        },
        "outputId": "e657bd99-8f59-4a91-fb5b-7cdebca065ea"
      },
      "source": [
        "', '.join(trace.varnames)"
      ],
      "execution_count": 27,
      "outputs": [
        {
          "output_type": "execute_result",
          "data": {
            "application/vnd.google.colaboratory.intrinsic+json": {
              "type": "string"
            },
            "text/plain": [
              "'Intercept, duration_months, credit_amount, i_rate_by_disp_inc, curr_res_since, n_e_credits_this_bank, n_dependants, e_chq_acc_status_1, e_chq_acc_status_2, credit_history_1, credit_history_2, purpose_1, purpose_2, savings_acc_class_1, savings_acc_class_2, curr_emp_class_1, curr_emp_class_2, other_debtors_class_1, other_debtors_class_2, property_1, property_2, other_i_plans_1, other_i_plans_2, housing_1, housing_2, job_1, job_2, A192, A201'"
            ]
          },
          "metadata": {
            "tags": []
          },
          "execution_count": 27
        }
      ]
    },
    {
      "cell_type": "markdown",
      "metadata": {
        "id": "XKGhMyLPBSsN"
      },
      "source": [
        "<br>\n",
        "\n",
        "**Graphs**\n",
        "\n",
        "* plt.rcParams\n",
        "\n",
        "* Ascertain `{'figure.constrained_layout.use': True}`"
      ]
    },
    {
      "cell_type": "code",
      "metadata": {
        "id": "SR5HjwKKZdmx",
        "colab": {
          "base_uri": "https://localhost:8080/",
          "height": 458
        },
        "outputId": "e049d198-f7cf-42b4-91cb-8600a7b56d86"
      },
      "source": [
        "plt.rcParams.update({'font.size': 11, 'ytick.labelsize': 11, 'xtick.labelsize': 11, \n",
        "                     'axes.titlesize': 11, 'figure.subplot.hspace': 0.4})\n",
        "\n",
        "with lm:\n",
        "    az.plot_trace(data=arviztrace, figsize=(5.15, 4.30), \n",
        "                  var_names=['Intercept', 'curr_res_since', 'n_e_credits_this_bank'])"
      ],
      "execution_count": 28,
      "outputs": [
        {
          "output_type": "display_data",
          "data": {
            "image/png": "[encoded data removed]",
            "text/plain": [
              "<Figure size 515x430 with 6 Axes>"
            ]
          },
          "metadata": {
            "tags": []
          }
        }
      ]
    },
    {
      "cell_type": "markdown",
      "metadata": {
        "id": "OpbNUSvcETRn"
      },
      "source": [
        "<br>\n",
        "\n",
        "**Posterior Graphs** (cf. Default Trace Graphs)"
      ]
    },
    {
      "cell_type": "code",
      "metadata": {
        "id": "vq98FiAxXmjU",
        "colab": {
          "base_uri": "https://localhost:8080/",
          "height": 258
        },
        "outputId": "e8e613e8-5c30-48d9-e8e8-e993954efd59"
      },
      "source": [
        "plt.rcParams.update({'font.size': 11, 'axes.labelsize': 11.0, 'figure.constrained_layout.wspace': 0.2})\n",
        "\n",
        "with lm:\n",
        "    pymc3.plot_posterior(data=trace, var_names=['Intercept', 'curr_res_since', 'n_e_credits_this_bank'], \n",
        "                         figsize=(7.15, 2.3), grid=(1, 3), point_estimate='median', textsize=9)"
      ],
      "execution_count": 29,
      "outputs": [
        {
          "output_type": "display_data",
          "data": {
            "image/png": "[encoded data removed]",
            "text/plain": [
              "<Figure size 715x230 with 3 Axes>"
            ]
          },
          "metadata": {
            "tags": []
          }
        }
      ]
    },
    {
      "cell_type": "markdown",
      "metadata": {
        "id": "6FLQ-4XYJRGD"
      },
      "source": [
        "<br>\n",
        "<br>\n",
        "\n",
        "## Persist"
      ]
    },
    {
      "cell_type": "markdown",
      "metadata": {
        "id": "b5gtdg3KaUS5"
      },
      "source": [
        "### Assets"
      ]
    },
    {
      "cell_type": "markdown",
      "metadata": {
        "id": "hHZ8SuZyVr9T"
      },
      "source": [
        "**Pre-transforms training data**"
      ]
    },
    {
      "cell_type": "code",
      "metadata": {
        "id": "B0LAwQFWVXAw"
      },
      "source": [
        "trainingdata.to_csv(path_or_buf=os.path.join(directory, 'training.csv'), \n",
        "                    header=True, index=False, encoding='UTF-8')"
      ],
      "execution_count": 30,
      "outputs": []
    },
    {
      "cell_type": "markdown",
      "metadata": {
        "id": "pd1giNszPudQ"
      },
      "source": [
        "<br>\n",
        "\n",
        "**Sampled**"
      ]
    },
    {
      "cell_type": "code",
      "metadata": {
        "id": "MTpq5rBwWdKN"
      },
      "source": [
        "sampled.to_csv(path_or_buf=os.path.join(directory, 'sampled.csv'), \n",
        "               header=True, index=False, encoding='UTF-8')"
      ],
      "execution_count": 31,
      "outputs": []
    },
    {
      "cell_type": "markdown",
      "metadata": {
        "id": "8_H2VeYO_WJ7"
      },
      "source": [
        "<br>\n",
        "\n",
        "**Determine Binary Maps**"
      ]
    },
    {
      "cell_type": "code",
      "metadata": {
        "id": "pBYbCg0F-reO"
      },
      "source": [
        "dictionary = {}\n",
        "\n",
        "for element in binary_cf:\n",
        "\n",
        "    pairings = pd.concat((training[element], scaled[element]), axis=1, ).drop_duplicates()\n",
        "    pairings.set_axis(labels=['state', element], axis=1, inplace=True)\n",
        "    mapping = pairings.set_index(keys='state', drop=True).to_dict(orient='dict')\n",
        "\n",
        "    dictionary.__setitem__(element, mapping[element])"
      ],
      "execution_count": 32,
      "outputs": []
    },
    {
      "cell_type": "markdown",
      "metadata": {
        "id": "TayWH-Y9LllG"
      },
      "source": [
        "<br>\n",
        "\n",
        "**Pocket**"
      ]
    },
    {
      "cell_type": "code",
      "metadata": {
        "id": "_g-p-SMf3Q0X"
      },
      "source": [
        "pocket = {\n",
        "    'lm': lm,\n",
        "    'ndraws': trace.report.n_draws,\n",
        "    'nchains': trace.nchains,\n",
        "    'xshared': xshared,\n",
        "    'target': target, \n",
        "    'regressors': ','.join(x_training_fields),\n",
        "    'binary_cf_dictionary': dictionary,\n",
        "    'scaler': scaler \n",
        "}"
      ],
      "execution_count": 33,
      "outputs": []
    },
    {
      "cell_type": "markdown",
      "metadata": {
        "id": "qP3HyRbPK8Ly"
      },
      "source": [
        "<br>\n",
        "\n",
        "**Assets**"
      ]
    },
    {
      "cell_type": "code",
      "metadata": {
        "id": "Ro_1dcQrK-IA"
      },
      "source": [
        "class Assets:\n",
        "\n",
        "    def __init__(self, directory: str):\n",
        "        \"\"\"\n",
        "        \n",
        "        \"\"\"\n",
        "\n",
        "        self.directory = directory\n",
        "\n",
        "    def pocket_(self, pocket: dict):\n",
        "\n",
        "        pickled = pickle.dumps(pocket)        \n",
        "        f = open(os.path.join(self.directory, 'pocket.pkl'), mode='wb')        \n",
        "        f.write(pickled)\n",
        "        f.close()\n",
        "\n",
        "    def trace_(self, trace: pymc3.backends.base.MultiTrace):\n",
        "        \"\"\"\n",
        "        Reloading requires the model context, excellent.\n",
        "\n",
        "        :param trace:\n",
        "        \"\"\"\n",
        "\n",
        "        pymc3.backends.ndarray.save_trace(\n",
        "            trace=trace, directory=os.path.join('trace'), overwrite=True)\n",
        "        \n",
        "        tracefiles = []\n",
        "        for base, directories, files in os.walk(os.path.join('trace')):\n",
        "            for file in files:\n",
        "                tracefiles.append(os.path.join(base, file))\n",
        "\n",
        "        with zipfile.ZipFile(file='trace.zip', mode='w', compression=zipfile.ZIP_DEFLATED, allowZip64=False, compresslevel=6) as tr:\n",
        "            for tracefile in tracefiles:\n",
        "                tr.write(tracefile)\n"
      ],
      "execution_count": 34,
      "outputs": []
    },
    {
      "cell_type": "code",
      "metadata": {
        "id": "EHe3LZ8WNikZ"
      },
      "source": [
        "assets = Assets(directory=directory)\n",
        "assets.pocket_(pocket=pocket)\n",
        "assets.trace_(trace=trace)"
      ],
      "execution_count": 35,
      "outputs": []
    },
    {
      "cell_type": "markdown",
      "metadata": {
        "id": "AfmWjZRoDCqH"
      },
      "source": [
        "<br>\n",
        "<br>\n",
        "\n",
        "### ArViz"
      ]
    },
    {
      "cell_type": "markdown",
      "metadata": {
        "id": "p9z_iDqn8y2y"
      },
      "source": [
        "```python\n",
        "arviztrace.to_json(os.path.join(directory, 'arviz.json'))\n",
        "```"
      ]
    }
  ]
}