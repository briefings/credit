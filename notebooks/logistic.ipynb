{
  "nbformat": 4,
  "nbformat_minor": 0,
  "metadata": {
    "colab": {
      "name": "logistic.ipynb",
      "provenance": [],
      "collapsed_sections": []
    },
    "kernelspec": {
      "name": "python3",
      "display_name": "Python 3"
    },
    "language_info": {
      "name": "python"
    }
  },
  "cells": [
    {
      "cell_type": "markdown",
      "metadata": {
        "id": "0N4C2hHrsSfn"
      },
      "source": [
        "Bayesian Logistic Regression\n",
        "\n",
        "* https://docs.pymc.io/pymc-examples/examples/generalized_linear_models/GLM-logistic.html\n",
        "\n",
        "\n",
        "<br>"
      ]
    },
    {
      "cell_type": "markdown",
      "metadata": {
        "id": "MbwaZ2iDEg7T"
      },
      "source": [
        "## Preliminaries"
      ]
    },
    {
      "cell_type": "code",
      "metadata": {
        "id": "ahXoiVIJbyEA"
      },
      "source": [
        "%%bash\n",
        "\n",
        "rm -rf *.sh\n",
        "rm -rf trace.zip\n",
        "rm -rf warehouse"
      ],
      "execution_count": 1,
      "outputs": []
    },
    {
      "cell_type": "markdown",
      "metadata": {
        "id": "6VgMmWuTI5rZ"
      },
      "source": [
        "<br>\n",
        "<br>\n",
        "\n",
        "### Packages & Libraries"
      ]
    },
    {
      "cell_type": "markdown",
      "metadata": {
        "id": "SP7DionDTfMV"
      },
      "source": [
        "**Packages**"
      ]
    },
    {
      "cell_type": "code",
      "metadata": {
        "id": "IrEiqQ65i4HP"
      },
      "source": [
        "import subprocess"
      ],
      "execution_count": 2,
      "outputs": []
    },
    {
      "cell_type": "code",
      "metadata": {
        "id": "XVwENGGwi8pA"
      },
      "source": [
        "if 'google.colab' in str(get_ipython()):\n",
        "    subprocess.run('wget -q https://raw.githubusercontent.com/exhypotheses/risk/develop/scripts.sh', shell=True)\n",
        "    subprocess.run('chmod u+x scripts.sh', shell=True)\n",
        "    subprocess.run('./scripts.sh', shell=True)"
      ],
      "execution_count": 3,
      "outputs": []
    },
    {
      "cell_type": "markdown",
      "metadata": {
        "id": "V04o5dwaEVeU"
      },
      "source": [
        "<br>\n",
        "\n",
        "**Libraries**"
      ]
    },
    {
      "cell_type": "code",
      "metadata": {
        "id": "lvWNfNACETeQ"
      },
      "source": [
        "import logging\n",
        "import collections\n",
        "import os\n",
        "import zipfile\n",
        "import requests\n",
        "\n",
        "import numpy as np\n",
        "import pandas as pd\n",
        "import matplotlib.pyplot as plt\n",
        "\n",
        "import theano\n",
        "import pymc3\n",
        "import graphviz\n",
        "import arviz as az\n",
        "\n",
        "import pickle\n",
        "import json\n"
      ],
      "execution_count": 4,
      "outputs": []
    },
    {
      "cell_type": "markdown",
      "metadata": {
        "id": "6RvKtZ3eSHCV"
      },
      "source": [
        "<br>\n",
        "<br>\n",
        "\n",
        "### Logging"
      ]
    },
    {
      "cell_type": "code",
      "metadata": {
        "id": "jXsl-Gd6SGB1"
      },
      "source": [
        "logging.basicConfig(level=logging.INFO, format='%(message)s\\n%(asctime)s.%(msecs)03d', datefmt='%Y-%m-%d %H:%M:%S')\n",
        "logger = logging.getLogger(__name__)"
      ],
      "execution_count": 5,
      "outputs": []
    },
    {
      "cell_type": "markdown",
      "metadata": {
        "id": "N3xLPJBkLZqJ"
      },
      "source": [
        "<br>\n",
        "<br>\n",
        "\n",
        "### Custom"
      ]
    },
    {
      "cell_type": "code",
      "metadata": {
        "id": "pdxEwJ3lLcNH"
      },
      "source": [
        "import config\n",
        "\n",
        "import risk.graphing.relational\n",
        "import risk.graphing.settings\n",
        "\n",
        "import risk.functions.sample\n",
        "import risk.functions.scale\n",
        "\n",
        "import risk.evaluations.dag"
      ],
      "execution_count": 6,
      "outputs": []
    },
    {
      "cell_type": "markdown",
      "metadata": {
        "id": "sEQChpNKe5GI"
      },
      "source": [
        "<br>\n",
        "\n",
        "Configurations"
      ]
    },
    {
      "cell_type": "code",
      "metadata": {
        "id": "bkNOO8hie8Sh"
      },
      "source": [
        "configurations = config.Config()"
      ],
      "execution_count": 7,
      "outputs": []
    },
    {
      "cell_type": "markdown",
      "metadata": {
        "id": "1cPXr4llLrCF"
      },
      "source": [
        "<br>\n",
        "\n",
        "Graphs"
      ]
    },
    {
      "cell_type": "code",
      "metadata": {
        "id": "leKOS6jxLuX0"
      },
      "source": [
        "relational = risk.graphing.relational.Relational()\n",
        "\n",
        "RelationalGraphLabels = collections.namedtuple(typename='RelationalGraphLabels',\n",
        "                                               field_names=['title', 'xlabel', 'ylabel'])"
      ],
      "execution_count": 8,
      "outputs": []
    },
    {
      "cell_type": "markdown",
      "metadata": {
        "id": "A8m2l5cDMO2f"
      },
      "source": [
        "<br>\n",
        "\n",
        "Settings"
      ]
    },
    {
      "cell_type": "code",
      "metadata": {
        "id": "w_c4_LhkMRVy"
      },
      "source": [
        "settings = risk.graphing.settings.Settings()\n",
        "\n",
        "settings.layout()\n",
        "settings.aesthetics()"
      ],
      "execution_count": 9,
      "outputs": []
    },
    {
      "cell_type": "markdown",
      "metadata": {
        "id": "vTw-V7OG2l-7"
      },
      "source": [
        "<br>\n",
        "\n",
        "Paths"
      ]
    },
    {
      "cell_type": "code",
      "metadata": {
        "id": "BqFr2aYwi5rx"
      },
      "source": [
        "if not 'google.colab' in str(get_ipython()):    \n",
        "    notebooks = os.getcwd()\n",
        "    parent = str(pathlib.Path(notebooks).parent)\n",
        "    sys.path.append(parent)\n",
        "else:\n",
        "    parent = os.getcwd()  "
      ],
      "execution_count": 10,
      "outputs": []
    },
    {
      "cell_type": "code",
      "metadata": {
        "id": "OC8J-GdC2pFr"
      },
      "source": [
        "directory = os.path.join(configurations.warehouse, 'model')\n",
        "\n",
        "if not os.path.exists(directory):\n",
        "    os.makedirs(directory)"
      ],
      "execution_count": 11,
      "outputs": []
    },
    {
      "cell_type": "markdown",
      "metadata": {
        "id": "zB2P6S6Br0XZ"
      },
      "source": [
        "<br>\n",
        "<br>\n",
        "\n",
        "## For YAML"
      ]
    },
    {
      "cell_type": "markdown",
      "metadata": {
        "id": "tOF4cfBqEKRd"
      },
      "source": [
        "* 'problem': 'Binary Classification'\n",
        "* 'modelType': 'Bayesian Logistic Model'"
      ]
    },
    {
      "cell_type": "markdown",
      "metadata": {
        "id": "Sm3JrIXsExIg"
      },
      "source": [
        "### Seed"
      ]
    },
    {
      "cell_type": "code",
      "metadata": {
        "id": "tmRAA4Hrr2wG"
      },
      "source": [
        "SEED = 5\n",
        "np.random.seed(seed=SEED)"
      ],
      "execution_count": 12,
      "outputs": []
    },
    {
      "cell_type": "markdown",
      "metadata": {
        "id": "HsYQthZnFkha"
      },
      "source": [
        "<br>\n",
        "\n",
        "### Modelling Parameters, Variables, Arguments"
      ]
    },
    {
      "cell_type": "markdown",
      "metadata": {
        "id": "RsriZqgX3ABw"
      },
      "source": [
        "Cases:\n",
        "\n",
        "* **Include**:<br>['duration_months', 'credit_amount', 'e_chq_acc_status', 'credit_history', 'purpose', 'savings_acc_class', 'property', 'housing']\n",
        "\n",
        "\n",
        "* **Either**:<br>['curr_emp_class']\n",
        "\n",
        "* **Exclude**:<br>['i_rate_by_disp_inc', 'curr_res_since', 'age_years', 'n_e_credits_this_bank', 'n_dependants', 'sex_and_status', 'other_debtors_class', 'other_i_plans', 'job', 'telephone', 'foreign_worker', 'female']\n"
      ]
    },
    {
      "cell_type": "code",
      "metadata": {
        "id": "oJ_CpNObFjjs"
      },
      "source": [
        "include = ['duration_months', 'credit_amount', 'e_chq_acc_status_1', 'e_chq_acc_status_2', \n",
        "           'credit_history_1', 'credit_history_2', 'purpose_1', 'purpose_2',\n",
        "           'savings_acc_class_1', 'savings_acc_class_2', \n",
        "           'housing_1', 'housing_2', 'reasonable']\n",
        "binary_cf = ['A192', 'A201', 'female']\n",
        "target = 'reasonable'"
      ],
      "execution_count": 13,
      "outputs": []
    },
    {
      "cell_type": "markdown",
      "metadata": {
        "id": "GvZ3aSMBEbTl"
      },
      "source": [
        "<br>\n",
        "<br>\n",
        "\n",
        "## Data"
      ]
    },
    {
      "cell_type": "markdown",
      "metadata": {
        "id": "9QUf9hXl5bAG"
      },
      "source": [
        "### Read"
      ]
    },
    {
      "cell_type": "markdown",
      "metadata": {
        "id": "hahTCHYfVrNH"
      },
      "source": [
        "Reads in the data wherein the polytomous categorical fields have undergone t-SNE embedding."
      ]
    },
    {
      "cell_type": "code",
      "metadata": {
        "id": "tazRSshL1ZCx"
      },
      "source": [
        "url_mappings = 'https://raw.githubusercontent.com/exhypotheses/risk/develop/warehouse/splits/scikit/mappings.json'\n",
        "url_training = 'https://raw.githubusercontent.com/exhypotheses/risk/develop/warehouse/splits/scikit/training.csv'"
      ],
      "execution_count": 14,
      "outputs": []
    },
    {
      "cell_type": "markdown",
      "metadata": {
        "id": "WlvLatyO24xC"
      },
      "source": [
        "<br>\n",
        "\n",
        "Mappings"
      ]
    },
    {
      "cell_type": "code",
      "metadata": {
        "id": "Ek6WwSYe1x9u"
      },
      "source": [
        "try:\n",
        "    req = requests.get(url=url_mappings)\n",
        "    req.raise_for_status\n",
        "except requests.exceptions.RequestException as err:\n",
        "    raise Exception(err)\n",
        "\n",
        "mappings = json.loads(req.content)     "
      ],
      "execution_count": 15,
      "outputs": []
    },
    {
      "cell_type": "markdown",
      "metadata": {
        "id": "TKDk6zjM28fd"
      },
      "source": [
        "<br>\n",
        "\n",
        "Training Data"
      ]
    },
    {
      "cell_type": "code",
      "metadata": {
        "id": "qY6YVoXu3HqH"
      },
      "source": [
        "try:\n",
        "    trainingdata = pd.read_csv(\n",
        "        filepath_or_buffer=url_training, header=0, encoding='utf-8', \n",
        "        dtype={'A192': np.uint8, 'A201': np.uint8, 'female': np.uint8, 'reasonable': np.uint8})\n",
        "except OSError as err:\n",
        "    raise Exception(err.strerror)    "
      ],
      "execution_count": 16,
      "outputs": []
    },
    {
      "cell_type": "code",
      "metadata": {
        "colab": {
          "base_uri": "https://localhost:8080/"
        },
        "id": "3l0u3Vya4sKP",
        "outputId": "4b0bcfd2-f721-46f4-e729-f54a2f7611d0"
      },
      "source": [
        "training = trainingdata.copy().drop(columns=list(mappings.keys()))\n",
        "training.info()"
      ],
      "execution_count": 17,
      "outputs": [
        {
          "output_type": "stream",
          "text": [
            "<class 'pandas.core.frame.DataFrame'>\n",
            "RangeIndex: 650 entries, 0 to 649\n",
            "Data columns (total 33 columns):\n",
            " #   Column                 Non-Null Count  Dtype  \n",
            "---  ------                 --------------  -----  \n",
            " 0   duration_months        650 non-null    int64  \n",
            " 1   credit_amount          650 non-null    int64  \n",
            " 2   i_rate_by_disp_inc     650 non-null    int64  \n",
            " 3   curr_res_since         650 non-null    int64  \n",
            " 4   age_years              650 non-null    int64  \n",
            " 5   n_e_credits_this_bank  650 non-null    int64  \n",
            " 6   n_dependants           650 non-null    int64  \n",
            " 7   e_chq_acc_status_1     650 non-null    float64\n",
            " 8   e_chq_acc_status_2     650 non-null    float64\n",
            " 9   credit_history_1       650 non-null    float64\n",
            " 10  credit_history_2       650 non-null    float64\n",
            " 11  purpose_1              650 non-null    float64\n",
            " 12  purpose_2              650 non-null    float64\n",
            " 13  savings_acc_class_1    650 non-null    float64\n",
            " 14  savings_acc_class_2    650 non-null    float64\n",
            " 15  curr_emp_class_1       650 non-null    float64\n",
            " 16  curr_emp_class_2       650 non-null    float64\n",
            " 17  sex_and_status_1       650 non-null    float64\n",
            " 18  sex_and_status_2       650 non-null    float64\n",
            " 19  other_debtors_class_1  650 non-null    float64\n",
            " 20  other_debtors_class_2  650 non-null    float64\n",
            " 21  property_1             650 non-null    float64\n",
            " 22  property_2             650 non-null    float64\n",
            " 23  other_i_plans_1        650 non-null    float64\n",
            " 24  other_i_plans_2        650 non-null    float64\n",
            " 25  housing_1              650 non-null    float64\n",
            " 26  housing_2              650 non-null    float64\n",
            " 27  job_1                  650 non-null    float64\n",
            " 28  job_2                  650 non-null    float64\n",
            " 29  A192                   650 non-null    uint8  \n",
            " 30  A201                   650 non-null    uint8  \n",
            " 31  female                 650 non-null    uint8  \n",
            " 32  reasonable             650 non-null    uint8  \n",
            "dtypes: float64(22), int64(7), uint8(4)\n",
            "memory usage: 149.9 KB\n"
          ],
          "name": "stdout"
        }
      ]
    },
    {
      "cell_type": "markdown",
      "metadata": {
        "id": "Nuc-f3dA9NJ-"
      },
      "source": [
        "<br>\n",
        "\n",
        "### Structure"
      ]
    },
    {
      "cell_type": "markdown",
      "metadata": {
        "id": "zDp3oKiFDcy9"
      },
      "source": [
        "**Scale**\n",
        "\n",
        "Via sklearn.preprocessing.StandardScaler"
      ]
    },
    {
      "cell_type": "code",
      "metadata": {
        "id": "BRjYLvxE4_mZ"
      },
      "source": [
        "scale = risk.functions.scale.Scale()"
      ],
      "execution_count": 18,
      "outputs": []
    },
    {
      "cell_type": "code",
      "metadata": {
        "id": "jMVpJh_ODiT-",
        "colab": {
          "base_uri": "https://localhost:8080/"
        },
        "outputId": "651d6528-99b3-4ce5-8ce1-aefbea52b782"
      },
      "source": [
        "scaler = scale.exc(blob=training.drop(columns=target))\n",
        "left = scale.apply(blob=training.drop(columns=target), scaler=scaler)\n",
        "scaled = pd.concat((left, training[target]), axis=1, ignore_index=False)\n",
        "scaled.shape"
      ],
      "execution_count": 19,
      "outputs": [
        {
          "output_type": "execute_result",
          "data": {
            "text/plain": [
              "(650, 33)"
            ]
          },
          "metadata": {
            "tags": []
          },
          "execution_count": 19
        }
      ]
    },
    {
      "cell_type": "markdown",
      "metadata": {
        "id": "jsNWMVrUuH3_"
      },
      "source": [
        "<br>\n",
        "<br>\n",
        "\n",
        "**Sample**\n",
        "\n",
        "Via imblearn.over_sampling.SVMSMOTE"
      ]
    },
    {
      "cell_type": "code",
      "metadata": {
        "colab": {
          "base_uri": "https://localhost:8080/"
        },
        "id": "4zVwqnXGPhDQ",
        "outputId": "d020c289-48e2-4765-99fb-9a9bb5de45b0"
      },
      "source": [
        "sample = risk.functions.sample.Sample()\n",
        "sampled = sample.exc(blob=scaled, target=target)\n",
        "\n",
        "logger.warning('Shape: {}'.format(sampled.shape))\n",
        "logger.warning('\\nBreakdown:\\n{}'.format(sampled.reasonable.value_counts()))"
      ],
      "execution_count": 20,
      "outputs": [
        {
          "output_type": "stream",
          "text": [
            "Shape: (910, 33)\n",
            "2021-08-04 22:59:44.002\n",
            "\n",
            "Breakdown:\n",
            "1    455\n",
            "0    455\n",
            "Name: reasonable, dtype: int64\n",
            "2021-08-04 22:59:44.006\n"
          ],
          "name": "stderr"
        }
      ]
    },
    {
      "cell_type": "markdown",
      "metadata": {
        "id": "FVBrLlZBRD_i"
      },
      "source": [
        "<br>\n",
        "<br>\n",
        "\n",
        "## Model"
      ]
    },
    {
      "cell_type": "code",
      "metadata": {
        "id": "CZXj0j4eH2Vh",
        "colab": {
          "base_uri": "https://localhost:8080/"
        },
        "outputId": "3b95e7b1-49bf-430c-ab1c-38b58dd9aaae"
      },
      "source": [
        "baseline = sampled[include]\n",
        "baseline.info()"
      ],
      "execution_count": 21,
      "outputs": [
        {
          "output_type": "stream",
          "text": [
            "<class 'pandas.core.frame.DataFrame'>\n",
            "RangeIndex: 910 entries, 0 to 909\n",
            "Data columns (total 13 columns):\n",
            " #   Column               Non-Null Count  Dtype  \n",
            "---  ------               --------------  -----  \n",
            " 0   duration_months      910 non-null    float64\n",
            " 1   credit_amount        910 non-null    float64\n",
            " 2   e_chq_acc_status_1   910 non-null    float64\n",
            " 3   e_chq_acc_status_2   910 non-null    float64\n",
            " 4   credit_history_1     910 non-null    float64\n",
            " 5   credit_history_2     910 non-null    float64\n",
            " 6   purpose_1            910 non-null    float64\n",
            " 7   purpose_2            910 non-null    float64\n",
            " 8   savings_acc_class_1  910 non-null    float64\n",
            " 9   savings_acc_class_2  910 non-null    float64\n",
            " 10  housing_1            910 non-null    float64\n",
            " 11  housing_2            910 non-null    float64\n",
            " 12  reasonable           910 non-null    uint8  \n",
            "dtypes: float64(12), uint8(1)\n",
            "memory usage: 86.3 KB\n"
          ],
          "name": "stdout"
        }
      ]
    },
    {
      "cell_type": "markdown",
      "metadata": {
        "id": "7ocPN12MIUCC"
      },
      "source": [
        "<br>\n",
        "\n",
        "Hence"
      ]
    },
    {
      "cell_type": "code",
      "metadata": {
        "id": "23vmgFZhMMvk"
      },
      "source": [
        "training_ = baseline"
      ],
      "execution_count": 22,
      "outputs": []
    },
    {
      "cell_type": "code",
      "metadata": {
        "id": "DoxIDmJ3XCnq"
      },
      "source": [
        "x_training_fields = list(baseline.drop(columns=target).columns)\n",
        "x_training_ = baseline[x_training_fields].to_numpy()\n",
        "y_training_ = baseline[target].to_numpy()"
      ],
      "execution_count": 23,
      "outputs": []
    },
    {
      "cell_type": "markdown",
      "metadata": {
        "id": "uHFMUC2aGtiM"
      },
      "source": [
        "<br>\n",
        "<br>\n",
        "\n",
        "### Define"
      ]
    },
    {
      "cell_type": "markdown",
      "metadata": {
        "id": "RZLJ_nJCj_Nd"
      },
      "source": [
        "* https://docs.pymc.io/api/inference.html#module-pymc3.sampling"
      ]
    },
    {
      "cell_type": "markdown",
      "metadata": {
        "id": "VarPpgPQ4Mrx"
      },
      "source": [
        "\n",
        "Initially"
      ]
    },
    {
      "cell_type": "code",
      "metadata": {
        "id": "zly8Evv44Pm8"
      },
      "source": [
        "xshared = theano.shared(x_training_)"
      ],
      "execution_count": 24,
      "outputs": []
    },
    {
      "cell_type": "markdown",
      "metadata": {
        "id": "4dwtoF0y4XGh"
      },
      "source": [
        "<br>\n",
        "\n",
        "Therefore"
      ]
    },
    {
      "cell_type": "code",
      "metadata": {
        "id": "C4ZFe5mF4ykw"
      },
      "source": [
        "with pymc3.Model() as lm:\n",
        "\n",
        "    pymc3.glm.GLM(x=xshared, y=y_training_, intercept=True, labels=x_training_fields, \n",
        "                  priors={'Regressor': pymc3.StudentT.dist(nu=5.0, mu=0, sigma=15.0)}, \n",
        "                  family=pymc3.families.Binomial())\n",
        "    \n",
        "    # Trace\n",
        "    trace = pymc3.sample(tune=1000, draws=2000)\n",
        "\n",
        "    # The trace generated from MCMC sampling\n",
        "    arviztrace = az.from_pymc3(trace=trace)"
      ],
      "execution_count": null,
      "outputs": []
    },
    {
      "cell_type": "markdown",
      "metadata": {
        "id": "BDv8Tzj4kOZz"
      },
      "source": [
        "<br>\n",
        "\n",
        "**DAG**"
      ]
    },
    {
      "cell_type": "code",
      "metadata": {
        "id": "nUgRhcpGkrs-",
        "colab": {
          "base_uri": "https://localhost:8080/",
          "height": 799
        },
        "outputId": "e6377276-23bd-4d3c-e29d-9d162f2f224e"
      },
      "source": [
        "dag = risk.evaluations.dag.DAG()\n",
        "dag.exc(model=lm, directory=directory)"
      ],
      "execution_count": 26,
      "outputs": [
        {
          "output_type": "stream",
          "text": [
            "Lock 140380398645648 acquired on /root/.theano/compiledir_Linux-5.4.104+-x86_64-with-Ubuntu-18.04-bionic-x86_64-3.7.11-64/.lock\n",
            "2021-08-04 23:01:22.832\n",
            "Lock 140380398645648 released on /root/.theano/compiledir_Linux-5.4.104+-x86_64-with-Ubuntu-18.04-bionic-x86_64-3.7.11-64/.lock\n",
            "2021-08-04 23:01:22.834\n",
            "Lock 140380441918096 acquired on /root/.theano/compiledir_Linux-5.4.104+-x86_64-with-Ubuntu-18.04-bionic-x86_64-3.7.11-64/.lock\n",
            "2021-08-04 23:01:22.850\n",
            "Lock 140380441918096 released on /root/.theano/compiledir_Linux-5.4.104+-x86_64-with-Ubuntu-18.04-bionic-x86_64-3.7.11-64/.lock\n",
            "2021-08-04 23:01:22.851\n",
            "Lock 140380442178000 acquired on /root/.theano/compiledir_Linux-5.4.104+-x86_64-with-Ubuntu-18.04-bionic-x86_64-3.7.11-64/.lock\n",
            "2021-08-04 23:01:22.868\n",
            "Lock 140380442178000 released on /root/.theano/compiledir_Linux-5.4.104+-x86_64-with-Ubuntu-18.04-bionic-x86_64-3.7.11-64/.lock\n",
            "2021-08-04 23:01:22.869\n",
            "Lock 140380442208080 acquired on /root/.theano/compiledir_Linux-5.4.104+-x86_64-with-Ubuntu-18.04-bionic-x86_64-3.7.11-64/.lock\n",
            "2021-08-04 23:01:22.886\n",
            "Lock 140380442208080 released on /root/.theano/compiledir_Linux-5.4.104+-x86_64-with-Ubuntu-18.04-bionic-x86_64-3.7.11-64/.lock\n",
            "2021-08-04 23:01:22.889\n",
            "Lock 140380441889680 acquired on /root/.theano/compiledir_Linux-5.4.104+-x86_64-with-Ubuntu-18.04-bionic-x86_64-3.7.11-64/.lock\n",
            "2021-08-04 23:01:22.902\n",
            "Lock 140380441889680 released on /root/.theano/compiledir_Linux-5.4.104+-x86_64-with-Ubuntu-18.04-bionic-x86_64-3.7.11-64/.lock\n",
            "2021-08-04 23:01:22.903\n",
            "Lock 140380442278800 acquired on /root/.theano/compiledir_Linux-5.4.104+-x86_64-with-Ubuntu-18.04-bionic-x86_64-3.7.11-64/.lock\n",
            "2021-08-04 23:01:22.915\n",
            "Lock 140380442278800 released on /root/.theano/compiledir_Linux-5.4.104+-x86_64-with-Ubuntu-18.04-bionic-x86_64-3.7.11-64/.lock\n",
            "2021-08-04 23:01:22.918\n",
            "Lock 140380442574352 acquired on /root/.theano/compiledir_Linux-5.4.104+-x86_64-with-Ubuntu-18.04-bionic-x86_64-3.7.11-64/.lock\n",
            "2021-08-04 23:01:22.930\n",
            "Lock 140380442574352 released on /root/.theano/compiledir_Linux-5.4.104+-x86_64-with-Ubuntu-18.04-bionic-x86_64-3.7.11-64/.lock\n",
            "2021-08-04 23:01:22.931\n",
            "Lock 140380442892112 acquired on /root/.theano/compiledir_Linux-5.4.104+-x86_64-with-Ubuntu-18.04-bionic-x86_64-3.7.11-64/.lock\n",
            "2021-08-04 23:01:22.961\n",
            "Lock 140380442892112 released on /root/.theano/compiledir_Linux-5.4.104+-x86_64-with-Ubuntu-18.04-bionic-x86_64-3.7.11-64/.lock\n",
            "2021-08-04 23:01:22.963\n"
          ],
          "name": "stderr"
        },
        {
          "output_type": "execute_result",
          "data": {
            "text/plain": [
              "<graphviz.files.Source at 0x7facdbe805d0>"
            ],
            "image/svg+xml": "<?xml version=\"1.0\" encoding=\"UTF-8\" standalone=\"no\"?>\n<!DOCTYPE svg PUBLIC \"-//W3C//DTD SVG 1.1//EN\"\n \"http://www.w3.org/Graphics/SVG/1.1/DTD/svg11.dtd\">\n<!-- Generated by graphviz version 2.40.1 (20161225.0304)\n -->\n<!-- Title: %3 Pages: 1 -->\n<svg width=\"814pt\" height=\"143pt\"\n viewBox=\"0.00 0.00 814.00 142.68\" xmlns=\"http://www.w3.org/2000/svg\" xmlns:xlink=\"http://www.w3.org/1999/xlink\">\n<g id=\"graph0\" class=\"graph\" transform=\"scale(.3841 .3841) rotate(0) translate(4 367.4996)\">\n<title>%3</title>\n<polygon fill=\"#ffffff\" stroke=\"transparent\" points=\"-4,4 -4,-367.4996 2115.4508,-367.4996 2115.4508,4 -4,4\"/>\n<g id=\"clust1\" class=\"cluster\">\n<title>cluster910</title>\n<path fill=\"none\" stroke=\"#000000\" d=\"M1044.669,-8C1044.669,-8 1134.669,-8 1134.669,-8 1140.669,-8 1146.669,-14 1146.669,-20 1146.669,-20 1146.669,-133.9949 1146.669,-133.9949 1146.669,-139.9949 1140.669,-145.9949 1134.669,-145.9949 1134.669,-145.9949 1044.669,-145.9949 1044.669,-145.9949 1038.669,-145.9949 1032.669,-139.9949 1032.669,-133.9949 1032.669,-133.9949 1032.669,-20 1032.669,-20 1032.669,-14 1038.669,-8 1044.669,-8\"/>\n<text text-anchor=\"middle\" x=\"1127.169\" y=\"-15.8\" font-family=\"Times,serif\" font-size=\"14.00\" fill=\"#000000\">910</text>\n</g>\n<!-- Intercept -->\n<g id=\"node1\" class=\"node\">\n<title>Intercept</title>\n<ellipse fill=\"none\" stroke=\"#000000\" cx=\"46.669\" cy=\"-268.7473\" rx=\"46.8387\" ry=\"46.8387\"/>\n<text text-anchor=\"middle\" x=\"46.669\" y=\"-280.0473\" font-family=\"Times,serif\" font-size=\"14.00\" fill=\"#000000\">Intercept</text>\n<text text-anchor=\"middle\" x=\"46.669\" y=\"-265.0473\" font-family=\"Times,serif\" font-size=\"14.00\" fill=\"#000000\">~</text>\n<text text-anchor=\"middle\" x=\"46.669\" y=\"-250.0473\" font-family=\"Times,serif\" font-size=\"14.00\" fill=\"#000000\">Flat</text>\n</g>\n<!-- y -->\n<g id=\"node14\" class=\"node\">\n<title>y</title>\n<ellipse fill=\"#d3d3d3\" stroke=\"#000000\" cx=\"1089.669\" cy=\"-88.4975\" rx=\"49.4949\" ry=\"49.4949\"/>\n<text text-anchor=\"middle\" x=\"1089.669\" y=\"-99.7975\" font-family=\"Times,serif\" font-size=\"14.00\" fill=\"#000000\">y</text>\n<text text-anchor=\"middle\" x=\"1089.669\" y=\"-84.7975\" font-family=\"Times,serif\" font-size=\"14.00\" fill=\"#000000\">~</text>\n<text text-anchor=\"middle\" x=\"1089.669\" y=\"-69.7975\" font-family=\"Times,serif\" font-size=\"14.00\" fill=\"#000000\">Binomial</text>\n</g>\n<!-- Intercept&#45;&gt;y -->\n<g id=\"edge1\" class=\"edge\">\n<title>Intercept&#45;&gt;y</title>\n<path fill=\"none\" stroke=\"#000000\" d=\"M62.2271,-224.339C71.1113,-205.6562 84.2327,-185.5975 102.669,-173.9949 181.1844,-124.5827 828.3848,-97.7313 1029.9642,-90.5091\"/>\n<polygon fill=\"#000000\" stroke=\"#000000\" points=\"1030.1999,-94.003 1040.0693,-90.1501 1029.9513,-87.0074 1030.1999,-94.003\"/>\n</g>\n<!-- credit_amount -->\n<g id=\"node2\" class=\"node\">\n<title>credit_amount</title>\n<ellipse fill=\"none\" stroke=\"#000000\" cx=\"181.669\" cy=\"-268.7473\" rx=\"70.0071\" ry=\"70.0071\"/>\n<text text-anchor=\"middle\" x=\"181.669\" y=\"-280.0473\" font-family=\"Times,serif\" font-size=\"14.00\" fill=\"#000000\">credit_amount</text>\n<text text-anchor=\"middle\" x=\"181.669\" y=\"-265.0473\" font-family=\"Times,serif\" font-size=\"14.00\" fill=\"#000000\">~</text>\n<text text-anchor=\"middle\" x=\"181.669\" y=\"-250.0473\" font-family=\"Times,serif\" font-size=\"14.00\" fill=\"#000000\">StudentT</text>\n</g>\n<!-- credit_amount&#45;&gt;y -->\n<g id=\"edge3\" class=\"edge\">\n<title>credit_amount&#45;&gt;y</title>\n<path fill=\"none\" stroke=\"#000000\" d=\"M219.2287,-209.356C230.8249,-195.5588 244.7892,-182.4506 260.669,-173.9949 328.2802,-137.9936 851.2912,-103.0501 1030.0214,-92.0489\"/>\n<polygon fill=\"#000000\" stroke=\"#000000\" points=\"1030.2679,-95.5404 1040.0352,-91.4354 1029.8398,-88.5535 1030.2679,-95.5404\"/>\n</g>\n<!-- savings_acc_class_1 -->\n<g id=\"node3\" class=\"node\">\n<title>savings_acc_class_1</title>\n<ellipse fill=\"none\" stroke=\"#000000\" cx=\"364.669\" cy=\"-268.7473\" rx=\"94.5053\" ry=\"94.5053\"/>\n<text text-anchor=\"middle\" x=\"364.669\" y=\"-280.0473\" font-family=\"Times,serif\" font-size=\"14.00\" fill=\"#000000\">savings_acc_class_1</text>\n<text text-anchor=\"middle\" x=\"364.669\" y=\"-265.0473\" font-family=\"Times,serif\" font-size=\"14.00\" fill=\"#000000\">~</text>\n<text text-anchor=\"middle\" x=\"364.669\" y=\"-250.0473\" font-family=\"Times,serif\" font-size=\"14.00\" fill=\"#000000\">StudentT</text>\n</g>\n<!-- savings_acc_class_1&#45;&gt;y -->\n<g id=\"edge2\" class=\"edge\">\n<title>savings_acc_class_1&#45;&gt;y</title>\n<path fill=\"none\" stroke=\"#000000\" d=\"M429.4022,-199.2745C441.5695,-189.4277 454.8433,-180.4678 468.669,-173.9949 567.731,-127.6172 894.1028,-101.3582 1029.7368,-92.2174\"/>\n<polygon fill=\"#000000\" stroke=\"#000000\" points=\"1030.1964,-95.6947 1039.9417,-91.5378 1029.7312,-88.7101 1030.1964,-95.6947\"/>\n</g>\n<!-- credit_history_1 -->\n<g id=\"node4\" class=\"node\">\n<title>credit_history_1</title>\n<ellipse fill=\"none\" stroke=\"#000000\" cx=\"555.669\" cy=\"-268.7473\" rx=\"77.5641\" ry=\"77.5641\"/>\n<text text-anchor=\"middle\" x=\"555.669\" y=\"-280.0473\" font-family=\"Times,serif\" font-size=\"14.00\" fill=\"#000000\">credit_history_1</text>\n<text text-anchor=\"middle\" x=\"555.669\" y=\"-265.0473\" font-family=\"Times,serif\" font-size=\"14.00\" fill=\"#000000\">~</text>\n<text text-anchor=\"middle\" x=\"555.669\" y=\"-250.0473\" font-family=\"Times,serif\" font-size=\"14.00\" fill=\"#000000\">StudentT</text>\n</g>\n<!-- credit_history_1&#45;&gt;y -->\n<g id=\"edge4\" class=\"edge\">\n<title>credit_history_1&#45;&gt;y</title>\n<path fill=\"none\" stroke=\"#000000\" d=\"M602.0569,-205.8515C613.7389,-193.6535 627.1373,-182.1459 641.669,-173.9949 707.5006,-137.0696 923.7507,-107.7241 1029.8645,-95.1483\"/>\n<polygon fill=\"#000000\" stroke=\"#000000\" points=\"1030.5654,-98.5902 1040.0892,-93.9481 1029.7493,-91.6379 1030.5654,-98.5902\"/>\n</g>\n<!-- e_chq_acc_status_2 -->\n<g id=\"node5\" class=\"node\">\n<title>e_chq_acc_status_2</title>\n<ellipse fill=\"none\" stroke=\"#000000\" cx=\"743.669\" cy=\"-268.7473\" rx=\"92.7622\" ry=\"92.7622\"/>\n<text text-anchor=\"middle\" x=\"743.669\" y=\"-280.0473\" font-family=\"Times,serif\" font-size=\"14.00\" fill=\"#000000\">e_chq_acc_status_2</text>\n<text text-anchor=\"middle\" x=\"743.669\" y=\"-265.0473\" font-family=\"Times,serif\" font-size=\"14.00\" fill=\"#000000\">~</text>\n<text text-anchor=\"middle\" x=\"743.669\" y=\"-250.0473\" font-family=\"Times,serif\" font-size=\"14.00\" fill=\"#000000\">StudentT</text>\n</g>\n<!-- e_chq_acc_status_2&#45;&gt;y -->\n<g id=\"edge5\" class=\"edge\">\n<title>e_chq_acc_status_2&#45;&gt;y</title>\n<path fill=\"none\" stroke=\"#000000\" d=\"M807.9453,-201.7973C819.8322,-191.5929 832.6306,-181.8603 845.669,-173.9949 904.4019,-138.5645 979.9583,-114.9683 1031.3259,-101.7026\"/>\n<polygon fill=\"#000000\" stroke=\"#000000\" points=\"1032.4294,-105.0337 1041.2647,-99.1867 1030.7116,-98.2478 1032.4294,-105.0337\"/>\n</g>\n<!-- duration_months -->\n<g id=\"node6\" class=\"node\">\n<title>duration_months</title>\n<ellipse fill=\"none\" stroke=\"#000000\" cx=\"935.669\" cy=\"-268.7473\" rx=\"81.135\" ry=\"81.135\"/>\n<text text-anchor=\"middle\" x=\"935.669\" y=\"-280.0473\" font-family=\"Times,serif\" font-size=\"14.00\" fill=\"#000000\">duration_months</text>\n<text text-anchor=\"middle\" x=\"935.669\" y=\"-265.0473\" font-family=\"Times,serif\" font-size=\"14.00\" fill=\"#000000\">~</text>\n<text text-anchor=\"middle\" x=\"935.669\" y=\"-250.0473\" font-family=\"Times,serif\" font-size=\"14.00\" fill=\"#000000\">StudentT</text>\n</g>\n<!-- duration_months&#45;&gt;y -->\n<g id=\"edge6\" class=\"edge\">\n<title>duration_months&#45;&gt;y</title>\n<path fill=\"none\" stroke=\"#000000\" d=\"M988.6671,-206.7155C1009.0467,-182.8621 1031.9188,-156.0915 1050.7373,-134.0652\"/>\n<polygon fill=\"#000000\" stroke=\"#000000\" points=\"1053.6402,-136.0556 1057.475,-126.1791 1048.3181,-131.5086 1053.6402,-136.0556\"/>\n</g>\n<!-- housing_2 -->\n<g id=\"node7\" class=\"node\">\n<title>housing_2</title>\n<ellipse fill=\"none\" stroke=\"#000000\" cx=\"1089.669\" cy=\"-268.7473\" rx=\"55.3091\" ry=\"55.3091\"/>\n<text text-anchor=\"middle\" x=\"1089.669\" y=\"-280.0473\" font-family=\"Times,serif\" font-size=\"14.00\" fill=\"#000000\">housing_2</text>\n<text text-anchor=\"middle\" x=\"1089.669\" y=\"-265.0473\" font-family=\"Times,serif\" font-size=\"14.00\" fill=\"#000000\">~</text>\n<text text-anchor=\"middle\" x=\"1089.669\" y=\"-250.0473\" font-family=\"Times,serif\" font-size=\"14.00\" fill=\"#000000\">StudentT</text>\n</g>\n<!-- housing_2&#45;&gt;y -->\n<g id=\"edge7\" class=\"edge\">\n<title>housing_2&#45;&gt;y</title>\n<path fill=\"none\" stroke=\"#000000\" d=\"M1089.669,-213.1956C1089.669,-192.5721 1089.669,-169.1017 1089.669,-148.1288\"/>\n<polygon fill=\"#000000\" stroke=\"#000000\" points=\"1093.1691,-148.057 1089.669,-138.057 1086.1691,-148.0571 1093.1691,-148.057\"/>\n</g>\n<!-- e_chq_acc_status_1 -->\n<g id=\"node8\" class=\"node\">\n<title>e_chq_acc_status_1</title>\n<ellipse fill=\"none\" stroke=\"#000000\" cx=\"1255.669\" cy=\"-268.7473\" rx=\"92.7622\" ry=\"92.7622\"/>\n<text text-anchor=\"middle\" x=\"1255.669\" y=\"-280.0473\" font-family=\"Times,serif\" font-size=\"14.00\" fill=\"#000000\">e_chq_acc_status_1</text>\n<text text-anchor=\"middle\" x=\"1255.669\" y=\"-265.0473\" font-family=\"Times,serif\" font-size=\"14.00\" fill=\"#000000\">~</text>\n<text text-anchor=\"middle\" x=\"1255.669\" y=\"-250.0473\" font-family=\"Times,serif\" font-size=\"14.00\" fill=\"#000000\">StudentT</text>\n</g>\n<!-- e_chq_acc_status_1&#45;&gt;y -->\n<g id=\"edge8\" class=\"edge\">\n<title>e_chq_acc_status_1&#45;&gt;y</title>\n<path fill=\"none\" stroke=\"#000000\" d=\"M1192.9116,-200.6025C1171.9886,-177.8835 1149.2379,-153.1798 1130.4315,-132.759\"/>\n<polygon fill=\"#000000\" stroke=\"#000000\" points=\"1132.7778,-130.1401 1123.4289,-125.1553 1127.6287,-134.8822 1132.7778,-130.1401\"/>\n</g>\n<!-- purpose_2 -->\n<g id=\"node9\" class=\"node\">\n<title>purpose_2</title>\n<ellipse fill=\"none\" stroke=\"#000000\" cx=\"1420.669\" cy=\"-268.7473\" rx=\"54.3945\" ry=\"54.3945\"/>\n<text text-anchor=\"middle\" x=\"1420.669\" y=\"-280.0473\" font-family=\"Times,serif\" font-size=\"14.00\" fill=\"#000000\">purpose_2</text>\n<text text-anchor=\"middle\" x=\"1420.669\" y=\"-265.0473\" font-family=\"Times,serif\" font-size=\"14.00\" fill=\"#000000\">~</text>\n<text text-anchor=\"middle\" x=\"1420.669\" y=\"-250.0473\" font-family=\"Times,serif\" font-size=\"14.00\" fill=\"#000000\">StudentT</text>\n</g>\n<!-- purpose_2&#45;&gt;y -->\n<g id=\"edge11\" class=\"edge\">\n<title>purpose_2&#45;&gt;y</title>\n<path fill=\"none\" stroke=\"#000000\" d=\"M1396.5646,-219.329C1386.5003,-202.9545 1373.4379,-185.8936 1357.669,-173.9949 1295.6084,-127.1659 1207.0991,-105.5166 1149.0331,-95.8396\"/>\n<polygon fill=\"#000000\" stroke=\"#000000\" points=\"1149.3425,-92.3447 1138.9156,-94.2231 1148.2381,-99.257 1149.3425,-92.3447\"/>\n</g>\n<!-- purpose_1 -->\n<g id=\"node10\" class=\"node\">\n<title>purpose_1</title>\n<ellipse fill=\"none\" stroke=\"#000000\" cx=\"1547.669\" cy=\"-268.7473\" rx=\"54.3945\" ry=\"54.3945\"/>\n<text text-anchor=\"middle\" x=\"1547.669\" y=\"-280.0473\" font-family=\"Times,serif\" font-size=\"14.00\" fill=\"#000000\">purpose_1</text>\n<text text-anchor=\"middle\" x=\"1547.669\" y=\"-265.0473\" font-family=\"Times,serif\" font-size=\"14.00\" fill=\"#000000\">~</text>\n<text text-anchor=\"middle\" x=\"1547.669\" y=\"-250.0473\" font-family=\"Times,serif\" font-size=\"14.00\" fill=\"#000000\">StudentT</text>\n</g>\n<!-- purpose_1&#45;&gt;y -->\n<g id=\"edge10\" class=\"edge\">\n<title>purpose_1&#45;&gt;y</title>\n<path fill=\"none\" stroke=\"#000000\" d=\"M1524.2548,-219.4596C1514.0007,-202.6959 1500.435,-185.3477 1483.669,-173.9949 1429.6363,-137.4076 1245.3013,-108.7615 1149.1374,-95.8977\"/>\n<polygon fill=\"#000000\" stroke=\"#000000\" points=\"1149.36,-92.3968 1138.9873,-94.5548 1148.4418,-99.3363 1149.36,-92.3968\"/>\n</g>\n<!-- savings_acc_class_2 -->\n<g id=\"node11\" class=\"node\">\n<title>savings_acc_class_2</title>\n<ellipse fill=\"none\" stroke=\"#000000\" cx=\"1714.669\" cy=\"-268.7473\" rx=\"94.5053\" ry=\"94.5053\"/>\n<text text-anchor=\"middle\" x=\"1714.669\" y=\"-280.0473\" font-family=\"Times,serif\" font-size=\"14.00\" fill=\"#000000\">savings_acc_class_2</text>\n<text text-anchor=\"middle\" x=\"1714.669\" y=\"-265.0473\" font-family=\"Times,serif\" font-size=\"14.00\" fill=\"#000000\">~</text>\n<text text-anchor=\"middle\" x=\"1714.669\" y=\"-250.0473\" font-family=\"Times,serif\" font-size=\"14.00\" fill=\"#000000\">StudentT</text>\n</g>\n<!-- savings_acc_class_2&#45;&gt;y -->\n<g id=\"edge9\" class=\"edge\">\n<title>savings_acc_class_2&#45;&gt;y</title>\n<path fill=\"none\" stroke=\"#000000\" d=\"M1649.7906,-199.5797C1637.6405,-189.6969 1624.4101,-180.6458 1610.669,-173.9949 1529.8993,-134.9012 1267.9206,-105.5952 1149.1627,-93.973\"/>\n<polygon fill=\"#000000\" stroke=\"#000000\" points=\"1149.4431,-90.4839 1139.1519,-93.0021 1148.7673,-97.4512 1149.4431,-90.4839\"/>\n</g>\n<!-- housing_1 -->\n<g id=\"node12\" class=\"node\">\n<title>housing_1</title>\n<ellipse fill=\"none\" stroke=\"#000000\" cx=\"1882.669\" cy=\"-268.7473\" rx=\"55.3091\" ry=\"55.3091\"/>\n<text text-anchor=\"middle\" x=\"1882.669\" y=\"-280.0473\" font-family=\"Times,serif\" font-size=\"14.00\" fill=\"#000000\">housing_1</text>\n<text text-anchor=\"middle\" x=\"1882.669\" y=\"-265.0473\" font-family=\"Times,serif\" font-size=\"14.00\" fill=\"#000000\">~</text>\n<text text-anchor=\"middle\" x=\"1882.669\" y=\"-250.0473\" font-family=\"Times,serif\" font-size=\"14.00\" fill=\"#000000\">StudentT</text>\n</g>\n<!-- housing_1&#45;&gt;y -->\n<g id=\"edge12\" class=\"edge\">\n<title>housing_1&#45;&gt;y</title>\n<path fill=\"none\" stroke=\"#000000\" d=\"M1859.5298,-218.0673C1849.3703,-201.3663 1835.7958,-184.4188 1818.669,-173.9949 1706.5411,-105.75 1302.7649,-91.9752 1149.366,-89.1978\"/>\n<polygon fill=\"#000000\" stroke=\"#000000\" points=\"1149.2538,-85.6955 1139.1952,-89.0233 1149.1336,-92.6944 1149.2538,-85.6955\"/>\n</g>\n<!-- credit_history_2 -->\n<g id=\"node13\" class=\"node\">\n<title>credit_history_2</title>\n<ellipse fill=\"none\" stroke=\"#000000\" cx=\"2033.669\" cy=\"-268.7473\" rx=\"77.5641\" ry=\"77.5641\"/>\n<text text-anchor=\"middle\" x=\"2033.669\" y=\"-280.0473\" font-family=\"Times,serif\" font-size=\"14.00\" fill=\"#000000\">credit_history_2</text>\n<text text-anchor=\"middle\" x=\"2033.669\" y=\"-265.0473\" font-family=\"Times,serif\" font-size=\"14.00\" fill=\"#000000\">~</text>\n<text text-anchor=\"middle\" x=\"2033.669\" y=\"-250.0473\" font-family=\"Times,serif\" font-size=\"14.00\" fill=\"#000000\">StudentT</text>\n</g>\n<!-- credit_history_2&#45;&gt;y -->\n<g id=\"edge13\" class=\"edge\">\n<title>credit_history_2&#45;&gt;y</title>\n<path fill=\"none\" stroke=\"#000000\" d=\"M1987.6341,-205.3491C1975.6839,-193.0217 1961.8493,-181.5866 1946.669,-173.9949 1875.6239,-138.465 1332.0273,-103.0101 1149.3399,-91.9868\"/>\n<polygon fill=\"#000000\" stroke=\"#000000\" points=\"1149.3066,-88.4785 1139.1147,-91.3726 1148.8868,-95.466 1149.3066,-88.4785\"/>\n</g>\n</g>\n</svg>\n"
          },
          "metadata": {
            "tags": []
          },
          "execution_count": 26
        }
      ]
    },
    {
      "cell_type": "markdown",
      "metadata": {
        "id": "kspxjGRyvZOh"
      },
      "source": [
        "<br>\n",
        "<br>\n",
        "\n",
        "### Trace"
      ]
    },
    {
      "cell_type": "markdown",
      "metadata": {
        "id": "eUNZrZYHBXKm"
      },
      "source": [
        "**Variables**"
      ]
    },
    {
      "cell_type": "code",
      "metadata": {
        "id": "NdzD9_lceiRf",
        "colab": {
          "base_uri": "https://localhost:8080/",
          "height": 54
        },
        "outputId": "e3d5f1ca-a185-4116-d677-8092ead3fce4"
      },
      "source": [
        "', '.join(trace.varnames)"
      ],
      "execution_count": 27,
      "outputs": [
        {
          "output_type": "execute_result",
          "data": {
            "application/vnd.google.colaboratory.intrinsic+json": {
              "type": "string"
            },
            "text/plain": [
              "'Intercept, duration_months, credit_amount, e_chq_acc_status_1, e_chq_acc_status_2, credit_history_1, credit_history_2, purpose_1, purpose_2, savings_acc_class_1, savings_acc_class_2, housing_1, housing_2'"
            ]
          },
          "metadata": {
            "tags": []
          },
          "execution_count": 27
        }
      ]
    },
    {
      "cell_type": "markdown",
      "metadata": {
        "id": "XKGhMyLPBSsN"
      },
      "source": [
        "<br>\n",
        "\n",
        "**Graphs**\n",
        "\n",
        "* plt.rcParams\n",
        "\n",
        "* Ascertain `{'figure.constrained_layout.use': True}`"
      ]
    },
    {
      "cell_type": "code",
      "metadata": {
        "id": "SR5HjwKKZdmx",
        "colab": {
          "base_uri": "https://localhost:8080/",
          "height": 458
        },
        "outputId": "fdb8d263-242e-41b8-bd35-840a71d95793"
      },
      "source": [
        "plt.rcParams.update({'font.size': 11, 'ytick.labelsize': 11, 'xtick.labelsize': 11, \n",
        "                     'axes.titlesize': 11, 'figure.subplot.hspace': 0.4})\n",
        "\n",
        "with lm:\n",
        "    az.plot_trace(data=arviztrace, figsize=(5.15, 4.30), \n",
        "                  var_names=['Intercept', 'duration_months', 'credit_amount'])"
      ],
      "execution_count": 28,
      "outputs": [
        {
          "output_type": "display_data",
          "data": {
            "image/png": "[encoded data removed]",
            "text/plain": [
              "<Figure size 515x430 with 6 Axes>"
            ]
          },
          "metadata": {
            "tags": []
          }
        }
      ]
    },
    {
      "cell_type": "markdown",
      "metadata": {
        "id": "OpbNUSvcETRn"
      },
      "source": [
        "<br>\n",
        "\n",
        "**Posterior Graphs** (cf. Default Trace Graphs)"
      ]
    },
    {
      "cell_type": "code",
      "metadata": {
        "id": "vq98FiAxXmjU",
        "colab": {
          "base_uri": "https://localhost:8080/",
          "height": 258
        },
        "outputId": "3ac3f9b4-7d09-4fa2-c887-248a5f80226b"
      },
      "source": [
        "plt.rcParams.update({'font.size': 11, 'axes.labelsize': 11.0, 'figure.constrained_layout.wspace': 0.2})\n",
        "\n",
        "with lm:\n",
        "    pymc3.plot_posterior(data=trace, var_names=['Intercept', 'duration_months', 'credit_amount'], \n",
        "                         figsize=(7.15, 2.3), grid=(1, 3), point_estimate='median', textsize=9)"
      ],
      "execution_count": 29,
      "outputs": [
        {
          "output_type": "display_data",
          "data": {
            "image/png": "[encoded data removed]",
            "text/plain": [
              "<Figure size 715x230 with 3 Axes>"
            ]
          },
          "metadata": {
            "tags": []
          }
        }
      ]
    },
    {
      "cell_type": "markdown",
      "metadata": {
        "id": "6FLQ-4XYJRGD"
      },
      "source": [
        "<br>\n",
        "<br>\n",
        "\n",
        "## Persist"
      ]
    },
    {
      "cell_type": "markdown",
      "metadata": {
        "id": "b5gtdg3KaUS5"
      },
      "source": [
        "### Assets"
      ]
    },
    {
      "cell_type": "markdown",
      "metadata": {
        "id": "hHZ8SuZyVr9T"
      },
      "source": [
        "**Pre-transforms training data**"
      ]
    },
    {
      "cell_type": "code",
      "metadata": {
        "id": "B0LAwQFWVXAw"
      },
      "source": [
        "trainingdata.to_csv(path_or_buf=os.path.join(directory, 'training.csv'), \n",
        "                    header=True, index=False, encoding='UTF-8')"
      ],
      "execution_count": 30,
      "outputs": []
    },
    {
      "cell_type": "markdown",
      "metadata": {
        "id": "pd1giNszPudQ"
      },
      "source": [
        "<br>\n",
        "\n",
        "**Sampled**"
      ]
    },
    {
      "cell_type": "code",
      "metadata": {
        "id": "MTpq5rBwWdKN"
      },
      "source": [
        "sampled.to_csv(path_or_buf=os.path.join(directory, 'sampled.csv'), \n",
        "               header=True, index=False, encoding='UTF-8')"
      ],
      "execution_count": 31,
      "outputs": []
    },
    {
      "cell_type": "markdown",
      "metadata": {
        "id": "8_H2VeYO_WJ7"
      },
      "source": [
        "<br>\n",
        "\n",
        "**Determine Binary Maps**"
      ]
    },
    {
      "cell_type": "code",
      "metadata": {
        "id": "pBYbCg0F-reO"
      },
      "source": [
        "dictionary = {}\n",
        "\n",
        "for element in binary_cf:\n",
        "\n",
        "    pairings = pd.concat((training[element], scaled[element]), axis=1, ).drop_duplicates()\n",
        "    pairings.set_axis(labels=['state', element], axis=1, inplace=True)\n",
        "    mapping = pairings.set_index(keys='state', drop=True).to_dict(orient='dict')\n",
        "\n",
        "    dictionary.__setitem__(element, mapping[element])"
      ],
      "execution_count": 32,
      "outputs": []
    },
    {
      "cell_type": "markdown",
      "metadata": {
        "id": "TayWH-Y9LllG"
      },
      "source": [
        "<br>\n",
        "\n",
        "**Pocket**"
      ]
    },
    {
      "cell_type": "code",
      "metadata": {
        "id": "_g-p-SMf3Q0X"
      },
      "source": [
        "pocket = {\n",
        "    'lm': lm,\n",
        "    'ndraws': trace.report.n_draws,\n",
        "    'nchains': trace.nchains,\n",
        "    'xshared': xshared,\n",
        "    'target': target, \n",
        "    'regressors': ','.join(x_training_fields),\n",
        "    'binary_cf_dictionary': dictionary,\n",
        "    'scaler': scaler \n",
        "}"
      ],
      "execution_count": 33,
      "outputs": []
    },
    {
      "cell_type": "markdown",
      "metadata": {
        "id": "qP3HyRbPK8Ly"
      },
      "source": [
        "<br>\n",
        "\n",
        "**Assets**"
      ]
    },
    {
      "cell_type": "code",
      "metadata": {
        "id": "Ro_1dcQrK-IA"
      },
      "source": [
        "class Assets:\n",
        "\n",
        "    def __init__(self, directory: str):\n",
        "        \"\"\"\n",
        "        \n",
        "        \"\"\"\n",
        "\n",
        "        self.directory = directory\n",
        "\n",
        "    def pocket_(self, pocket: dict):\n",
        "\n",
        "        pickled = pickle.dumps(pocket)        \n",
        "        f = open(os.path.join(self.directory, 'pocket.pkl'), mode='wb')        \n",
        "        f.write(pickled)\n",
        "        f.close()\n",
        "\n",
        "    def trace_(self, trace: pymc3.backends.base.MultiTrace):\n",
        "        \"\"\"\n",
        "        Reloading requires the model context, excellent.\n",
        "\n",
        "        :param trace:\n",
        "        \"\"\"\n",
        "\n",
        "        pymc3.backends.ndarray.save_trace(\n",
        "            trace=trace, directory=os.path.join('trace'), overwrite=True)\n",
        "        \n",
        "        tracefiles = []\n",
        "        for base, directories, files in os.walk(os.path.join('trace')):\n",
        "            for file in files:\n",
        "                tracefiles.append(os.path.join(base, file))\n",
        "\n",
        "        with zipfile.ZipFile(file='trace.zip', mode='w', compression=zipfile.ZIP_DEFLATED, allowZip64=False, compresslevel=6) as tr:\n",
        "            for tracefile in tracefiles:\n",
        "                tr.write(tracefile)\n"
      ],
      "execution_count": 34,
      "outputs": []
    },
    {
      "cell_type": "code",
      "metadata": {
        "id": "EHe3LZ8WNikZ"
      },
      "source": [
        "assets = Assets(directory=directory)\n",
        "assets.pocket_(pocket=pocket)\n",
        "assets.trace_(trace=trace)"
      ],
      "execution_count": 35,
      "outputs": []
    },
    {
      "cell_type": "markdown",
      "metadata": {
        "id": "AfmWjZRoDCqH"
      },
      "source": [
        "<br>\n",
        "<br>\n",
        "\n",
        "### ArViz"
      ]
    },
    {
      "cell_type": "markdown",
      "metadata": {
        "id": "p9z_iDqn8y2y"
      },
      "source": [
        "```python\n",
        "arviztrace.to_json(os.path.join(directory, 'arviz.json'))\n",
        "```"
      ]
    },
    {
      "cell_type": "markdown",
      "metadata": {
        "id": "s8QNtiWwY8_X"
      },
      "source": [
        "<br>\n",
        "<br>\n",
        "\n",
        "## End"
      ]
    },
    {
      "cell_type": "code",
      "metadata": {
        "colab": {
          "base_uri": "https://localhost:8080/"
        },
        "id": "OT3V1E2yZALG",
        "outputId": "1673a86b-ace7-4171-ef3b-8fa634601c0f"
      },
      "source": [
        "%%bash\n",
        "\n",
        "TZ=UTC-1 date +\"%Y-%m-%d %T\""
      ],
      "execution_count": 36,
      "outputs": [
        {
          "output_type": "stream",
          "text": [
            "2021-08-05 00:01:31\n"
          ],
          "name": "stdout"
        }
      ]
    }
  ]
}