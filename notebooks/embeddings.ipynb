{
  "nbformat": 4,
  "nbformat_minor": 0,
  "metadata": {
    "colab": {
      "name": "embeddings.ipynb",
      "provenance": [],
      "collapsed_sections": []
    },
    "kernelspec": {
      "display_name": "Python 3",
      "language": "python",
      "name": "python3"
    },
    "language_info": {
      "codemirror_mode": {
        "name": "ipython",
        "version": 3
      },
      "file_extension": ".py",
      "mimetype": "text/x-python",
      "name": "python",
      "nbconvert_exporter": "python",
      "pygments_lexer": "ipython3",
      "version": "3.7.7"
    }
  },
  "cells": [
    {
      "cell_type": "markdown",
      "metadata": {
        "id": "MbwaZ2iDEg7T"
      },
      "source": [
        "## Preliminaries"
      ]
    },
    {
      "cell_type": "code",
      "metadata": {
        "id": "ahXoiVIJbyEA"
      },
      "source": [
        "!rm -rf *.sh"
      ],
      "execution_count": 1,
      "outputs": []
    },
    {
      "cell_type": "markdown",
      "metadata": {
        "id": "6VgMmWuTI5rZ"
      },
      "source": [
        "<br>\n",
        "\n",
        "### Packages"
      ]
    },
    {
      "cell_type": "code",
      "metadata": {
        "id": "IrEiqQ65i4HP"
      },
      "source": [
        "import subprocess"
      ],
      "execution_count": 2,
      "outputs": []
    },
    {
      "cell_type": "code",
      "metadata": {
        "id": "XVwENGGwi8pA"
      },
      "source": [
        "if 'google.colab' in str(get_ipython()):\n",
        "    subprocess.run('wget -q https://raw.githubusercontent.com/briefings/credit/develop/scripts.sh', shell=True)\n",
        "    subprocess.run('chmod u+x scripts.sh', shell=True)\n",
        "    subprocess.run('./scripts.sh', shell=True)"
      ],
      "execution_count": 3,
      "outputs": []
    },
    {
      "cell_type": "markdown",
      "metadata": {
        "id": "nW_fv4KWIPpy"
      },
      "source": [
        "<br>\n",
        "\n",
        "### Paths"
      ]
    },
    {
      "cell_type": "code",
      "metadata": {
        "id": "bPzrA5gLIPpz"
      },
      "source": [
        "import os\n",
        "import pathlib\n",
        "import sys"
      ],
      "execution_count": 4,
      "outputs": []
    },
    {
      "cell_type": "code",
      "metadata": {
        "id": "IAPdlbDFIPp1"
      },
      "source": [
        "if not 'google.colab' in str(get_ipython()):    \n",
        "    notebooks = os.getcwd()\n",
        "    parent = str(pathlib.Path(notebooks).parent)\n",
        "    sys.path.append(parent)\n",
        "else:\n",
        "    parent = os.getcwd()    "
      ],
      "execution_count": 5,
      "outputs": []
    },
    {
      "cell_type": "code",
      "metadata": {
        "id": "aK4tscbPIufW"
      },
      "source": [
        "warehouse = os.path.join(parent, 'warehouse', 'representations')\n",
        "if not os.path.exists(warehouse):\n",
        "    os.makedirs(warehouse)"
      ],
      "execution_count": 6,
      "outputs": []
    },
    {
      "cell_type": "markdown",
      "metadata": {
        "id": "V04o5dwaEVeU"
      },
      "source": [
        "<br>\n",
        "\n",
        "### Libraries"
      ]
    },
    {
      "cell_type": "code",
      "metadata": {
        "id": "lvWNfNACETeQ"
      },
      "source": [
        "import logging\n",
        "import requests\n",
        "import collections\n",
        "import json\n",
        "\n",
        "import os\n",
        "\n",
        "import sklearn.manifold\n",
        "import sklearn.preprocessing\n",
        "\n",
        "import numpy as np\n",
        "import pandas as pd\n",
        "import dask\n",
        "\n",
        "import matplotlib.pyplot as plt\n",
        "import seaborn as sns"
      ],
      "execution_count": 7,
      "outputs": []
    },
    {
      "cell_type": "code",
      "metadata": {
        "colab": {
          "base_uri": "https://localhost:8080/",
          "height": 36
        },
        "id": "2PoaTdFJaY0W",
        "outputId": "a89d4404-00ea-427e-d373-081959918756"
      },
      "source": [
        "dask.__version__"
      ],
      "execution_count": 8,
      "outputs": [
        {
          "output_type": "execute_result",
          "data": {
            "application/vnd.google.colaboratory.intrinsic+json": {
              "type": "string"
            },
            "text/plain": [
              "'2.30.0'"
            ]
          },
          "metadata": {
            "tags": []
          },
          "execution_count": 8
        }
      ]
    },
    {
      "cell_type": "markdown",
      "metadata": {
        "id": "6RvKtZ3eSHCV"
      },
      "source": [
        "<br>\n",
        "\n",
        "### Logging"
      ]
    },
    {
      "cell_type": "code",
      "metadata": {
        "id": "jXsl-Gd6SGB1"
      },
      "source": [
        "logging.basicConfig(level=logging.INFO, format='%(message)s\\n%(asctime)s.%(msecs)03d', datefmt='%Y-%m-%d %H:%M:%S')\n",
        "logger = logging.getLogger(__name__)"
      ],
      "execution_count": 9,
      "outputs": []
    },
    {
      "cell_type": "markdown",
      "metadata": {
        "id": "N3xLPJBkLZqJ"
      },
      "source": [
        "<br>\n",
        "\n",
        "### Custom"
      ]
    },
    {
      "cell_type": "code",
      "metadata": {
        "id": "pdxEwJ3lLcNH"
      },
      "source": [
        "import config\n",
        "\n",
        "import credit.graphics.relational\n",
        "import credit.graphics.settings\n",
        "\n",
        "import credit.src.modelling\n",
        "import credit.src.archetype\n",
        "\n",
        "import credit.embeddings.bijections\n",
        "import credit.embeddings.reference\n",
        "import credit.embeddings.representations"
      ],
      "execution_count": 10,
      "outputs": []
    },
    {
      "cell_type": "markdown",
      "metadata": {
        "id": "sEQChpNKe5GI"
      },
      "source": [
        "<br>\n",
        "\n",
        "Configurations"
      ]
    },
    {
      "cell_type": "code",
      "metadata": {
        "id": "bkNOO8hie8Sh"
      },
      "source": [
        "configurations = config.Config()"
      ],
      "execution_count": 11,
      "outputs": []
    },
    {
      "cell_type": "markdown",
      "metadata": {
        "id": "1cPXr4llLrCF"
      },
      "source": [
        "<br>\n",
        "\n",
        "Graphs"
      ]
    },
    {
      "cell_type": "code",
      "metadata": {
        "id": "leKOS6jxLuX0"
      },
      "source": [
        "relational = credit.graphics.relational.Relational()\n",
        "\n",
        "RelationalGraphLabels = collections.namedtuple(typename='RelationalGraphLabels',\n",
        "                                               field_names=['title', 'xlabel', 'ylabel'])"
      ],
      "execution_count": 12,
      "outputs": []
    },
    {
      "cell_type": "markdown",
      "metadata": {
        "id": "A8m2l5cDMO2f"
      },
      "source": [
        "<br>\n",
        "\n",
        "Settings"
      ]
    },
    {
      "cell_type": "code",
      "metadata": {
        "id": "w_c4_LhkMRVy"
      },
      "source": [
        "settings = credit.graphics.settings.Settings()\n",
        "\n",
        "settings.layout()\n",
        "settings.aesthetics()"
      ],
      "execution_count": 13,
      "outputs": []
    },
    {
      "cell_type": "markdown",
      "metadata": {
        "id": "0E7I7zwJcAAO"
      },
      "source": [
        "<br>\n",
        "<br>\n",
        "\n",
        "## Data"
      ]
    },
    {
      "cell_type": "markdown",
      "metadata": {
        "id": "5RLzWTPLWpxk"
      },
      "source": [
        "Consider dropping these questionable/problematic fields:\n",
        "\n",
        "* ***savings_acc_class*** $\\; \\Rightarrow \\;$ (A61, A62, A63, A64, A65): <br>This might be biased towards wealthy individuals; may discount diligent but poor individuals.\n",
        "\n",
        "* ***curr_emp_class*** $\\; \\Rightarrow \\;$ (A71, A72, A73, A74, A75):<br>This may penalise individuals that have just started a role.\n",
        "\n",
        "* ***curr_res_since***:<br>This may penalise individuals that have just moved into a new dwelling.\n",
        "\n",
        "* ***n_e_credits_this_bank***:<br>This does not account for credits elsewhere.\n",
        "\n",
        "* ***job*** $\\; \\Rightarrow \\;$ (A171, A172, A173, A174):<br>Poorly demarcated.\n",
        "\n",
        "Do not use:\n",
        "* ***sex_and_status*** $\\; \\Rightarrow \\;$ sex **&** A91, A92, A93, A94, A95\n",
        "\n",
        "* ***age_years***\n",
        "\n",
        "<br>\n",
        "\n",
        "ref. http://archive.ics.uci.edu/ml/datasets/Statlog+%28German+Credit+Data%29\n",
        "\n",
        "<br>"
      ]
    },
    {
      "cell_type": "markdown",
      "metadata": {
        "id": "MFg33EnO6ohZ"
      },
      "source": [
        "<br>\n",
        "\n",
        "### Specifications"
      ]
    },
    {
      "cell_type": "code",
      "metadata": {
        "id": "eKfNILBRty3S"
      },
      "source": [
        "try:\n",
        "    req = requests.get(url='https://raw.githubusercontent.com/exhypotheses/credit/develop/warehouse/data/fields.json')\n",
        "    req.raise_for_status()\n",
        "except requests.exceptions.RequestException as err:\n",
        "    raise err"
      ],
      "execution_count": 14,
      "outputs": []
    },
    {
      "cell_type": "code",
      "metadata": {
        "colab": {
          "base_uri": "https://localhost:8080/"
        },
        "id": "dPsnacgtz_33",
        "outputId": "b335c721-de6c-4a9d-ad7f-84000648863e"
      },
      "source": [
        "metadata = json.loads(req.content)\n",
        "specifications = metadata[0]['modelling']\n",
        "specifications"
      ],
      "execution_count": 15,
      "outputs": [
        {
          "output_type": "execute_result",
          "data": {
            "text/plain": [
              "{'binaryFields': ['A192', 'A201', 'female'],\n",
              " 'categoricalFields': [],\n",
              " 'categoryGroups': {'credit_history': ['A30', 'A31', 'A32', 'A33', 'A34'],\n",
              "  'curr_emp_class': ['A71', 'A72', 'A73', 'A74', 'A75'],\n",
              "  'e_chq_acc_status': ['A11', 'A12', 'A13', 'A14'],\n",
              "  'housing': ['A151', 'A152', 'A153'],\n",
              "  'job': ['A171', 'A172', 'A173', 'A174'],\n",
              "  'other_debtors_class': ['A101', 'A102', 'A103'],\n",
              "  'other_i_plans': ['A141', 'A142', 'A143'],\n",
              "  'property': ['A121', 'A122', 'A123', 'A124'],\n",
              "  'purpose': ['A40',\n",
              "   'A41',\n",
              "   'A42',\n",
              "   'A43',\n",
              "   'A44',\n",
              "   'A45',\n",
              "   'A46',\n",
              "   'A47',\n",
              "   'A48',\n",
              "   'A49',\n",
              "   'A410'],\n",
              "  'savings_acc_class': ['A61', 'A62', 'A63', 'A64', 'A65'],\n",
              "  'sex_and_status': ['A91', 'A92', 'A93', 'A94', 'A95']},\n",
              " 'labels': ['reasonable'],\n",
              " 'numeric': ['duration_months',\n",
              "  'credit_amount',\n",
              "  'i_rate_by_disp_inc',\n",
              "  'curr_res_since',\n",
              "  'age_years',\n",
              "  'n_e_credits_this_bank',\n",
              "  'n_dependants'],\n",
              " 'source': 'modelling.csv'}"
            ]
          },
          "metadata": {
            "tags": []
          },
          "execution_count": 15
        }
      ]
    },
    {
      "cell_type": "markdown",
      "metadata": {
        "id": "JwKKqU13eG2-"
      },
      "source": [
        "<br>\n",
        "<br>\n",
        "\n",
        "### Instances"
      ]
    },
    {
      "cell_type": "code",
      "metadata": {
        "id": "IYyc8S0Xb_mp"
      },
      "source": [
        "modelling = credit.src.modelling.Modelling()"
      ],
      "execution_count": 16,
      "outputs": []
    },
    {
      "cell_type": "code",
      "metadata": {
        "id": "gVIUzheOi-Gh"
      },
      "source": [
        "data = modelling.data()"
      ],
      "execution_count": 17,
      "outputs": []
    },
    {
      "cell_type": "markdown",
      "metadata": {
        "id": "mm410dUXabjs"
      },
      "source": [
        "<br>\n",
        "<br>\n",
        "\n",
        "## Embeddings"
      ]
    },
    {
      "cell_type": "code",
      "metadata": {
        "colab": {
          "base_uri": "https://localhost:8080/"
        },
        "id": "CyELXZEw8zz7",
        "outputId": "6d7efd0a-91fa-46c2-b049-b3b0121cd798"
      },
      "source": [
        "groups = specifications['categoryGroups']\n",
        "groups"
      ],
      "execution_count": 18,
      "outputs": [
        {
          "output_type": "execute_result",
          "data": {
            "text/plain": [
              "{'credit_history': ['A30', 'A31', 'A32', 'A33', 'A34'],\n",
              " 'curr_emp_class': ['A71', 'A72', 'A73', 'A74', 'A75'],\n",
              " 'e_chq_acc_status': ['A11', 'A12', 'A13', 'A14'],\n",
              " 'housing': ['A151', 'A152', 'A153'],\n",
              " 'job': ['A171', 'A172', 'A173', 'A174'],\n",
              " 'other_debtors_class': ['A101', 'A102', 'A103'],\n",
              " 'other_i_plans': ['A141', 'A142', 'A143'],\n",
              " 'property': ['A121', 'A122', 'A123', 'A124'],\n",
              " 'purpose': ['A40',\n",
              "  'A41',\n",
              "  'A42',\n",
              "  'A43',\n",
              "  'A44',\n",
              "  'A45',\n",
              "  'A46',\n",
              "  'A47',\n",
              "  'A48',\n",
              "  'A49',\n",
              "  'A410'],\n",
              " 'savings_acc_class': ['A61', 'A62', 'A63', 'A64', 'A65'],\n",
              " 'sex_and_status': ['A91', 'A92', 'A93', 'A94', 'A95']}"
            ]
          },
          "metadata": {
            "tags": []
          },
          "execution_count": 18
        }
      ]
    },
    {
      "cell_type": "markdown",
      "metadata": {
        "id": "dR1BZbe9ScPe"
      },
      "source": [
        "<br>\n",
        "<br>\n",
        "\n",
        "### Representations"
      ]
    },
    {
      "cell_type": "code",
      "metadata": {
        "id": "CkNoBQx_nkay"
      },
      "source": [
        "representations = credit.embeddings.representations.Representations(blob=data).exc(groups=groups)"
      ],
      "execution_count": 19,
      "outputs": []
    },
    {
      "cell_type": "markdown",
      "metadata": {
        "id": "pWTjIkJp-25X"
      },
      "source": [
        "<br>\n",
        "\n",
        "Each $(1 \\times 3)$ tuple in the `representations` variable has a\n",
        "\n",
        "* T-SNE transformations pandas.DataFrame of a category group field,\n",
        "* transformation dictionary of the category group in question, and\n",
        "* category group name.\n",
        "\n",
        "<br>\n",
        "\n",
        "Hence"
      ]
    },
    {
      "cell_type": "code",
      "metadata": {
        "id": "VkkgfOENUF5P"
      },
      "source": [
        "frames = [representations[i][0] for i in np.arange(len(representations))]\n",
        "mappings = {representations[i][2]: representations[i][1] for i in np.arange(len(representations))}"
      ],
      "execution_count": 20,
      "outputs": []
    },
    {
      "cell_type": "markdown",
      "metadata": {
        "id": "5128LfV9sgJQ"
      },
      "source": [
        "<br>\n",
        "<br>\n",
        "\n",
        "### Rebuild Data"
      ]
    },
    {
      "cell_type": "code",
      "metadata": {
        "colab": {
          "base_uri": "https://localhost:8080/"
        },
        "id": "_lmmjMxvSBSw",
        "outputId": "71ea4eef-0faf-4fe6-ad8b-f366ef047a67"
      },
      "source": [
        "frame = pd.concat(frames, axis=1, ignore_index=False)\n",
        "frame.info()"
      ],
      "execution_count": 21,
      "outputs": [
        {
          "output_type": "stream",
          "text": [
            "<class 'pandas.core.frame.DataFrame'>\n",
            "Int64Index: 1000 entries, 0 to 999\n",
            "Data columns (total 22 columns):\n",
            " #   Column                 Non-Null Count  Dtype  \n",
            "---  ------                 --------------  -----  \n",
            " 0   e_chq_acc_status_1     1000 non-null   float64\n",
            " 1   e_chq_acc_status_2     1000 non-null   float64\n",
            " 2   credit_history_1       1000 non-null   float64\n",
            " 3   credit_history_2       1000 non-null   float64\n",
            " 4   purpose_1              1000 non-null   float64\n",
            " 5   purpose_2              1000 non-null   float64\n",
            " 6   savings_acc_class_1    1000 non-null   float64\n",
            " 7   savings_acc_class_2    1000 non-null   float64\n",
            " 8   curr_emp_class_1       1000 non-null   float64\n",
            " 9   curr_emp_class_2       1000 non-null   float64\n",
            " 10  sex_and_status_1       1000 non-null   float64\n",
            " 11  sex_and_status_2       1000 non-null   float64\n",
            " 12  other_debtors_class_1  1000 non-null   float64\n",
            " 13  other_debtors_class_2  1000 non-null   float64\n",
            " 14  property_1             1000 non-null   float64\n",
            " 15  property_2             1000 non-null   float64\n",
            " 16  other_i_plans_1        1000 non-null   float64\n",
            " 17  other_i_plans_2        1000 non-null   float64\n",
            " 18  housing_1              1000 non-null   float64\n",
            " 19  housing_2              1000 non-null   float64\n",
            " 20  job_1                  1000 non-null   float64\n",
            " 21  job_2                  1000 non-null   float64\n",
            "dtypes: float64(22)\n",
            "memory usage: 179.7 KB\n"
          ],
          "name": "stdout"
        }
      ]
    },
    {
      "cell_type": "markdown",
      "metadata": {
        "id": "9W5ljDzSIPqd"
      },
      "source": [
        "<br>\n",
        "\n",
        "Hence, modelling data"
      ]
    },
    {
      "cell_type": "code",
      "metadata": {
        "id": "5MEyk7DmSl9c",
        "colab": {
          "base_uri": "https://localhost:8080/"
        },
        "outputId": "93b585c6-dcef-4cce-9e62-8bb0ae4eb227"
      },
      "source": [
        "binary = data[specifications['binaryFields']]\n",
        "target = data[specifications['labels']]\n",
        "\n",
        "X = pd.concat((frame, binary, target), axis=1, ignore_index=False)\n",
        "X.info()"
      ],
      "execution_count": 22,
      "outputs": [
        {
          "output_type": "stream",
          "text": [
            "<class 'pandas.core.frame.DataFrame'>\n",
            "Int64Index: 1000 entries, 0 to 999\n",
            "Data columns (total 26 columns):\n",
            " #   Column                 Non-Null Count  Dtype  \n",
            "---  ------                 --------------  -----  \n",
            " 0   e_chq_acc_status_1     1000 non-null   float64\n",
            " 1   e_chq_acc_status_2     1000 non-null   float64\n",
            " 2   credit_history_1       1000 non-null   float64\n",
            " 3   credit_history_2       1000 non-null   float64\n",
            " 4   purpose_1              1000 non-null   float64\n",
            " 5   purpose_2              1000 non-null   float64\n",
            " 6   savings_acc_class_1    1000 non-null   float64\n",
            " 7   savings_acc_class_2    1000 non-null   float64\n",
            " 8   curr_emp_class_1       1000 non-null   float64\n",
            " 9   curr_emp_class_2       1000 non-null   float64\n",
            " 10  sex_and_status_1       1000 non-null   float64\n",
            " 11  sex_and_status_2       1000 non-null   float64\n",
            " 12  other_debtors_class_1  1000 non-null   float64\n",
            " 13  other_debtors_class_2  1000 non-null   float64\n",
            " 14  property_1             1000 non-null   float64\n",
            " 15  property_2             1000 non-null   float64\n",
            " 16  other_i_plans_1        1000 non-null   float64\n",
            " 17  other_i_plans_2        1000 non-null   float64\n",
            " 18  housing_1              1000 non-null   float64\n",
            " 19  housing_2              1000 non-null   float64\n",
            " 20  job_1                  1000 non-null   float64\n",
            " 21  job_2                  1000 non-null   float64\n",
            " 22  A192                   1000 non-null   uint8  \n",
            " 23  A201                   1000 non-null   uint8  \n",
            " 24  female                 1000 non-null   int64  \n",
            " 25  reasonable             1000 non-null   int64  \n",
            "dtypes: float64(22), int64(2), uint8(2)\n",
            "memory usage: 197.3 KB\n"
          ],
          "name": "stdout"
        }
      ]
    },
    {
      "cell_type": "markdown",
      "metadata": {
        "id": "rx88l4Ku4adt"
      },
      "source": [
        "<br>\n",
        "\n",
        "and, transformation dictionaries"
      ]
    },
    {
      "cell_type": "code",
      "metadata": {
        "colab": {
          "base_uri": "https://localhost:8080/"
        },
        "id": "EcJlxYiG4e-z",
        "outputId": "758d0f17-c19a-4c17-b22e-bcffa664d3f4"
      },
      "source": [
        "mappings"
      ],
      "execution_count": 23,
      "outputs": [
        {
          "output_type": "execute_result",
          "data": {
            "text/plain": [
              "{'credit_history': {'A30': [1.7317723035812378, 2.9328744411468506],\n",
              "  'A31': [0.0941460132598877, -10.245094299316406],\n",
              "  'A32': [-15.04787826538086, 3.530170202255249],\n",
              "  'A33': [9.147918701171875, 28.008813858032227],\n",
              "  'A34': [21.327930450439453, -4.306393623352051]},\n",
              " 'curr_emp_class': {'A71': [0.4919017553329468, -11.116412162780762],\n",
              "  'A72': [-32.85271453857422, 17.10158920288086],\n",
              "  'A73': [25.878013610839844, -2.6521103382110596],\n",
              "  'A74': [-0.16405132412910461, 26.08067512512207],\n",
              "  'A75': [-22.781719207763672, -20.637964248657227]},\n",
              " 'e_chq_acc_status': {'A11': [-11.912431716918945, -23.267934799194336],\n",
              "  'A12': [-12.372608184814453, 22.762001037597656],\n",
              "  'A13': [-37.72511672973633, -0.169875830411911],\n",
              "  'A14': [19.981571197509766, 0.11874765902757645]},\n",
              " 'housing': {'A151': [26.078109741210938, -6.6943888664245605],\n",
              "  'A152': [-8.295867919921875, -1.7279752492904663],\n",
              "  'A153': [11.389869689941406, 25.550336837768555]},\n",
              " 'job': {'A171': [-0.8940067291259766, 0.5168584585189819],\n",
              "  'A172': [19.32684326171875, -8.586821556091309],\n",
              "  'A173': [-6.938018798828125, -0.3335556387901306],\n",
              "  'A174': [12.222085952758789, 20.73664665222168]},\n",
              " 'other_debtors_class': {'A101': [-1.6637309789657593, 0.028447194024920464],\n",
              "  'A102': [6.584347248077393, 3.7086827754974365],\n",
              "  'A103': [27.169605255126953, -3.6421730518341064]},\n",
              " 'other_i_plans': {'A141': [28.69272232055664, -2.1063790321350098],\n",
              "  'A142': [8.447709083557129, 6.643352031707764],\n",
              "  'A143': [-5.529300212860107, -1.000137448310852]},\n",
              " 'property': {'A121': [-18.917675018310547, -19.791898727416992],\n",
              "  'A122': [-7.603149890899658, 30.892196655273438],\n",
              "  'A123': [30.47464942932129, -9.495644569396973],\n",
              "  'A124': [2.19884991645813, 3.8318614959716797]},\n",
              " 'purpose': {'A40': [-9.415555000305176, -10.981058120727539],\n",
              "  'A41': [-25.215068817138672, 9.419821739196777],\n",
              "  'A410': [2.2949516773223877, 2.332115411758423],\n",
              "  'A42': [5.7263288497924805, 21.490699768066406],\n",
              "  'A43': [10.379899024963379, -0.8268987536430359],\n",
              "  'A44': [-0.8909077644348145, 0.5050445795059204],\n",
              "  'A45': [-0.27757564187049866, -3.6496493816375732],\n",
              "  'A46': [6.258770942687988, -17.37855339050293],\n",
              "  'A48': [2.95827054977417, -1.05742609500885],\n",
              "  'A49': [-6.661773681640625, 7.259378433227539]},\n",
              " 'savings_acc_class': {'A61': [-13.819250106811523, -1.7242214679718018],\n",
              "  'A62': [7.025197505950928, 31.210800170898438],\n",
              "  'A63': [30.318241119384766, 14.869050025939941],\n",
              "  'A64': [6.232163429260254, 5.686539173126221],\n",
              "  'A65': [20.803800582885742, -13.188100814819336]},\n",
              " 'sex_and_status': {'A91': [4.528869152069092, 8.093613624572754],\n",
              "  'A92': [24.797897338867188, -6.430149555206299],\n",
              "  'A93': [-15.017948150634766, -3.745270013809204],\n",
              "  'A94': [2.771022081375122, 33.049888610839844]}}"
            ]
          },
          "metadata": {
            "tags": []
          },
          "execution_count": 23
        }
      ]
    },
    {
      "cell_type": "markdown",
      "metadata": {
        "id": "nwDjrgLe4N6N"
      },
      "source": [
        "<br>\n",
        "<br>\n",
        "\n",
        "### Save"
      ]
    },
    {
      "cell_type": "code",
      "metadata": {
        "id": "clKouIud8dhN"
      },
      "source": [
        "X.to_csv(path_or_buf=os.path.join(warehouse, 'modelling.csv'), \n",
        "         header=True, index=False, encoding='UTF-8')"
      ],
      "execution_count": 24,
      "outputs": []
    },
    {
      "cell_type": "code",
      "metadata": {
        "id": "-l_II6kY9__o"
      },
      "source": [
        "with open(os.path.join(warehouse, 'modelling.json'), 'w') as disk:\n",
        "    json.dump(mappings, disk)"
      ],
      "execution_count": 25,
      "outputs": []
    }
  ]
}