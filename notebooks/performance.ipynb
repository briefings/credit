{
  "nbformat": 4,
  "nbformat_minor": 0,
  "metadata": {
    "colab": {
      "name": "performance.ipynb",
      "provenance": [],
      "collapsed_sections": [
        "6VgMmWuTI5rZ",
        "sbCsV3FbpURa",
        "0an0XEMTvTGi"
      ]
    },
    "kernelspec": {
      "name": "python3",
      "display_name": "Python 3"
    },
    "language_info": {
      "name": "python"
    }
  },
  "cells": [
    {
      "cell_type": "markdown",
      "metadata": {
        "id": "MbwaZ2iDEg7T"
      },
      "source": [
        "## Preliminaries"
      ]
    },
    {
      "cell_type": "markdown",
      "metadata": {
        "id": "6VgMmWuTI5rZ"
      },
      "source": [
        "### Packages & Libraries"
      ]
    },
    {
      "cell_type": "code",
      "metadata": {
        "id": "iQ-txywlKOIz"
      },
      "source": [
        "%%bash\n",
        "\n",
        "rm -rf delta\n",
        "unzip -u -q delta.zip"
      ],
      "execution_count": 1,
      "outputs": []
    },
    {
      "cell_type": "markdown",
      "metadata": {
        "id": "SP7DionDTfMV"
      },
      "source": [
        "<br>\n",
        "\n",
        "**Packages**"
      ]
    },
    {
      "cell_type": "code",
      "metadata": {
        "id": "XbWOt8Y6dmU2"
      },
      "source": [
        "import subprocess"
      ],
      "execution_count": 2,
      "outputs": []
    },
    {
      "cell_type": "code",
      "metadata": {
        "id": "Luoay-bkcDXB"
      },
      "source": [
        "if 'google.colab' in str(get_ipython()):\n",
        "    subprocess.run('chmod u+x scripts.sh', shell=True)\n",
        "    subprocess.run('./scripts.sh', shell=True)\n"
      ],
      "execution_count": 3,
      "outputs": []
    },
    {
      "cell_type": "markdown",
      "metadata": {
        "id": "V04o5dwaEVeU"
      },
      "source": [
        "<br>\n",
        "\n",
        "**Libraries**"
      ]
    },
    {
      "cell_type": "code",
      "metadata": {
        "id": "lvWNfNACETeQ"
      },
      "source": [
        "import logging\n",
        "import collections\n",
        "import pathlib\n",
        "import requests\n",
        "\n",
        "import os\n",
        "\n",
        "import pickle\n",
        "import json\n",
        "import theano\n",
        "\n",
        "import numpy as np\n",
        "import pandas as pd\n",
        "import re\n",
        "import dask\n",
        "\n",
        "import sklearn.decomposition\n",
        "\n",
        "import pymc3\n",
        "import graphviz\n",
        "import arviz as az\n",
        "\n",
        "import matplotlib.pyplot as plt\n",
        "import seaborn as sns"
      ],
      "execution_count": 4,
      "outputs": []
    },
    {
      "cell_type": "code",
      "metadata": {
        "id": "2kgT0pbDE_9-",
        "colab": {
          "base_uri": "https://localhost:8080/",
          "height": 36
        },
        "outputId": "79ff2ba0-a852-48df-e3c3-28947fd22b3c"
      },
      "source": [
        "pymc3.__version__"
      ],
      "execution_count": 5,
      "outputs": [
        {
          "output_type": "execute_result",
          "data": {
            "application/vnd.google.colaboratory.intrinsic+json": {
              "type": "string"
            },
            "text/plain": [
              "'3.11.2'"
            ]
          },
          "metadata": {
            "tags": []
          },
          "execution_count": 5
        }
      ]
    },
    {
      "cell_type": "code",
      "metadata": {
        "colab": {
          "base_uri": "https://localhost:8080/",
          "height": 36
        },
        "id": "3mZEvtG7ShoN",
        "outputId": "1bb1c7c4-349e-472b-be1c-6d1c511fb0fa"
      },
      "source": [
        "dask.__version__"
      ],
      "execution_count": 6,
      "outputs": [
        {
          "output_type": "execute_result",
          "data": {
            "application/vnd.google.colaboratory.intrinsic+json": {
              "type": "string"
            },
            "text/plain": [
              "'2.30.0'"
            ]
          },
          "metadata": {
            "tags": []
          },
          "execution_count": 6
        }
      ]
    },
    {
      "cell_type": "markdown",
      "metadata": {
        "id": "6RvKtZ3eSHCV"
      },
      "source": [
        "<br>\n",
        "\n",
        "### Logging"
      ]
    },
    {
      "cell_type": "code",
      "metadata": {
        "id": "jXsl-Gd6SGB1"
      },
      "source": [
        "logging.basicConfig(level=logging.WARNING, format='%(message)s\\n%(asctime)s.%(msecs)03d', datefmt='%Y-%m-%d %H:%M:%S')\n",
        "logger = logging.getLogger(__name__)"
      ],
      "execution_count": 7,
      "outputs": []
    },
    {
      "cell_type": "markdown",
      "metadata": {
        "id": "N3xLPJBkLZqJ"
      },
      "source": [
        "<br>\n",
        "\n",
        "### Custom"
      ]
    },
    {
      "cell_type": "code",
      "metadata": {
        "id": "pdxEwJ3lLcNH"
      },
      "source": [
        "import delta.error.frequencies\n",
        "import delta.error.derivations\n",
        "\n",
        "import delta.graphing.relational\n",
        "import delta.graphing.settings\n",
        "import delta.graphing.error\n",
        "\n",
        "import delta.algorithms.inspect\n",
        "import delta.algorithms.scale\n",
        "import delta.algorithms.preprocessing\n",
        "\n",
        "import delta.binary.overarching\n",
        "import delta.binary.disaggregates\n",
        "\n",
        "import delta.binary.pamphlet.disaggregates\n",
        "import delta.binary.pamphlet.overarching"
      ],
      "execution_count": 8,
      "outputs": []
    },
    {
      "cell_type": "markdown",
      "metadata": {
        "id": "1cPXr4llLrCF"
      },
      "source": [
        "<br>\n",
        "\n",
        "Graphs"
      ]
    },
    {
      "cell_type": "code",
      "metadata": {
        "id": "leKOS6jxLuX0"
      },
      "source": [
        "relational = delta.graphing.relational.Relational()\n",
        "\n",
        "RelationalGraphLabels = collections.namedtuple(typename='RelationalGraphLabels',\n",
        "                                               field_names=['title', 'xlabel', 'ylabel'])"
      ],
      "execution_count": 9,
      "outputs": []
    },
    {
      "cell_type": "markdown",
      "metadata": {
        "id": "A8m2l5cDMO2f"
      },
      "source": [
        "<br>\n",
        "\n",
        "Settings"
      ]
    },
    {
      "cell_type": "code",
      "metadata": {
        "id": "w_c4_LhkMRVy"
      },
      "source": [
        "settings = delta.graphing.settings.Settings()\n",
        "\n",
        "settings.layout()\n",
        "settings.aesthetics()"
      ],
      "execution_count": 10,
      "outputs": []
    },
    {
      "cell_type": "markdown",
      "metadata": {
        "id": "zB2P6S6Br0XZ"
      },
      "source": [
        "<br>\n",
        "\n",
        "Constants"
      ]
    },
    {
      "cell_type": "code",
      "metadata": {
        "id": "tmRAA4Hrr2wG"
      },
      "source": [
        "SEED = 5\n",
        "np.random.seed(seed=SEED)"
      ],
      "execution_count": 11,
      "outputs": []
    },
    {
      "cell_type": "markdown",
      "metadata": {
        "id": "gEw9oIyqFAnW"
      },
      "source": [
        "<br>\n",
        "\n",
        "Paths"
      ]
    },
    {
      "cell_type": "code",
      "metadata": {
        "id": "Sg7_Mi9qFClY"
      },
      "source": [
        "if not 'google.colab' in str(get_ipython()):    \n",
        "    notebooks = os.getcwd()\n",
        "    parent = str(pathlib.Path(notebooks).parent)\n",
        "    sys.path.append(parent)\n",
        "else:\n",
        "    parent = os.getcwd()  "
      ],
      "execution_count": 12,
      "outputs": []
    },
    {
      "cell_type": "code",
      "metadata": {
        "id": "nBOJCrhZFjeK"
      },
      "source": [
        "directory = os.path.join(parent, 'warehouse', 'evaluations')\n",
        "\n",
        "for string in [os.path.join(directory, 'overarching'), \n",
        "               os.path.join(directory, 'disaggregates', 'frequencies'),\n",
        "               os.path.join(directory, 'disaggregates', 'metrics')]:\n",
        "    if not os.path.exists(string):\n",
        "        os.makedirs(string)"
      ],
      "execution_count": 13,
      "outputs": []
    },
    {
      "cell_type": "markdown",
      "metadata": {
        "id": "sbCsV3FbpURa"
      },
      "source": [
        "<br>\n",
        "<br>\n",
        "\n",
        "## A Priori"
      ]
    },
    {
      "cell_type": "markdown",
      "metadata": {
        "id": "f4x25boJfK71"
      },
      "source": [
        "Preparatory steps of an auditor or a client.  It predominantly involves reading-in objects, e.g., reading-in\n",
        "\n",
        "* The delivered model.\n",
        "* A trace object if dealing with a Bayesian model. \n",
        "* Test data; structured according defined specifications."
      ]
    },
    {
      "cell_type": "markdown",
      "metadata": {
        "id": "AyUfeg0Gyuuq"
      },
      "source": [
        "### Model"
      ]
    },
    {
      "cell_type": "code",
      "metadata": {
        "id": "nOoKaFusVgeY",
        "colab": {
          "base_uri": "https://localhost:8080/"
        },
        "outputId": "72716dbb-1211-4f99-cbf8-6cefe20361a3"
      },
      "source": [
        "with open(os.path.join('data', 'pocket.pkl'), 'rb') as f:\n",
        "            pickled = f.read()\n",
        "            f.close()\n",
        "\n",
        "pocket = pickle.loads(pickled)\n",
        "pocket.keys()"
      ],
      "execution_count": 14,
      "outputs": [
        {
          "output_type": "execute_result",
          "data": {
            "text/plain": [
              "dict_keys(['lm', 'ndraws', 'nchains', 'xshared', 'target', 'regressors', 'binary_cf_dictionary', 'scaler'])"
            ]
          },
          "metadata": {
            "tags": []
          },
          "execution_count": 14
        }
      ]
    },
    {
      "cell_type": "markdown",
      "metadata": {
        "id": "VPCD0RgR01yP"
      },
      "source": [
        "Hence"
      ]
    },
    {
      "cell_type": "code",
      "metadata": {
        "id": "MAULhHy3zHw5"
      },
      "source": [
        "lm = pocket['lm']\n",
        "scaler = pocket['scaler']\n",
        "xshared = pocket['xshared']"
      ],
      "execution_count": 15,
      "outputs": []
    },
    {
      "cell_type": "markdown",
      "metadata": {
        "id": "gNDDNazLy6nY"
      },
      "source": [
        "<br>\n",
        "\n",
        "### Trace"
      ]
    },
    {
      "cell_type": "markdown",
      "metadata": {
        "id": "5Fr4GiyrOPti"
      },
      "source": [
        "A summary of each trace is available via\n",
        "\n",
        "```\n",
        "with lm:\n",
        "    summary = pymc3.summary(data=trace)\n",
        "summary.head()\n",
        "```"
      ]
    },
    {
      "cell_type": "code",
      "metadata": {
        "id": "nF_EAi_k3PS3"
      },
      "source": [
        "with lm:\n",
        "    trace = pymc3.backends.ndarray.load_trace(directory=os.path.join('trace'))"
      ],
      "execution_count": 16,
      "outputs": []
    },
    {
      "cell_type": "markdown",
      "metadata": {
        "id": "-0Qgyy2Yd9pw"
      },
      "source": [
        "<br>\n",
        "\n",
        "### Data"
      ]
    },
    {
      "cell_type": "markdown",
      "metadata": {
        "id": "SdO0Rt_tx56g"
      },
      "source": [
        "Polytomous Variables & Mappings"
      ]
    },
    {
      "cell_type": "code",
      "metadata": {
        "id": "ZnRhq-zk9l2t",
        "colab": {
          "base_uri": "https://localhost:8080/"
        },
        "outputId": "5c574687-f223-4044-d18f-fd87c477677a"
      },
      "source": [
        "f_ = open(file=os.path.join('data', 'mappings.json'), mode='rb')\n",
        "mappings = json.load(f_)\n",
        "f_.close()\n",
        "\n",
        "if bool(mappings):\n",
        "    extraneous = list(mappings.keys())\n",
        "else:\n",
        "    extraneous = []    \n",
        "extraneous"
      ],
      "execution_count": 17,
      "outputs": [
        {
          "output_type": "execute_result",
          "data": {
            "text/plain": [
              "['e_chq_acc_status',\n",
              " 'credit_history',\n",
              " 'purpose',\n",
              " 'savings_acc_class',\n",
              " 'curr_emp_class',\n",
              " 'sex_and_status',\n",
              " 'other_debtors_class',\n",
              " 'property',\n",
              " 'other_i_plans',\n",
              " 'housing',\n",
              " 'job']"
            ]
          },
          "metadata": {
            "tags": []
          },
          "execution_count": 17
        }
      ]
    },
    {
      "cell_type": "markdown",
      "metadata": {
        "id": "r50O7QCcg4YW"
      },
      "source": [
        "<br>\n",
        "\n",
        "Data for Testing"
      ]
    },
    {
      "cell_type": "code",
      "metadata": {
        "id": "mQlAhpXF4EY3"
      },
      "source": [
        "try:\n",
        "    testingdata = pd.read_csv(filepath_or_buffer=os.path.join('data', 'testing.csv'))\n",
        "except OSError as err:\n",
        "    raise Exception(err.strerror) in err"
      ],
      "execution_count": 18,
      "outputs": []
    },
    {
      "cell_type": "markdown",
      "metadata": {
        "id": "s22mbOxKlk2Z"
      },
      "source": [
        "<br>\n",
        "\n",
        "### Parameters"
      ]
    },
    {
      "cell_type": "code",
      "metadata": {
        "id": "i6wnED_RlofL"
      },
      "source": [
        "Parameters = collections.namedtuple(\n",
        "    typename='Parameter', field_names=['ndraws', 'nchains', 'regressors', 'target', 'extraneous'])"
      ],
      "execution_count": 19,
      "outputs": []
    },
    {
      "cell_type": "code",
      "metadata": {
        "id": "KSTYfCtomEcq"
      },
      "source": [
        "parameters = Parameters._make(\n",
        "    (pocket['ndraws'], pocket['nchains'], pocket['regressors'].split(','), pocket['target'], extraneous))"
      ],
      "execution_count": 20,
      "outputs": []
    },
    {
      "cell_type": "markdown",
      "metadata": {
        "id": "0an0XEMTvTGi"
      },
      "source": [
        "<br>\n",
        "<br>\n",
        "\n",
        "## Predict"
      ]
    },
    {
      "cell_type": "markdown",
      "metadata": {
        "id": "nEkpoLi_Kiu9"
      },
      "source": [
        "* scale: inherently maps binary fields\n",
        "* structure\n",
        "  * build `x_testing_` using `regressors`, and `y_testing_` using `target`\n",
        "  * create `xshared`"
      ]
    },
    {
      "cell_type": "markdown",
      "metadata": {
        "id": "k6zsaAou3_Qd"
      },
      "source": [
        "### Test Data"
      ]
    },
    {
      "cell_type": "code",
      "metadata": {
        "id": "Gl02UjHVvuct"
      },
      "source": [
        "presprocessing = delta.algorithms.preprocessing.Preprocessing(parameters=parameters, scaler=scaler)\n",
        "x_testing_, y_testing_ = presprocessing.exc(frame=testingdata)"
      ],
      "execution_count": 21,
      "outputs": []
    },
    {
      "cell_type": "markdown",
      "metadata": {
        "id": "Li46lfMbXPv1"
      },
      "source": [
        "<br>\n",
        "<br>\n",
        "\n",
        "### Posterior Predictive Checks"
      ]
    },
    {
      "cell_type": "markdown",
      "metadata": {
        "id": "QV8iR-TAxtmb"
      },
      "source": [
        "Predictions w.r.t. a test set.  Ascertain\n",
        "\n",
        "* $\\small{ samples \\gt (trace.report.n\\_draws \\times trace.nchains) }$\n",
        "* *assert* $\\:$ $\\small{nsamples > (ndraws * nchains)}$, $\\;$  *'# of samples > ( # of draws * # of chains) is required'*"
      ]
    },
    {
      "cell_type": "code",
      "metadata": {
        "id": "upr7DXGwwhia"
      },
      "source": [
        "nsamples = 1000 + (parameters.ndraws * parameters.nchains)"
      ],
      "execution_count": 22,
      "outputs": []
    },
    {
      "cell_type": "code",
      "metadata": {
        "id": "4ZhImXq6wmKS"
      },
      "source": [
        "with lm:\n",
        "    xshared.set_value(new_value=x_testing_)\n",
        "    ppc = pymc3.sample_posterior_predictive(trace=trace, samples=nsamples, random_seed=SEED, var_names=['y'] + trace.varnames)"
      ],
      "execution_count": null,
      "outputs": []
    },
    {
      "cell_type": "code",
      "metadata": {
        "id": "IP4DQmMcGPYj"
      },
      "source": [
        "plausibilities = ppc['y'].mean(axis=0)\n",
        "uncertainty = ppc['y'].std(axis=0)"
      ],
      "execution_count": 24,
      "outputs": []
    },
    {
      "cell_type": "markdown",
      "metadata": {
        "id": "69Z5iKSbWJvM"
      },
      "source": [
        "<br>\n",
        "<br>\n",
        "\n",
        "## Error"
      ]
    },
    {
      "cell_type": "markdown",
      "metadata": {
        "id": "rGWzSNMg9veU"
      },
      "source": [
        "The series of threshold values for which error matrix values, and their derivatives, are calculated."
      ]
    },
    {
      "cell_type": "code",
      "metadata": {
        "id": "U1V0mi20NuKQ"
      },
      "source": [
        "thresholds = np.arange(start=0.20, stop=0.96, step=0.01)"
      ],
      "execution_count": 25,
      "outputs": []
    },
    {
      "cell_type": "markdown",
      "metadata": {
        "id": "b3xQGgw26wTb"
      },
      "source": [
        "<br>\n",
        "\n",
        "The target field/s"
      ]
    },
    {
      "cell_type": "code",
      "metadata": {
        "id": "498n33WuxNVz"
      },
      "source": [
        "if type(parameters.target) != list:\n",
        "    classes = [parameters.target]\n",
        "else:\n",
        "    classes = parameters.target   "
      ],
      "execution_count": 26,
      "outputs": []
    },
    {
      "cell_type": "markdown",
      "metadata": {
        "id": "CgZct3UXx1Xd"
      },
      "source": [
        "<br>\n",
        "\n",
        "Problem type.  A binary problem will have a single frame of frequencies.  A multi-class problem will have a seperate table of frequencies per class; subsequently the tables are analysed separately & together."
      ]
    },
    {
      "cell_type": "code",
      "metadata": {
        "id": "PNO8Ln8UyTbC"
      },
      "source": [
        "if len(classes) > 1:\n",
        "    binary = False\n",
        "else:\n",
        "    binary = True"
      ],
      "execution_count": 27,
      "outputs": []
    },
    {
      "cell_type": "markdown",
      "metadata": {
        "id": "kTVo5QRpWFHH"
      },
      "source": [
        "<br>\n",
        "\n",
        "Properties"
      ]
    },
    {
      "cell_type": "code",
      "metadata": {
        "id": "3UrAbtQ_wQ9k"
      },
      "source": [
        "Properties = collections.namedtuple(\n",
        "    typename='Properties', field_names=['thresholds', 'classes', 'target'])\n",
        "properties = Properties._make((thresholds, classes, parameters.target))"
      ],
      "execution_count": 28,
      "outputs": []
    },
    {
      "cell_type": "markdown",
      "metadata": {
        "id": "S4pyOAJalGKz"
      },
      "source": [
        "<br>\n",
        "<br>\n",
        "\n",
        "### Overarching"
      ]
    },
    {
      "cell_type": "code",
      "metadata": {
        "id": "koXLuKHpPP1h"
      },
      "source": [
        "overarching = delta.binary.overarching.Overarching(properties=properties)"
      ],
      "execution_count": 29,
      "outputs": []
    },
    {
      "cell_type": "code",
      "metadata": {
        "colab": {
          "base_uri": "https://localhost:8080/"
        },
        "id": "jwPiFfRKPbGF",
        "outputId": "36d139bd-b408-4a13-ed16-dc89aaf7cbb4"
      },
      "source": [
        "T = overarching.overarching(plausibilities=plausibilities, truth=y_testing_)\n",
        "\n",
        "logger.warning('T: %s', T.shape)\n",
        "T.dropna(axis=0, how='any', inplace=True)\n",
        "T.reset_index(drop=True, inplace=True)\n",
        "logger.warning('\\nT: %s', T.shape)"
      ],
      "execution_count": 30,
      "outputs": [
        {
          "output_type": "stream",
          "text": [
            "T: (76, 13)\n",
            "2021-07-19 01:59:21.622\n",
            "\n",
            "T: (76, 13)\n",
            "2021-07-19 01:59:21.633\n"
          ],
          "name": "stderr"
        }
      ]
    },
    {
      "cell_type": "code",
      "metadata": {
        "colab": {
          "base_uri": "https://localhost:8080/",
          "height": 206
        },
        "id": "8-msr5X_Q3CV",
        "outputId": "3f495412-64a1-4571-8c7c-2c809fada4af"
      },
      "source": [
        "T.tail()"
      ],
      "execution_count": 31,
      "outputs": [
        {
          "output_type": "execute_result",
          "data": {
            "text/html": [
              "<div>\n",
              "<style scoped>\n",
              "    .dataframe tbody tr th:only-of-type {\n",
              "        vertical-align: middle;\n",
              "    }\n",
              "\n",
              "    .dataframe tbody tr th {\n",
              "        vertical-align: top;\n",
              "    }\n",
              "\n",
              "    .dataframe thead th {\n",
              "        text-align: right;\n",
              "    }\n",
              "</style>\n",
              "<table border=\"1\" class=\"dataframe\">\n",
              "  <thead>\n",
              "    <tr style=\"text-align: right;\">\n",
              "      <th></th>\n",
              "      <th>threshold</th>\n",
              "      <th>tp</th>\n",
              "      <th>fn</th>\n",
              "      <th>tn</th>\n",
              "      <th>fp</th>\n",
              "      <th>precision</th>\n",
              "      <th>sensitivity</th>\n",
              "      <th>specificity</th>\n",
              "      <th>fscore</th>\n",
              "      <th>youden</th>\n",
              "      <th>matthews</th>\n",
              "      <th>balanced_accuracy</th>\n",
              "      <th>standard_accuracy</th>\n",
              "    </tr>\n",
              "  </thead>\n",
              "  <tbody>\n",
              "    <tr>\n",
              "      <th>71</th>\n",
              "      <td>0.91</td>\n",
              "      <td>47</td>\n",
              "      <td>198</td>\n",
              "      <td>103</td>\n",
              "      <td>2</td>\n",
              "      <td>0.959184</td>\n",
              "      <td>0.191837</td>\n",
              "      <td>0.980952</td>\n",
              "      <td>0.319728</td>\n",
              "      <td>0.172789</td>\n",
              "      <td>0.228199</td>\n",
              "      <td>0.586395</td>\n",
              "      <td>0.7</td>\n",
              "    </tr>\n",
              "    <tr>\n",
              "      <th>72</th>\n",
              "      <td>0.92</td>\n",
              "      <td>39</td>\n",
              "      <td>206</td>\n",
              "      <td>104</td>\n",
              "      <td>1</td>\n",
              "      <td>0.975000</td>\n",
              "      <td>0.159184</td>\n",
              "      <td>0.990476</td>\n",
              "      <td>0.273684</td>\n",
              "      <td>0.149660</td>\n",
              "      <td>0.215562</td>\n",
              "      <td>0.574830</td>\n",
              "      <td>0.7</td>\n",
              "    </tr>\n",
              "    <tr>\n",
              "      <th>73</th>\n",
              "      <td>0.93</td>\n",
              "      <td>30</td>\n",
              "      <td>215</td>\n",
              "      <td>104</td>\n",
              "      <td>1</td>\n",
              "      <td>0.967742</td>\n",
              "      <td>0.122449</td>\n",
              "      <td>0.990476</td>\n",
              "      <td>0.217391</td>\n",
              "      <td>0.112925</td>\n",
              "      <td>0.182135</td>\n",
              "      <td>0.556463</td>\n",
              "      <td>0.7</td>\n",
              "    </tr>\n",
              "    <tr>\n",
              "      <th>74</th>\n",
              "      <td>0.94</td>\n",
              "      <td>25</td>\n",
              "      <td>220</td>\n",
              "      <td>105</td>\n",
              "      <td>0</td>\n",
              "      <td>1.000000</td>\n",
              "      <td>0.102041</td>\n",
              "      <td>1.000000</td>\n",
              "      <td>0.185185</td>\n",
              "      <td>0.102041</td>\n",
              "      <td>0.181568</td>\n",
              "      <td>0.551020</td>\n",
              "      <td>0.7</td>\n",
              "    </tr>\n",
              "    <tr>\n",
              "      <th>75</th>\n",
              "      <td>0.95</td>\n",
              "      <td>20</td>\n",
              "      <td>225</td>\n",
              "      <td>105</td>\n",
              "      <td>0</td>\n",
              "      <td>1.000000</td>\n",
              "      <td>0.081633</td>\n",
              "      <td>1.000000</td>\n",
              "      <td>0.150943</td>\n",
              "      <td>0.081633</td>\n",
              "      <td>0.161165</td>\n",
              "      <td>0.540816</td>\n",
              "      <td>0.7</td>\n",
              "    </tr>\n",
              "  </tbody>\n",
              "</table>\n",
              "</div>"
            ],
            "text/plain": [
              "    threshold  tp   fn  ...  matthews  balanced_accuracy  standard_accuracy\n",
              "71       0.91  47  198  ...  0.228199           0.586395                0.7\n",
              "72       0.92  39  206  ...  0.215562           0.574830                0.7\n",
              "73       0.93  30  215  ...  0.182135           0.556463                0.7\n",
              "74       0.94  25  220  ...  0.181568           0.551020                0.7\n",
              "75       0.95  20  225  ...  0.161165           0.540816                0.7\n",
              "\n",
              "[5 rows x 13 columns]"
            ]
          },
          "metadata": {
            "tags": []
          },
          "execution_count": 31
        }
      ]
    },
    {
      "cell_type": "markdown",
      "metadata": {
        "id": "3fG3gIID_S-W"
      },
      "source": [
        "<br>\n",
        "<br>\n",
        "\n",
        "#### Optimal Threshold Strategy"
      ]
    },
    {
      "cell_type": "markdown",
      "metadata": {
        "id": "JmoWKLEGKUD7"
      },
      "source": [
        "The index of the optimal $\\:T\\:$ instance w.r.t. the maximum Matthews Correlation Coefficient"
      ]
    },
    {
      "cell_type": "code",
      "metadata": {
        "id": "i1L2vEOyKDtt"
      },
      "source": [
        "index = T.matthews.idxmax()\n",
        "estimates = T.iloc[index,:]\n",
        "optimal = T.iloc[index, :].threshold"
      ],
      "execution_count": 32,
      "outputs": []
    },
    {
      "cell_type": "markdown",
      "metadata": {
        "id": "E6j3BWUECFEG"
      },
      "source": [
        "<br>\n",
        "\n",
        "Graph"
      ]
    },
    {
      "cell_type": "code",
      "metadata": {
        "colab": {
          "base_uri": "https://localhost:8080/",
          "height": 338
        },
        "id": "p6J5zCfU3rWm",
        "outputId": "5eca750d-5da7-437b-cbd3-2b6745652468"
      },
      "source": [
        "graph = delta.graphing.error.Error(blob=T, which='dependent')\n",
        "graph.exc(optimal=optimal)"
      ],
      "execution_count": 33,
      "outputs": [
        {
          "output_type": "display_data",
          "data": {
            "image/png": "[encoded data removed]",
            "text/plain": [
              "<Figure size 400x310 with 1 Axes>"
            ]
          },
          "metadata": {
            "tags": []
          }
        }
      ]
    },
    {
      "cell_type": "code",
      "metadata": {
        "colab": {
          "base_uri": "https://localhost:8080/",
          "height": 338
        },
        "id": "Kt-nfpF9CuGN",
        "outputId": "245e25f0-3c91-42f6-f476-09058c2314fb"
      },
      "source": [
        "graph = delta.graphing.error.Error(blob=T, which='independent')\n",
        "graph.exc(optimal=optimal)"
      ],
      "execution_count": 34,
      "outputs": [
        {
          "output_type": "display_data",
          "data": {
            "image/png": "[encoded data removed]",
            "text/plain": [
              "<Figure size 400x310 with 1 Axes>"
            ]
          },
          "metadata": {
            "tags": []
          }
        }
      ]
    },
    {
      "cell_type": "markdown",
      "metadata": {
        "id": "2M-MkE7KMAXy"
      },
      "source": [
        "<br>\n",
        "<br>\n",
        "\n",
        "### Disaggregated"
      ]
    },
    {
      "cell_type": "markdown",
      "metadata": {
        "id": "mRk7SuRXVlVK"
      },
      "source": [
        "The reference data set, which includes the\n",
        "\n",
        "* original forms of embedded polytomous categorical fields\n",
        "* classification plausibilities\n",
        "* field of estimated/assigned class w.r.t. plausibilities and a threshold"
      ]
    },
    {
      "cell_type": "code",
      "metadata": {
        "id": "6VcyTUp6XiYg"
      },
      "source": [
        "reference = testingdata.copy()\n",
        "reference.loc[:, 'estimated'] = (plausibilities > optimal).astype(int)\n",
        "reference.loc[:, 'plausibilities'] = plausibilities"
      ],
      "execution_count": 35,
      "outputs": []
    },
    {
      "cell_type": "markdown",
      "metadata": {
        "id": "FWvWIKocmkhv"
      },
      "source": [
        "<br>\n",
        "\n",
        "Hence"
      ]
    },
    {
      "cell_type": "code",
      "metadata": {
        "id": "5T6nETwNbz5Y"
      },
      "source": [
        "fields = ['female', 'A192', 'credit_history']\n",
        "disaggregates = delta.binary.disaggregates.Disaggregates(\n",
        "    fields=fields, properties=properties)"
      ],
      "execution_count": 36,
      "outputs": []
    },
    {
      "cell_type": "code",
      "metadata": {
        "colab": {
          "base_uri": "https://localhost:8080/"
        },
        "id": "cfzxS22E0KbU",
        "outputId": "e260c26e-cda6-45b9-e752-386fa41fc77b"
      },
      "source": [
        "J = disaggregates.exc(blob=reference)\n",
        "\n",
        "logger.warning('J: %s', J.shape)\n",
        "J.dropna(axis=0, how='any', inplace=True)\n",
        "J.reset_index(drop=True, inplace=True)\n",
        "logger.warning('\\nJ: %s', J.shape)"
      ],
      "execution_count": 37,
      "outputs": [
        {
          "output_type": "stream",
          "text": [
            "J: (684, 15)\n",
            "2021-07-19 01:59:40.760\n",
            "\n",
            "J: (652, 15)\n",
            "2021-07-19 01:59:40.770\n"
          ],
          "name": "stderr"
        }
      ]
    },
    {
      "cell_type": "code",
      "metadata": {
        "colab": {
          "base_uri": "https://localhost:8080/",
          "height": 206
        },
        "id": "lKQlGeuBkzmN",
        "outputId": "86ad11d4-f16b-4263-8217-1e8fb38a6ed9"
      },
      "source": [
        "J.tail()"
      ],
      "execution_count": 38,
      "outputs": [
        {
          "output_type": "execute_result",
          "data": {
            "text/html": [
              "<div>\n",
              "<style scoped>\n",
              "    .dataframe tbody tr th:only-of-type {\n",
              "        vertical-align: middle;\n",
              "    }\n",
              "\n",
              "    .dataframe tbody tr th {\n",
              "        vertical-align: top;\n",
              "    }\n",
              "\n",
              "    .dataframe thead th {\n",
              "        text-align: right;\n",
              "    }\n",
              "</style>\n",
              "<table border=\"1\" class=\"dataframe\">\n",
              "  <thead>\n",
              "    <tr style=\"text-align: right;\">\n",
              "      <th></th>\n",
              "      <th>threshold</th>\n",
              "      <th>tp</th>\n",
              "      <th>fn</th>\n",
              "      <th>tn</th>\n",
              "      <th>fp</th>\n",
              "      <th>precision</th>\n",
              "      <th>sensitivity</th>\n",
              "      <th>specificity</th>\n",
              "      <th>fscore</th>\n",
              "      <th>youden</th>\n",
              "      <th>matthews</th>\n",
              "      <th>balanced_accuracy</th>\n",
              "      <th>standard_accuracy</th>\n",
              "      <th>field</th>\n",
              "      <th>element</th>\n",
              "    </tr>\n",
              "  </thead>\n",
              "  <tbody>\n",
              "    <tr>\n",
              "      <th>647</th>\n",
              "      <td>0.91</td>\n",
              "      <td>2</td>\n",
              "      <td>22</td>\n",
              "      <td>9</td>\n",
              "      <td>0</td>\n",
              "      <td>1.0</td>\n",
              "      <td>0.083333</td>\n",
              "      <td>1.0</td>\n",
              "      <td>0.153846</td>\n",
              "      <td>0.083333</td>\n",
              "      <td>0.155543</td>\n",
              "      <td>0.541667</td>\n",
              "      <td>0.727273</td>\n",
              "      <td>credit_history</td>\n",
              "      <td>A33</td>\n",
              "    </tr>\n",
              "    <tr>\n",
              "      <th>648</th>\n",
              "      <td>0.92</td>\n",
              "      <td>1</td>\n",
              "      <td>23</td>\n",
              "      <td>9</td>\n",
              "      <td>0</td>\n",
              "      <td>1.0</td>\n",
              "      <td>0.041667</td>\n",
              "      <td>1.0</td>\n",
              "      <td>0.080000</td>\n",
              "      <td>0.041667</td>\n",
              "      <td>0.108253</td>\n",
              "      <td>0.520833</td>\n",
              "      <td>0.727273</td>\n",
              "      <td>credit_history</td>\n",
              "      <td>A33</td>\n",
              "    </tr>\n",
              "    <tr>\n",
              "      <th>649</th>\n",
              "      <td>0.93</td>\n",
              "      <td>1</td>\n",
              "      <td>23</td>\n",
              "      <td>9</td>\n",
              "      <td>0</td>\n",
              "      <td>1.0</td>\n",
              "      <td>0.041667</td>\n",
              "      <td>1.0</td>\n",
              "      <td>0.080000</td>\n",
              "      <td>0.041667</td>\n",
              "      <td>0.108253</td>\n",
              "      <td>0.520833</td>\n",
              "      <td>0.727273</td>\n",
              "      <td>credit_history</td>\n",
              "      <td>A33</td>\n",
              "    </tr>\n",
              "    <tr>\n",
              "      <th>650</th>\n",
              "      <td>0.94</td>\n",
              "      <td>1</td>\n",
              "      <td>23</td>\n",
              "      <td>9</td>\n",
              "      <td>0</td>\n",
              "      <td>1.0</td>\n",
              "      <td>0.041667</td>\n",
              "      <td>1.0</td>\n",
              "      <td>0.080000</td>\n",
              "      <td>0.041667</td>\n",
              "      <td>0.108253</td>\n",
              "      <td>0.520833</td>\n",
              "      <td>0.727273</td>\n",
              "      <td>credit_history</td>\n",
              "      <td>A33</td>\n",
              "    </tr>\n",
              "    <tr>\n",
              "      <th>651</th>\n",
              "      <td>0.95</td>\n",
              "      <td>1</td>\n",
              "      <td>23</td>\n",
              "      <td>9</td>\n",
              "      <td>0</td>\n",
              "      <td>1.0</td>\n",
              "      <td>0.041667</td>\n",
              "      <td>1.0</td>\n",
              "      <td>0.080000</td>\n",
              "      <td>0.041667</td>\n",
              "      <td>0.108253</td>\n",
              "      <td>0.520833</td>\n",
              "      <td>0.727273</td>\n",
              "      <td>credit_history</td>\n",
              "      <td>A33</td>\n",
              "    </tr>\n",
              "  </tbody>\n",
              "</table>\n",
              "</div>"
            ],
            "text/plain": [
              "     threshold  tp  fn  ...  standard_accuracy           field  element\n",
              "647       0.91   2  22  ...           0.727273  credit_history      A33\n",
              "648       0.92   1  23  ...           0.727273  credit_history      A33\n",
              "649       0.93   1  23  ...           0.727273  credit_history      A33\n",
              "650       0.94   1  23  ...           0.727273  credit_history      A33\n",
              "651       0.95   1  23  ...           0.727273  credit_history      A33\n",
              "\n",
              "[5 rows x 15 columns]"
            ]
          },
          "metadata": {
            "tags": []
          },
          "execution_count": 38
        }
      ]
    },
    {
      "cell_type": "markdown",
      "metadata": {
        "id": "zEry60-d2qUB"
      },
      "source": [
        "<br>\n",
        "<br>\n",
        "<br>\n",
        "\n",
        "## Graphing"
      ]
    },
    {
      "cell_type": "markdown",
      "metadata": {
        "id": "ATmwkU7yYms5"
      },
      "source": [
        "The definitions of the categorical fields"
      ]
    },
    {
      "cell_type": "code",
      "metadata": {
        "id": "qX5vre9tTQAx"
      },
      "source": [
        "with open(os.path.join('data', 'definitionsOfCategories.json'), 'r') as blob:\n",
        "    definitions = json.load(blob)"
      ],
      "execution_count": 39,
      "outputs": []
    },
    {
      "cell_type": "markdown",
      "metadata": {
        "id": "WWnY_oWuYsqO"
      },
      "source": [
        "<br>\n",
        "\n",
        "Arguments"
      ]
    },
    {
      "cell_type": "code",
      "metadata": {
        "id": "-yniRxmYnop5"
      },
      "source": [
        "Arguments = collections.namedtuple(typename='Arguments', field_names=['optimal', 'definitions', 'directory'])"
      ],
      "execution_count": 40,
      "outputs": []
    },
    {
      "cell_type": "markdown",
      "metadata": {
        "id": "vk5OOSDvodSU"
      },
      "source": [
        "<br>\n",
        "\n",
        "### Overarching"
      ]
    },
    {
      "cell_type": "code",
      "metadata": {
        "id": "7PrV_5iLwdLv"
      },
      "source": [
        "arguments = Arguments._make((optimal, definitions, os.path.join(directory, 'overarching')))"
      ],
      "execution_count": 41,
      "outputs": []
    },
    {
      "cell_type": "code",
      "metadata": {
        "id": "T37kEsmXnVN3"
      },
      "source": [
        "pamphlet = delta.binary.pamphlet.overarching.Overarching(blob=T, arguments=arguments)\n",
        "pamphlet.exc()"
      ],
      "execution_count": 42,
      "outputs": []
    },
    {
      "cell_type": "markdown",
      "metadata": {
        "id": "T6yWVRJ9bUlf"
      },
      "source": [
        "<br>\n",
        "\n",
        "### Disaggregates"
      ]
    },
    {
      "cell_type": "code",
      "metadata": {
        "id": "wBbgybdrVohv"
      },
      "source": [
        "arguments = Arguments._make((optimal, definitions, os.path.join(directory, 'disaggregates')))"
      ],
      "execution_count": 43,
      "outputs": []
    },
    {
      "cell_type": "code",
      "metadata": {
        "id": "Dt4QNUQ_pIyt"
      },
      "source": [
        "for field in fields:\n",
        "\n",
        "    blob = J[J['field'] == field]\n",
        "    elements = blob['element'].unique()\n",
        "\n",
        "    pamphlet = delta.binary.pamphlet.disaggregates.Disaggregates(\n",
        "        field=field, elements=elements, blob=blob, arguments=arguments)\n",
        "    \n",
        "    pamphlet.exc()"
      ],
      "execution_count": 44,
      "outputs": []
    },
    {
      "cell_type": "markdown",
      "metadata": {
        "id": "Sd_H_IERSlS0"
      },
      "source": [
        "<br>\n",
        "<br>\n",
        "\n",
        "## Persist"
      ]
    },
    {
      "cell_type": "code",
      "metadata": {
        "id": "OrfqBz20SkKd"
      },
      "source": [
        "T.to_csv(path_or_buf=os.path.join(directory, 'overarching', 'overarching.csv'), header=True, \n",
        "                   index=False, encoding='UTF-8')"
      ],
      "execution_count": 45,
      "outputs": []
    },
    {
      "cell_type": "code",
      "metadata": {
        "id": "wbqY2Z25SCLW"
      },
      "source": [
        "J.to_csv(path_or_buf=os.path.join(directory, 'disaggregates', 'disaggregates.csv'), header=True, \n",
        "                     index=False, encoding='UTF-8')"
      ],
      "execution_count": 46,
      "outputs": []
    },
    {
      "cell_type": "markdown",
      "metadata": {
        "id": "Y3xQZv3l3K6l"
      },
      "source": [
        "<br>\n",
        "<br>\n",
        "\n",
        "## Aside"
      ]
    },
    {
      "cell_type": "code",
      "metadata": {
        "colab": {
          "base_uri": "https://localhost:8080/"
        },
        "id": "_NIDLdfqzyIG",
        "outputId": "02c7aa5f-aecb-40c8-b162-0ecb2f347914"
      },
      "source": [
        "!rm -rf evaluations.zip\n",
        "!zip -r evaluations.zip warehouse/evaluations/"
      ],
      "execution_count": 47,
      "outputs": [
        {
          "output_type": "stream",
          "text": [
            "  adding: warehouse/evaluations/ (stored 0%)\n",
            "  adding: warehouse/evaluations/disaggregates/ (stored 0%)\n",
            "  adding: warehouse/evaluations/disaggregates/metrics/ (stored 0%)\n",
            "  adding: warehouse/evaluations/disaggregates/metrics/female.json (deflated 86%)\n",
            "  adding: warehouse/evaluations/disaggregates/metrics/credit_history.json (deflated 91%)\n",
            "  adding: warehouse/evaluations/disaggregates/metrics/A192.json (deflated 86%)\n",
            "  adding: warehouse/evaluations/disaggregates/disaggregates.csv (deflated 82%)\n",
            "  adding: warehouse/evaluations/disaggregates/frequencies/ (stored 0%)\n",
            "  adding: warehouse/evaluations/disaggregates/frequencies/female.json (deflated 87%)\n",
            "  adding: warehouse/evaluations/disaggregates/frequencies/credit_history.json (deflated 90%)\n",
            "  adding: warehouse/evaluations/disaggregates/frequencies/A192.json (deflated 87%)\n",
            "  adding: warehouse/evaluations/overarching/ (stored 0%)\n",
            "  adding: warehouse/evaluations/overarching/overarching.csv (deflated 69%)\n",
            "  adding: warehouse/evaluations/overarching/frequencies.json (deflated 87%)\n",
            "  adding: warehouse/evaluations/overarching/metrics.json (deflated 84%)\n"
          ],
          "name": "stdout"
        }
      ]
    }
  ]
}