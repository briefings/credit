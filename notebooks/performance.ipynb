{
  "nbformat": 4,
  "nbformat_minor": 0,
  "metadata": {
    "colab": {
      "name": "performance.ipynb",
      "provenance": [],
      "collapsed_sections": [],
      "toc_visible": true
    },
    "kernelspec": {
      "name": "python3",
      "display_name": "Python 3"
    },
    "language_info": {
      "name": "python"
    }
  },
  "cells": [
    {
      "cell_type": "markdown",
      "metadata": {
        "id": "KUX84up7XEY2"
      },
      "source": [
        "This notebook evaluates the performance of bayesian classification models.  The place from whence the \n",
        "\n",
        "<ul>\n",
        "    <li>pickle of a developed model, and supplementary parameters <span style=\"color:darkolivegreen;font-weight: bold\">[pocket.pkl]</span></li>\n",
        "    <li>testing data [<b>testing.csv</b>]</li>\n",
        "    <li>model trace [<b>trace.zip</b>]</li>\n",
        "    <li>definitions of any categorical fields [<b>definitionsOfCategories.json</b>]</li>\n",
        "    <li>mappings of polytomous categorical fields and their t-SNE embedding transforms [<b>mappings.json</b>]</li>\n",
        "</ul>\n",
        "\n",
        "are downloaded is outlined in a bash script file, which is `scripts.sh` herein.\n",
        "\n",
        "<br>\n",
        "\n",
        "One final input, the **fields of interest for disaggregated performance evaluation**"
      ]
    },
    {
      "cell_type": "code",
      "metadata": {
        "id": "tteWFJd8XHGe"
      },
      "source": [
        "fields = ['female', 'housing', 'savings_acc_class', 'e_chq_acc_status']"
      ],
      "execution_count": 1,
      "outputs": []
    },
    {
      "cell_type": "markdown",
      "metadata": {
        "id": "MbwaZ2iDEg7T"
      },
      "source": [
        "<br>\n",
        "<br>\n",
        "\n",
        "## Preliminaries"
      ]
    },
    {
      "cell_type": "markdown",
      "metadata": {
        "id": "6VgMmWuTI5rZ"
      },
      "source": [
        "### Packages & Libraries"
      ]
    },
    {
      "cell_type": "code",
      "metadata": {
        "id": "iQ-txywlKOIz"
      },
      "source": [
        "%%bash\n",
        "\n",
        "rm -rf delta\n",
        "unzip -u -q delta.zip"
      ],
      "execution_count": 2,
      "outputs": []
    },
    {
      "cell_type": "markdown",
      "metadata": {
        "id": "SP7DionDTfMV"
      },
      "source": [
        "<br>\n",
        "\n",
        "**Packages**"
      ]
    },
    {
      "cell_type": "code",
      "metadata": {
        "id": "XbWOt8Y6dmU2"
      },
      "source": [
        "import subprocess"
      ],
      "execution_count": 3,
      "outputs": []
    },
    {
      "cell_type": "code",
      "metadata": {
        "id": "Luoay-bkcDXB"
      },
      "source": [
        "if 'google.colab' in str(get_ipython()):\n",
        "    subprocess.run('chmod u+x scripts.sh', shell=True)\n",
        "    subprocess.run('./scripts.sh', shell=True)\n"
      ],
      "execution_count": 4,
      "outputs": []
    },
    {
      "cell_type": "markdown",
      "metadata": {
        "id": "V04o5dwaEVeU"
      },
      "source": [
        "<br>\n",
        "\n",
        "**Libraries**"
      ]
    },
    {
      "cell_type": "code",
      "metadata": {
        "id": "lvWNfNACETeQ"
      },
      "source": [
        "import logging\n",
        "import collections\n",
        "import pathlib\n",
        "import requests\n",
        "\n",
        "import os\n",
        "import sys\n",
        "import json\n",
        "import codecs\n",
        "\n",
        "import pickle\n",
        "import theano\n",
        "\n",
        "import numpy as np\n",
        "import pandas as pd\n",
        "import scipy.optimize\n",
        "import re\n",
        "import dask\n",
        "\n",
        "import sklearn.decomposition\n",
        "import sklearn.metrics\n",
        "\n",
        "import pymc3\n",
        "import graphviz\n",
        "import arviz as az\n",
        "\n",
        "import matplotlib.pyplot as plt\n",
        "import seaborn as sns"
      ],
      "execution_count": 5,
      "outputs": []
    },
    {
      "cell_type": "code",
      "metadata": {
        "id": "2kgT0pbDE_9-",
        "colab": {
          "base_uri": "https://localhost:8080/",
          "height": 36
        },
        "outputId": "8288b005-699d-411d-a024-65f625769699"
      },
      "source": [
        "pymc3.__version__"
      ],
      "execution_count": 6,
      "outputs": [
        {
          "output_type": "execute_result",
          "data": {
            "application/vnd.google.colaboratory.intrinsic+json": {
              "type": "string"
            },
            "text/plain": [
              "'3.11.2'"
            ]
          },
          "metadata": {
            "tags": []
          },
          "execution_count": 6
        }
      ]
    },
    {
      "cell_type": "code",
      "metadata": {
        "id": "3mZEvtG7ShoN",
        "colab": {
          "base_uri": "https://localhost:8080/",
          "height": 36
        },
        "outputId": "6d61d4bb-e706-4e86-8e1b-4e4b3c92129b"
      },
      "source": [
        "dask.__version__"
      ],
      "execution_count": 7,
      "outputs": [
        {
          "output_type": "execute_result",
          "data": {
            "application/vnd.google.colaboratory.intrinsic+json": {
              "type": "string"
            },
            "text/plain": [
              "'2.30.0'"
            ]
          },
          "metadata": {
            "tags": []
          },
          "execution_count": 7
        }
      ]
    },
    {
      "cell_type": "markdown",
      "metadata": {
        "id": "6RvKtZ3eSHCV"
      },
      "source": [
        "<br>\n",
        "\n",
        "### Logging"
      ]
    },
    {
      "cell_type": "code",
      "metadata": {
        "id": "jXsl-Gd6SGB1"
      },
      "source": [
        "logging.basicConfig(level=logging.WARNING, format='%(message)s\\n%(asctime)s.%(msecs)03d', datefmt='%Y-%m-%d %H:%M:%S')\n",
        "logger = logging.getLogger(__name__)"
      ],
      "execution_count": 8,
      "outputs": []
    },
    {
      "cell_type": "markdown",
      "metadata": {
        "id": "N3xLPJBkLZqJ"
      },
      "source": [
        "<br>\n",
        "\n",
        "### Custom"
      ]
    },
    {
      "cell_type": "code",
      "metadata": {
        "id": "UWdjUAUv_Ubn"
      },
      "source": [
        "import delta.modules"
      ],
      "execution_count": 9,
      "outputs": []
    },
    {
      "cell_type": "code",
      "metadata": {
        "id": "OnweN2HC_eXA"
      },
      "source": [
        "delta.modules.Modules().exc()"
      ],
      "execution_count": 10,
      "outputs": []
    },
    {
      "cell_type": "markdown",
      "metadata": {
        "id": "1cPXr4llLrCF"
      },
      "source": [
        "<br>\n",
        "\n",
        "Graphs"
      ]
    },
    {
      "cell_type": "code",
      "metadata": {
        "id": "leKOS6jxLuX0"
      },
      "source": [
        "relational = delta.graphing.relational.Relational()\n",
        "RelationalGraphLabels = collections.namedtuple(typename='RelationalGraphLabels',\n",
        "                                               field_names=['title', 'xlabel', 'ylabel'])"
      ],
      "execution_count": 11,
      "outputs": []
    },
    {
      "cell_type": "markdown",
      "metadata": {
        "id": "A8m2l5cDMO2f"
      },
      "source": [
        "<br>\n",
        "\n",
        "Settings"
      ]
    },
    {
      "cell_type": "code",
      "metadata": {
        "id": "w_c4_LhkMRVy"
      },
      "source": [
        "settings = delta.graphing.settings.Settings()\n",
        "settings.layout()\n",
        "settings.aesthetics()"
      ],
      "execution_count": 12,
      "outputs": []
    },
    {
      "cell_type": "markdown",
      "metadata": {
        "id": "gEw9oIyqFAnW"
      },
      "source": [
        "<br>\n",
        "\n",
        "Paths"
      ]
    },
    {
      "cell_type": "code",
      "metadata": {
        "id": "Sg7_Mi9qFClY"
      },
      "source": [
        "if not 'google.colab' in str(get_ipython()):    \n",
        "    notebooks = os.getcwd()\n",
        "    parent = str(pathlib.Path(notebooks).parent)\n",
        "    sys.path.append(parent)\n",
        "else:\n",
        "    parent = os.getcwd()  "
      ],
      "execution_count": 13,
      "outputs": []
    },
    {
      "cell_type": "code",
      "metadata": {
        "id": "nBOJCrhZFjeK"
      },
      "source": [
        "directory = os.path.join(parent, 'warehouse', 'evaluations')\n",
        "\n",
        "for string in [os.path.join(directory, 'model'),\n",
        "               os.path.join(directory, 'model', 'loss'), \n",
        "               os.path.join(directory, 'disaggregates', 'frequencies'),\n",
        "               os.path.join(directory, 'disaggregates', 'metrics'), \n",
        "               os.path.join(directory, 'disaggregates', 'scores')]:\n",
        "    if not os.path.exists(string):\n",
        "        os.makedirs(string)"
      ],
      "execution_count": 45,
      "outputs": []
    },
    {
      "cell_type": "markdown",
      "metadata": {
        "id": "sbCsV3FbpURa"
      },
      "source": [
        "<br>\n",
        "<br>\n",
        "\n",
        "## Model"
      ]
    },
    {
      "cell_type": "markdown",
      "metadata": {
        "id": "f4x25boJfK71"
      },
      "source": [
        "Preparatory steps of an auditor or a client.  It predominantly involves reading-in objects, e.g., reading-in\n",
        "\n",
        "* The delivered model.\n",
        "* A trace object if dealing with a Bayesian model. \n",
        "* Test data; structured according defined specifications."
      ]
    },
    {
      "cell_type": "code",
      "metadata": {
        "id": "ZbtHJg0wBUbi"
      },
      "source": [
        "SEED = 5\n",
        "rng = np.random.default_rng(seed=SEED)"
      ],
      "execution_count": 15,
      "outputs": []
    },
    {
      "cell_type": "markdown",
      "metadata": {
        "id": "AyUfeg0Gyuuq"
      },
      "source": [
        "<br>\n",
        "\n",
        "### Pickle"
      ]
    },
    {
      "cell_type": "code",
      "metadata": {
        "id": "nOoKaFusVgeY",
        "colab": {
          "base_uri": "https://localhost:8080/"
        },
        "outputId": "6d9cd55f-e0ab-43c0-897f-2ff1621ccc0d"
      },
      "source": [
        "with open(os.path.join('data', 'pocket.pkl'), 'rb') as f:\n",
        "            pickled = f.read()\n",
        "            f.close()\n",
        "\n",
        "pocket = pickle.loads(pickled)\n",
        "pocket.keys()"
      ],
      "execution_count": 16,
      "outputs": [
        {
          "output_type": "execute_result",
          "data": {
            "text/plain": [
              "dict_keys(['lm', 'ndraws', 'nchains', 'xshared', 'target', 'regressors', 'binary_cf_dictionary', 'scaler'])"
            ]
          },
          "metadata": {
            "tags": []
          },
          "execution_count": 16
        }
      ]
    },
    {
      "cell_type": "markdown",
      "metadata": {
        "id": "VPCD0RgR01yP"
      },
      "source": [
        "Hence"
      ]
    },
    {
      "cell_type": "code",
      "metadata": {
        "id": "MAULhHy3zHw5"
      },
      "source": [
        "lm = pocket['lm']\n",
        "scaler = pocket['scaler']\n",
        "xshared = pocket['xshared']"
      ],
      "execution_count": 17,
      "outputs": []
    },
    {
      "cell_type": "markdown",
      "metadata": {
        "id": "gNDDNazLy6nY"
      },
      "source": [
        "<br>\n",
        "\n",
        "### Trace"
      ]
    },
    {
      "cell_type": "markdown",
      "metadata": {
        "id": "5Fr4GiyrOPti"
      },
      "source": [
        "A summary of each trace is available via\n",
        "\n",
        "```\n",
        "with lm:\n",
        "    summary = pymc3.summary(data=trace)\n",
        "summary.head()\n",
        "```"
      ]
    },
    {
      "cell_type": "code",
      "metadata": {
        "id": "nF_EAi_k3PS3"
      },
      "source": [
        "with lm:\n",
        "    trace = pymc3.backends.ndarray.load_trace(directory=os.path.join('trace'))"
      ],
      "execution_count": 18,
      "outputs": []
    },
    {
      "cell_type": "markdown",
      "metadata": {
        "id": "-0Qgyy2Yd9pw"
      },
      "source": [
        "<br>\n",
        "\n",
        "### Setting Up"
      ]
    },
    {
      "cell_type": "markdown",
      "metadata": {
        "id": "r50O7QCcg4YW"
      },
      "source": [
        "**Testing Data**"
      ]
    },
    {
      "cell_type": "code",
      "metadata": {
        "id": "mQlAhpXF4EY3"
      },
      "source": [
        "try:\n",
        "    testingdata = pd.read_csv(filepath_or_buffer=os.path.join('data', 'testing.csv'))\n",
        "except OSError as err:\n",
        "    raise Exception(err.strerror) in err"
      ],
      "execution_count": 19,
      "outputs": []
    },
    {
      "cell_type": "code",
      "metadata": {
        "id": "cGbjl22qJD7A"
      },
      "source": [
        "f_ = open(file=os.path.join('data', 'mappings.json'), mode='rb')\n",
        "mappings = json.load(f_)\n",
        "f_.close()\n",
        "\n",
        "if bool(mappings):\n",
        "    extraneous = list(mappings.keys())\n",
        "else:\n",
        "    extraneous = []"
      ],
      "execution_count": 24,
      "outputs": []
    },
    {
      "cell_type": "markdown",
      "metadata": {
        "id": "s22mbOxKlk2Z"
      },
      "source": [
        "<br>\n",
        "\n",
        "**Model Parameters**"
      ]
    },
    {
      "cell_type": "code",
      "metadata": {
        "id": "i6wnED_RlofL"
      },
      "source": [
        "ModelParameters = collections.namedtuple(\n",
        "    typename='ModelParameters', field_names=['ndraws', 'nchains', 'regressors', 'target', 'extraneous'])"
      ],
      "execution_count": 25,
      "outputs": []
    },
    {
      "cell_type": "code",
      "metadata": {
        "id": "KSTYfCtomEcq"
      },
      "source": [
        "model_parameters = ModelParameters._make(\n",
        "    (pocket['ndraws'], pocket['nchains'], pocket['regressors'].split(','), pocket['target'], extraneous))"
      ],
      "execution_count": 26,
      "outputs": []
    },
    {
      "cell_type": "markdown",
      "metadata": {
        "id": "0an0XEMTvTGi"
      },
      "source": [
        "<br>\n",
        "<br>\n",
        "\n",
        "## Predict"
      ]
    },
    {
      "cell_type": "markdown",
      "metadata": {
        "id": "k6zsaAou3_Qd"
      },
      "source": [
        "### Test Data"
      ]
    },
    {
      "cell_type": "markdown",
      "metadata": {
        "id": "6n-6k3SbEfQp"
      },
      "source": [
        "The setting-up of test data involves\n",
        "\n",
        "* Scaling\n",
        "* Structuring: `x_testing_` $\\longleftarrow$ `regressors`, `y_testing_` $\\longleftarrow$ `target`"
      ]
    },
    {
      "cell_type": "code",
      "metadata": {
        "id": "Gl02UjHVvuct"
      },
      "source": [
        "preprocessing = delta.algorithms.preprocessing.Preprocessing(parameters=model_parameters, scaler=scaler)\n",
        "x_testing_, y_testing_ = preprocessing.exc(frame=testingdata)"
      ],
      "execution_count": 27,
      "outputs": []
    },
    {
      "cell_type": "markdown",
      "metadata": {
        "id": "Li46lfMbXPv1"
      },
      "source": [
        "<br>\n",
        "<br>\n",
        "\n",
        "### Posterior Predictive Checks"
      ]
    },
    {
      "cell_type": "markdown",
      "metadata": {
        "id": "QV8iR-TAxtmb"
      },
      "source": [
        "Predictions w.r.t. a test set.  Ascertain\n",
        "\n",
        "* $\\small{ samples \\gt (trace.report.n\\_draws \\times trace.nchains) }$\n",
        "* *assert* $\\:$ $\\small{nsamples > (ndraws * nchains)}$, $\\;$  *'# of samples > ( # of draws * # of chains) is required'*"
      ]
    },
    {
      "cell_type": "code",
      "metadata": {
        "id": "upr7DXGwwhia"
      },
      "source": [
        "nsamples = 1000 + (model_parameters.ndraws * model_parameters.nchains)"
      ],
      "execution_count": 28,
      "outputs": []
    },
    {
      "cell_type": "code",
      "metadata": {
        "id": "4ZhImXq6wmKS"
      },
      "source": [
        "with lm:\n",
        "    xshared.set_value(new_value=x_testing_)\n",
        "    ppc = pymc3.sample_posterior_predictive(trace=trace, samples=nsamples, \n",
        "                                            random_seed=SEED, var_names=['y'] + trace.varnames)"
      ],
      "execution_count": null,
      "outputs": []
    },
    {
      "cell_type": "code",
      "metadata": {
        "id": "IP4DQmMcGPYj"
      },
      "source": [
        "plausibilities = ppc['y'].mean(axis=0)\n",
        "uncertainty = ppc['y'].std(axis=0)"
      ],
      "execution_count": 30,
      "outputs": []
    },
    {
      "cell_type": "markdown",
      "metadata": {
        "id": "Vw6UryjxH9xa"
      },
      "source": [
        "<br>\n",
        "<br>\n",
        "\n",
        "### Loss"
      ]
    },
    {
      "cell_type": "markdown",
      "metadata": {
        "id": "DN8xp7ODm23s"
      },
      "source": [
        "Focused on\n",
        "\n",
        "* Loss Curves<br>\n",
        "$- \\; [Y^{^{\\small{T}}}_{n \\times 1} \\: \\odot \\: ln(P_{\\tau \\times n})] \\; - \\; [(1 - Y^{^{\\small{T}}}_{n \\times 1}) \\: \\odot \\: ln(1 - P_{\\tau \\times n})] \\; $\n",
        "\n",
        "* Loss Curve<br>\n",
        "$- \\; [Y_{n \\times 1} \\: \\cdot \\: ln(\\mathbf{\\rho}_{_{n \\times 1}})] \\; - \\; [(1 - Y_{n \\times 1}) \\: \\cdot \\: ln(1 - \\mathbf{\\rho}_{_{n \\times 1}})] \\; $\n",
        "\n",
        "wherein\n",
        "\n",
        "$\\qquad$ $\\mathbf{\\rho}$: plausibilities <br>\n",
        "$\\qquad$ $Y$: y_testing_.values <br>\n",
        "$\\qquad$ $P$: ppc['y']"
      ]
    },
    {
      "cell_type": "markdown",
      "metadata": {
        "id": "zX3K03a7V7ZL"
      },
      "source": [
        "Loss Calculations"
      ]
    },
    {
      "cell_type": "code",
      "metadata": {
        "id": "jH66xSl1Ewh_"
      },
      "source": [
        "LossParameters = collections.namedtuple(typename='LossParameters', \n",
        "                                        field_names=['n_samples', 'm_selections', 'k_averages'])\n",
        "lossparameters = LossParameters._make((nsamples, 1000, 500))\n",
        "\n",
        "loss, lossmatrix = delta.error.loss.Loss(target=y_testing_.values, posterior=ppc['y'], \n",
        "                             plausibilities=plausibilities, lossparameters=lossparameters).exc()"
      ],
      "execution_count": null,
      "outputs": []
    },
    {
      "cell_type": "code",
      "metadata": {
        "colab": {
          "base_uri": "https://localhost:8080/"
        },
        "id": "FFPE6ewiLUxX",
        "outputId": "8c3a7716-0d2e-4ac9-822a-79883ef13df3"
      },
      "source": [
        "loss.info()"
      ],
      "execution_count": 33,
      "outputs": [
        {
          "output_type": "stream",
          "text": [
            "<class 'pandas.core.frame.DataFrame'>\n",
            "RangeIndex: 350 entries, 0 to 349\n",
            "Data columns (total 5 columns):\n",
            " #   Column          Non-Null Count  Dtype  \n",
            "---  ------          --------------  -----  \n",
            " 0   plausibilities  350 non-null    float64\n",
            " 1   target          350 non-null    int64  \n",
            " 2   losscurve_u     350 non-null    float64\n",
            " 3   losscurve_l     350 non-null    float64\n",
            " 4   losscurve       350 non-null    float64\n",
            "dtypes: float64(4), int64(1)\n",
            "memory usage: 13.8 KB\n"
          ],
          "name": "stdout"
        }
      ]
    },
    {
      "cell_type": "markdown",
      "metadata": {
        "id": "WbRnQiP0pTBe"
      },
      "source": [
        "<br>\n",
        "\n",
        "Save"
      ]
    },
    {
      "cell_type": "code",
      "metadata": {
        "id": "3Tz5qtpyMqNz"
      },
      "source": [
        "for i in loss.target.unique():\n",
        "\n",
        "    name = '{:02d}'.format(i)\n",
        "\n",
        "    C = loss['target'] == i\n",
        "    K = lossmatrix[:,1] == i\n",
        "\n",
        "    # Curve\n",
        "    curve = loss.loc[C, :]\n",
        "    points = curve.drop(columns='target').to_dict(orient='records')\n",
        "\n",
        "    with open(os.path.join(directory, 'model', 'loss', name + 'CURVE.json'), 'w') as disk:\n",
        "        json.dump(points, disk)\n",
        "\n",
        "    # Curves\n",
        "    points = np.concatenate((lossmatrix[K, 0:1], lossmatrix[K, 2:]), axis=1)\n",
        "    lists = points.tolist()\n",
        "    json.dump(lists, \n",
        "          codecs.open(os.path.join(directory, 'model', 'loss', name + 'CURVES.json'), \n",
        "                      'w', encoding='utf-8'),\n",
        "          separators=(',', ':'),\n",
        "          sort_keys=False,\n",
        "          indent=4)\n"
      ],
      "execution_count": 65,
      "outputs": []
    },
    {
      "cell_type": "markdown",
      "metadata": {
        "id": "69Z5iKSbWJvM"
      },
      "source": [
        "<br>\n",
        "<br>\n",
        "\n",
        "## Error Matrix & Performance"
      ]
    },
    {
      "cell_type": "markdown",
      "metadata": {
        "id": "rGWzSNMg9veU"
      },
      "source": [
        "The series of threshold values for which error matrix values, and their derivatives, are calculated."
      ]
    },
    {
      "cell_type": "code",
      "metadata": {
        "id": "U1V0mi20NuKQ"
      },
      "source": [
        "thresholds = np.arange(start=0.01, stop=0.99, step=0.005)"
      ],
      "execution_count": 66,
      "outputs": []
    },
    {
      "cell_type": "markdown",
      "metadata": {
        "id": "b3xQGgw26wTb"
      },
      "source": [
        "<br>\n",
        "\n",
        "The target field/s"
      ]
    },
    {
      "cell_type": "code",
      "metadata": {
        "id": "498n33WuxNVz"
      },
      "source": [
        "if type(model_parameters.target) != list:\n",
        "    classes = [model_parameters.target]\n",
        "else:\n",
        "    classes = model_parameters.target   "
      ],
      "execution_count": 67,
      "outputs": []
    },
    {
      "cell_type": "markdown",
      "metadata": {
        "id": "CgZct3UXx1Xd"
      },
      "source": [
        "<br>\n",
        "\n",
        "Problem type.  A binary problem will have a single frame of frequencies.  A multi-class problem will have a seperate table of frequencies per class; subsequently the tables are analysed separately & together."
      ]
    },
    {
      "cell_type": "code",
      "metadata": {
        "id": "PNO8Ln8UyTbC"
      },
      "source": [
        "if len(classes) > 1:\n",
        "    binary = False\n",
        "else:\n",
        "    binary = True"
      ],
      "execution_count": 68,
      "outputs": []
    },
    {
      "cell_type": "markdown",
      "metadata": {
        "id": "kTVo5QRpWFHH"
      },
      "source": [
        "<br>\n",
        "\n",
        "Evaluation Properties"
      ]
    },
    {
      "cell_type": "code",
      "metadata": {
        "id": "3UrAbtQ_wQ9k"
      },
      "source": [
        "EvaluationProperties = collections.namedtuple(\n",
        "    typename='EvaluationProperties', field_names=['thresholds', 'classes', 'target'])\n",
        "evaluation_properties = EvaluationProperties._make((thresholds, classes, model_parameters.target))"
      ],
      "execution_count": 69,
      "outputs": []
    },
    {
      "cell_type": "markdown",
      "metadata": {
        "id": "y4j2j9pjkGbF"
      },
      "source": [
        "<br>\n",
        "\n",
        "Categories"
      ]
    },
    {
      "cell_type": "code",
      "metadata": {
        "id": "dSuorABckFNM"
      },
      "source": [
        "with open(os.path.join('data', 'definitionsOfCategories.json'), 'r') as blob:\n",
        "    definitions = json.load(blob)"
      ],
      "execution_count": 70,
      "outputs": []
    },
    {
      "cell_type": "markdown",
      "metadata": {
        "id": "n4qeUFyqkQAJ"
      },
      "source": [
        "<br>\n",
        "\n",
        "Arguments"
      ]
    },
    {
      "cell_type": "code",
      "metadata": {
        "id": "DOG5QuCLkNXh"
      },
      "source": [
        "Arguments = collections.namedtuple(typename='Arguments', field_names=['optimal', 'definitions', 'directory']) "
      ],
      "execution_count": 71,
      "outputs": []
    },
    {
      "cell_type": "markdown",
      "metadata": {
        "id": "jzaAHoRZnxcZ"
      },
      "source": [
        "<br>\n",
        "<br>\n",
        "\n",
        "### Frequencies & Metrics"
      ]
    },
    {
      "cell_type": "code",
      "metadata": {
        "colab": {
          "base_uri": "https://localhost:8080/"
        },
        "id": "yVJ_WqeznvS_",
        "outputId": "d8a5dcc0-623a-4999-fa07-0c332db56e13"
      },
      "source": [
        "T = delta.binary.derivations.model.Model(properties=evaluation_properties).\\\n",
        "    exc(plausibilities=plausibilities, truth=y_testing_)\n",
        "logger.warning(T.info())    "
      ],
      "execution_count": 72,
      "outputs": [
        {
          "output_type": "stream",
          "text": [
            "None\n",
            "2021-08-05 18:44:39.944\n"
          ],
          "name": "stderr"
        },
        {
          "output_type": "stream",
          "text": [
            "<class 'pandas.core.frame.DataFrame'>\n",
            "RangeIndex: 187 entries, 0 to 186\n",
            "Data columns (total 14 columns):\n",
            " #   Column             Non-Null Count  Dtype  \n",
            "---  ------             --------------  -----  \n",
            " 0   threshold          187 non-null    float64\n",
            " 1   tp                 187 non-null    int64  \n",
            " 2   fn                 187 non-null    int64  \n",
            " 3   tn                 187 non-null    int64  \n",
            " 4   fp                 187 non-null    int64  \n",
            " 5   precision          187 non-null    float64\n",
            " 6   sensitivity        187 non-null    float64\n",
            " 7   specificity        187 non-null    float64\n",
            " 8   fpr                187 non-null    float64\n",
            " 9   fscore             187 non-null    float64\n",
            " 10  youden             187 non-null    float64\n",
            " 11  matthews           187 non-null    float64\n",
            " 12  balanced_accuracy  187 non-null    float64\n",
            " 13  standard_accuracy  187 non-null    float64\n",
            "dtypes: float64(10), int64(4)\n",
            "memory usage: 20.6 KB\n"
          ],
          "name": "stdout"
        }
      ]
    },
    {
      "cell_type": "markdown",
      "metadata": {
        "id": "3fG3gIID_S-W"
      },
      "source": [
        "<br>\n",
        "<br>\n",
        "\n",
        "### Optimal Threshold Strategy"
      ]
    },
    {
      "cell_type": "markdown",
      "metadata": {
        "id": "JmoWKLEGKUD7"
      },
      "source": [
        "The index of the optimal $\\:T\\:$ instance w.r.t. the\n",
        "\n",
        "* **Maximum Matthews Correlation Coefficient**<br>\n",
        "```\n",
        "index = T.matthews.idxmax()\n",
        "```\n",
        "\n",
        "* **Intersection, cross-over, point of the precision & sensitivity curves**<br>\n",
        "```\n",
        "differences = T.precision - T.sensitivity\n",
        "index = (differences.abs()).idxmin()\n",
        "```"
      ]
    },
    {
      "cell_type": "code",
      "metadata": {
        "id": "i1L2vEOyKDtt",
        "colab": {
          "base_uri": "https://localhost:8080/"
        },
        "outputId": "5fb2fb41-a68d-4202-b96f-dff8cd24e0f9"
      },
      "source": [
        "differences = T.precision - T.sensitivity\n",
        "index_of_optimal = (differences.abs()).idxmin()\n",
        "optimal = T.iloc[index_of_optimal, :].threshold\n",
        "\n",
        "logger.warning(optimal)"
      ],
      "execution_count": 73,
      "outputs": [
        {
          "output_type": "stream",
          "text": [
            "0.38999999999999996\n",
            "2021-08-05 18:48:08.044\n"
          ],
          "name": "stderr"
        }
      ]
    },
    {
      "cell_type": "markdown",
      "metadata": {
        "id": "E6j3BWUECFEG"
      },
      "source": [
        "<br>\n",
        "\n",
        "Graph"
      ]
    },
    {
      "cell_type": "code",
      "metadata": {
        "id": "p6J5zCfU3rWm",
        "colab": {
          "base_uri": "https://localhost:8080/",
          "height": 338
        },
        "outputId": "6fcc67db-f0df-4ebd-9fae-6e7a29e243ef"
      },
      "source": [
        "graph = delta.graphing.error.Error(blob=T, which='dependent')\n",
        "graph.exc(optimal=optimal)"
      ],
      "execution_count": 74,
      "outputs": [
        {
          "output_type": "display_data",
          "data": {
            "image/png": "[encoded data removed]",
            "text/plain": [
              "<Figure size 400x310 with 1 Axes>"
            ]
          },
          "metadata": {
            "tags": []
          }
        }
      ]
    },
    {
      "cell_type": "code",
      "metadata": {
        "id": "Kt-nfpF9CuGN",
        "colab": {
          "base_uri": "https://localhost:8080/",
          "height": 338
        },
        "outputId": "e539597e-8dd5-442a-f1d7-b42fd1aba964"
      },
      "source": [
        "graph = delta.graphing.error.Error(blob=T, which='independent')\n",
        "graph.exc(optimal=optimal)"
      ],
      "execution_count": 75,
      "outputs": [
        {
          "output_type": "display_data",
          "data": {
            "image/png": "[encoded data removed]",
            "text/plain": [
              "<Figure size 400x310 with 1 Axes>"
            ]
          },
          "metadata": {
            "tags": []
          }
        }
      ]
    },
    {
      "cell_type": "markdown",
      "metadata": {
        "id": "S4pyOAJalGKz"
      },
      "source": [
        "<br>\n",
        "<br>\n",
        "\n",
        "### Model"
      ]
    },
    {
      "cell_type": "markdown",
      "metadata": {
        "id": "GZG0JN4ni_M7"
      },
      "source": [
        "**Save T**\n",
        "\n",
        "The frequencies & metrics at each threshold point"
      ]
    },
    {
      "cell_type": "code",
      "metadata": {
        "id": "FjJ37RNojBaU"
      },
      "source": [
        "arguments = Arguments._make((optimal, definitions, os.path.join(directory, 'model')))\n",
        "\n",
        "delta.binary.graphing.details.model.Model(blob=T, arguments=arguments).\\\n",
        "    exc()"
      ],
      "execution_count": 77,
      "outputs": []
    },
    {
      "cell_type": "markdown",
      "metadata": {
        "id": "mjxXrn0osw_Y"
      },
      "source": [
        "And"
      ]
    },
    {
      "cell_type": "code",
      "metadata": {
        "id": "oVE14dnOsvS4"
      },
      "source": [
        "T[['threshold', 'tp', 'fn', 'tn', 'fp']].to_csv(path_or_buf=os.path.join(directory, 'model', 'frequencies.csv'), header=True, \n",
        "                   index=False, encoding='UTF-8')\n",
        "\n",
        "T[['threshold', 'precision', 'sensitivity', 'specificity', 'fpr', 'fscore', 'youden', \n",
        "   'matthews', 'balanced_accuracy', 'standard_accuracy']].to_csv(path_or_buf=os.path.join(directory, 'model', 'metrics.csv'), header=True, \n",
        "                   index=False, encoding='UTF-8')"
      ],
      "execution_count": 85,
      "outputs": []
    },
    {
      "cell_type": "markdown",
      "metadata": {
        "id": "MVe40uu2s_EG"
      },
      "source": [
        "Delete"
      ]
    },
    {
      "cell_type": "code",
      "metadata": {
        "id": "bw8ik51_s-D3"
      },
      "source": [
        "T.to_csv(path_or_buf=os.path.join(directory, 'model', 'error.csv'), header=True, \n",
        "                   index=False, encoding='UTF-8')"
      ],
      "execution_count": 79,
      "outputs": []
    },
    {
      "cell_type": "markdown",
      "metadata": {
        "id": "nrQqp9y8qSyg"
      },
      "source": [
        "<br>\n",
        "\n",
        "**Save Estimate**\n",
        "\n",
        "A data vector that consists of the:\n",
        "\n",
        "* Frequencies & metrics at the optimal threshold.\n",
        "\n",
        "* ROC Area, i.e., the area under the _**true positive rate/false positive rate**_ curve.\n",
        "\n",
        "* PTC Area, i.e., the area under the _**precision/true positive rate**_ curve.\n"
      ]
    },
    {
      "cell_type": "code",
      "metadata": {
        "id": "KC-whxq8jOrF"
      },
      "source": [
        "estimate = T.copy().iloc[index_of_optimal:(index_of_optimal + 1),:]\n",
        "ROC = sklearn.metrics.auc(x=(1 - T.specificity), y=T.sensitivity)\n",
        "PTC = sklearn.metrics.auc(x=T.sensitivity, y=T.precision)\n",
        "estimate.loc[:, 'roc'] = ROC\n",
        "estimate.loc[:, 'ptc'] = PTC\n",
        "\n",
        "\n",
        "arguments = Arguments._make((optimal, definitions, os.path.join(directory, 'model')))\n",
        "\n",
        "delta.binary.graphing.scores.model.Model(\n",
        "    blob=estimate, arguments=arguments).exc()"
      ],
      "execution_count": 81,
      "outputs": []
    },
    {
      "cell_type": "markdown",
      "metadata": {
        "id": "2M-MkE7KMAXy"
      },
      "source": [
        "<br>\n",
        "<br>\n",
        "\n",
        "### Disaggregates"
      ]
    },
    {
      "cell_type": "markdown",
      "metadata": {
        "id": "mRk7SuRXVlVK"
      },
      "source": [
        "The reference data set, which includes the\n",
        "\n",
        "* original forms of embedded polytomous categorical fields\n",
        "* classification plausibilities\n",
        "* field of estimated/assigned class w.r.t. plausibilities and a threshold"
      ]
    },
    {
      "cell_type": "code",
      "metadata": {
        "id": "6VcyTUp6XiYg"
      },
      "source": [
        "reference = testingdata.copy()\n",
        "reference.loc[:, 'estimated'] = (plausibilities > optimal).astype(int)\n",
        "reference.loc[:, 'plausibilities'] = plausibilities"
      ],
      "execution_count": 82,
      "outputs": []
    },
    {
      "cell_type": "markdown",
      "metadata": {
        "id": "FWvWIKocmkhv"
      },
      "source": [
        "<br>\n",
        "\n",
        "**Frequencies & Metrics**"
      ]
    },
    {
      "cell_type": "code",
      "metadata": {
        "id": "kEh8Uc2AFkG0",
        "colab": {
          "base_uri": "https://localhost:8080/"
        },
        "outputId": "4328f255-f819-4cf4-bc7d-69b0d00b7667"
      },
      "source": [
        "J = delta.binary.derivations.disaggregates.Disaggregates(fields=fields, properties=evaluation_properties).\\\n",
        "    exc(blob=reference)\n",
        "logger.warning(J.info())    "
      ],
      "execution_count": 83,
      "outputs": [
        {
          "output_type": "stream",
          "text": [
            "None\n",
            "2021-08-05 19:11:40.788\n"
          ],
          "name": "stderr"
        },
        {
          "output_type": "stream",
          "text": [
            "<class 'pandas.core.frame.DataFrame'>\n",
            "RangeIndex: 2227 entries, 0 to 2226\n",
            "Data columns (total 16 columns):\n",
            " #   Column             Non-Null Count  Dtype  \n",
            "---  ------             --------------  -----  \n",
            " 0   threshold          2227 non-null   float64\n",
            " 1   tp                 2227 non-null   int64  \n",
            " 2   fn                 2227 non-null   int64  \n",
            " 3   tn                 2227 non-null   int64  \n",
            " 4   fp                 2227 non-null   int64  \n",
            " 5   precision          2227 non-null   float64\n",
            " 6   sensitivity        2227 non-null   float64\n",
            " 7   specificity        2227 non-null   float64\n",
            " 8   fpr                2227 non-null   float64\n",
            " 9   fscore             2227 non-null   float64\n",
            " 10  youden             2227 non-null   float64\n",
            " 11  matthews           2227 non-null   float64\n",
            " 12  balanced_accuracy  2227 non-null   float64\n",
            " 13  standard_accuracy  2227 non-null   float64\n",
            " 14  field              2227 non-null   object \n",
            " 15  element            2227 non-null   object \n",
            "dtypes: float64(10), int64(4), object(2)\n",
            "memory usage: 278.5+ KB\n"
          ],
          "name": "stdout"
        }
      ]
    },
    {
      "cell_type": "markdown",
      "metadata": {
        "id": "zEry60-d2qUB"
      },
      "source": [
        "<br>\n",
        "\n",
        "**Save J**\n",
        "\n",
        "Disaggregated frequencies & metrics"
      ]
    },
    {
      "cell_type": "code",
      "metadata": {
        "id": "Dt4QNUQ_pIyt"
      },
      "source": [
        "arguments = Arguments._make((optimal, definitions, os.path.join(directory, 'disaggregates')))\n",
        "\n",
        "for field in fields:\n",
        "\n",
        "    blob = J[J['field'] == field]\n",
        "    elements = blob['element'].unique()\n",
        "\n",
        "    delta.binary.graphing.details.disaggregates.Disaggregates(\n",
        "        field=field, elements=elements, blob=blob, arguments=arguments).exc()"
      ],
      "execution_count": 84,
      "outputs": []
    },
    {
      "cell_type": "markdown",
      "metadata": {
        "id": "qOHmjAqwwW70"
      },
      "source": [
        "<br>\n",
        "\n",
        "And"
      ]
    },
    {
      "cell_type": "code",
      "metadata": {
        "id": "BbxAH8r5wZSJ"
      },
      "source": [
        "J[['threshold', 'tp', 'fn', 'tn', 'fp', 'field', 'element']].\\\n",
        "    to_csv(path_or_buf=os.path.join(directory, 'model', 'frequencies.csv'), \n",
        "           header=True, index=False, encoding='UTF-8')\n",
        "\n",
        "J[['threshold', 'precision', 'sensitivity', 'specificity', 'fpr', 'fscore', \n",
        "   'youden', 'matthews', 'balanced_accuracy', 'standard_accuracy', 'field', 'element']].\\\n",
        "    to_csv(path_or_buf=os.path.join(directory, 'model', 'metrics.csv'), \n",
        "           header=True, index=False, encoding='UTF-8')"
      ],
      "execution_count": 86,
      "outputs": []
    },
    {
      "cell_type": "markdown",
      "metadata": {
        "id": "t1kB5WY4xAu5"
      },
      "source": [
        "<br>\n",
        "\n",
        "Delete"
      ]
    },
    {
      "cell_type": "code",
      "metadata": {
        "id": "EHyaktp_wEfM"
      },
      "source": [
        "J.to_csv(path_or_buf=os.path.join(directory, 'disaggregates', 'error.csv'), header=True, \n",
        "                     index=False, encoding='UTF-8')"
      ],
      "execution_count": 87,
      "outputs": []
    },
    {
      "cell_type": "markdown",
      "metadata": {
        "id": "Cej2JHcqvd4X"
      },
      "source": [
        "<br>\n",
        "\n",
        "**Save Decompositions**\n",
        "\n",
        "The J instances whereby $\\small{threshold \\equiv optimal \\; threshold}$\n"
      ]
    },
    {
      "cell_type": "code",
      "metadata": {
        "id": "_xfrp5-W9DLT"
      },
      "source": [
        "decompositions = J[J['threshold'] == optimal]\n",
        "\n",
        "arguments = Arguments._make((optimal, definitions, os.path.join(directory, 'disaggregates', 'scores')))\n",
        "\n",
        "operator = delta.binary.graphing.scores.disaggregates.Disaggregates(blob=decompositions, arguments=arguments)\n",
        "for field in fields:\n",
        "    operator.exc(field=field)"
      ],
      "execution_count": 88,
      "outputs": []
    },
    {
      "cell_type": "markdown",
      "metadata": {
        "id": "Sd_H_IERSlS0"
      },
      "source": [
        "<br>\n",
        "<br>\n",
        "\n",
        "## Zip"
      ]
    },
    {
      "cell_type": "code",
      "metadata": {
        "id": "_NIDLdfqzyIG",
        "colab": {
          "base_uri": "https://localhost:8080/"
        },
        "outputId": "f60eede2-8c12-47fe-fb68-e15242972705"
      },
      "source": [
        "!rm -rf evaluations.zip\n",
        "!zip -r evaluations.zip warehouse/evaluations/"
      ],
      "execution_count": 89,
      "outputs": [
        {
          "output_type": "stream",
          "text": [
            "  adding: warehouse/evaluations/ (stored 0%)\n",
            "  adding: warehouse/evaluations/model/ (stored 0%)\n",
            "  adding: warehouse/evaluations/model/frequencies.csv (deflated 89%)\n",
            "  adding: warehouse/evaluations/model/loss/ (stored 0%)\n",
            "  adding: warehouse/evaluations/model/loss/01CURVE.json (deflated 73%)\n",
            "  adding: warehouse/evaluations/model/loss/01CURVES.json (deflated 94%)\n",
            "  adding: warehouse/evaluations/model/loss/00CURVE.json (deflated 72%)\n",
            "  adding: warehouse/evaluations/model/loss/00CURVES.json (deflated 93%)\n",
            "  adding: warehouse/evaluations/model/error.csv (deflated 77%)\n",
            "  adding: warehouse/evaluations/model/metrics.csv (deflated 89%)\n",
            "  adding: warehouse/evaluations/model/frequencies.json (deflated 88%)\n",
            "  adding: warehouse/evaluations/model/metrics.json (deflated 86%)\n",
            "  adding: warehouse/evaluations/model/scores.json (deflated 39%)\n",
            "  adding: warehouse/evaluations/disaggregates/ (stored 0%)\n",
            "  adding: warehouse/evaluations/disaggregates/error.csv (deflated 89%)\n",
            "  adding: warehouse/evaluations/disaggregates/frequencies/ (stored 0%)\n",
            "  adding: warehouse/evaluations/disaggregates/frequencies/savings_acc_class.json (deflated 92%)\n",
            "  adding: warehouse/evaluations/disaggregates/frequencies/female.json (deflated 90%)\n",
            "  adding: warehouse/evaluations/disaggregates/frequencies/e_chq_acc_status.json (deflated 92%)\n",
            "  adding: warehouse/evaluations/disaggregates/frequencies/housing.json (deflated 91%)\n",
            "  adding: warehouse/evaluations/disaggregates/scores/ (stored 0%)\n",
            "  adding: warehouse/evaluations/disaggregates/scores/savings_acc_class.json (deflated 54%)\n",
            "  adding: warehouse/evaluations/disaggregates/scores/female.json (deflated 46%)\n",
            "  adding: warehouse/evaluations/disaggregates/scores/e_chq_acc_status.json (deflated 52%)\n",
            "  adding: warehouse/evaluations/disaggregates/scores/housing.json (deflated 52%)\n",
            "  adding: warehouse/evaluations/disaggregates/metrics/ (stored 0%)\n",
            "  adding: warehouse/evaluations/disaggregates/metrics/savings_acc_class.json (deflated 93%)\n",
            "  adding: warehouse/evaluations/disaggregates/metrics/female.json (deflated 90%)\n",
            "  adding: warehouse/evaluations/disaggregates/metrics/e_chq_acc_status.json (deflated 93%)\n",
            "  adding: warehouse/evaluations/disaggregates/metrics/housing.json (deflated 92%)\n"
          ],
          "name": "stdout"
        }
      ]
    }
  ]
}