{
  "nbformat": 4,
  "nbformat_minor": 0,
  "metadata": {
    "colab": {
      "name": "splitting.ipynb",
      "provenance": [],
      "collapsed_sections": [],
      "toc_visible": true
    },
    "kernelspec": {
      "name": "python3",
      "display_name": "Python 3"
    },
    "language_info": {
      "name": "python"
    }
  },
  "cells": [
    {
      "cell_type": "markdown",
      "metadata": {
        "id": "5vgKnpEZixfX"
      },
      "source": [
        "The splitting phase "
      ]
    },
    {
      "cell_type": "markdown",
      "metadata": {
        "id": "MbwaZ2iDEg7T"
      },
      "source": [
        "## Preliminaries"
      ]
    },
    {
      "cell_type": "code",
      "metadata": {
        "id": "ahXoiVIJbyEA"
      },
      "source": [
        "%%bash\n",
        "\n",
        "rm -rf *.sh\n",
        "rm -rf warehouse"
      ],
      "execution_count": null,
      "outputs": []
    },
    {
      "cell_type": "markdown",
      "metadata": {
        "id": "6VgMmWuTI5rZ"
      },
      "source": [
        "<br>\n",
        "\n",
        "### Packages & Libraries"
      ]
    },
    {
      "cell_type": "markdown",
      "metadata": {
        "id": "SP7DionDTfMV"
      },
      "source": [
        "**Packages**"
      ]
    },
    {
      "cell_type": "code",
      "metadata": {
        "id": "IrEiqQ65i4HP"
      },
      "source": [
        "import subprocess"
      ],
      "execution_count": null,
      "outputs": []
    },
    {
      "cell_type": "code",
      "metadata": {
        "id": "XVwENGGwi8pA"
      },
      "source": [
        "if 'google.colab' in str(get_ipython()):\n",
        "    subprocess.run('wget -q https://raw.githubusercontent.com/exhypotheses/risk/develop/scripts.sh', shell=True)\n",
        "    subprocess.run('chmod u+x scripts.sh', shell=True)\n",
        "    subprocess.run('./scripts.sh', shell=True)"
      ],
      "execution_count": null,
      "outputs": []
    },
    {
      "cell_type": "markdown",
      "metadata": {
        "id": "V04o5dwaEVeU"
      },
      "source": [
        "<br>\n",
        "\n",
        "**Libraries**"
      ]
    },
    {
      "cell_type": "code",
      "metadata": {
        "id": "lvWNfNACETeQ"
      },
      "source": [
        "import logging\n",
        "import collections\n",
        "import os\n",
        "import zipfile\n",
        "\n",
        "import numpy as np\n",
        "import pandas as pd\n",
        "import dask\n"
      ],
      "execution_count": null,
      "outputs": []
    },
    {
      "cell_type": "markdown",
      "metadata": {
        "id": "6RvKtZ3eSHCV"
      },
      "source": [
        "<br>\n",
        "\n",
        "### Logging"
      ]
    },
    {
      "cell_type": "code",
      "metadata": {
        "id": "jXsl-Gd6SGB1"
      },
      "source": [
        "logging.basicConfig(level=logging.INFO, format='%(message)s\\n%(asctime)s.%(msecs)03d', datefmt='%Y-%m-%d %H:%M:%S')\n",
        "logger = logging.getLogger(__name__)"
      ],
      "execution_count": null,
      "outputs": []
    },
    {
      "cell_type": "markdown",
      "metadata": {
        "id": "N3xLPJBkLZqJ"
      },
      "source": [
        "<br>\n",
        "\n",
        "### Custom"
      ]
    },
    {
      "cell_type": "code",
      "metadata": {
        "id": "pdxEwJ3lLcNH"
      },
      "source": [
        "import config\n",
        "\n",
        "import risk.functions.split"
      ],
      "execution_count": null,
      "outputs": []
    },
    {
      "cell_type": "markdown",
      "metadata": {
        "id": "gWgc5sFoRaBB"
      },
      "source": [
        "<br>\n",
        "\n",
        "Herein, the data set wherein the polytomous categorical variables have undergone t-SNE embedding has been selected."
      ]
    },
    {
      "cell_type": "code",
      "metadata": {
        "id": "N1_swCxyR15y"
      },
      "source": [
        "import risk.src.representations"
      ],
      "execution_count": null,
      "outputs": []
    },
    {
      "cell_type": "markdown",
      "metadata": {
        "id": "sEQChpNKe5GI"
      },
      "source": [
        "<br>\n",
        "\n",
        "Configurations"
      ]
    },
    {
      "cell_type": "code",
      "metadata": {
        "id": "bkNOO8hie8Sh"
      },
      "source": [
        "configurations = config.Config()"
      ],
      "execution_count": null,
      "outputs": []
    },
    {
      "cell_type": "markdown",
      "metadata": {
        "id": "vTw-V7OG2l-7"
      },
      "source": [
        "<br>\n",
        "\n",
        "### Paths"
      ]
    },
    {
      "cell_type": "code",
      "metadata": {
        "id": "vcqS9tfUQrcx"
      },
      "source": [
        "if not 'google.colab' in str(get_ipython()):    \n",
        "    notebooks = os.getcwd()\n",
        "    parent = str(pathlib.Path(notebooks).parent)\n",
        "    sys.path.append(parent)\n",
        "else:\n",
        "    parent = os.getcwd()  "
      ],
      "execution_count": null,
      "outputs": []
    },
    {
      "cell_type": "code",
      "metadata": {
        "id": "OC8J-GdC2pFr"
      },
      "source": [
        "directory = os.path.join(parent, configurations.warehouse, 'splits', 'scikit')\n",
        "\n",
        "if not os.path.exists(directory):\n",
        "    os.makedirs(directory)"
      ],
      "execution_count": null,
      "outputs": []
    },
    {
      "cell_type": "markdown",
      "metadata": {
        "id": "zB2P6S6Br0XZ"
      },
      "source": [
        "<br>\n",
        "<br>\n",
        "\n",
        "## For YAML"
      ]
    },
    {
      "cell_type": "markdown",
      "metadata": {
        "id": "Sm3JrIXsExIg"
      },
      "source": [
        "### Seed"
      ]
    },
    {
      "cell_type": "code",
      "metadata": {
        "id": "tmRAA4Hrr2wG"
      },
      "source": [
        "SEED = 5\n",
        "np.random.seed(seed=SEED)"
      ],
      "execution_count": null,
      "outputs": []
    },
    {
      "cell_type": "markdown",
      "metadata": {
        "id": "2KyjK4yFEnuG"
      },
      "source": [
        "<br>\n",
        "\n",
        "### Splitting Function Arguments"
      ]
    },
    {
      "cell_type": "code",
      "metadata": {
        "id": "WxYP6p172a4B"
      },
      "source": [
        "test_size = 0.35\n",
        "strata = ['reasonable', 'female']"
      ],
      "execution_count": null,
      "outputs": []
    },
    {
      "cell_type": "markdown",
      "metadata": {
        "id": "GvZ3aSMBEbTl"
      },
      "source": [
        "<br>\n",
        "<br>\n",
        "\n",
        "## Data"
      ]
    },
    {
      "cell_type": "markdown",
      "metadata": {
        "id": "9QUf9hXl5bAG"
      },
      "source": [
        "### Read"
      ]
    },
    {
      "cell_type": "markdown",
      "metadata": {
        "id": "hahTCHYfVrNH"
      },
      "source": [
        "Reads in the data wherein the polytomous categorical fields have undergone t-SNE embedding."
      ]
    },
    {
      "cell_type": "code",
      "metadata": {
        "id": "3Mmt3m-8diLG",
        "colab": {
          "base_uri": "https://localhost:8080/"
        },
        "outputId": "529ba161-dc0f-4895-df92-8aa52cb745f3"
      },
      "source": [
        "representations = risk.src.representations.Representations()\n",
        "\n",
        "data = representations.data()\n",
        "data.info()"
      ],
      "execution_count": null,
      "outputs": [
        {
          "output_type": "stream",
          "text": [
            "<class 'pandas.core.frame.DataFrame'>\n",
            "RangeIndex: 1000 entries, 0 to 999\n",
            "Data columns (total 44 columns):\n",
            " #   Column                 Non-Null Count  Dtype  \n",
            "---  ------                 --------------  -----  \n",
            " 0   duration_months        1000 non-null   int64  \n",
            " 1   credit_amount          1000 non-null   int64  \n",
            " 2   i_rate_by_disp_inc     1000 non-null   int64  \n",
            " 3   curr_res_since         1000 non-null   int64  \n",
            " 4   age_years              1000 non-null   int64  \n",
            " 5   n_e_credits_this_bank  1000 non-null   int64  \n",
            " 6   n_dependants           1000 non-null   int64  \n",
            " 7   e_chq_acc_status_1     1000 non-null   float64\n",
            " 8   e_chq_acc_status_2     1000 non-null   float64\n",
            " 9   credit_history_1       1000 non-null   float64\n",
            " 10  credit_history_2       1000 non-null   float64\n",
            " 11  purpose_1              1000 non-null   float64\n",
            " 12  purpose_2              1000 non-null   float64\n",
            " 13  savings_acc_class_1    1000 non-null   float64\n",
            " 14  savings_acc_class_2    1000 non-null   float64\n",
            " 15  curr_emp_class_1       1000 non-null   float64\n",
            " 16  curr_emp_class_2       1000 non-null   float64\n",
            " 17  sex_and_status_1       1000 non-null   float64\n",
            " 18  sex_and_status_2       1000 non-null   float64\n",
            " 19  other_debtors_class_1  1000 non-null   float64\n",
            " 20  other_debtors_class_2  1000 non-null   float64\n",
            " 21  property_1             1000 non-null   float64\n",
            " 22  property_2             1000 non-null   float64\n",
            " 23  other_i_plans_1        1000 non-null   float64\n",
            " 24  other_i_plans_2        1000 non-null   float64\n",
            " 25  housing_1              1000 non-null   float64\n",
            " 26  housing_2              1000 non-null   float64\n",
            " 27  job_1                  1000 non-null   float64\n",
            " 28  job_2                  1000 non-null   float64\n",
            " 29  A192                   1000 non-null   uint8  \n",
            " 30  A201                   1000 non-null   uint8  \n",
            " 31  female                 1000 non-null   uint8  \n",
            " 32  reasonable             1000 non-null   uint8  \n",
            " 33  e_chq_acc_status       1000 non-null   object \n",
            " 34  credit_history         1000 non-null   object \n",
            " 35  purpose                1000 non-null   object \n",
            " 36  savings_acc_class      1000 non-null   object \n",
            " 37  curr_emp_class         1000 non-null   object \n",
            " 38  sex_and_status         1000 non-null   object \n",
            " 39  other_debtors_class    1000 non-null   object \n",
            " 40  property               1000 non-null   object \n",
            " 41  other_i_plans          1000 non-null   object \n",
            " 42  housing                1000 non-null   object \n",
            " 43  job                    1000 non-null   object \n",
            "dtypes: float64(22), int64(7), object(11), uint8(4)\n",
            "memory usage: 316.5+ KB\n"
          ],
          "name": "stdout"
        }
      ]
    },
    {
      "cell_type": "code",
      "metadata": {
        "id": "hw88bE2adTvG"
      },
      "source": [
        "attributes = representations.attributes()\n",
        "target = attributes.target"
      ],
      "execution_count": null,
      "outputs": []
    },
    {
      "cell_type": "markdown",
      "metadata": {
        "id": "Nuc-f3dA9NJ-"
      },
      "source": [
        "<br>\n",
        "\n",
        "### Structure"
      ]
    },
    {
      "cell_type": "markdown",
      "metadata": {
        "id": "7UbsZc3re-R5"
      },
      "source": [
        "**Split**\n",
        "\n",
        "* Save the training & testing frames; a future pre-notebook step."
      ]
    },
    {
      "cell_type": "code",
      "metadata": {
        "id": "xqsENihucjqx"
      },
      "source": [
        "SplittingParameters = collections.namedtuple(\n",
        "    typename='SplittingParameters', field_names=['test_size', 'random_state'])\n",
        "\n",
        "split = risk.functions.split.Split(splitting=SplittingParameters._make((test_size, SEED)))\n",
        "training, testing = split.exc(data=data, target=target, strata=strata)"
      ],
      "execution_count": null,
      "outputs": []
    },
    {
      "cell_type": "code",
      "metadata": {
        "id": "4zXnIYGhKaRv"
      },
      "source": [
        "training.to_csv(path_or_buf=os.path.join(directory, 'training.csv'), \n",
        "                header=True, index=False, encoding='UTF-8')\n",
        "testing.to_csv(path_or_buf=os.path.join(directory, 'testing.csv'), \n",
        "               header=True, index=False, encoding='UTF-8')"
      ],
      "execution_count": null,
      "outputs": []
    }
  ]
}