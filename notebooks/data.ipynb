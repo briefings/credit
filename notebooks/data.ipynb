{
 "cells": [
  {
   "cell_type": "markdown",
   "metadata": {
    "id": "9Oar5yOtzZrO"
   },
   "source": [
    "## Prelimiaries"
   ]
  },
  {
   "cell_type": "markdown",
   "metadata": {
    "id": "esvV-Cn9ze9o"
   },
   "source": [
    "For a Bayesian classification example for illustrating the **sheets/cards** family."
   ]
  },
  {
   "cell_type": "code",
   "execution_count": 1,
   "metadata": {
    "id": "grZ28UVRhKda"
   },
   "outputs": [],
   "source": [
    "!rm -rf *.sh"
   ]
  },
  {
   "cell_type": "markdown",
   "metadata": {
    "id": "6VgMmWuTI5rZ"
   },
   "source": [
    "<br>\n",
    "\n",
    "### Packages"
   ]
  },
  {
   "cell_type": "code",
   "execution_count": 2,
   "metadata": {
    "id": "IrEiqQ65i4HP"
   },
   "outputs": [],
   "source": [
    "import subprocess"
   ]
  },
  {
   "cell_type": "code",
   "execution_count": 3,
   "metadata": {
    "id": "XVwENGGwi8pA"
   },
   "outputs": [],
   "source": [
    "if 'google.colab' in str(get_ipython()):\n",
    "    subprocess.run('wget -q https://raw.githubusercontent.com/briefings/credit/develop/scripts.sh', shell=True)\n",
    "    subprocess.run('chmod u+x scripts.sh', shell=True)\n",
    "    subprocess.run('./scripts.sh', shell=True)"
   ]
  },
  {
   "cell_type": "markdown",
   "metadata": {},
   "source": [
    "<br>\n",
    "\n",
    "### Paths"
   ]
  },
  {
   "cell_type": "code",
   "execution_count": 4,
   "metadata": {},
   "outputs": [],
   "source": [
    "import os\n",
    "import pathlib\n",
    "import sys"
   ]
  },
  {
   "cell_type": "code",
   "execution_count": 5,
   "metadata": {},
   "outputs": [],
   "source": [
    "if not 'google.colab' in str(get_ipython()):\n",
    "    \n",
    "    notebooks = os.getcwd()\n",
    "    parent = str(pathlib.Path(notebooks).parent)\n",
    "    sys.path.append(parent)"
   ]
  },
  {
   "cell_type": "markdown",
   "metadata": {
    "id": "7Z26TBADzc_D"
   },
   "source": [
    "<br>\n",
    "\n",
    "### Libraries"
   ]
  },
  {
   "cell_type": "code",
   "execution_count": 6,
   "metadata": {
    "id": "Gr-J3F6IzX06"
   },
   "outputs": [],
   "source": [
    "import logging\n",
    "import collections\n",
    "\n",
    "import pandas as pd\n",
    "import numpy as np\n",
    "\n",
    "import sklearn.preprocessing"
   ]
  },
  {
   "cell_type": "markdown",
   "metadata": {
    "id": "zSgjj3zP3LX3"
   },
   "source": [
    "<br>\n",
    "\n",
    "### Logging"
   ]
  },
  {
   "cell_type": "code",
   "execution_count": 7,
   "metadata": {
    "id": "uUTt0Rrm3HPo"
   },
   "outputs": [],
   "source": [
    "logging.basicConfig(level=logging.INFO, format='%(message)s\\n%(asctime)s.%(msecs)03d', datefmt='%Y-%m-%d %H:%M:%S')\n",
    "logger = logging.getLogger(__name__)"
   ]
  },
  {
   "cell_type": "markdown",
   "metadata": {
    "id": "N3xLPJBkLZqJ"
   },
   "source": [
    "<br>\n",
    "\n",
    "### Custom"
   ]
  },
  {
   "cell_type": "code",
   "execution_count": 8,
   "metadata": {
    "id": "pdxEwJ3lLcNH"
   },
   "outputs": [],
   "source": [
    "import config\n",
    "\n",
    "import credit.src.archetype"
   ]
  },
  {
   "cell_type": "markdown",
   "metadata": {
    "id": "y93UUm6-_qmG"
   },
   "source": [
    "<br>\n",
    "\n",
    "Configurations"
   ]
  },
  {
   "cell_type": "code",
   "execution_count": 9,
   "metadata": {
    "id": "7jA8-qAp_u6F"
   },
   "outputs": [],
   "source": [
    "configurations = config.Config()"
   ]
  },
  {
   "cell_type": "code",
   "execution_count": 10,
   "metadata": {
    "id": "tpIrh9yKXqAp"
   },
   "outputs": [],
   "source": [
    "warehouse_directory = os.path.join(parent, 'warehouse', 'data')\n",
    "if not os.path.exists(warehouse_directory):\n",
    "    os.makedirs(warehouse_directory)\n",
    "    \n",
    "raw_data_directory = os.path.join(parent, 'data')\n",
    "if not os.path.exists(raw_data_directory):\n",
    "    os.makedirs(raw_data_directory)    "
   ]
  },
  {
   "cell_type": "markdown",
   "metadata": {
    "id": "gJY-1v0LHy0P"
   },
   "source": [
    "<br>\n",
    "<br>\n",
    "\n",
    "## Data"
   ]
  },
  {
   "cell_type": "markdown",
   "metadata": {
    "id": "yk3vmPOUoJeH"
   },
   "source": [
    "### Raw"
   ]
  },
  {
   "cell_type": "markdown",
   "metadata": {
    "id": "QBpGChrrFUpp"
   },
   "source": [
    "Glossary:\n",
    "\n",
    "> **e**: existing, **i**: installments, **n**: number, **acc**: account, **chq**: cheque, **emp**: employment, **inc**: income, **res**: residence, **curr**: current, **disp**: disposable\n",
    "\n"
   ]
  },
  {
   "cell_type": "code",
   "execution_count": 11,
   "metadata": {
    "id": "u1iF53KY-8-8"
   },
   "outputs": [],
   "source": [
    "fields = ['e_chq_acc_status', 'duration_months', 'credit_history', 'purpose', 'credit_amount', 'savings_acc_class', 'curr_emp_class', \n",
    " 'i_rate_by_disp_inc', 'sex_and_status', 'other_debtors_class', 'curr_res_since', 'property', 'age_years', 'other_i_plans', 'housing',\n",
    " 'n_e_credits_this_bank', 'job', 'n_dependants', 'telephone', 'foreign_worker', 'label']"
   ]
  },
  {
   "cell_type": "markdown",
   "metadata": {
    "id": "nhQgq9PXH1Wm"
   },
   "source": [
    "<br>\n",
    "\n",
    "URL"
   ]
  },
  {
   "cell_type": "code",
   "execution_count": 12,
   "metadata": {
    "id": "RCfh3siK0Qss"
   },
   "outputs": [],
   "source": [
    "url = 'https://archive.ics.uci.edu/ml/machine-learning-databases/statlog/german/german.data'"
   ]
  },
  {
   "cell_type": "markdown",
   "metadata": {
    "id": "fzmxYMzZH6QC"
   },
   "source": [
    "<br>\n",
    "\n",
    "Read"
   ]
  },
  {
   "cell_type": "code",
   "execution_count": 13,
   "metadata": {
    "id": "VLOuB4N1z5Pi"
   },
   "outputs": [],
   "source": [
    "try:\n",
    "    data = pd.read_csv(filepath_or_buffer=url, sep=' ', header=None, encoding='utf-8')\n",
    "except OSError as err:\n",
    "    raise Exception(err.strerror) in err\n",
    "\n",
    "data.columns = fields"
   ]
  },
  {
   "cell_type": "code",
   "execution_count": 14,
   "metadata": {},
   "outputs": [
    {
     "name": "stderr",
     "output_type": "stream",
     "text": [
      "  e_chq_acc_status  duration_months credit_history purpose  credit_amount  \\\n",
      "0              A11                6            A34     A43           1169   \n",
      "1              A12               48            A32     A43           5951   \n",
      "2              A14               12            A34     A46           2096   \n",
      "3              A11               42            A32     A42           7882   \n",
      "4              A11               24            A33     A40           4870   \n",
      "\n",
      "  savings_acc_class curr_emp_class  i_rate_by_disp_inc sex_and_status  \\\n",
      "0               A65            A75                   4            A93   \n",
      "1               A61            A73                   2            A92   \n",
      "2               A61            A74                   2            A93   \n",
      "3               A61            A74                   2            A93   \n",
      "4               A61            A73                   3            A93   \n",
      "\n",
      "  other_debtors_class  ...  property age_years  other_i_plans housing  \\\n",
      "0                A101  ...      A121        67           A143    A152   \n",
      "1                A101  ...      A121        22           A143    A152   \n",
      "2                A101  ...      A121        49           A143    A152   \n",
      "3                A103  ...      A122        45           A143    A153   \n",
      "4                A101  ...      A124        53           A143    A153   \n",
      "\n",
      "  n_e_credits_this_bank   job n_dependants  telephone foreign_worker label  \n",
      "0                     2  A173            1       A192           A201     1  \n",
      "1                     1  A173            1       A191           A201     2  \n",
      "2                     1  A172            2       A191           A201     1  \n",
      "3                     1  A173            2       A191           A201     1  \n",
      "4                     2  A173            2       A191           A201     2  \n",
      "\n",
      "[5 rows x 21 columns]\n",
      "2021-05-14 16:16:42.320\n"
     ]
    }
   ],
   "source": [
    "logger.info(data.head())"
   ]
  },
  {
   "cell_type": "markdown",
   "metadata": {
    "id": "IIjq1wQjLHwa"
   },
   "source": [
    "<br>\n",
    "\n",
    "Write"
   ]
  },
  {
   "cell_type": "code",
   "execution_count": 15,
   "metadata": {
    "id": "gmv1xw9cKbD6"
   },
   "outputs": [],
   "source": [
    "data.to_csv(path_or_buf=os.path.join(raw_data_directory, 'credit.csv'), \n",
    "            header=True, index=False, encoding='utf-8')"
   ]
  },
  {
   "cell_type": "markdown",
   "metadata": {
    "id": "sNO4_KMZSufZ"
   },
   "source": [
    "<br>\n",
    "\n",
    "### Numeric Data"
   ]
  },
  {
   "cell_type": "code",
   "execution_count": 16,
   "metadata": {
    "colab": {
     "base_uri": "https://localhost:8080/"
    },
    "id": "3IMslXeDR1Qt",
    "outputId": "02bf3e0c-eac0-4798-e0ea-209547da4e83"
   },
   "outputs": [
    {
     "name": "stderr",
     "output_type": "stream",
     "text": [
      "None\n",
      "2021-05-14 16:16:42.399\n"
     ]
    },
    {
     "name": "stdout",
     "output_type": "stream",
     "text": [
      "<class 'pandas.core.frame.DataFrame'>\n",
      "RangeIndex: 1000 entries, 0 to 999\n",
      "Data columns (total 7 columns):\n",
      " #   Column                 Non-Null Count  Dtype\n",
      "---  ------                 --------------  -----\n",
      " 0   duration_months        1000 non-null   int64\n",
      " 1   credit_amount          1000 non-null   int64\n",
      " 2   i_rate_by_disp_inc     1000 non-null   int64\n",
      " 3   curr_res_since         1000 non-null   int64\n",
      " 4   age_years              1000 non-null   int64\n",
      " 5   n_e_credits_this_bank  1000 non-null   int64\n",
      " 6   n_dependants           1000 non-null   int64\n",
      "dtypes: int64(7)\n",
      "memory usage: 54.8 KB\n"
     ]
    }
   ],
   "source": [
    "numeric = data[configurations.numeric]\n",
    "logger.info(numeric.info())"
   ]
  },
  {
   "cell_type": "markdown",
   "metadata": {
    "id": "elgU9M7ZnsU0"
   },
   "source": [
    "<br>\n",
    "\n",
    "### Labels"
   ]
  },
  {
   "cell_type": "markdown",
   "metadata": {
    "id": "mFDpWmM5VikH"
   },
   "source": [
    "* 2: unreasonable $\\rightarrow$ 0\n",
    "* 1: reasonable $\\rightarrow$ 1"
   ]
  },
  {
   "cell_type": "code",
   "execution_count": 17,
   "metadata": {
    "colab": {
     "base_uri": "https://localhost:8080/"
    },
    "id": "oqJNkMfvVkw-",
    "outputId": "7139b056-bb71-4561-f871-44ae103de5ba"
   },
   "outputs": [],
   "source": [
    "labels = data[['label']].copy()\n",
    "labels.loc[:, 'label'] = labels['label'].mod(2)\n",
    "labels.columns = ['reasonable']"
   ]
  },
  {
   "cell_type": "markdown",
   "metadata": {
    "id": "0Ml-wu-y2859"
   },
   "source": [
    "<br>\n",
    "<br>\n",
    "\n",
    "## Encoding"
   ]
  },
  {
   "cell_type": "code",
   "execution_count": 18,
   "metadata": {
    "colab": {
     "base_uri": "https://localhost:8080/"
    },
    "id": "zG2zg4jDPzA9",
    "outputId": "f6b6e3cc-2f2b-4f25-a42e-255a04aaf705"
   },
   "outputs": [
    {
     "name": "stderr",
     "output_type": "stream",
     "text": [
      "('fields', 'arrays', 'dictionary')\n",
      "2021-05-14 16:16:42.417\n"
     ]
    }
   ],
   "source": [
    "archetype = credit.src.archetype.Archetype()\n",
    "\n",
    "categories = archetype.categories()\n",
    "logger.info('{}'.format(categories._fields))"
   ]
  },
  {
   "cell_type": "code",
   "execution_count": 19,
   "metadata": {
    "id": "6g_YqUUvlxgo"
   },
   "outputs": [],
   "source": [
    "instances = data[categories.fields]"
   ]
  },
  {
   "cell_type": "markdown",
   "metadata": {
    "id": "opC_XE824ZPE"
   },
   "source": [
    "<br>\n",
    "\n",
    "### Transformation Functions"
   ]
  },
  {
   "cell_type": "code",
   "execution_count": 20,
   "metadata": {
    "id": "_D7S39OkymPl"
   },
   "outputs": [],
   "source": [
    "def sex(frame: pd.DataFrame):\n",
    "\n",
    "    # sex: 0 -> female, 1 -> male\n",
    "    values: pd.Series = frame['sex_and_status'].copy().apply(\n",
    "        lambda x: 0 if (x == 'A92' or x == 'A95') else 1)\n",
    "    values.rename('sex', inplace=True)\n",
    "\n",
    "    return values.to_frame()\n",
    "    "
   ]
  },
  {
   "cell_type": "markdown",
   "metadata": {
    "id": "mCis4KudJAna"
   },
   "source": [
    "<br>\n",
    "\n",
    "Aside"
   ]
  },
  {
   "cell_type": "code",
   "execution_count": 21,
   "metadata": {
    "id": "_zsDR5Tnf3aV"
   },
   "outputs": [],
   "source": [
    "sex_ = sex(frame=data[['sex_and_status']])"
   ]
  },
  {
   "cell_type": "markdown",
   "metadata": {
    "id": "X-CRM-Lqk_4t"
   },
   "source": [
    "<br>\n",
    "\n",
    "### Ordinal"
   ]
  },
  {
   "cell_type": "code",
   "execution_count": 22,
   "metadata": {
    "id": "JWwAcHB5lF7U"
   },
   "outputs": [],
   "source": [
    "enc = sklearn.preprocessing.OrdinalEncoder(categories=categories.arrays, dtype=np.int)\n",
    "ordinals_ = enc.fit_transform(X=instances)\n",
    "ordinals = pd.DataFrame(data=ordinals_, columns=categories.fields)"
   ]
  },
  {
   "cell_type": "code",
   "execution_count": 28,
   "metadata": {},
   "outputs": [],
   "source": [
    "originals = data[categories.fields]"
   ]
  },
  {
   "cell_type": "markdown",
   "metadata": {
    "id": "8hV6-N9-on5Y"
   },
   "source": [
    "<br>\n",
    "\n",
    "### One Hot"
   ]
  },
  {
   "cell_type": "code",
   "execution_count": 23,
   "metadata": {
    "id": "Hc1cyT1kLHFS"
   },
   "outputs": [],
   "source": [
    "enc = sklearn.preprocessing.OneHotEncoder(categories=categories.arrays, sparse=False, dtype=np.int)\n",
    "\n",
    "bits_ = enc.fit_transform(X=instances)\n",
    "columns = [column[(column.rindex('_') + 1):] for column in enc.get_feature_names()]\n",
    "bits = pd.DataFrame(data=bits_, columns=columns)"
   ]
  },
  {
   "cell_type": "markdown",
   "metadata": {
    "id": "6eGKOkxypnb5"
   },
   "source": [
    "<br>\n",
    "<br>\n",
    "\n",
    "## Features"
   ]
  },
  {
   "cell_type": "markdown",
   "metadata": {
    "id": "YqgHBpJdA4_g"
   },
   "source": [
    "For modelling"
   ]
  },
  {
   "cell_type": "code",
   "execution_count": 24,
   "metadata": {
    "id": "8qMGEEyfqlFj"
   },
   "outputs": [],
   "source": [
    "pd.concat([numeric, bits, sex_, labels], axis=1).\\\n",
    "    to_csv(path_or_buf=os.path.join(warehouse_directory, 'modelling.csv'), header=True, index=False, encoding='utf-8')"
   ]
  },
  {
   "cell_type": "markdown",
   "metadata": {
    "id": "qyz3pbtVVug6"
   },
   "source": [
    "<br>\n",
    "\n",
    "For statistics"
   ]
  },
  {
   "cell_type": "code",
   "execution_count": 30,
   "metadata": {
    "id": "iRYrrWu7JJsn"
   },
   "outputs": [],
   "source": [
    "pd.concat((numeric, ordinals, sex_, labels), axis=1).\\\n",
    "    to_csv(path_or_buf=os.path.join(warehouse_directory, 'numeric.csv'), header=True, index=False, encoding='utf-8')"
   ]
  },
  {
   "cell_type": "code",
   "execution_count": 31,
   "metadata": {},
   "outputs": [],
   "source": [
    "pd.concat((numeric, originals, sex_, labels), axis=1).\\\n",
    "    to_csv(path_or_buf=os.path.join(warehouse_directory, 'alphabetic.csv'), header=True, index=False, encoding='utf-8')"
   ]
  }
 ],
 "metadata": {
  "colab": {
   "collapsed_sections": [],
   "name": "data.ipynb",
   "provenance": [],
   "toc_visible": true
  },
  "kernelspec": {
   "display_name": "Python 3",
   "language": "python",
   "name": "python3"
  },
  "language_info": {
   "codemirror_mode": {
    "name": "ipython",
    "version": 3
   },
   "file_extension": ".py",
   "mimetype": "text/x-python",
   "name": "python",
   "nbconvert_exporter": "python",
   "pygments_lexer": "ipython3",
   "version": "3.7.7"
  }
 },
 "nbformat": 4,
 "nbformat_minor": 4
}
