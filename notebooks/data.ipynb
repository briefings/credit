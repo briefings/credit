{
 "cells": [
  {
   "cell_type": "markdown",
   "metadata": {
    "id": "9Oar5yOtzZrO"
   },
   "source": [
    "## Prelimiaries"
   ]
  },
  {
   "cell_type": "markdown",
   "metadata": {
    "id": "esvV-Cn9ze9o"
   },
   "source": [
    "For a Bayesian classification example for illustrating the **sheets/cards** family."
   ]
  },
  {
   "cell_type": "code",
   "execution_count": 1,
   "metadata": {
    "id": "grZ28UVRhKda"
   },
   "outputs": [],
   "source": [
    "!rm -rf *.sh"
   ]
  },
  {
   "cell_type": "markdown",
   "metadata": {
    "id": "6VgMmWuTI5rZ"
   },
   "source": [
    "<br>\n",
    "\n",
    "### Packages"
   ]
  },
  {
   "cell_type": "code",
   "execution_count": 2,
   "metadata": {
    "id": "IrEiqQ65i4HP"
   },
   "outputs": [],
   "source": [
    "import subprocess"
   ]
  },
  {
   "cell_type": "code",
   "execution_count": 3,
   "metadata": {
    "id": "XVwENGGwi8pA"
   },
   "outputs": [],
   "source": [
    "if 'google.colab' in str(get_ipython()):\n",
    "    subprocess.run('wget -q https://raw.githubusercontent.com/briefings/credit/develop/scripts.sh', shell=True)\n",
    "    subprocess.run('chmod u+x scripts.sh', shell=True)\n",
    "    subprocess.run('./scripts.sh', shell=True)"
   ]
  },
  {
   "cell_type": "markdown",
   "metadata": {},
   "source": [
    "<br>\n",
    "\n",
    "### Paths"
   ]
  },
  {
   "cell_type": "code",
   "execution_count": 4,
   "metadata": {},
   "outputs": [],
   "source": [
    "import os\n",
    "import pathlib\n",
    "import sys"
   ]
  },
  {
   "cell_type": "code",
   "execution_count": 5,
   "metadata": {},
   "outputs": [],
   "source": [
    "if not 'google.colab' in str(get_ipython()):\n",
    "    \n",
    "    notebooks = os.getcwd()\n",
    "    parent = str(pathlib.Path(notebooks).parent)\n",
    "    sys.path.append(parent)"
   ]
  },
  {
   "cell_type": "markdown",
   "metadata": {
    "id": "7Z26TBADzc_D"
   },
   "source": [
    "<br>\n",
    "\n",
    "### Libraries"
   ]
  },
  {
   "cell_type": "code",
   "execution_count": 6,
   "metadata": {
    "id": "Gr-J3F6IzX06"
   },
   "outputs": [],
   "source": [
    "import logging\n",
    "import collections\n",
    "\n",
    "import pandas as pd\n",
    "import numpy as np\n",
    "\n",
    "import json\n",
    "\n",
    "import sklearn.preprocessing"
   ]
  },
  {
   "cell_type": "markdown",
   "metadata": {
    "id": "zSgjj3zP3LX3"
   },
   "source": [
    "<br>\n",
    "\n",
    "### Logging"
   ]
  },
  {
   "cell_type": "code",
   "execution_count": 7,
   "metadata": {
    "id": "uUTt0Rrm3HPo"
   },
   "outputs": [],
   "source": [
    "logging.basicConfig(level=logging.INFO, format='%(message)s\\n%(asctime)s.%(msecs)03d', datefmt='%Y-%m-%d %H:%M:%S')\n",
    "logger = logging.getLogger(__name__)"
   ]
  },
  {
   "cell_type": "markdown",
   "metadata": {
    "id": "N3xLPJBkLZqJ"
   },
   "source": [
    "<br>\n",
    "\n",
    "### Custom"
   ]
  },
  {
   "cell_type": "code",
   "execution_count": 8,
   "metadata": {
    "id": "pdxEwJ3lLcNH"
   },
   "outputs": [],
   "source": [
    "import config\n",
    "\n",
    "import credit.src.archetype"
   ]
  },
  {
   "cell_type": "markdown",
   "metadata": {
    "id": "y93UUm6-_qmG"
   },
   "source": [
    "<br>\n",
    "\n",
    "Configurations"
   ]
  },
  {
   "cell_type": "code",
   "execution_count": 9,
   "metadata": {
    "id": "7jA8-qAp_u6F"
   },
   "outputs": [],
   "source": [
    "configurations = config.Config()"
   ]
  },
  {
   "cell_type": "code",
   "execution_count": 10,
   "metadata": {
    "id": "tpIrh9yKXqAp"
   },
   "outputs": [],
   "source": [
    "warehouse_directory = os.path.join(parent, 'warehouse', 'data')\n",
    "if not os.path.exists(warehouse_directory):\n",
    "    os.makedirs(warehouse_directory)\n",
    "    \n",
    "raw_data_directory = os.path.join(parent, 'data')\n",
    "if not os.path.exists(raw_data_directory):\n",
    "    os.makedirs(raw_data_directory)    "
   ]
  },
  {
   "cell_type": "markdown",
   "metadata": {
    "id": "gJY-1v0LHy0P"
   },
   "source": [
    "<br>\n",
    "<br>\n",
    "\n",
    "## Data"
   ]
  },
  {
   "cell_type": "markdown",
   "metadata": {
    "id": "yk3vmPOUoJeH"
   },
   "source": [
    "### Raw"
   ]
  },
  {
   "cell_type": "markdown",
   "metadata": {
    "id": "QBpGChrrFUpp"
   },
   "source": [
    "Glossary:\n",
    "\n",
    "> **e**: existing, **i**: installments, **n**: number, **acc**: account, **chq**: cheque, **emp**: employment, **inc**: income, **res**: residence, **curr**: current, **disp**: disposable\n",
    "\n"
   ]
  },
  {
   "cell_type": "code",
   "execution_count": 11,
   "metadata": {
    "id": "u1iF53KY-8-8"
   },
   "outputs": [],
   "source": [
    "fields = ['e_chq_acc_status', 'duration_months', 'credit_history', 'purpose', 'credit_amount', 'savings_acc_class', 'curr_emp_class', \n",
    " 'i_rate_by_disp_inc', 'sex_and_status', 'other_debtors_class', 'curr_res_since', 'property', 'age_years', 'other_i_plans', 'housing',\n",
    " 'n_e_credits_this_bank', 'job', 'n_dependants', 'telephone', 'foreign_worker', 'label']"
   ]
  },
  {
   "cell_type": "markdown",
   "metadata": {
    "id": "nhQgq9PXH1Wm"
   },
   "source": [
    "<br>\n",
    "\n",
    "URL"
   ]
  },
  {
   "cell_type": "code",
   "execution_count": 12,
   "metadata": {
    "id": "RCfh3siK0Qss"
   },
   "outputs": [],
   "source": [
    "url = 'https://archive.ics.uci.edu/ml/machine-learning-databases/statlog/german/german.data'"
   ]
  },
  {
   "cell_type": "markdown",
   "metadata": {
    "id": "fzmxYMzZH6QC"
   },
   "source": [
    "<br>\n",
    "\n",
    "Read"
   ]
  },
  {
   "cell_type": "code",
   "execution_count": 13,
   "metadata": {
    "id": "VLOuB4N1z5Pi"
   },
   "outputs": [],
   "source": [
    "try:\n",
    "    data = pd.read_csv(filepath_or_buffer=url, sep=' ', header=None, encoding='utf-8')\n",
    "except OSError as err:\n",
    "    raise Exception(err.strerror) in err\n",
    "\n",
    "data.columns = fields"
   ]
  },
  {
   "cell_type": "code",
   "execution_count": 14,
   "metadata": {},
   "outputs": [
    {
     "name": "stderr",
     "output_type": "stream",
     "text": [
      "  e_chq_acc_status  duration_months credit_history purpose  credit_amount  \\\n",
      "0              A11                6            A34     A43           1169   \n",
      "1              A12               48            A32     A43           5951   \n",
      "2              A14               12            A34     A46           2096   \n",
      "3              A11               42            A32     A42           7882   \n",
      "4              A11               24            A33     A40           4870   \n",
      "\n",
      "  savings_acc_class curr_emp_class  i_rate_by_disp_inc sex_and_status  \\\n",
      "0               A65            A75                   4            A93   \n",
      "1               A61            A73                   2            A92   \n",
      "2               A61            A74                   2            A93   \n",
      "3               A61            A74                   2            A93   \n",
      "4               A61            A73                   3            A93   \n",
      "\n",
      "  other_debtors_class  ...  property age_years  other_i_plans housing  \\\n",
      "0                A101  ...      A121        67           A143    A152   \n",
      "1                A101  ...      A121        22           A143    A152   \n",
      "2                A101  ...      A121        49           A143    A152   \n",
      "3                A103  ...      A122        45           A143    A153   \n",
      "4                A101  ...      A124        53           A143    A153   \n",
      "\n",
      "  n_e_credits_this_bank   job n_dependants  telephone foreign_worker label  \n",
      "0                     2  A173            1       A192           A201     1  \n",
      "1                     1  A173            1       A191           A201     2  \n",
      "2                     1  A172            2       A191           A201     1  \n",
      "3                     1  A173            2       A191           A201     1  \n",
      "4                     2  A173            2       A191           A201     2  \n",
      "\n",
      "[5 rows x 21 columns]\n",
      "2021-06-22 19:28:47.748\n"
     ]
    }
   ],
   "source": [
    "logger.info(data.head())"
   ]
  },
  {
   "cell_type": "markdown",
   "metadata": {
    "id": "IIjq1wQjLHwa"
   },
   "source": [
    "<br>\n",
    "\n",
    "Write"
   ]
  },
  {
   "cell_type": "code",
   "execution_count": 15,
   "metadata": {
    "id": "gmv1xw9cKbD6"
   },
   "outputs": [],
   "source": [
    "data.to_csv(path_or_buf=os.path.join(raw_data_directory, 'credit.csv'), \n",
    "            header=True, index=False, encoding='utf-8')"
   ]
  },
  {
   "cell_type": "markdown",
   "metadata": {
    "id": "sNO4_KMZSufZ"
   },
   "source": [
    "<br>\n",
    "\n",
    "### Numeric Data"
   ]
  },
  {
   "cell_type": "code",
   "execution_count": 16,
   "metadata": {
    "colab": {
     "base_uri": "https://localhost:8080/"
    },
    "id": "3IMslXeDR1Qt",
    "outputId": "02bf3e0c-eac0-4798-e0ea-209547da4e83"
   },
   "outputs": [
    {
     "name": "stderr",
     "output_type": "stream",
     "text": [
      "None\n",
      "2021-06-22 19:28:47.818\n"
     ]
    },
    {
     "name": "stdout",
     "output_type": "stream",
     "text": [
      "<class 'pandas.core.frame.DataFrame'>\n",
      "RangeIndex: 1000 entries, 0 to 999\n",
      "Data columns (total 7 columns):\n",
      " #   Column                 Non-Null Count  Dtype\n",
      "---  ------                 --------------  -----\n",
      " 0   duration_months        1000 non-null   int64\n",
      " 1   credit_amount          1000 non-null   int64\n",
      " 2   i_rate_by_disp_inc     1000 non-null   int64\n",
      " 3   curr_res_since         1000 non-null   int64\n",
      " 4   age_years              1000 non-null   int64\n",
      " 5   n_e_credits_this_bank  1000 non-null   int64\n",
      " 6   n_dependants           1000 non-null   int64\n",
      "dtypes: int64(7)\n",
      "memory usage: 54.8 KB\n"
     ]
    }
   ],
   "source": [
    "numeric = data[configurations.numeric]\n",
    "logger.info(numeric.info())"
   ]
  },
  {
   "cell_type": "markdown",
   "metadata": {
    "id": "elgU9M7ZnsU0"
   },
   "source": [
    "<br>\n",
    "\n",
    "### Labels"
   ]
  },
  {
   "cell_type": "markdown",
   "metadata": {
    "id": "mFDpWmM5VikH"
   },
   "source": [
    "* 2: unreasonable $\\rightarrow$ 0\n",
    "* 1: reasonable $\\rightarrow$ 1"
   ]
  },
  {
   "cell_type": "code",
   "execution_count": 17,
   "metadata": {
    "colab": {
     "base_uri": "https://localhost:8080/"
    },
    "id": "oqJNkMfvVkw-",
    "outputId": "7139b056-bb71-4561-f871-44ae103de5ba"
   },
   "outputs": [],
   "source": [
    "labels = data[['label']].copy()\n",
    "labels.loc[:, 'label'] = labels['label'].mod(2)\n",
    "labels.columns = ['reasonable']"
   ]
  },
  {
   "cell_type": "markdown",
   "metadata": {
    "id": "0Ml-wu-y2859"
   },
   "source": [
    "<br>\n",
    "<br>\n",
    "\n",
    "## Encoding"
   ]
  },
  {
   "cell_type": "code",
   "execution_count": 18,
   "metadata": {
    "colab": {
     "base_uri": "https://localhost:8080/"
    },
    "id": "zG2zg4jDPzA9",
    "outputId": "f6b6e3cc-2f2b-4f25-a42e-255a04aaf705"
   },
   "outputs": [
    {
     "name": "stderr",
     "output_type": "stream",
     "text": [
      "('fields', 'arrays', 'dictionary')\n",
      "2021-06-22 19:28:47.838\n"
     ]
    }
   ],
   "source": [
    "archetype = credit.src.archetype.Archetype()\n",
    "\n",
    "categories = archetype.categories()\n",
    "logger.info('{}'.format(categories._fields))"
   ]
  },
  {
   "cell_type": "code",
   "execution_count": 19,
   "metadata": {
    "id": "6g_YqUUvlxgo"
   },
   "outputs": [],
   "source": [
    "instances = data[categories.fields]"
   ]
  },
  {
   "cell_type": "markdown",
   "metadata": {
    "id": "opC_XE824ZPE"
   },
   "source": [
    "<br>\n",
    "\n",
    "### Transformation Functions"
   ]
  },
  {
   "cell_type": "code",
   "execution_count": 20,
   "metadata": {
    "id": "_D7S39OkymPl"
   },
   "outputs": [],
   "source": [
    "def sex(frame: pd.DataFrame):\n",
    "\n",
    "    # sex: 1 -> female, 0 -> male\n",
    "    values: pd.Series = frame['sex_and_status'].copy().apply(\n",
    "        lambda x: 1 if (x == 'A92' or x == 'A95') else 0)\n",
    "    values.rename('female', inplace=True)\n",
    "\n",
    "    return values.to_frame()\n",
    "    "
   ]
  },
  {
   "cell_type": "markdown",
   "metadata": {
    "id": "mCis4KudJAna"
   },
   "source": [
    "<br>\n",
    "\n",
    "Aside"
   ]
  },
  {
   "cell_type": "code",
   "execution_count": 21,
   "metadata": {
    "id": "_zsDR5Tnf3aV"
   },
   "outputs": [],
   "source": [
    "sex_ = sex(frame=data[['sex_and_status']])"
   ]
  },
  {
   "cell_type": "markdown",
   "metadata": {},
   "source": [
    "<br>\n",
    "<br>\n",
    "\n",
    "### Baseline"
   ]
  },
  {
   "cell_type": "code",
   "execution_count": 22,
   "metadata": {},
   "outputs": [],
   "source": [
    "originals = data[categories.fields]"
   ]
  },
  {
   "cell_type": "code",
   "execution_count": 23,
   "metadata": {},
   "outputs": [],
   "source": [
    "baseline = pd.concat((numeric, originals, sex_, labels), axis=1)"
   ]
  },
  {
   "cell_type": "code",
   "execution_count": 24,
   "metadata": {},
   "outputs": [],
   "source": [
    "baseline.to_csv(path_or_buf=os.path.join(warehouse_directory, 'baseline.csv'), header=True, index=False, encoding='utf-8')"
   ]
  },
  {
   "cell_type": "code",
   "execution_count": 25,
   "metadata": {},
   "outputs": [
    {
     "data": {
      "text/html": [
       "<div>\n",
       "<style scoped>\n",
       "    .dataframe tbody tr th:only-of-type {\n",
       "        vertical-align: middle;\n",
       "    }\n",
       "\n",
       "    .dataframe tbody tr th {\n",
       "        vertical-align: top;\n",
       "    }\n",
       "\n",
       "    .dataframe thead th {\n",
       "        text-align: right;\n",
       "    }\n",
       "</style>\n",
       "<table border=\"1\" class=\"dataframe\">\n",
       "  <thead>\n",
       "    <tr style=\"text-align: right;\">\n",
       "      <th></th>\n",
       "      <th>0</th>\n",
       "      <th>1</th>\n",
       "      <th>2</th>\n",
       "      <th>3</th>\n",
       "      <th>4</th>\n",
       "    </tr>\n",
       "  </thead>\n",
       "  <tbody>\n",
       "    <tr>\n",
       "      <th>duration_months</th>\n",
       "      <td>6</td>\n",
       "      <td>48</td>\n",
       "      <td>12</td>\n",
       "      <td>42</td>\n",
       "      <td>24</td>\n",
       "    </tr>\n",
       "    <tr>\n",
       "      <th>credit_amount</th>\n",
       "      <td>1169</td>\n",
       "      <td>5951</td>\n",
       "      <td>2096</td>\n",
       "      <td>7882</td>\n",
       "      <td>4870</td>\n",
       "    </tr>\n",
       "    <tr>\n",
       "      <th>i_rate_by_disp_inc</th>\n",
       "      <td>4</td>\n",
       "      <td>2</td>\n",
       "      <td>2</td>\n",
       "      <td>2</td>\n",
       "      <td>3</td>\n",
       "    </tr>\n",
       "    <tr>\n",
       "      <th>curr_res_since</th>\n",
       "      <td>4</td>\n",
       "      <td>2</td>\n",
       "      <td>3</td>\n",
       "      <td>4</td>\n",
       "      <td>4</td>\n",
       "    </tr>\n",
       "    <tr>\n",
       "      <th>age_years</th>\n",
       "      <td>67</td>\n",
       "      <td>22</td>\n",
       "      <td>49</td>\n",
       "      <td>45</td>\n",
       "      <td>53</td>\n",
       "    </tr>\n",
       "    <tr>\n",
       "      <th>n_e_credits_this_bank</th>\n",
       "      <td>2</td>\n",
       "      <td>1</td>\n",
       "      <td>1</td>\n",
       "      <td>1</td>\n",
       "      <td>2</td>\n",
       "    </tr>\n",
       "    <tr>\n",
       "      <th>n_dependants</th>\n",
       "      <td>1</td>\n",
       "      <td>1</td>\n",
       "      <td>2</td>\n",
       "      <td>2</td>\n",
       "      <td>2</td>\n",
       "    </tr>\n",
       "    <tr>\n",
       "      <th>e_chq_acc_status</th>\n",
       "      <td>A11</td>\n",
       "      <td>A12</td>\n",
       "      <td>A14</td>\n",
       "      <td>A11</td>\n",
       "      <td>A11</td>\n",
       "    </tr>\n",
       "    <tr>\n",
       "      <th>credit_history</th>\n",
       "      <td>A34</td>\n",
       "      <td>A32</td>\n",
       "      <td>A34</td>\n",
       "      <td>A32</td>\n",
       "      <td>A33</td>\n",
       "    </tr>\n",
       "    <tr>\n",
       "      <th>purpose</th>\n",
       "      <td>A43</td>\n",
       "      <td>A43</td>\n",
       "      <td>A46</td>\n",
       "      <td>A42</td>\n",
       "      <td>A40</td>\n",
       "    </tr>\n",
       "    <tr>\n",
       "      <th>savings_acc_class</th>\n",
       "      <td>A65</td>\n",
       "      <td>A61</td>\n",
       "      <td>A61</td>\n",
       "      <td>A61</td>\n",
       "      <td>A61</td>\n",
       "    </tr>\n",
       "    <tr>\n",
       "      <th>curr_emp_class</th>\n",
       "      <td>A75</td>\n",
       "      <td>A73</td>\n",
       "      <td>A74</td>\n",
       "      <td>A74</td>\n",
       "      <td>A73</td>\n",
       "    </tr>\n",
       "    <tr>\n",
       "      <th>sex_and_status</th>\n",
       "      <td>A93</td>\n",
       "      <td>A92</td>\n",
       "      <td>A93</td>\n",
       "      <td>A93</td>\n",
       "      <td>A93</td>\n",
       "    </tr>\n",
       "    <tr>\n",
       "      <th>other_debtors_class</th>\n",
       "      <td>A101</td>\n",
       "      <td>A101</td>\n",
       "      <td>A101</td>\n",
       "      <td>A103</td>\n",
       "      <td>A101</td>\n",
       "    </tr>\n",
       "    <tr>\n",
       "      <th>property</th>\n",
       "      <td>A121</td>\n",
       "      <td>A121</td>\n",
       "      <td>A121</td>\n",
       "      <td>A122</td>\n",
       "      <td>A124</td>\n",
       "    </tr>\n",
       "    <tr>\n",
       "      <th>other_i_plans</th>\n",
       "      <td>A143</td>\n",
       "      <td>A143</td>\n",
       "      <td>A143</td>\n",
       "      <td>A143</td>\n",
       "      <td>A143</td>\n",
       "    </tr>\n",
       "    <tr>\n",
       "      <th>housing</th>\n",
       "      <td>A152</td>\n",
       "      <td>A152</td>\n",
       "      <td>A152</td>\n",
       "      <td>A153</td>\n",
       "      <td>A153</td>\n",
       "    </tr>\n",
       "    <tr>\n",
       "      <th>job</th>\n",
       "      <td>A173</td>\n",
       "      <td>A173</td>\n",
       "      <td>A172</td>\n",
       "      <td>A173</td>\n",
       "      <td>A173</td>\n",
       "    </tr>\n",
       "    <tr>\n",
       "      <th>telephone</th>\n",
       "      <td>A192</td>\n",
       "      <td>A191</td>\n",
       "      <td>A191</td>\n",
       "      <td>A191</td>\n",
       "      <td>A191</td>\n",
       "    </tr>\n",
       "    <tr>\n",
       "      <th>foreign_worker</th>\n",
       "      <td>A201</td>\n",
       "      <td>A201</td>\n",
       "      <td>A201</td>\n",
       "      <td>A201</td>\n",
       "      <td>A201</td>\n",
       "    </tr>\n",
       "    <tr>\n",
       "      <th>female</th>\n",
       "      <td>0</td>\n",
       "      <td>1</td>\n",
       "      <td>0</td>\n",
       "      <td>0</td>\n",
       "      <td>0</td>\n",
       "    </tr>\n",
       "    <tr>\n",
       "      <th>reasonable</th>\n",
       "      <td>1</td>\n",
       "      <td>0</td>\n",
       "      <td>1</td>\n",
       "      <td>1</td>\n",
       "      <td>0</td>\n",
       "    </tr>\n",
       "  </tbody>\n",
       "</table>\n",
       "</div>"
      ],
      "text/plain": [
       "                          0     1     2     3     4\n",
       "duration_months           6    48    12    42    24\n",
       "credit_amount          1169  5951  2096  7882  4870\n",
       "i_rate_by_disp_inc        4     2     2     2     3\n",
       "curr_res_since            4     2     3     4     4\n",
       "age_years                67    22    49    45    53\n",
       "n_e_credits_this_bank     2     1     1     1     2\n",
       "n_dependants              1     1     2     2     2\n",
       "e_chq_acc_status        A11   A12   A14   A11   A11\n",
       "credit_history          A34   A32   A34   A32   A33\n",
       "purpose                 A43   A43   A46   A42   A40\n",
       "savings_acc_class       A65   A61   A61   A61   A61\n",
       "curr_emp_class          A75   A73   A74   A74   A73\n",
       "sex_and_status          A93   A92   A93   A93   A93\n",
       "other_debtors_class    A101  A101  A101  A103  A101\n",
       "property               A121  A121  A121  A122  A124\n",
       "other_i_plans          A143  A143  A143  A143  A143\n",
       "housing                A152  A152  A152  A153  A153\n",
       "job                    A173  A173  A172  A173  A173\n",
       "telephone              A192  A191  A191  A191  A191\n",
       "foreign_worker         A201  A201  A201  A201  A201\n",
       "female                    0     1     0     0     0\n",
       "reasonable                1     0     1     1     0"
      ]
     },
     "execution_count": 25,
     "metadata": {},
     "output_type": "execute_result"
    }
   ],
   "source": [
    "baseline.head().T"
   ]
  },
  {
   "cell_type": "markdown",
   "metadata": {
    "id": "X-CRM-Lqk_4t"
   },
   "source": [
    "<br>\n",
    "\n",
    "### Natural Numbers"
   ]
  },
  {
   "cell_type": "code",
   "execution_count": 26,
   "metadata": {
    "id": "JWwAcHB5lF7U"
   },
   "outputs": [],
   "source": [
    "enc = sklearn.preprocessing.OrdinalEncoder(categories=categories.arrays, dtype=np.int)\n",
    "ordinals_ = enc.fit_transform(X=instances)\n",
    "ordinals = pd.DataFrame(data=ordinals_, columns=categories.fields)"
   ]
  },
  {
   "cell_type": "code",
   "execution_count": 27,
   "metadata": {},
   "outputs": [],
   "source": [
    "natural = pd.concat((numeric, ordinals, sex_, labels), axis=1)"
   ]
  },
  {
   "cell_type": "code",
   "execution_count": 28,
   "metadata": {
    "id": "iRYrrWu7JJsn"
   },
   "outputs": [],
   "source": [
    "natural.to_csv(path_or_buf=os.path.join(warehouse_directory, 'natural.csv'), header=True, index=False, encoding='utf-8')"
   ]
  },
  {
   "cell_type": "code",
   "execution_count": 29,
   "metadata": {},
   "outputs": [
    {
     "data": {
      "text/html": [
       "<div>\n",
       "<style scoped>\n",
       "    .dataframe tbody tr th:only-of-type {\n",
       "        vertical-align: middle;\n",
       "    }\n",
       "\n",
       "    .dataframe tbody tr th {\n",
       "        vertical-align: top;\n",
       "    }\n",
       "\n",
       "    .dataframe thead th {\n",
       "        text-align: right;\n",
       "    }\n",
       "</style>\n",
       "<table border=\"1\" class=\"dataframe\">\n",
       "  <thead>\n",
       "    <tr style=\"text-align: right;\">\n",
       "      <th></th>\n",
       "      <th>0</th>\n",
       "      <th>1</th>\n",
       "      <th>2</th>\n",
       "      <th>3</th>\n",
       "      <th>4</th>\n",
       "    </tr>\n",
       "  </thead>\n",
       "  <tbody>\n",
       "    <tr>\n",
       "      <th>duration_months</th>\n",
       "      <td>6</td>\n",
       "      <td>48</td>\n",
       "      <td>12</td>\n",
       "      <td>42</td>\n",
       "      <td>24</td>\n",
       "    </tr>\n",
       "    <tr>\n",
       "      <th>credit_amount</th>\n",
       "      <td>1169</td>\n",
       "      <td>5951</td>\n",
       "      <td>2096</td>\n",
       "      <td>7882</td>\n",
       "      <td>4870</td>\n",
       "    </tr>\n",
       "    <tr>\n",
       "      <th>i_rate_by_disp_inc</th>\n",
       "      <td>4</td>\n",
       "      <td>2</td>\n",
       "      <td>2</td>\n",
       "      <td>2</td>\n",
       "      <td>3</td>\n",
       "    </tr>\n",
       "    <tr>\n",
       "      <th>curr_res_since</th>\n",
       "      <td>4</td>\n",
       "      <td>2</td>\n",
       "      <td>3</td>\n",
       "      <td>4</td>\n",
       "      <td>4</td>\n",
       "    </tr>\n",
       "    <tr>\n",
       "      <th>age_years</th>\n",
       "      <td>67</td>\n",
       "      <td>22</td>\n",
       "      <td>49</td>\n",
       "      <td>45</td>\n",
       "      <td>53</td>\n",
       "    </tr>\n",
       "    <tr>\n",
       "      <th>n_e_credits_this_bank</th>\n",
       "      <td>2</td>\n",
       "      <td>1</td>\n",
       "      <td>1</td>\n",
       "      <td>1</td>\n",
       "      <td>2</td>\n",
       "    </tr>\n",
       "    <tr>\n",
       "      <th>n_dependants</th>\n",
       "      <td>1</td>\n",
       "      <td>1</td>\n",
       "      <td>2</td>\n",
       "      <td>2</td>\n",
       "      <td>2</td>\n",
       "    </tr>\n",
       "    <tr>\n",
       "      <th>e_chq_acc_status</th>\n",
       "      <td>0</td>\n",
       "      <td>1</td>\n",
       "      <td>3</td>\n",
       "      <td>0</td>\n",
       "      <td>0</td>\n",
       "    </tr>\n",
       "    <tr>\n",
       "      <th>credit_history</th>\n",
       "      <td>4</td>\n",
       "      <td>2</td>\n",
       "      <td>4</td>\n",
       "      <td>2</td>\n",
       "      <td>3</td>\n",
       "    </tr>\n",
       "    <tr>\n",
       "      <th>purpose</th>\n",
       "      <td>3</td>\n",
       "      <td>3</td>\n",
       "      <td>6</td>\n",
       "      <td>2</td>\n",
       "      <td>0</td>\n",
       "    </tr>\n",
       "    <tr>\n",
       "      <th>savings_acc_class</th>\n",
       "      <td>4</td>\n",
       "      <td>0</td>\n",
       "      <td>0</td>\n",
       "      <td>0</td>\n",
       "      <td>0</td>\n",
       "    </tr>\n",
       "    <tr>\n",
       "      <th>curr_emp_class</th>\n",
       "      <td>4</td>\n",
       "      <td>2</td>\n",
       "      <td>3</td>\n",
       "      <td>3</td>\n",
       "      <td>2</td>\n",
       "    </tr>\n",
       "    <tr>\n",
       "      <th>sex_and_status</th>\n",
       "      <td>2</td>\n",
       "      <td>1</td>\n",
       "      <td>2</td>\n",
       "      <td>2</td>\n",
       "      <td>2</td>\n",
       "    </tr>\n",
       "    <tr>\n",
       "      <th>other_debtors_class</th>\n",
       "      <td>0</td>\n",
       "      <td>0</td>\n",
       "      <td>0</td>\n",
       "      <td>2</td>\n",
       "      <td>0</td>\n",
       "    </tr>\n",
       "    <tr>\n",
       "      <th>property</th>\n",
       "      <td>0</td>\n",
       "      <td>0</td>\n",
       "      <td>0</td>\n",
       "      <td>1</td>\n",
       "      <td>3</td>\n",
       "    </tr>\n",
       "    <tr>\n",
       "      <th>other_i_plans</th>\n",
       "      <td>2</td>\n",
       "      <td>2</td>\n",
       "      <td>2</td>\n",
       "      <td>2</td>\n",
       "      <td>2</td>\n",
       "    </tr>\n",
       "    <tr>\n",
       "      <th>housing</th>\n",
       "      <td>1</td>\n",
       "      <td>1</td>\n",
       "      <td>1</td>\n",
       "      <td>2</td>\n",
       "      <td>2</td>\n",
       "    </tr>\n",
       "    <tr>\n",
       "      <th>job</th>\n",
       "      <td>2</td>\n",
       "      <td>2</td>\n",
       "      <td>1</td>\n",
       "      <td>2</td>\n",
       "      <td>2</td>\n",
       "    </tr>\n",
       "    <tr>\n",
       "      <th>telephone</th>\n",
       "      <td>1</td>\n",
       "      <td>0</td>\n",
       "      <td>0</td>\n",
       "      <td>0</td>\n",
       "      <td>0</td>\n",
       "    </tr>\n",
       "    <tr>\n",
       "      <th>foreign_worker</th>\n",
       "      <td>0</td>\n",
       "      <td>0</td>\n",
       "      <td>0</td>\n",
       "      <td>0</td>\n",
       "      <td>0</td>\n",
       "    </tr>\n",
       "    <tr>\n",
       "      <th>female</th>\n",
       "      <td>0</td>\n",
       "      <td>1</td>\n",
       "      <td>0</td>\n",
       "      <td>0</td>\n",
       "      <td>0</td>\n",
       "    </tr>\n",
       "    <tr>\n",
       "      <th>reasonable</th>\n",
       "      <td>1</td>\n",
       "      <td>0</td>\n",
       "      <td>1</td>\n",
       "      <td>1</td>\n",
       "      <td>0</td>\n",
       "    </tr>\n",
       "  </tbody>\n",
       "</table>\n",
       "</div>"
      ],
      "text/plain": [
       "                          0     1     2     3     4\n",
       "duration_months           6    48    12    42    24\n",
       "credit_amount          1169  5951  2096  7882  4870\n",
       "i_rate_by_disp_inc        4     2     2     2     3\n",
       "curr_res_since            4     2     3     4     4\n",
       "age_years                67    22    49    45    53\n",
       "n_e_credits_this_bank     2     1     1     1     2\n",
       "n_dependants              1     1     2     2     2\n",
       "e_chq_acc_status          0     1     3     0     0\n",
       "credit_history            4     2     4     2     3\n",
       "purpose                   3     3     6     2     0\n",
       "savings_acc_class         4     0     0     0     0\n",
       "curr_emp_class            4     2     3     3     2\n",
       "sex_and_status            2     1     2     2     2\n",
       "other_debtors_class       0     0     0     2     0\n",
       "property                  0     0     0     1     3\n",
       "other_i_plans             2     2     2     2     2\n",
       "housing                   1     1     1     2     2\n",
       "job                       2     2     1     2     2\n",
       "telephone                 1     0     0     0     0\n",
       "foreign_worker            0     0     0     0     0\n",
       "female                    0     1     0     0     0\n",
       "reasonable                1     0     1     1     0"
      ]
     },
     "execution_count": 29,
     "metadata": {},
     "output_type": "execute_result"
    }
   ],
   "source": [
    "natural.head().T"
   ]
  },
  {
   "cell_type": "markdown",
   "metadata": {
    "id": "8hV6-N9-on5Y"
   },
   "source": [
    "<br>\n",
    "\n",
    "### One Hot"
   ]
  },
  {
   "cell_type": "code",
   "execution_count": 30,
   "metadata": {},
   "outputs": [],
   "source": [
    "enc = sklearn.preprocessing.OneHotEncoder(categories=categories.arrays, drop='if_binary', sparse=False, dtype=np.int)\n",
    "\n",
    "bits_ = enc.fit_transform(X=instances)\n",
    "columns = [column[(column.rindex('_') + 1):] for column in enc.get_feature_names()]\n",
    "bits = pd.DataFrame(data=bits_, columns=columns)"
   ]
  },
  {
   "cell_type": "code",
   "execution_count": 31,
   "metadata": {},
   "outputs": [],
   "source": [
    "modelling = pd.concat([numeric, bits, sex_, labels], axis=1)"
   ]
  },
  {
   "cell_type": "code",
   "execution_count": 32,
   "metadata": {
    "id": "8qMGEEyfqlFj"
   },
   "outputs": [],
   "source": [
    "modelling.to_csv(path_or_buf=os.path.join(warehouse_directory, 'modelling.csv'), header=True, index=False, encoding='utf-8')"
   ]
  },
  {
   "cell_type": "code",
   "execution_count": 33,
   "metadata": {},
   "outputs": [
    {
     "data": {
      "text/html": [
       "<div>\n",
       "<style scoped>\n",
       "    .dataframe tbody tr th:only-of-type {\n",
       "        vertical-align: middle;\n",
       "    }\n",
       "\n",
       "    .dataframe tbody tr th {\n",
       "        vertical-align: top;\n",
       "    }\n",
       "\n",
       "    .dataframe thead th {\n",
       "        text-align: right;\n",
       "    }\n",
       "</style>\n",
       "<table border=\"1\" class=\"dataframe\">\n",
       "  <thead>\n",
       "    <tr style=\"text-align: right;\">\n",
       "      <th></th>\n",
       "      <th>0</th>\n",
       "      <th>1</th>\n",
       "      <th>2</th>\n",
       "      <th>3</th>\n",
       "      <th>4</th>\n",
       "    </tr>\n",
       "  </thead>\n",
       "  <tbody>\n",
       "    <tr>\n",
       "      <th>duration_months</th>\n",
       "      <td>6</td>\n",
       "      <td>48</td>\n",
       "      <td>12</td>\n",
       "      <td>42</td>\n",
       "      <td>24</td>\n",
       "    </tr>\n",
       "    <tr>\n",
       "      <th>credit_amount</th>\n",
       "      <td>1169</td>\n",
       "      <td>5951</td>\n",
       "      <td>2096</td>\n",
       "      <td>7882</td>\n",
       "      <td>4870</td>\n",
       "    </tr>\n",
       "    <tr>\n",
       "      <th>i_rate_by_disp_inc</th>\n",
       "      <td>4</td>\n",
       "      <td>2</td>\n",
       "      <td>2</td>\n",
       "      <td>2</td>\n",
       "      <td>3</td>\n",
       "    </tr>\n",
       "    <tr>\n",
       "      <th>curr_res_since</th>\n",
       "      <td>4</td>\n",
       "      <td>2</td>\n",
       "      <td>3</td>\n",
       "      <td>4</td>\n",
       "      <td>4</td>\n",
       "    </tr>\n",
       "    <tr>\n",
       "      <th>age_years</th>\n",
       "      <td>67</td>\n",
       "      <td>22</td>\n",
       "      <td>49</td>\n",
       "      <td>45</td>\n",
       "      <td>53</td>\n",
       "    </tr>\n",
       "    <tr>\n",
       "      <th>...</th>\n",
       "      <td>...</td>\n",
       "      <td>...</td>\n",
       "      <td>...</td>\n",
       "      <td>...</td>\n",
       "      <td>...</td>\n",
       "    </tr>\n",
       "    <tr>\n",
       "      <th>A174</th>\n",
       "      <td>0</td>\n",
       "      <td>0</td>\n",
       "      <td>0</td>\n",
       "      <td>0</td>\n",
       "      <td>0</td>\n",
       "    </tr>\n",
       "    <tr>\n",
       "      <th>A192</th>\n",
       "      <td>1</td>\n",
       "      <td>0</td>\n",
       "      <td>0</td>\n",
       "      <td>0</td>\n",
       "      <td>0</td>\n",
       "    </tr>\n",
       "    <tr>\n",
       "      <th>A202</th>\n",
       "      <td>0</td>\n",
       "      <td>0</td>\n",
       "      <td>0</td>\n",
       "      <td>0</td>\n",
       "      <td>0</td>\n",
       "    </tr>\n",
       "    <tr>\n",
       "      <th>female</th>\n",
       "      <td>0</td>\n",
       "      <td>1</td>\n",
       "      <td>0</td>\n",
       "      <td>0</td>\n",
       "      <td>0</td>\n",
       "    </tr>\n",
       "    <tr>\n",
       "      <th>reasonable</th>\n",
       "      <td>1</td>\n",
       "      <td>0</td>\n",
       "      <td>1</td>\n",
       "      <td>1</td>\n",
       "      <td>0</td>\n",
       "    </tr>\n",
       "  </tbody>\n",
       "</table>\n",
       "<p>63 rows × 5 columns</p>\n",
       "</div>"
      ],
      "text/plain": [
       "                       0     1     2     3     4\n",
       "duration_months        6    48    12    42    24\n",
       "credit_amount       1169  5951  2096  7882  4870\n",
       "i_rate_by_disp_inc     4     2     2     2     3\n",
       "curr_res_since         4     2     3     4     4\n",
       "age_years             67    22    49    45    53\n",
       "...                  ...   ...   ...   ...   ...\n",
       "A174                   0     0     0     0     0\n",
       "A192                   1     0     0     0     0\n",
       "A202                   0     0     0     0     0\n",
       "female                 0     1     0     0     0\n",
       "reasonable             1     0     1     1     0\n",
       "\n",
       "[63 rows x 5 columns]"
      ]
     },
     "execution_count": 33,
     "metadata": {},
     "output_type": "execute_result"
    }
   ],
   "source": [
    "modelling.head().T"
   ]
  },
  {
   "cell_type": "markdown",
   "metadata": {},
   "source": [
    "<br>\n",
    "<br>\n",
    "\n",
    "## Fields Help"
   ]
  },
  {
   "cell_type": "code",
   "execution_count": 34,
   "metadata": {},
   "outputs": [],
   "source": [
    "BinaryData = collections.namedtuple(\n",
    "            typename='BinaryData', field_names=['fields', 'pairs'])"
   ]
  },
  {
   "cell_type": "code",
   "execution_count": 35,
   "metadata": {},
   "outputs": [
    {
     "data": {
      "text/plain": [
       "['e_chq_acc_status',\n",
       " 'credit_history',\n",
       " 'purpose',\n",
       " 'savings_acc_class',\n",
       " 'curr_emp_class',\n",
       " 'sex_and_status',\n",
       " 'other_debtors_class',\n",
       " 'property',\n",
       " 'other_i_plans',\n",
       " 'housing',\n",
       " 'job',\n",
       " 'telephone',\n",
       " 'foreign_worker']"
      ]
     },
     "execution_count": 35,
     "metadata": {},
     "output_type": "execute_result"
    }
   ],
   "source": [
    "categories.fields"
   ]
  },
  {
   "cell_type": "code",
   "execution_count": 36,
   "metadata": {},
   "outputs": [
    {
     "data": {
      "text/plain": [
       "[array(['A11', 'A12', 'A13', 'A14'], dtype='<U3'),\n",
       " array(['A30', 'A31', 'A32', 'A33', 'A34'], dtype='<U3'),\n",
       " array(['A40', 'A41', 'A42', 'A43', 'A44', 'A45', 'A46', 'A47', 'A48',\n",
       "        'A49', 'A410'], dtype='<U4'),\n",
       " array(['A61', 'A62', 'A63', 'A64', 'A65'], dtype='<U3'),\n",
       " array(['A71', 'A72', 'A73', 'A74', 'A75'], dtype='<U3'),\n",
       " array(['A91', 'A92', 'A93', 'A94', 'A95'], dtype='<U3'),\n",
       " array(['A101', 'A102', 'A103'], dtype='<U4'),\n",
       " array(['A121', 'A122', 'A123', 'A124'], dtype='<U4'),\n",
       " array(['A141', 'A142', 'A143'], dtype='<U4'),\n",
       " array(['A151', 'A152', 'A153'], dtype='<U4'),\n",
       " array(['A171', 'A172', 'A173', 'A174'], dtype='<U4'),\n",
       " array(['A191', 'A192'], dtype='<U4'),\n",
       " array(['A201', 'A202'], dtype='<U4')]"
      ]
     },
     "execution_count": 36,
     "metadata": {},
     "output_type": "execute_result"
    }
   ],
   "source": [
    "categories.arrays"
   ]
  },
  {
   "cell_type": "markdown",
   "metadata": {},
   "source": [
    "<br>\n",
    "<br>\n",
    "\n",
    "**Note**"
   ]
  },
  {
   "cell_type": "markdown",
   "metadata": {},
   "source": [
    "All frames have the **7 numeric fields**\n",
    "\n",
    "* ['duration_months', 'credit_amount', 'i_rate_by_disp_inc', 'curr_res_since', 'age_years', 'n_e_credits_this_bank', 'n_dependants']\n",
    "\n",
    "In brief\n",
    "\n",
    "* **baseline, 22 Fields**: the 7 numeric fields, the label field, 1 binary field $\\rightarrow$ female, the 13 categorical fields $\\rightarrow$<br> ['e_chq_acc_status',\n",
    " 'credit_history', 'purpose', 'savings_acc_class', 'curr_emp_class', 'sex_and_status',<br> 'other_debtors_class', 'property', 'other_i_plans', 'housing', 'job', 'telephone', 'foreign_worker']<br>**However**, the values of the categorical fields are the archetype/original values; ref. variables zip(categories.fields, categories.arrays)\n",
    " \n",
    "\n",
    "\n",
    "* **natural, 22 Fields**: the 7 numeric fields, the label field, 1 binary field $\\rightarrow$ female, the 13 categorical fields $\\rightarrow$<br> ['e_chq_acc_status',\n",
    " 'credit_history', 'purpose', 'savings_acc_class', 'curr_emp_class', 'sex_and_status',<br> 'other_debtors_class', 'property', 'other_i_plans', 'housing', 'job', 'telephone', 'foreign_worker']<br>**However**, the values of the categorical fields are natural numbers that where assigned via Ordinal Encoding of archetype/original values.\n",
    "\n",
    "\n",
    "\n",
    "* **modelling, 63 Fields**: the 7 numeric fields, the label field, ..."
   ]
  },
  {
   "cell_type": "code",
   "execution_count": 37,
   "metadata": {},
   "outputs": [
    {
     "name": "stdout",
     "output_type": "stream",
     "text": [
      "<class 'pandas.core.frame.DataFrame'>\n",
      "RangeIndex: 1000 entries, 0 to 999\n",
      "Data columns (total 63 columns):\n",
      " #   Column                 Non-Null Count  Dtype\n",
      "---  ------                 --------------  -----\n",
      " 0   duration_months        1000 non-null   int64\n",
      " 1   credit_amount          1000 non-null   int64\n",
      " 2   i_rate_by_disp_inc     1000 non-null   int64\n",
      " 3   curr_res_since         1000 non-null   int64\n",
      " 4   age_years              1000 non-null   int64\n",
      " 5   n_e_credits_this_bank  1000 non-null   int64\n",
      " 6   n_dependants           1000 non-null   int64\n",
      " 7   A11                    1000 non-null   int32\n",
      " 8   A12                    1000 non-null   int32\n",
      " 9   A13                    1000 non-null   int32\n",
      " 10  A14                    1000 non-null   int32\n",
      " 11  A30                    1000 non-null   int32\n",
      " 12  A31                    1000 non-null   int32\n",
      " 13  A32                    1000 non-null   int32\n",
      " 14  A33                    1000 non-null   int32\n",
      " 15  A34                    1000 non-null   int32\n",
      " 16  A40                    1000 non-null   int32\n",
      " 17  A41                    1000 non-null   int32\n",
      " 18  A42                    1000 non-null   int32\n",
      " 19  A43                    1000 non-null   int32\n",
      " 20  A44                    1000 non-null   int32\n",
      " 21  A45                    1000 non-null   int32\n",
      " 22  A46                    1000 non-null   int32\n",
      " 23  A47                    1000 non-null   int32\n",
      " 24  A48                    1000 non-null   int32\n",
      " 25  A49                    1000 non-null   int32\n",
      " 26  A410                   1000 non-null   int32\n",
      " 27  A61                    1000 non-null   int32\n",
      " 28  A62                    1000 non-null   int32\n",
      " 29  A63                    1000 non-null   int32\n",
      " 30  A64                    1000 non-null   int32\n",
      " 31  A65                    1000 non-null   int32\n",
      " 32  A71                    1000 non-null   int32\n",
      " 33  A72                    1000 non-null   int32\n",
      " 34  A73                    1000 non-null   int32\n",
      " 35  A74                    1000 non-null   int32\n",
      " 36  A75                    1000 non-null   int32\n",
      " 37  A91                    1000 non-null   int32\n",
      " 38  A92                    1000 non-null   int32\n",
      " 39  A93                    1000 non-null   int32\n",
      " 40  A94                    1000 non-null   int32\n",
      " 41  A95                    1000 non-null   int32\n",
      " 42  A101                   1000 non-null   int32\n",
      " 43  A102                   1000 non-null   int32\n",
      " 44  A103                   1000 non-null   int32\n",
      " 45  A121                   1000 non-null   int32\n",
      " 46  A122                   1000 non-null   int32\n",
      " 47  A123                   1000 non-null   int32\n",
      " 48  A124                   1000 non-null   int32\n",
      " 49  A141                   1000 non-null   int32\n",
      " 50  A142                   1000 non-null   int32\n",
      " 51  A143                   1000 non-null   int32\n",
      " 52  A151                   1000 non-null   int32\n",
      " 53  A152                   1000 non-null   int32\n",
      " 54  A153                   1000 non-null   int32\n",
      " 55  A171                   1000 non-null   int32\n",
      " 56  A172                   1000 non-null   int32\n",
      " 57  A173                   1000 non-null   int32\n",
      " 58  A174                   1000 non-null   int32\n",
      " 59  A192                   1000 non-null   int32\n",
      " 60  A202                   1000 non-null   int32\n",
      " 61  female                 1000 non-null   int64\n",
      " 62  reasonable             1000 non-null   int64\n",
      "dtypes: int32(54), int64(9)\n",
      "memory usage: 281.4 KB\n"
     ]
    }
   ],
   "source": [
    "modelling.info()"
   ]
  },
  {
   "cell_type": "code",
   "execution_count": 38,
   "metadata": {},
   "outputs": [
    {
     "data": {
      "text/html": [
       "<div>\n",
       "<style scoped>\n",
       "    .dataframe tbody tr th:only-of-type {\n",
       "        vertical-align: middle;\n",
       "    }\n",
       "\n",
       "    .dataframe tbody tr th {\n",
       "        vertical-align: top;\n",
       "    }\n",
       "\n",
       "    .dataframe thead th {\n",
       "        text-align: right;\n",
       "    }\n",
       "</style>\n",
       "<table border=\"1\" class=\"dataframe\">\n",
       "  <thead>\n",
       "    <tr style=\"text-align: right;\">\n",
       "      <th></th>\n",
       "      <th>duration_months</th>\n",
       "      <th>credit_amount</th>\n",
       "      <th>i_rate_by_disp_inc</th>\n",
       "      <th>curr_res_since</th>\n",
       "      <th>age_years</th>\n",
       "      <th>n_e_credits_this_bank</th>\n",
       "      <th>n_dependants</th>\n",
       "      <th>A11</th>\n",
       "      <th>A12</th>\n",
       "      <th>A13</th>\n",
       "      <th>...</th>\n",
       "      <th>A152</th>\n",
       "      <th>A153</th>\n",
       "      <th>A171</th>\n",
       "      <th>A172</th>\n",
       "      <th>A173</th>\n",
       "      <th>A174</th>\n",
       "      <th>A192</th>\n",
       "      <th>A202</th>\n",
       "      <th>female</th>\n",
       "      <th>reasonable</th>\n",
       "    </tr>\n",
       "  </thead>\n",
       "  <tbody>\n",
       "    <tr>\n",
       "      <th>0</th>\n",
       "      <td>6</td>\n",
       "      <td>1169</td>\n",
       "      <td>4</td>\n",
       "      <td>4</td>\n",
       "      <td>67</td>\n",
       "      <td>2</td>\n",
       "      <td>1</td>\n",
       "      <td>1</td>\n",
       "      <td>0</td>\n",
       "      <td>0</td>\n",
       "      <td>...</td>\n",
       "      <td>1</td>\n",
       "      <td>0</td>\n",
       "      <td>0</td>\n",
       "      <td>0</td>\n",
       "      <td>1</td>\n",
       "      <td>0</td>\n",
       "      <td>1</td>\n",
       "      <td>0</td>\n",
       "      <td>0</td>\n",
       "      <td>1</td>\n",
       "    </tr>\n",
       "    <tr>\n",
       "      <th>1</th>\n",
       "      <td>48</td>\n",
       "      <td>5951</td>\n",
       "      <td>2</td>\n",
       "      <td>2</td>\n",
       "      <td>22</td>\n",
       "      <td>1</td>\n",
       "      <td>1</td>\n",
       "      <td>0</td>\n",
       "      <td>1</td>\n",
       "      <td>0</td>\n",
       "      <td>...</td>\n",
       "      <td>1</td>\n",
       "      <td>0</td>\n",
       "      <td>0</td>\n",
       "      <td>0</td>\n",
       "      <td>1</td>\n",
       "      <td>0</td>\n",
       "      <td>0</td>\n",
       "      <td>0</td>\n",
       "      <td>1</td>\n",
       "      <td>0</td>\n",
       "    </tr>\n",
       "    <tr>\n",
       "      <th>2</th>\n",
       "      <td>12</td>\n",
       "      <td>2096</td>\n",
       "      <td>2</td>\n",
       "      <td>3</td>\n",
       "      <td>49</td>\n",
       "      <td>1</td>\n",
       "      <td>2</td>\n",
       "      <td>0</td>\n",
       "      <td>0</td>\n",
       "      <td>0</td>\n",
       "      <td>...</td>\n",
       "      <td>1</td>\n",
       "      <td>0</td>\n",
       "      <td>0</td>\n",
       "      <td>1</td>\n",
       "      <td>0</td>\n",
       "      <td>0</td>\n",
       "      <td>0</td>\n",
       "      <td>0</td>\n",
       "      <td>0</td>\n",
       "      <td>1</td>\n",
       "    </tr>\n",
       "    <tr>\n",
       "      <th>3</th>\n",
       "      <td>42</td>\n",
       "      <td>7882</td>\n",
       "      <td>2</td>\n",
       "      <td>4</td>\n",
       "      <td>45</td>\n",
       "      <td>1</td>\n",
       "      <td>2</td>\n",
       "      <td>1</td>\n",
       "      <td>0</td>\n",
       "      <td>0</td>\n",
       "      <td>...</td>\n",
       "      <td>0</td>\n",
       "      <td>1</td>\n",
       "      <td>0</td>\n",
       "      <td>0</td>\n",
       "      <td>1</td>\n",
       "      <td>0</td>\n",
       "      <td>0</td>\n",
       "      <td>0</td>\n",
       "      <td>0</td>\n",
       "      <td>1</td>\n",
       "    </tr>\n",
       "    <tr>\n",
       "      <th>4</th>\n",
       "      <td>24</td>\n",
       "      <td>4870</td>\n",
       "      <td>3</td>\n",
       "      <td>4</td>\n",
       "      <td>53</td>\n",
       "      <td>2</td>\n",
       "      <td>2</td>\n",
       "      <td>1</td>\n",
       "      <td>0</td>\n",
       "      <td>0</td>\n",
       "      <td>...</td>\n",
       "      <td>0</td>\n",
       "      <td>1</td>\n",
       "      <td>0</td>\n",
       "      <td>0</td>\n",
       "      <td>1</td>\n",
       "      <td>0</td>\n",
       "      <td>0</td>\n",
       "      <td>0</td>\n",
       "      <td>0</td>\n",
       "      <td>0</td>\n",
       "    </tr>\n",
       "  </tbody>\n",
       "</table>\n",
       "<p>5 rows × 63 columns</p>\n",
       "</div>"
      ],
      "text/plain": [
       "   duration_months  credit_amount  i_rate_by_disp_inc  curr_res_since  \\\n",
       "0                6           1169                   4               4   \n",
       "1               48           5951                   2               2   \n",
       "2               12           2096                   2               3   \n",
       "3               42           7882                   2               4   \n",
       "4               24           4870                   3               4   \n",
       "\n",
       "   age_years  n_e_credits_this_bank  n_dependants  A11  A12  A13  ...  A152  \\\n",
       "0         67                      2             1    1    0    0  ...     1   \n",
       "1         22                      1             1    0    1    0  ...     1   \n",
       "2         49                      1             2    0    0    0  ...     1   \n",
       "3         45                      1             2    1    0    0  ...     0   \n",
       "4         53                      2             2    1    0    0  ...     0   \n",
       "\n",
       "   A153  A171  A172  A173  A174  A192  A202  female  reasonable  \n",
       "0     0     0     0     1     0     1     0       0           1  \n",
       "1     0     0     0     1     0     0     0       1           0  \n",
       "2     0     0     1     0     0     0     0       0           1  \n",
       "3     1     0     0     1     0     0     0       0           1  \n",
       "4     1     0     0     1     0     0     0       0           0  \n",
       "\n",
       "[5 rows x 63 columns]"
      ]
     },
     "execution_count": 38,
     "metadata": {},
     "output_type": "execute_result"
    }
   ],
   "source": [
    "modelling.head()"
   ]
  }
 ],
 "metadata": {
  "colab": {
   "collapsed_sections": [],
   "name": "data.ipynb",
   "provenance": [],
   "toc_visible": true
  },
  "kernelspec": {
   "display_name": "Python 3",
   "language": "python",
   "name": "python3"
  },
  "language_info": {
   "codemirror_mode": {
    "name": "ipython",
    "version": 3
   },
   "file_extension": ".py",
   "mimetype": "text/x-python",
   "name": "python",
   "nbconvert_exporter": "python",
   "pygments_lexer": "ipython3",
   "version": "3.7.7"
  }
 },
 "nbformat": 4,
 "nbformat_minor": 4
}
