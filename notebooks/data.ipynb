{
  "nbformat": 4,
  "nbformat_minor": 0,
  "metadata": {
    "colab": {
      "name": "data.ipynb",
      "provenance": [],
      "collapsed_sections": []
    },
    "kernelspec": {
      "display_name": "Python 3",
      "language": "python",
      "name": "python3"
    },
    "language_info": {
      "codemirror_mode": {
        "name": "ipython",
        "version": 3
      },
      "file_extension": ".py",
      "mimetype": "text/x-python",
      "name": "python",
      "nbconvert_exporter": "python",
      "pygments_lexer": "ipython3",
      "version": "3.7.7"
    }
  },
  "cells": [
    {
      "cell_type": "markdown",
      "metadata": {
        "id": "9Oar5yOtzZrO"
      },
      "source": [
        "## Preliminaries"
      ]
    },
    {
      "cell_type": "markdown",
      "metadata": {
        "id": "esvV-Cn9ze9o"
      },
      "source": [
        "For a Bayesian classification example for illustrating the **sheets/cards** family."
      ]
    },
    {
      "cell_type": "code",
      "metadata": {
        "id": "grZ28UVRhKda"
      },
      "source": [
        "!rm -rf *.sh"
      ],
      "execution_count": 1,
      "outputs": []
    },
    {
      "cell_type": "markdown",
      "metadata": {
        "id": "6VgMmWuTI5rZ"
      },
      "source": [
        "<br>\n",
        "\n",
        "### Packages"
      ]
    },
    {
      "cell_type": "code",
      "metadata": {
        "id": "IrEiqQ65i4HP"
      },
      "source": [
        "import subprocess"
      ],
      "execution_count": 2,
      "outputs": []
    },
    {
      "cell_type": "code",
      "metadata": {
        "id": "XVwENGGwi8pA"
      },
      "source": [
        "if 'google.colab' in str(get_ipython()):\n",
        "    subprocess.run('wget -q https://raw.githubusercontent.com/exhypotheses/risk/develop/scripts.sh', shell=True)\n",
        "    subprocess.run('chmod u+x scripts.sh', shell=True)\n",
        "    subprocess.run('./scripts.sh', shell=True)"
      ],
      "execution_count": 3,
      "outputs": []
    },
    {
      "cell_type": "markdown",
      "metadata": {
        "id": "2qXzh741YYHI"
      },
      "source": [
        "<br>\n",
        "\n",
        "### Paths"
      ]
    },
    {
      "cell_type": "code",
      "metadata": {
        "id": "HH85FfsSYYHJ"
      },
      "source": [
        "import os\n",
        "import pathlib\n",
        "import sys"
      ],
      "execution_count": 4,
      "outputs": []
    },
    {
      "cell_type": "code",
      "metadata": {
        "id": "gFZyvY4hYYHM"
      },
      "source": [
        "if not 'google.colab' in str(get_ipython()):    \n",
        "    notebooks = os.getcwd()\n",
        "    parent = str(pathlib.Path(notebooks).parent)\n",
        "    sys.path.append(parent)\n",
        "else:\n",
        "    parent = os.getcwd()    "
      ],
      "execution_count": 5,
      "outputs": []
    },
    {
      "cell_type": "markdown",
      "metadata": {
        "id": "7Z26TBADzc_D"
      },
      "source": [
        "<br>\n",
        "\n",
        "### Libraries"
      ]
    },
    {
      "cell_type": "code",
      "metadata": {
        "id": "Gr-J3F6IzX06"
      },
      "source": [
        "import logging\n",
        "import collections\n",
        "\n",
        "import pandas as pd\n",
        "import numpy as np\n",
        "\n",
        "import json\n",
        "\n",
        "import sklearn.preprocessing"
      ],
      "execution_count": 6,
      "outputs": []
    },
    {
      "cell_type": "markdown",
      "metadata": {
        "id": "zSgjj3zP3LX3"
      },
      "source": [
        "<br>\n",
        "\n",
        "### Logging"
      ]
    },
    {
      "cell_type": "code",
      "metadata": {
        "id": "uUTt0Rrm3HPo"
      },
      "source": [
        "logging.basicConfig(level=logging.INFO, format='%(message)s\\n%(asctime)s.%(msecs)03d', datefmt='%Y-%m-%d %H:%M:%S')\n",
        "logger = logging.getLogger(__name__)"
      ],
      "execution_count": 7,
      "outputs": []
    },
    {
      "cell_type": "markdown",
      "metadata": {
        "id": "N3xLPJBkLZqJ"
      },
      "source": [
        "<br>\n",
        "\n",
        "### Custom"
      ]
    },
    {
      "cell_type": "code",
      "metadata": {
        "id": "pdxEwJ3lLcNH"
      },
      "source": [
        "import config\n",
        "\n",
        "import risk.src.archetype"
      ],
      "execution_count": 8,
      "outputs": []
    },
    {
      "cell_type": "markdown",
      "metadata": {
        "id": "y93UUm6-_qmG"
      },
      "source": [
        "<br>\n",
        "\n",
        "Configurations"
      ]
    },
    {
      "cell_type": "code",
      "metadata": {
        "id": "7jA8-qAp_u6F"
      },
      "source": [
        "configurations = config.Config()"
      ],
      "execution_count": 9,
      "outputs": []
    },
    {
      "cell_type": "code",
      "metadata": {
        "id": "tpIrh9yKXqAp"
      },
      "source": [
        "warehouse_directory = os.path.join(parent, 'warehouse', 'data')\n",
        "if not os.path.exists(warehouse_directory):\n",
        "    os.makedirs(warehouse_directory)\n",
        "    \n",
        "raw_data_directory = os.path.join(parent, 'data')\n",
        "if not os.path.exists(raw_data_directory):\n",
        "    os.makedirs(raw_data_directory)    "
      ],
      "execution_count": 10,
      "outputs": []
    },
    {
      "cell_type": "markdown",
      "metadata": {
        "id": "gJY-1v0LHy0P"
      },
      "source": [
        "<br>\n",
        "<br>\n",
        "\n",
        "## Data"
      ]
    },
    {
      "cell_type": "markdown",
      "metadata": {
        "id": "yk3vmPOUoJeH"
      },
      "source": [
        "### Raw"
      ]
    },
    {
      "cell_type": "markdown",
      "metadata": {
        "id": "QBpGChrrFUpp"
      },
      "source": [
        "Glossary:\n",
        "\n",
        "> **e**: existing, **i**: installments, **n**: number, **acc**: account, **chq**: cheque, **emp**: employment, **inc**: income, **res**: residence, **curr**: current, **disp**: disposable\n",
        "\n"
      ]
    },
    {
      "cell_type": "code",
      "metadata": {
        "id": "u1iF53KY-8-8"
      },
      "source": [
        "fields = ['e_chq_acc_status', 'duration_months', 'credit_history', 'purpose', 'credit_amount', 'savings_acc_class', 'curr_emp_class', \n",
        " 'i_rate_by_disp_inc', 'sex_and_status', 'other_debtors_class', 'curr_res_since', 'property', 'age_years', 'other_i_plans', 'housing',\n",
        " 'n_e_credits_this_bank', 'job', 'n_dependants', 'telephone', 'foreign_worker', 'label']"
      ],
      "execution_count": 11,
      "outputs": []
    },
    {
      "cell_type": "markdown",
      "metadata": {
        "id": "nhQgq9PXH1Wm"
      },
      "source": [
        "<br>\n",
        "\n",
        "URL"
      ]
    },
    {
      "cell_type": "code",
      "metadata": {
        "id": "RCfh3siK0Qss"
      },
      "source": [
        "url = 'https://archive.ics.uci.edu/ml/machine-learning-databases/statlog/german/german.data'"
      ],
      "execution_count": 12,
      "outputs": []
    },
    {
      "cell_type": "markdown",
      "metadata": {
        "id": "fzmxYMzZH6QC"
      },
      "source": [
        "<br>\n",
        "\n",
        "Read"
      ]
    },
    {
      "cell_type": "code",
      "metadata": {
        "id": "VLOuB4N1z5Pi"
      },
      "source": [
        "try:\n",
        "    data = pd.read_csv(filepath_or_buffer=url, sep=' ', header=None, encoding='utf-8')\n",
        "except OSError as err:\n",
        "    raise Exception(err.strerror) in err\n",
        "\n",
        "data.columns = fields"
      ],
      "execution_count": 13,
      "outputs": []
    },
    {
      "cell_type": "code",
      "metadata": {
        "colab": {
          "base_uri": "https://localhost:8080/"
        },
        "id": "fhgeBA4EYYHp",
        "outputId": "12ceb661-0740-4e4a-86fa-d9651499fbde"
      },
      "source": [
        "logger.info(data.head())"
      ],
      "execution_count": 14,
      "outputs": [
        {
          "output_type": "stream",
          "text": [
            "  e_chq_acc_status  duration_months  ... foreign_worker label\n",
            "0              A11                6  ...           A201     1\n",
            "1              A12               48  ...           A201     2\n",
            "2              A14               12  ...           A201     1\n",
            "3              A11               42  ...           A201     1\n",
            "4              A11               24  ...           A201     2\n",
            "\n",
            "[5 rows x 21 columns]\n",
            "2021-07-09 18:37:09.100\n"
          ],
          "name": "stderr"
        }
      ]
    },
    {
      "cell_type": "markdown",
      "metadata": {
        "id": "IIjq1wQjLHwa"
      },
      "source": [
        "<br>\n",
        "\n",
        "Write"
      ]
    },
    {
      "cell_type": "code",
      "metadata": {
        "id": "gmv1xw9cKbD6"
      },
      "source": [
        "data.to_csv(path_or_buf=os.path.join(raw_data_directory, 'credit.csv'), \n",
        "            header=True, index=False, encoding='utf-8')"
      ],
      "execution_count": 15,
      "outputs": []
    },
    {
      "cell_type": "markdown",
      "metadata": {
        "id": "sNO4_KMZSufZ"
      },
      "source": [
        "<br>\n",
        "\n",
        "### Numeric Data"
      ]
    },
    {
      "cell_type": "code",
      "metadata": {
        "colab": {
          "base_uri": "https://localhost:8080/"
        },
        "id": "3IMslXeDR1Qt",
        "outputId": "0f2944e4-b4fc-4f64-973c-82aeb31e7916"
      },
      "source": [
        "numeric = data[configurations.numeric]\n",
        "logger.info(numeric.info())"
      ],
      "execution_count": 16,
      "outputs": [
        {
          "output_type": "stream",
          "text": [
            "None\n",
            "2021-07-09 18:37:09.186\n"
          ],
          "name": "stderr"
        },
        {
          "output_type": "stream",
          "text": [
            "<class 'pandas.core.frame.DataFrame'>\n",
            "RangeIndex: 1000 entries, 0 to 999\n",
            "Data columns (total 7 columns):\n",
            " #   Column                 Non-Null Count  Dtype\n",
            "---  ------                 --------------  -----\n",
            " 0   duration_months        1000 non-null   int64\n",
            " 1   credit_amount          1000 non-null   int64\n",
            " 2   i_rate_by_disp_inc     1000 non-null   int64\n",
            " 3   curr_res_since         1000 non-null   int64\n",
            " 4   age_years              1000 non-null   int64\n",
            " 5   n_e_credits_this_bank  1000 non-null   int64\n",
            " 6   n_dependants           1000 non-null   int64\n",
            "dtypes: int64(7)\n",
            "memory usage: 54.8 KB\n"
          ],
          "name": "stdout"
        }
      ]
    },
    {
      "cell_type": "markdown",
      "metadata": {
        "id": "elgU9M7ZnsU0"
      },
      "source": [
        "<br>\n",
        "\n",
        "### Labels"
      ]
    },
    {
      "cell_type": "markdown",
      "metadata": {
        "id": "mFDpWmM5VikH"
      },
      "source": [
        "* 2: unreasonable $\\rightarrow$ 0\n",
        "* 1: reasonable $\\rightarrow$ 1"
      ]
    },
    {
      "cell_type": "code",
      "metadata": {
        "colab": {
          "base_uri": "https://localhost:8080/"
        },
        "id": "oqJNkMfvVkw-",
        "outputId": "8a698df1-8588-4dd2-8815-cb64335ad1fe"
      },
      "source": [
        "labels = data[['label']].copy()\n",
        "labels.loc[:, 'label'] = labels['label'].mod(2)\n",
        "labels.columns = ['reasonable']"
      ],
      "execution_count": 17,
      "outputs": [
        {
          "output_type": "stream",
          "text": [
            "NumExpr defaulting to 2 threads.\n",
            "2021-07-09 18:37:09.222\n"
          ],
          "name": "stderr"
        }
      ]
    },
    {
      "cell_type": "markdown",
      "metadata": {
        "id": "0Ml-wu-y2859"
      },
      "source": [
        "<br>\n",
        "<br>\n",
        "\n",
        "## Encoding"
      ]
    },
    {
      "cell_type": "code",
      "metadata": {
        "colab": {
          "base_uri": "https://localhost:8080/"
        },
        "id": "zG2zg4jDPzA9",
        "outputId": "60dd0263-29d8-4ff0-9c67-f9c6e52859d3"
      },
      "source": [
        "archetype = risk.src.archetype.Archetype()\n",
        "\n",
        "categories = archetype.categories()\n",
        "logger.info('{}'.format(categories._fields))"
      ],
      "execution_count": 18,
      "outputs": [
        {
          "output_type": "stream",
          "text": [
            "('fields', 'arrays', 'dictionary')\n",
            "2021-07-09 18:37:09.235\n"
          ],
          "name": "stderr"
        }
      ]
    },
    {
      "cell_type": "code",
      "metadata": {
        "id": "6g_YqUUvlxgo"
      },
      "source": [
        "instances = data[categories.fields]"
      ],
      "execution_count": 19,
      "outputs": []
    },
    {
      "cell_type": "markdown",
      "metadata": {
        "id": "opC_XE824ZPE"
      },
      "source": [
        "<br>\n",
        "\n",
        "### Transformation Functions"
      ]
    },
    {
      "cell_type": "code",
      "metadata": {
        "id": "_D7S39OkymPl"
      },
      "source": [
        "def sex(frame: pd.DataFrame):\n",
        "\n",
        "    # sex: 1 -> female, 0 -> male\n",
        "    values: pd.Series = frame['sex_and_status'].copy().apply(\n",
        "        lambda x: 1 if (x == 'A92' or x == 'A95') else 0)\n",
        "    values.rename('female', inplace=True)\n",
        "\n",
        "    return values.to_frame()\n",
        "    "
      ],
      "execution_count": 20,
      "outputs": []
    },
    {
      "cell_type": "markdown",
      "metadata": {
        "id": "mCis4KudJAna"
      },
      "source": [
        "<br>\n",
        "\n",
        "Aside"
      ]
    },
    {
      "cell_type": "code",
      "metadata": {
        "id": "_zsDR5Tnf3aV"
      },
      "source": [
        "sex_ = sex(frame=data[['sex_and_status']])"
      ],
      "execution_count": 21,
      "outputs": []
    },
    {
      "cell_type": "markdown",
      "metadata": {
        "id": "M6tzvVtfYYH6"
      },
      "source": [
        "<br>\n",
        "<br>\n",
        "\n",
        "### Baseline"
      ]
    },
    {
      "cell_type": "code",
      "metadata": {
        "colab": {
          "base_uri": "https://localhost:8080/",
          "height": 739
        },
        "id": "Xg8BmU0wYYH6",
        "outputId": "866c078f-d207-4ff0-e70b-7ef5365e17c4"
      },
      "source": [
        "originals = data[categories.fields]\n",
        "baseline = pd.concat((numeric, originals, sex_, labels), axis=1)\n",
        "baseline.to_csv(path_or_buf=os.path.join(warehouse_directory, 'baseline.csv'), header=True, index=False, encoding='utf-8')\n",
        "baseline.head().T"
      ],
      "execution_count": 22,
      "outputs": [
        {
          "output_type": "execute_result",
          "data": {
            "text/html": [
              "<div>\n",
              "<style scoped>\n",
              "    .dataframe tbody tr th:only-of-type {\n",
              "        vertical-align: middle;\n",
              "    }\n",
              "\n",
              "    .dataframe tbody tr th {\n",
              "        vertical-align: top;\n",
              "    }\n",
              "\n",
              "    .dataframe thead th {\n",
              "        text-align: right;\n",
              "    }\n",
              "</style>\n",
              "<table border=\"1\" class=\"dataframe\">\n",
              "  <thead>\n",
              "    <tr style=\"text-align: right;\">\n",
              "      <th></th>\n",
              "      <th>0</th>\n",
              "      <th>1</th>\n",
              "      <th>2</th>\n",
              "      <th>3</th>\n",
              "      <th>4</th>\n",
              "    </tr>\n",
              "  </thead>\n",
              "  <tbody>\n",
              "    <tr>\n",
              "      <th>duration_months</th>\n",
              "      <td>6</td>\n",
              "      <td>48</td>\n",
              "      <td>12</td>\n",
              "      <td>42</td>\n",
              "      <td>24</td>\n",
              "    </tr>\n",
              "    <tr>\n",
              "      <th>credit_amount</th>\n",
              "      <td>1169</td>\n",
              "      <td>5951</td>\n",
              "      <td>2096</td>\n",
              "      <td>7882</td>\n",
              "      <td>4870</td>\n",
              "    </tr>\n",
              "    <tr>\n",
              "      <th>i_rate_by_disp_inc</th>\n",
              "      <td>4</td>\n",
              "      <td>2</td>\n",
              "      <td>2</td>\n",
              "      <td>2</td>\n",
              "      <td>3</td>\n",
              "    </tr>\n",
              "    <tr>\n",
              "      <th>curr_res_since</th>\n",
              "      <td>4</td>\n",
              "      <td>2</td>\n",
              "      <td>3</td>\n",
              "      <td>4</td>\n",
              "      <td>4</td>\n",
              "    </tr>\n",
              "    <tr>\n",
              "      <th>age_years</th>\n",
              "      <td>67</td>\n",
              "      <td>22</td>\n",
              "      <td>49</td>\n",
              "      <td>45</td>\n",
              "      <td>53</td>\n",
              "    </tr>\n",
              "    <tr>\n",
              "      <th>n_e_credits_this_bank</th>\n",
              "      <td>2</td>\n",
              "      <td>1</td>\n",
              "      <td>1</td>\n",
              "      <td>1</td>\n",
              "      <td>2</td>\n",
              "    </tr>\n",
              "    <tr>\n",
              "      <th>n_dependants</th>\n",
              "      <td>1</td>\n",
              "      <td>1</td>\n",
              "      <td>2</td>\n",
              "      <td>2</td>\n",
              "      <td>2</td>\n",
              "    </tr>\n",
              "    <tr>\n",
              "      <th>e_chq_acc_status</th>\n",
              "      <td>A11</td>\n",
              "      <td>A12</td>\n",
              "      <td>A14</td>\n",
              "      <td>A11</td>\n",
              "      <td>A11</td>\n",
              "    </tr>\n",
              "    <tr>\n",
              "      <th>credit_history</th>\n",
              "      <td>A34</td>\n",
              "      <td>A32</td>\n",
              "      <td>A34</td>\n",
              "      <td>A32</td>\n",
              "      <td>A33</td>\n",
              "    </tr>\n",
              "    <tr>\n",
              "      <th>purpose</th>\n",
              "      <td>A43</td>\n",
              "      <td>A43</td>\n",
              "      <td>A46</td>\n",
              "      <td>A42</td>\n",
              "      <td>A40</td>\n",
              "    </tr>\n",
              "    <tr>\n",
              "      <th>savings_acc_class</th>\n",
              "      <td>A65</td>\n",
              "      <td>A61</td>\n",
              "      <td>A61</td>\n",
              "      <td>A61</td>\n",
              "      <td>A61</td>\n",
              "    </tr>\n",
              "    <tr>\n",
              "      <th>curr_emp_class</th>\n",
              "      <td>A75</td>\n",
              "      <td>A73</td>\n",
              "      <td>A74</td>\n",
              "      <td>A74</td>\n",
              "      <td>A73</td>\n",
              "    </tr>\n",
              "    <tr>\n",
              "      <th>sex_and_status</th>\n",
              "      <td>A93</td>\n",
              "      <td>A92</td>\n",
              "      <td>A93</td>\n",
              "      <td>A93</td>\n",
              "      <td>A93</td>\n",
              "    </tr>\n",
              "    <tr>\n",
              "      <th>other_debtors_class</th>\n",
              "      <td>A101</td>\n",
              "      <td>A101</td>\n",
              "      <td>A101</td>\n",
              "      <td>A103</td>\n",
              "      <td>A101</td>\n",
              "    </tr>\n",
              "    <tr>\n",
              "      <th>property</th>\n",
              "      <td>A121</td>\n",
              "      <td>A121</td>\n",
              "      <td>A121</td>\n",
              "      <td>A122</td>\n",
              "      <td>A124</td>\n",
              "    </tr>\n",
              "    <tr>\n",
              "      <th>other_i_plans</th>\n",
              "      <td>A143</td>\n",
              "      <td>A143</td>\n",
              "      <td>A143</td>\n",
              "      <td>A143</td>\n",
              "      <td>A143</td>\n",
              "    </tr>\n",
              "    <tr>\n",
              "      <th>housing</th>\n",
              "      <td>A152</td>\n",
              "      <td>A152</td>\n",
              "      <td>A152</td>\n",
              "      <td>A153</td>\n",
              "      <td>A153</td>\n",
              "    </tr>\n",
              "    <tr>\n",
              "      <th>job</th>\n",
              "      <td>A173</td>\n",
              "      <td>A173</td>\n",
              "      <td>A172</td>\n",
              "      <td>A173</td>\n",
              "      <td>A173</td>\n",
              "    </tr>\n",
              "    <tr>\n",
              "      <th>telephone</th>\n",
              "      <td>A192</td>\n",
              "      <td>A191</td>\n",
              "      <td>A191</td>\n",
              "      <td>A191</td>\n",
              "      <td>A191</td>\n",
              "    </tr>\n",
              "    <tr>\n",
              "      <th>foreign_worker</th>\n",
              "      <td>A201</td>\n",
              "      <td>A201</td>\n",
              "      <td>A201</td>\n",
              "      <td>A201</td>\n",
              "      <td>A201</td>\n",
              "    </tr>\n",
              "    <tr>\n",
              "      <th>female</th>\n",
              "      <td>0</td>\n",
              "      <td>1</td>\n",
              "      <td>0</td>\n",
              "      <td>0</td>\n",
              "      <td>0</td>\n",
              "    </tr>\n",
              "    <tr>\n",
              "      <th>reasonable</th>\n",
              "      <td>1</td>\n",
              "      <td>0</td>\n",
              "      <td>1</td>\n",
              "      <td>1</td>\n",
              "      <td>0</td>\n",
              "    </tr>\n",
              "  </tbody>\n",
              "</table>\n",
              "</div>"
            ],
            "text/plain": [
              "                          0     1     2     3     4\n",
              "duration_months           6    48    12    42    24\n",
              "credit_amount          1169  5951  2096  7882  4870\n",
              "i_rate_by_disp_inc        4     2     2     2     3\n",
              "curr_res_since            4     2     3     4     4\n",
              "age_years                67    22    49    45    53\n",
              "n_e_credits_this_bank     2     1     1     1     2\n",
              "n_dependants              1     1     2     2     2\n",
              "e_chq_acc_status        A11   A12   A14   A11   A11\n",
              "credit_history          A34   A32   A34   A32   A33\n",
              "purpose                 A43   A43   A46   A42   A40\n",
              "savings_acc_class       A65   A61   A61   A61   A61\n",
              "curr_emp_class          A75   A73   A74   A74   A73\n",
              "sex_and_status          A93   A92   A93   A93   A93\n",
              "other_debtors_class    A101  A101  A101  A103  A101\n",
              "property               A121  A121  A121  A122  A124\n",
              "other_i_plans          A143  A143  A143  A143  A143\n",
              "housing                A152  A152  A152  A153  A153\n",
              "job                    A173  A173  A172  A173  A173\n",
              "telephone              A192  A191  A191  A191  A191\n",
              "foreign_worker         A201  A201  A201  A201  A201\n",
              "female                    0     1     0     0     0\n",
              "reasonable                1     0     1     1     0"
            ]
          },
          "metadata": {
            "tags": []
          },
          "execution_count": 22
        }
      ]
    },
    {
      "cell_type": "markdown",
      "metadata": {
        "id": "X-CRM-Lqk_4t"
      },
      "source": [
        "<br>\n",
        "\n",
        "### Natural Numbers"
      ]
    },
    {
      "cell_type": "code",
      "metadata": {
        "id": "JWwAcHB5lF7U"
      },
      "source": [
        "enc = sklearn.preprocessing.OrdinalEncoder(categories=categories.arrays, dtype=np.int)\n",
        "ordinals_ = enc.fit_transform(X=instances)\n",
        "ordinals = pd.DataFrame(data=ordinals_, columns=categories.fields)"
      ],
      "execution_count": 23,
      "outputs": []
    },
    {
      "cell_type": "code",
      "metadata": {
        "colab": {
          "base_uri": "https://localhost:8080/",
          "height": 739
        },
        "id": "4YtYr1BSYYH9",
        "outputId": "09fb370a-5879-4191-9831-a2017a4615af"
      },
      "source": [
        "natural = pd.concat((numeric, ordinals, sex_, labels), axis=1)\n",
        "natural.to_csv(path_or_buf=os.path.join(warehouse_directory, 'natural.csv'), header=True, index=False, encoding='utf-8')\n",
        "natural.head().T"
      ],
      "execution_count": 24,
      "outputs": [
        {
          "output_type": "execute_result",
          "data": {
            "text/html": [
              "<div>\n",
              "<style scoped>\n",
              "    .dataframe tbody tr th:only-of-type {\n",
              "        vertical-align: middle;\n",
              "    }\n",
              "\n",
              "    .dataframe tbody tr th {\n",
              "        vertical-align: top;\n",
              "    }\n",
              "\n",
              "    .dataframe thead th {\n",
              "        text-align: right;\n",
              "    }\n",
              "</style>\n",
              "<table border=\"1\" class=\"dataframe\">\n",
              "  <thead>\n",
              "    <tr style=\"text-align: right;\">\n",
              "      <th></th>\n",
              "      <th>0</th>\n",
              "      <th>1</th>\n",
              "      <th>2</th>\n",
              "      <th>3</th>\n",
              "      <th>4</th>\n",
              "    </tr>\n",
              "  </thead>\n",
              "  <tbody>\n",
              "    <tr>\n",
              "      <th>duration_months</th>\n",
              "      <td>6</td>\n",
              "      <td>48</td>\n",
              "      <td>12</td>\n",
              "      <td>42</td>\n",
              "      <td>24</td>\n",
              "    </tr>\n",
              "    <tr>\n",
              "      <th>credit_amount</th>\n",
              "      <td>1169</td>\n",
              "      <td>5951</td>\n",
              "      <td>2096</td>\n",
              "      <td>7882</td>\n",
              "      <td>4870</td>\n",
              "    </tr>\n",
              "    <tr>\n",
              "      <th>i_rate_by_disp_inc</th>\n",
              "      <td>4</td>\n",
              "      <td>2</td>\n",
              "      <td>2</td>\n",
              "      <td>2</td>\n",
              "      <td>3</td>\n",
              "    </tr>\n",
              "    <tr>\n",
              "      <th>curr_res_since</th>\n",
              "      <td>4</td>\n",
              "      <td>2</td>\n",
              "      <td>3</td>\n",
              "      <td>4</td>\n",
              "      <td>4</td>\n",
              "    </tr>\n",
              "    <tr>\n",
              "      <th>age_years</th>\n",
              "      <td>67</td>\n",
              "      <td>22</td>\n",
              "      <td>49</td>\n",
              "      <td>45</td>\n",
              "      <td>53</td>\n",
              "    </tr>\n",
              "    <tr>\n",
              "      <th>n_e_credits_this_bank</th>\n",
              "      <td>2</td>\n",
              "      <td>1</td>\n",
              "      <td>1</td>\n",
              "      <td>1</td>\n",
              "      <td>2</td>\n",
              "    </tr>\n",
              "    <tr>\n",
              "      <th>n_dependants</th>\n",
              "      <td>1</td>\n",
              "      <td>1</td>\n",
              "      <td>2</td>\n",
              "      <td>2</td>\n",
              "      <td>2</td>\n",
              "    </tr>\n",
              "    <tr>\n",
              "      <th>e_chq_acc_status</th>\n",
              "      <td>0</td>\n",
              "      <td>1</td>\n",
              "      <td>3</td>\n",
              "      <td>0</td>\n",
              "      <td>0</td>\n",
              "    </tr>\n",
              "    <tr>\n",
              "      <th>credit_history</th>\n",
              "      <td>4</td>\n",
              "      <td>2</td>\n",
              "      <td>4</td>\n",
              "      <td>2</td>\n",
              "      <td>3</td>\n",
              "    </tr>\n",
              "    <tr>\n",
              "      <th>purpose</th>\n",
              "      <td>3</td>\n",
              "      <td>3</td>\n",
              "      <td>6</td>\n",
              "      <td>2</td>\n",
              "      <td>0</td>\n",
              "    </tr>\n",
              "    <tr>\n",
              "      <th>savings_acc_class</th>\n",
              "      <td>4</td>\n",
              "      <td>0</td>\n",
              "      <td>0</td>\n",
              "      <td>0</td>\n",
              "      <td>0</td>\n",
              "    </tr>\n",
              "    <tr>\n",
              "      <th>curr_emp_class</th>\n",
              "      <td>4</td>\n",
              "      <td>2</td>\n",
              "      <td>3</td>\n",
              "      <td>3</td>\n",
              "      <td>2</td>\n",
              "    </tr>\n",
              "    <tr>\n",
              "      <th>sex_and_status</th>\n",
              "      <td>2</td>\n",
              "      <td>1</td>\n",
              "      <td>2</td>\n",
              "      <td>2</td>\n",
              "      <td>2</td>\n",
              "    </tr>\n",
              "    <tr>\n",
              "      <th>other_debtors_class</th>\n",
              "      <td>0</td>\n",
              "      <td>0</td>\n",
              "      <td>0</td>\n",
              "      <td>2</td>\n",
              "      <td>0</td>\n",
              "    </tr>\n",
              "    <tr>\n",
              "      <th>property</th>\n",
              "      <td>0</td>\n",
              "      <td>0</td>\n",
              "      <td>0</td>\n",
              "      <td>1</td>\n",
              "      <td>3</td>\n",
              "    </tr>\n",
              "    <tr>\n",
              "      <th>other_i_plans</th>\n",
              "      <td>2</td>\n",
              "      <td>2</td>\n",
              "      <td>2</td>\n",
              "      <td>2</td>\n",
              "      <td>2</td>\n",
              "    </tr>\n",
              "    <tr>\n",
              "      <th>housing</th>\n",
              "      <td>1</td>\n",
              "      <td>1</td>\n",
              "      <td>1</td>\n",
              "      <td>2</td>\n",
              "      <td>2</td>\n",
              "    </tr>\n",
              "    <tr>\n",
              "      <th>job</th>\n",
              "      <td>2</td>\n",
              "      <td>2</td>\n",
              "      <td>1</td>\n",
              "      <td>2</td>\n",
              "      <td>2</td>\n",
              "    </tr>\n",
              "    <tr>\n",
              "      <th>telephone</th>\n",
              "      <td>1</td>\n",
              "      <td>0</td>\n",
              "      <td>0</td>\n",
              "      <td>0</td>\n",
              "      <td>0</td>\n",
              "    </tr>\n",
              "    <tr>\n",
              "      <th>foreign_worker</th>\n",
              "      <td>1</td>\n",
              "      <td>1</td>\n",
              "      <td>1</td>\n",
              "      <td>1</td>\n",
              "      <td>1</td>\n",
              "    </tr>\n",
              "    <tr>\n",
              "      <th>female</th>\n",
              "      <td>0</td>\n",
              "      <td>1</td>\n",
              "      <td>0</td>\n",
              "      <td>0</td>\n",
              "      <td>0</td>\n",
              "    </tr>\n",
              "    <tr>\n",
              "      <th>reasonable</th>\n",
              "      <td>1</td>\n",
              "      <td>0</td>\n",
              "      <td>1</td>\n",
              "      <td>1</td>\n",
              "      <td>0</td>\n",
              "    </tr>\n",
              "  </tbody>\n",
              "</table>\n",
              "</div>"
            ],
            "text/plain": [
              "                          0     1     2     3     4\n",
              "duration_months           6    48    12    42    24\n",
              "credit_amount          1169  5951  2096  7882  4870\n",
              "i_rate_by_disp_inc        4     2     2     2     3\n",
              "curr_res_since            4     2     3     4     4\n",
              "age_years                67    22    49    45    53\n",
              "n_e_credits_this_bank     2     1     1     1     2\n",
              "n_dependants              1     1     2     2     2\n",
              "e_chq_acc_status          0     1     3     0     0\n",
              "credit_history            4     2     4     2     3\n",
              "purpose                   3     3     6     2     0\n",
              "savings_acc_class         4     0     0     0     0\n",
              "curr_emp_class            4     2     3     3     2\n",
              "sex_and_status            2     1     2     2     2\n",
              "other_debtors_class       0     0     0     2     0\n",
              "property                  0     0     0     1     3\n",
              "other_i_plans             2     2     2     2     2\n",
              "housing                   1     1     1     2     2\n",
              "job                       2     2     1     2     2\n",
              "telephone                 1     0     0     0     0\n",
              "foreign_worker            1     1     1     1     1\n",
              "female                    0     1     0     0     0\n",
              "reasonable                1     0     1     1     0"
            ]
          },
          "metadata": {
            "tags": []
          },
          "execution_count": 24
        }
      ]
    },
    {
      "cell_type": "markdown",
      "metadata": {
        "id": "8hV6-N9-on5Y"
      },
      "source": [
        "<br>\n",
        "\n",
        "### One Hot"
      ]
    },
    {
      "cell_type": "code",
      "metadata": {
        "id": "58mmo-EQYYH-"
      },
      "source": [
        "enc = sklearn.preprocessing.OneHotEncoder(categories=categories.arrays, drop='if_binary', sparse=False, dtype=np.int)\n",
        "\n",
        "bits_ = enc.fit_transform(X=instances)\n",
        "columns = [column[(column.rindex('_') + 1):] for column in enc.get_feature_names()]\n",
        "bits = pd.DataFrame(data=bits_, columns=columns)"
      ],
      "execution_count": 25,
      "outputs": []
    },
    {
      "cell_type": "code",
      "metadata": {
        "colab": {
          "base_uri": "https://localhost:8080/",
          "height": 424
        },
        "id": "nXzmLzPAYYH_",
        "outputId": "5de8bbad-7243-45d3-fc88-054196ef2315"
      },
      "source": [
        "modelling = pd.concat([numeric, bits, sex_, labels], axis=1)\n",
        "modelling.to_csv(path_or_buf=os.path.join(warehouse_directory, 'modelling.csv'), header=True, index=False, encoding='utf-8')\n",
        "modelling.head().T"
      ],
      "execution_count": 26,
      "outputs": [
        {
          "output_type": "execute_result",
          "data": {
            "text/html": [
              "<div>\n",
              "<style scoped>\n",
              "    .dataframe tbody tr th:only-of-type {\n",
              "        vertical-align: middle;\n",
              "    }\n",
              "\n",
              "    .dataframe tbody tr th {\n",
              "        vertical-align: top;\n",
              "    }\n",
              "\n",
              "    .dataframe thead th {\n",
              "        text-align: right;\n",
              "    }\n",
              "</style>\n",
              "<table border=\"1\" class=\"dataframe\">\n",
              "  <thead>\n",
              "    <tr style=\"text-align: right;\">\n",
              "      <th></th>\n",
              "      <th>0</th>\n",
              "      <th>1</th>\n",
              "      <th>2</th>\n",
              "      <th>3</th>\n",
              "      <th>4</th>\n",
              "    </tr>\n",
              "  </thead>\n",
              "  <tbody>\n",
              "    <tr>\n",
              "      <th>duration_months</th>\n",
              "      <td>6</td>\n",
              "      <td>48</td>\n",
              "      <td>12</td>\n",
              "      <td>42</td>\n",
              "      <td>24</td>\n",
              "    </tr>\n",
              "    <tr>\n",
              "      <th>credit_amount</th>\n",
              "      <td>1169</td>\n",
              "      <td>5951</td>\n",
              "      <td>2096</td>\n",
              "      <td>7882</td>\n",
              "      <td>4870</td>\n",
              "    </tr>\n",
              "    <tr>\n",
              "      <th>i_rate_by_disp_inc</th>\n",
              "      <td>4</td>\n",
              "      <td>2</td>\n",
              "      <td>2</td>\n",
              "      <td>2</td>\n",
              "      <td>3</td>\n",
              "    </tr>\n",
              "    <tr>\n",
              "      <th>curr_res_since</th>\n",
              "      <td>4</td>\n",
              "      <td>2</td>\n",
              "      <td>3</td>\n",
              "      <td>4</td>\n",
              "      <td>4</td>\n",
              "    </tr>\n",
              "    <tr>\n",
              "      <th>age_years</th>\n",
              "      <td>67</td>\n",
              "      <td>22</td>\n",
              "      <td>49</td>\n",
              "      <td>45</td>\n",
              "      <td>53</td>\n",
              "    </tr>\n",
              "    <tr>\n",
              "      <th>...</th>\n",
              "      <td>...</td>\n",
              "      <td>...</td>\n",
              "      <td>...</td>\n",
              "      <td>...</td>\n",
              "      <td>...</td>\n",
              "    </tr>\n",
              "    <tr>\n",
              "      <th>A174</th>\n",
              "      <td>0</td>\n",
              "      <td>0</td>\n",
              "      <td>0</td>\n",
              "      <td>0</td>\n",
              "      <td>0</td>\n",
              "    </tr>\n",
              "    <tr>\n",
              "      <th>A192</th>\n",
              "      <td>1</td>\n",
              "      <td>0</td>\n",
              "      <td>0</td>\n",
              "      <td>0</td>\n",
              "      <td>0</td>\n",
              "    </tr>\n",
              "    <tr>\n",
              "      <th>A201</th>\n",
              "      <td>1</td>\n",
              "      <td>1</td>\n",
              "      <td>1</td>\n",
              "      <td>1</td>\n",
              "      <td>1</td>\n",
              "    </tr>\n",
              "    <tr>\n",
              "      <th>female</th>\n",
              "      <td>0</td>\n",
              "      <td>1</td>\n",
              "      <td>0</td>\n",
              "      <td>0</td>\n",
              "      <td>0</td>\n",
              "    </tr>\n",
              "    <tr>\n",
              "      <th>reasonable</th>\n",
              "      <td>1</td>\n",
              "      <td>0</td>\n",
              "      <td>1</td>\n",
              "      <td>1</td>\n",
              "      <td>0</td>\n",
              "    </tr>\n",
              "  </tbody>\n",
              "</table>\n",
              "<p>63 rows × 5 columns</p>\n",
              "</div>"
            ],
            "text/plain": [
              "                       0     1     2     3     4\n",
              "duration_months        6    48    12    42    24\n",
              "credit_amount       1169  5951  2096  7882  4870\n",
              "i_rate_by_disp_inc     4     2     2     2     3\n",
              "curr_res_since         4     2     3     4     4\n",
              "age_years             67    22    49    45    53\n",
              "...                  ...   ...   ...   ...   ...\n",
              "A174                   0     0     0     0     0\n",
              "A192                   1     0     0     0     0\n",
              "A201                   1     1     1     1     1\n",
              "female                 0     1     0     0     0\n",
              "reasonable             1     0     1     1     0\n",
              "\n",
              "[63 rows x 5 columns]"
            ]
          },
          "metadata": {
            "tags": []
          },
          "execution_count": 26
        }
      ]
    },
    {
      "cell_type": "markdown",
      "metadata": {
        "id": "TlwLSSrsYYIA"
      },
      "source": [
        "<br>\n",
        "<br>\n",
        "\n",
        "## Fields Help"
      ]
    },
    {
      "cell_type": "markdown",
      "metadata": {
        "id": "CK-_5LD7YYIB"
      },
      "source": [
        "**Note**"
      ]
    },
    {
      "cell_type": "markdown",
      "metadata": {
        "id": "9j2lwHThYYIC"
      },
      "source": [
        "All frames have\n",
        "\n",
        "* **7 numeric fields**: ['duration_months', 'credit_amount', 'i_rate_by_disp_inc', 'curr_res_since', 'age_years', 'n_e_credits_this_bank', 'n_dependants']\n",
        "* **1 label field**: reasonable\n",
        "\n",
        "Additionally\n",
        "\n",
        "* **baseline**:  Has 1 binary field and 13 categorical fields.  The values of the categorical fields are the archetype/original values; ref. variables zip(categories.fields, categories.arrays).  [22 fields altogether]\n",
        "\n",
        "* **natural**:  Has 1 binary field and 13 categorical fields.  The values of the categorical fields are natural numbers that where assigned via Ordinal Encoding of archetype/original values.  [22 fields altogether]\n",
        "\n",
        "* **modelling**:  Has 3 binary fields and 52 categorical fields.  The values of the categorical fields are the One Hot Encodings of the archetype/original values.  [63 fields altogether]\n",
        "\n",
        "The archetype/original categorical fields, and their categories, are\n",
        "\n",
        "* {'e_chq_acc_status': ['A11', 'A12', 'A13', 'A14'], 'credit_history': ['A30', 'A31', 'A32', 'A33', 'A34'],<br>'purpose': ['A40', 'A41', 'A42', 'A43', 'A44', 'A45', 'A46', 'A47', 'A48', 'A49', 'A410'],<br>'savings_acc_class': ['A61', 'A62', 'A63', 'A64', 'A65'], 'curr_emp_class': ['A71', 'A72', 'A73', 'A74', 'A75'],<br>'sex_and_status': ['A91', 'A92', 'A93', 'A94', 'A95'], 'other_debtors_class': ['A101', 'A102', 'A103'],<br>'property': ['A121', 'A122', 'A123', 'A124'], 'other_i_plans': ['A141', 'A142', 'A143'],<br>'housing': ['A151', 'A152', 'A153'], 'job': ['A171', 'A172', 'A173', 'A174'], 'telephone': ['A191', 'A192'], 'foreign_worker': ['A202', 'A201']}\n",
        "\n",
        "\n",
        "\n",
        "Settings below."
      ]
    },
    {
      "cell_type": "markdown",
      "metadata": {
        "id": "Bf_vMUIsYYID"
      },
      "source": [
        "<br>\n",
        "\n",
        "### Setting-up"
      ]
    },
    {
      "cell_type": "code",
      "metadata": {
        "id": "9Bgome73YYID"
      },
      "source": [
        "dictionary = []"
      ],
      "execution_count": 27,
      "outputs": []
    },
    {
      "cell_type": "code",
      "metadata": {
        "id": "xDbPtdkPYYID"
      },
      "source": [
        "dictionary.append({'modelling':\n",
        "    {'source': 'modelling.csv', \n",
        "     'target': ['reasonable'],\n",
        "     'numeric': configurations.numeric,      \n",
        "     'categoricalFields': ['e_chq_acc_status', 'credit_history', 'purpose', 'savings_acc_class',\n",
        "                           'curr_emp_class', 'sex_and_status', 'other_debtors_class', 'property', \n",
        "                           'other_i_plans', 'housing', 'job', 'A192', 'A201', 'female'],\n",
        "     'binaryCF': ['A192', 'A201', 'female'], \n",
        "     'polytomousCF':  {'e_chq_acc_status': ['A11', 'A12', 'A13', 'A14'], 'credit_history': ['A30', 'A31', 'A32', 'A33', 'A34'],\n",
        "              'purpose': ['A40', 'A41', 'A42', 'A43', 'A44', 'A45', 'A46', 'A47', 'A48', 'A49', 'A410'],\n",
        "              'savings_acc_class': ['A61', 'A62', 'A63', 'A64', 'A65'], 'curr_emp_class': ['A71', 'A72', 'A73', 'A74', 'A75'],\n",
        "              'sex_and_status': ['A91', 'A92', 'A93', 'A94', 'A95'], 'other_debtors_class': ['A101', 'A102', 'A103'],\n",
        "              'property': ['A121', 'A122', 'A123', 'A124'], 'other_i_plans': ['A141', 'A142', 'A143'],\n",
        "              'housing': ['A151', 'A152', 'A153'], 'job': ['A171', 'A172', 'A173', 'A174']}\n",
        "    }})"
      ],
      "execution_count": 28,
      "outputs": []
    },
    {
      "cell_type": "code",
      "metadata": {
        "id": "WPLV8LPnYYIE"
      },
      "source": [
        "dictionary.append({'baseline':\n",
        "    {'source': 'baseline.csv', \n",
        "     'target': ['reasonable'],\n",
        "     'numeric': configurations.numeric, \n",
        "     'categoricalFields': ['e_chq_acc_status', 'credit_history', 'purpose', 'savings_acc_class', \n",
        "                           'curr_emp_class', 'sex_and_status', 'other_debtors_class', 'property', \n",
        "                           'other_i_plans', 'housing', 'job', 'telephone', 'foreign_worker', 'female'],\n",
        "     'binaryCF': [],\n",
        "     'polytomousCF': {}\n",
        "    }})"
      ],
      "execution_count": 29,
      "outputs": []
    },
    {
      "cell_type": "code",
      "metadata": {
        "id": "74ZVJL2YYYIE"
      },
      "source": [
        "dictionary.append({'natural':\n",
        "    {'source': 'natural.csv', \n",
        "     'labels': ['reasonable'],\n",
        "     'numeric': configurations.numeric, \n",
        "     'categoricalFields': ['e_chq_acc_status', 'credit_history', 'purpose', 'savings_acc_class', \n",
        "                           'curr_emp_class', 'sex_and_status', 'other_debtors_class', 'property', \n",
        "                           'other_i_plans', 'housing', 'job', 'telephone', 'foreign_worker', 'female'],\n",
        "     'binaryCF': [],      \n",
        "     'polytomousCF': {}\n",
        "    }})"
      ],
      "execution_count": 30,
      "outputs": []
    },
    {
      "cell_type": "code",
      "metadata": {
        "id": "fNsaq8vsYYIF"
      },
      "source": [
        "with open(os.path.join(warehouse_directory, 'fields.json'), 'w') as disk:\n",
        "    json.dump(dictionary, disk)"
      ],
      "execution_count": 31,
      "outputs": []
    }
  ]
}